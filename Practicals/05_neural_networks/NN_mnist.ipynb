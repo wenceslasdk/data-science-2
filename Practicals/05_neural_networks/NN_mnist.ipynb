{
 "cells": [
  {
   "cell_type": "code",
   "id": "initial_id",
   "metadata": {
    "collapsed": true,
    "ExecuteTime": {
     "end_time": "2025-04-22T08:50:53.670904Z",
     "start_time": "2025-04-22T08:50:53.666268Z"
    }
   },
   "source": [
    "import torch\n",
    "import torch.nn as nn\n",
    "import torch.optim as optim\n",
    "from torchvision import datasets, transforms\n",
    "from torch.utils.data import DataLoader"
   ],
   "outputs": [],
   "execution_count": 43
  },
  {
   "metadata": {},
   "cell_type": "markdown",
   "source": [
    "# Create dataset and dataloader\n",
    "\n",
    "- we use FashionMNIST (see https://www.kaggle.com/datasets/zalando-research/fashionmnist)\n",
    "- the dataset is downloaded (if not already present)\n",
    "- first we compute mean and std of the data over train dataset\n",
    "- then we create new instance where normalization is applied"
   ],
   "id": "4ae341494a744048"
  },
  {
   "metadata": {},
   "cell_type": "code",
   "source": [
    "temp_dataset = datasets.FashionMNIST(root='./data', train=True, transform=transforms.ToTensor(), download=True)\n",
    "temp_loader = DataLoader(dataset=temp_dataset, batch_size=len(temp_dataset), shuffle=False)\n",
    "\n",
    "# Compute mean and std\n",
    "data_iter = iter(temp_loader)\n",
    "images, _ = next(iter(data_iter))  # Get all images\n",
    "\n",
    "mean, std = images.mean().item(), images.std().item()\n",
    "print(f'Mean {mean}')\n",
    "print(f'Mean {std}')"
   ],
   "id": "9919b336510e544b",
   "outputs": [],
   "execution_count": null
  },
  {
   "metadata": {
    "ExecuteTime": {
     "end_time": "2025-04-22T08:52:12.271113Z",
     "start_time": "2025-04-22T08:52:12.253448Z"
    }
   },
   "cell_type": "code",
   "source": [
    "# FashionMNIST dataset\n",
    "transform = transforms.Compose([\n",
    "    transforms.ToTensor(),\n",
    "    transforms.Normalize((mean+10,), (std,))\n",
    "])\n",
    "\n",
    "train_dataset = datasets.FashionMNIST(root='./data', train=True, transform=transform, download=True)\n",
    "test_dataset = datasets.FashionMNIST(root='./data', train=False, transform=transform, download=True)"
   ],
   "id": "d16b809fbe8b3142",
   "outputs": [],
   "execution_count": 52
  },
  {
   "metadata": {},
   "cell_type": "markdown",
   "source": [
    "# Train model\n",
    "\n",
    "- define a model as a MLP class (see below), define your own architecture\n",
    "- use regularization, optimizer, loss,... of your choice and define hyperparameters so that you obtain high accuracy"
   ],
   "id": "658f746cc05d8183"
  },
  {
   "metadata": {
    "ExecuteTime": {
     "end_time": "2025-04-22T08:52:14.105930Z",
     "start_time": "2025-04-22T08:52:14.101750Z"
    }
   },
   "cell_type": "code",
   "source": [
    "# Hyperparameters (add more)\n",
    "batch_size = ...\n",
    "learning_rate = ...\n",
    "epochs = ...\n",
    "hidden_sizes = ...\n",
    "\n",
    "# Device configuration\n",
    "device = torch.device(\"cuda\" if torch.cuda.is_available() else \"cpu\")"
   ],
   "id": "7de36653aa4a5aed",
   "outputs": [],
   "execution_count": 53
  },
  {
   "metadata": {
    "ExecuteTime": {
     "end_time": "2025-04-22T08:52:16.407830Z",
     "start_time": "2025-04-22T08:52:16.402563Z"
    }
   },
   "cell_type": "code",
   "source": [
    "train_loader = DataLoader(dataset=train_dataset, batch_size=batch_size, shuffle=True)\n",
    "test_loader = DataLoader(dataset=test_dataset, batch_size=batch_size, shuffle=False)"
   ],
   "id": "9a22383c81e21e25",
   "outputs": [],
   "execution_count": 54
  },
  {
   "metadata": {
    "ExecuteTime": {
     "end_time": "2025-04-22T08:42:21.246132Z",
     "start_time": "2025-04-22T08:42:21.240769Z"
    }
   },
   "cell_type": "code",
   "source": [
    "# MLP Model\n",
    "class MLP(nn.Module):\n",
    "    def __init__(self):\n",
    "        super(MLP, self).__init__()\n",
    "        ...\n",
    "\n",
    "    def forward(self, x):\n",
    "        ...\n",
    "\n",
    "model = MLP().to(device)"
   ],
   "id": "ab85ee71bc70a7f7",
   "outputs": [],
   "execution_count": 32
  },
  {
   "metadata": {},
   "cell_type": "code",
   "source": [
    "# Loss and optimizer\n",
    "criterion = ...\n",
    "optimizer = ...\n",
    "\n",
    "# Training loop\n",
    "for epoch in range(epochs):\n",
    "    model.train()\n",
    "    total_loss = 0\n",
    "    for images, labels in train_loader:\n",
    "        images, labels = images.to(device), labels.to(device)\n",
    "\n",
    "        outputs = model(images)\n",
    "        loss = criterion(outputs, labels)\n",
    "\n",
    "        optimizer.zero_grad()\n",
    "        loss.backward()\n",
    "        optimizer.step()\n",
    "\n",
    "        total_loss += loss.item()\n",
    "\n",
    "    print(f\"Epoch [{epoch+1}/{epochs}], Loss: {total_loss/len(train_loader):.4f}\")\n",
    "\n",
    "# Evaluation\n",
    "model.eval()\n",
    "correct = 0\n",
    "total = 0\n",
    "with torch.no_grad():\n",
    "    for images, labels in test_loader:\n",
    "        images, labels = images.to(device), labels.to(device)\n",
    "        outputs = model(images)\n",
    "        _, predicted = torch.max(outputs.data, 1)\n",
    "        total += labels.size(0)\n",
    "        correct += (predicted == labels).sum().item()\n",
    "\n",
    "print(f\"Test Accuracy: {100 * correct / total:.2f}%\")"
   ],
   "id": "2b78d22c9e201590",
   "outputs": [],
   "execution_count": null
  }
 ],
 "metadata": {
  "kernelspec": {
   "display_name": "Python 3",
   "language": "python",
   "name": "python3"
  },
  "language_info": {
   "codemirror_mode": {
    "name": "ipython",
    "version": 2
   },
   "file_extension": ".py",
   "mimetype": "text/x-python",
   "name": "python",
   "nbconvert_exporter": "python",
   "pygments_lexer": "ipython2",
   "version": "2.7.6"
  }
 },
 "nbformat": 4,
 "nbformat_minor": 5
}
