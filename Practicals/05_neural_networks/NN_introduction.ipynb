{
 "cells": [
  {
   "cell_type": "code",
   "id": "initial_id",
   "metadata": {
    "collapsed": true,
    "ExecuteTime": {
     "end_time": "2025-04-15T11:50:10.486561Z",
     "start_time": "2025-04-15T11:50:10.484824Z"
    }
   },
   "source": [
    "import torch\n",
    "import torch.nn as nn\n",
    "import torch.optim as optim\n",
    "from torch.utils.data import Dataset, DataLoader, random_split"
   ],
   "outputs": [],
   "execution_count": 42
  },
  {
   "metadata": {},
   "cell_type": "markdown",
   "source": "# Intro to tensors",
   "id": "6174048944299fb9"
  },
  {
   "metadata": {},
   "cell_type": "code",
   "outputs": [],
   "execution_count": null,
   "source": [
    "# Working with tensors\n",
    "a = torch.rand(10, 5)\n",
    "b = torch.rand(5, 17)\n",
    "mult = torch.matmul(a, b)\n",
    "print(mult.shape)"
   ],
   "id": "62fc21d202fa7d2d"
  },
  {
   "metadata": {},
   "cell_type": "code",
   "outputs": [
    {
     "name": "stdout",
     "output_type": "stream",
     "text": [
      "torch.Size([16, 10, 17])\n",
      "torch.Size([10, 17])\n"
     ]
    }
   ],
   "execution_count": 101,
   "source": [
    "# Working with tensors (batch multiplication)\n",
    "a = torch.rand(16, 10, 5)\n",
    "b = torch.rand(16, 5, 17)\n",
    "\n",
    "mult = torch.matmul(a, b)\n",
    "print(mult.shape)"
   ],
   "id": "b4d91e7fc3193251"
  },
  {
   "metadata": {
    "ExecuteTime": {
     "end_time": "2025-04-15T11:57:24.870375Z",
     "start_time": "2025-04-15T11:57:24.867586Z"
    }
   },
   "cell_type": "code",
   "source": [
    "# Gradient example\n",
    "a = torch.Tensor([1, 2, 3])\n",
    "b = torch.Tensor([4, 5, 6])\n",
    "c = torch.Tensor([7, 8, 9])\n",
    "\n",
    "a.requires_grad = True\n",
    "b.requires_grad = True\n",
    "c.requires_grad = True\n",
    "\n",
    "torch.sum((a * b) + c).backward()\n",
    "print(a.grad)"
   ],
   "id": "a8c2e65904c7aa67",
   "outputs": [
    {
     "name": "stdout",
     "output_type": "stream",
     "text": [
      "tensor([4., 5., 6.])\n"
     ]
    }
   ],
   "execution_count": 103
  },
  {
   "metadata": {},
   "cell_type": "markdown",
   "source": "# Train model",
   "id": "90c3259b136f7d2a"
  },
  {
   "metadata": {
    "ExecuteTime": {
     "end_time": "2025-04-15T11:54:06.568856Z",
     "start_time": "2025-04-15T11:54:06.566055Z"
    }
   },
   "cell_type": "code",
   "source": [
    "# Create random dataset. Every Dataset has to implement __len__ and __getitem__\n",
    "class SyntheticDataset(Dataset):\n",
    "    def __init__(self, num_samples=1000, input_dim=20):\n",
    "        self.X = torch.rand(num_samples, input_dim)\n",
    "        self.y = (torch.mean(self.X, dim=1) > 1/2).type(torch.long)\n",
    "\n",
    "    def __len__(self):\n",
    "        return len(self.X)\n",
    "\n",
    "    def __getitem__(self, idx):\n",
    "        return self.X[idx], self.y[idx]"
   ],
   "id": "4aefc330c00b35ad",
   "outputs": [],
   "execution_count": 89
  },
  {
   "metadata": {
    "ExecuteTime": {
     "end_time": "2025-04-15T11:54:06.989540Z",
     "start_time": "2025-04-15T11:54:06.986415Z"
    }
   },
   "cell_type": "code",
   "source": [
    "# Create model\n",
    "class MultiLayerNet(nn.Module):\n",
    "    def __init__(self, input_dim=20, hidden_dims=[64, 32], output_dim=2):\n",
    "        super(MultiLayerNet, self).__init__()\n",
    "        self.fc1 = nn.Linear(input_dim, hidden_dims[0])\n",
    "        self.bn1 = nn.BatchNorm1d(hidden_dims[0])\n",
    "        self.activation1 = nn.ReLU()\n",
    "        self.dropout1 = nn.Dropout(0.3)\n",
    "            \n",
    "        self.fc2 = nn.Linear(hidden_dims[0], hidden_dims[1])\n",
    "        self.bn2 = nn.BatchNorm1d(hidden_dims[1])\n",
    "        self.activation2 = nn.ReLU()\n",
    "        self.dropout2 = nn.Dropout(0.3)\n",
    "            \n",
    "        self.head = nn.Linear(hidden_dims[1], output_dim)\n",
    "\n",
    "    def forward(self, x):\n",
    "        x = self.fc1(x)\n",
    "        x = self.bn1(x)\n",
    "        x = self.activation1(x)\n",
    "        x = self.dropout1(x)\n",
    "        \n",
    "        x = self.fc2(x)\n",
    "        x = self.bn2(x)\n",
    "        x = self.activation2(x)\n",
    "        x = self.dropout2(x)\n",
    "        return x"
   ],
   "id": "22e248bec4c2cd2e",
   "outputs": [],
   "execution_count": 90
  },
  {
   "metadata": {
    "ExecuteTime": {
     "end_time": "2025-04-15T11:54:07.213648Z",
     "start_time": "2025-04-15T11:54:07.209926Z"
    }
   },
   "cell_type": "code",
   "source": [
    "# Training loop\n",
    "def train(model, dataloader, criterion, optimizer, device):\n",
    "    model.train()\n",
    "    total_loss = 0\n",
    "    for batch_idx, (inputs, targets) in enumerate(dataloader):\n",
    "        inputs, targets = inputs.to(device), targets.to(device)\n",
    "\n",
    "        optimizer.zero_grad()\n",
    "        outputs = model(inputs)\n",
    "        loss = criterion(outputs, targets)\n",
    "        loss.backward()\n",
    "        optimizer.step()\n",
    "\n",
    "        total_loss += loss.item()\n",
    "    avg_loss = total_loss / len(dataloader)\n",
    "    print(f\"Train Loss: {avg_loss:.4f}\")"
   ],
   "id": "21f3cdcfe7b47869",
   "outputs": [],
   "execution_count": 91
  },
  {
   "metadata": {
    "ExecuteTime": {
     "end_time": "2025-04-15T11:54:07.430997Z",
     "start_time": "2025-04-15T11:54:07.427050Z"
    }
   },
   "cell_type": "code",
   "source": [
    "# Validation loop\n",
    "def validate(model, dataloader, criterion, device):\n",
    "    model.eval()\n",
    "    total_loss = 0\n",
    "    correct = 0\n",
    "    total = 0\n",
    "\n",
    "    with torch.no_grad():\n",
    "        for inputs, targets in dataloader:\n",
    "            inputs, targets = inputs.to(device), targets.to(device)\n",
    "            outputs = model(inputs)\n",
    "            loss = criterion(outputs, targets)\n",
    "            total_loss += loss.item()\n",
    "\n",
    "            preds = outputs.argmax(dim=1)\n",
    "            correct += (preds == targets).sum().item()\n",
    "            total += targets.size(0)\n",
    "\n",
    "    avg_loss = total_loss / len(dataloader)\n",
    "    accuracy = 100.0 * correct / total\n",
    "    print(f\"Validation Loss: {avg_loss:.4f}, Accuracy: {accuracy:.2f}%\")\n",
    "    return avg_loss, accuracy"
   ],
   "id": "b11fa2308dcac0b9",
   "outputs": [],
   "execution_count": 92
  },
  {
   "metadata": {
    "ExecuteTime": {
     "end_time": "2025-04-15T11:54:07.667473Z",
     "start_time": "2025-04-15T11:54:07.663717Z"
    }
   },
   "cell_type": "code",
   "source": [
    "# Hyperparameters and setup\n",
    "input_dim = 20\n",
    "batch_size = 32\n",
    "epochs = 5\n",
    "device = torch.device(\"cuda\" if torch.cuda.is_available() else \"cpu\")\n",
    "\n",
    "# Dataset and split\n",
    "dataset = SyntheticDataset(num_samples=1000, input_dim=input_dim)\n",
    "train_size = int(0.8 * len(dataset))\n",
    "val_size = len(dataset) - train_size\n",
    "train_dataset, val_dataset = random_split(dataset, [train_size, val_size])\n",
    "\n",
    "train_loader = DataLoader(train_dataset, batch_size=batch_size, shuffle=True)\n",
    "val_loader = DataLoader(val_dataset, batch_size=batch_size, shuffle=False)"
   ],
   "id": "c48ed16bc6c071f2",
   "outputs": [],
   "execution_count": 93
  },
  {
   "metadata": {
    "ExecuteTime": {
     "end_time": "2025-04-15T11:54:07.993138Z",
     "start_time": "2025-04-15T11:54:07.988384Z"
    }
   },
   "cell_type": "code",
   "source": [
    "# Model, criterion, optimizer\n",
    "model = MultiLayerNet(input_dim=input_dim).to(device)\n",
    "criterion = nn.CrossEntropyLoss()\n",
    "optimizer = optim.Adam(model.parameters(), lr=0.001, weight_decay=1e-4)"
   ],
   "id": "80dd79a99a811b72",
   "outputs": [],
   "execution_count": 94
  },
  {
   "metadata": {
    "ExecuteTime": {
     "end_time": "2025-04-15T11:54:08.369335Z",
     "start_time": "2025-04-15T11:54:08.293313Z"
    }
   },
   "cell_type": "code",
   "source": [
    "# Full training + validation loop\n",
    "for epoch in range(epochs):\n",
    "    print(f\"\\nEpoch {epoch + 1}/{epochs}\")\n",
    "    train(model, train_loader, criterion, optimizer, device)\n",
    "    validate(model, val_loader, criterion, device)"
   ],
   "id": "af86719ba29d45ba",
   "outputs": [
    {
     "name": "stdout",
     "output_type": "stream",
     "text": [
      "\n",
      "Epoch 1/5\n",
      "Train Loss: 3.6770\n",
      "Validation Loss: 3.2470, Accuracy: 17.50%\n",
      "\n",
      "Epoch 2/5\n",
      "Train Loss: 3.4684\n",
      "Validation Loss: 3.1243, Accuracy: 18.00%\n",
      "\n",
      "Epoch 3/5\n",
      "Train Loss: 3.3674\n",
      "Validation Loss: 3.0556, Accuracy: 22.00%\n",
      "\n",
      "Epoch 4/5\n",
      "Train Loss: 3.2725\n",
      "Validation Loss: 2.9336, Accuracy: 30.00%\n",
      "\n",
      "Epoch 5/5\n",
      "Train Loss: 3.1751\n",
      "Validation Loss: 2.8732, Accuracy: 33.50%\n"
     ]
    }
   ],
   "execution_count": 95
  },
  {
   "metadata": {},
   "cell_type": "markdown",
   "source": [
    "# Tasks\n",
    "- add early stopping\n",
    "- play with number of parameters in each layer, activation function and regularization parameters and observe how the training changes"
   ],
   "id": "7c7163f1683ce090"
  },
  {
   "metadata": {},
   "cell_type": "code",
   "outputs": [],
   "execution_count": null,
   "source": "",
   "id": "1e661b19e822874d"
  }
 ],
 "metadata": {
  "kernelspec": {
   "display_name": "Python 3",
   "language": "python",
   "name": "python3"
  },
  "language_info": {
   "codemirror_mode": {
    "name": "ipython",
    "version": 2
   },
   "file_extension": ".py",
   "mimetype": "text/x-python",
   "name": "python",
   "nbconvert_exporter": "python",
   "pygments_lexer": "ipython2",
   "version": "2.7.6"
  }
 },
 "nbformat": 4,
 "nbformat_minor": 5
}
