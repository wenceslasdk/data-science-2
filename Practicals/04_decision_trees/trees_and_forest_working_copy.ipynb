{
 "cells": [
  {
   "cell_type": "markdown",
   "id": "9e803f8c",
   "metadata": {},
   "source": [
    "# Download data"
   ]
  },
  {
   "cell_type": "markdown",
   "id": "116ac5ec",
   "metadata": {},
   "source": [
    "Download the data from <a href=\"https://www2.karlin.mff.cuni.cz/~kozmikk/files/weatherAUS.zip\" target=\"_blank\"> weather data</a> and unpack it to the Data folder."
   ]
  },
  {
   "cell_type": "markdown",
   "id": "67cdc245",
   "metadata": {},
   "source": [
    "# Decision Trees & Random forests"
   ]
  },
  {
   "cell_type": "markdown",
   "id": "acffff43",
   "metadata": {},
   "source": [
    "**Outline**\n",
    "\n",
    "In this tutorial we learn how to train CART, CHAID decision trees and random forests on real data and how to evaluate them. We also create simple random forest.\n",
    "\n",
    "We proceed as follows:\n",
    "\n",
    "- import data and handle missing values\n",
    "- split data to train and test samples using stratification\n",
    "- separately for CART and CHAID models we perform\n",
    "    - train decision tree and assess the performance\n",
    "    - inspect importance of predictors (available for CART only)\n",
    "    - evaluate the model performance in time\n",
    "- based on CART tree we manually construct random forest\n",
    "- we create and assess random forest model separately using two different encodings of categorical predictors\n",
    "    - one-hot encoding\n",
    "    - mean-target encoding\n",
    "    \n",
    "Additional resources:\n",
    "\n",
    "- https://towardsdatascience.com/cart-classification-and-regression-trees-for-clean-but-powerful-models-cc89e60b7a85\n",
    "- https://towardsdatascience.com/random-forest-in-python-24d0893d51c0\n",
    "- https://github.com/WillKoehrsen/Data-Analysis\n",
    "\n",
    "    \n",
    "Implementation limitations: CART only supports continuous predictors, whereas CHAID supports only categorical (either nominal or ordinal)"
   ]
  },
  {
   "cell_type": "markdown",
   "id": "803eb940",
   "metadata": {},
   "source": [
    "## Imports"
   ]
  },
  {
   "cell_type": "code",
<<<<<<< HEAD
   "execution_count": 9,
=======
   "execution_count": null,
   "id": "7b51dc11",
>>>>>>> upstream/main
   "metadata": {},
   "outputs": [],
   "source": [
    "import pandas as pd\n",
    "import numpy as np\n",
    "import matplotlib.pyplot as plt\n",
    "\n",
    "from random import sample\n",
    "\n",
    "from sklearn.model_selection import train_test_split\n",
    "from sklearn.metrics import classification_report\n",
    "from sklearn.metrics import roc_auc_score\n",
    "from sklearn import tree\n",
    "from sklearn.ensemble import RandomForestRegressor\n",
    "\n",
    "#import CHAID\n",
    "\n",
    "pd.set_option('mode.chained_assignment',None)"
   ]
  },
  {
   "cell_type": "markdown",
   "id": "1ac742a5",
   "metadata": {},
   "source": [
    "## Load data\n",
    "\n",
    "Weather data from Australia. The task is to predict if tomorrow is going to rain based on today's weather characteristics.\n",
    "\n",
    "Source: https://www.kaggle.com/jsphyg/weather-dataset-rattle-package\n",
    "\n",
    "**Target description**\n",
    "\n",
    "- RainTomorrow: 1 if precipitation (mm) in the 24 hours to 9am exceeds 1mm, otherwise 0 for the next day\n",
    "\n",
    "**Predictors description**\n",
    "\n",
    "- MinTemp: The minimum temperature in degrees celsius\n",
    "- MaxTemp: The maximum temperature in degrees celsius\n",
    "- Sunshine: The number of hours of bright sunshine in the day.\n",
    "- WindGustSpeed: The speed (km/h) of the strongest wind gust in the 24 hours to midnight\n",
    "- Humidity9am: Humidity (percent) at 9am\n",
    "- Humidity3pm: Humidity (percent) at 3pm\n",
    "- Pressure9am: Atmospheric pressure (hpa) reduced to mean sea level at 9am\n",
    "- Pressure3pm: Atmospheric pressure (hpa) reduced to mean sea level at 3pm\n",
    "- RainToday: 1 if precipitation (mm) in the 24 hours to 9am exceeds 1mm, otherwise 0\n",
    "\n",
    "\n"
   ]
  },
  {
   "cell_type": "markdown",
   "id": "1d525d41",
   "metadata": {},
   "source": [
    "We import data and keep only several columns for simplicity and certain time period for simplicity."
   ]
  },
  {
   "cell_type": "code",
<<<<<<< HEAD
   "execution_count": 10,
=======
   "execution_count": null,
   "id": "662aa154",
>>>>>>> upstream/main
   "metadata": {},
   "outputs": [],
   "source": [
    "# Import dataset\n",
    "data_all = pd.read_csv('weatherAUS.csv', encoding='utf-8')\n",
    "\n",
    "# Keep only specified columns and rows\n",
    "columns = [\"Date\", \"MinTemp\", \"MaxTemp\", \"Sunshine\", \"WindGustSpeed\", \"Humidity9am\", \"Humidity3pm\", \"Pressure9am\", \"Pressure3pm\", \"RainToday\", \"RainTomorrow\"]\n",
    "data = data_all.loc[data_all['Date']>='2016-01-01', columns]\n",
    "\n",
    "# Convert date to datetime format\n",
    "data['Date'] = pd.to_datetime(data['Date'])\n",
    "\n",
    "print(f'Number of rows:      {data.shape[0]}')\n",
    "print(f'Number of columns:   {data.shape[1]}')"
   ]
  },
  {
   "cell_type": "code",
<<<<<<< HEAD
   "execution_count": 11,
   "metadata": {},
   "outputs": [
    {
     "data": {
      "text/html": [
       "<div>\n",
       "<style scoped>\n",
       "    .dataframe tbody tr th:only-of-type {\n",
       "        vertical-align: middle;\n",
       "    }\n",
       "\n",
       "    .dataframe tbody tr th {\n",
       "        vertical-align: top;\n",
       "    }\n",
       "\n",
       "    .dataframe thead th {\n",
       "        text-align: right;\n",
       "    }\n",
       "</style>\n",
       "<table border=\"1\" class=\"dataframe\">\n",
       "  <thead>\n",
       "    <tr style=\"text-align: right;\">\n",
       "      <th></th>\n",
       "      <th>Date</th>\n",
       "      <th>MinTemp</th>\n",
       "      <th>MaxTemp</th>\n",
       "      <th>Sunshine</th>\n",
       "      <th>WindGustSpeed</th>\n",
       "      <th>Humidity9am</th>\n",
       "      <th>Humidity3pm</th>\n",
       "      <th>Pressure9am</th>\n",
       "      <th>Pressure3pm</th>\n",
       "      <th>RainToday</th>\n",
       "      <th>RainTomorrow</th>\n",
       "    </tr>\n",
       "  </thead>\n",
       "  <tbody>\n",
       "    <tr>\n",
       "      <th>2498</th>\n",
       "      <td>2016-01-01</td>\n",
       "      <td>20.4</td>\n",
       "      <td>37.6</td>\n",
       "      <td>NaN</td>\n",
       "      <td>54.0</td>\n",
       "      <td>46.0</td>\n",
       "      <td>17.0</td>\n",
       "      <td>1013.4</td>\n",
       "      <td>1009.2</td>\n",
       "      <td>No</td>\n",
       "      <td>No</td>\n",
       "    </tr>\n",
       "    <tr>\n",
       "      <th>2499</th>\n",
       "      <td>2016-01-02</td>\n",
       "      <td>20.9</td>\n",
       "      <td>33.6</td>\n",
       "      <td>NaN</td>\n",
       "      <td>50.0</td>\n",
       "      <td>54.0</td>\n",
       "      <td>30.0</td>\n",
       "      <td>1011.1</td>\n",
       "      <td>1008.4</td>\n",
       "      <td>No</td>\n",
       "      <td>Yes</td>\n",
       "    </tr>\n",
       "    <tr>\n",
       "      <th>2500</th>\n",
       "      <td>2016-01-03</td>\n",
       "      <td>18.4</td>\n",
       "      <td>23.1</td>\n",
       "      <td>NaN</td>\n",
       "      <td>48.0</td>\n",
       "      <td>62.0</td>\n",
       "      <td>67.0</td>\n",
       "      <td>1014.0</td>\n",
       "      <td>1014.8</td>\n",
       "      <td>Yes</td>\n",
       "      <td>Yes</td>\n",
       "    </tr>\n",
       "    <tr>\n",
       "      <th>2501</th>\n",
       "      <td>2016-01-04</td>\n",
       "      <td>17.3</td>\n",
       "      <td>23.7</td>\n",
       "      <td>NaN</td>\n",
       "      <td>39.0</td>\n",
       "      <td>74.0</td>\n",
       "      <td>65.0</td>\n",
       "      <td>1017.9</td>\n",
       "      <td>1016.5</td>\n",
       "      <td>Yes</td>\n",
       "      <td>Yes</td>\n",
       "    </tr>\n",
       "    <tr>\n",
       "      <th>2502</th>\n",
       "      <td>2016-01-05</td>\n",
       "      <td>15.5</td>\n",
       "      <td>22.9</td>\n",
       "      <td>NaN</td>\n",
       "      <td>31.0</td>\n",
       "      <td>92.0</td>\n",
       "      <td>63.0</td>\n",
       "      <td>1016.3</td>\n",
       "      <td>1013.9</td>\n",
       "      <td>Yes</td>\n",
       "      <td>No</td>\n",
       "    </tr>\n",
       "  </tbody>\n",
       "</table>\n",
       "</div>"
      ],
      "text/plain": [
       "           Date  MinTemp  MaxTemp  Sunshine  WindGustSpeed  Humidity9am  \\\n",
       "2498 2016-01-01     20.4     37.6       NaN           54.0         46.0   \n",
       "2499 2016-01-02     20.9     33.6       NaN           50.0         54.0   \n",
       "2500 2016-01-03     18.4     23.1       NaN           48.0         62.0   \n",
       "2501 2016-01-04     17.3     23.7       NaN           39.0         74.0   \n",
       "2502 2016-01-05     15.5     22.9       NaN           31.0         92.0   \n",
       "\n",
       "      Humidity3pm  Pressure9am  Pressure3pm RainToday RainTomorrow  \n",
       "2498         17.0       1013.4       1009.2        No           No  \n",
       "2499         30.0       1011.1       1008.4        No          Yes  \n",
       "2500         67.0       1014.0       1014.8       Yes          Yes  \n",
       "2501         65.0       1017.9       1016.5       Yes          Yes  \n",
       "2502         63.0       1016.3       1013.9       Yes           No  "
      ]
     },
     "execution_count": 11,
     "metadata": {},
     "output_type": "execute_result"
    }
   ],
=======
   "execution_count": null,
   "id": "899713f8",
   "metadata": {},
   "outputs": [],
>>>>>>> upstream/main
   "source": [
    "data.head()"
   ]
  },
  {
   "cell_type": "markdown",
   "id": "d73e5c69",
   "metadata": {},
   "source": [
    "# CART\n",
    "\n",
    "Implementation: https://scikit-learn.org/stable/modules/generated/sklearn.tree.DecisionTreeClassifier.html#sklearn.tree.DecisionTreeClassifier\n",
    "\n",
    "We use implementation from sci-kit learn package. The implementation has several characteristics:\n",
    "\n",
    "- Missing values are not supported\n",
    "- Assumes the predictors to be numeric variables (either continuous or ordinal categories). \n",
    "- Both categorical and continuous targets are possible (we chose either DecisionTreeClassification or DecisionTreeRegression class according to our task)\n",
    "\n",
    "Short description:\n",
    "\n",
    "In each node we iterate over randomly chosen set of predictors and compute gain for each predictors measured using defined measure and assuming different possible splits over this predictor. Using the best predictor we perform split into two subtrees. See details of the implementation for further parameters that influence stopping of the algorithm."
   ]
  },
  {
   "cell_type": "markdown",
   "id": "edd8b7ce",
   "metadata": {},
   "source": [
    "## Data Manipulation"
   ]
  },
  {
   "cell_type": "markdown",
   "id": "47dce61b",
   "metadata": {},
   "source": [
    "We copy our data to 'data_cart' dataframe.\n",
    "\n",
    "First, we handle missing values, then encode all predictors as numerical."
   ]
  },
  {
   "cell_type": "code",
<<<<<<< HEAD
   "execution_count": 13,
=======
   "execution_count": null,
   "id": "c8598408",
>>>>>>> upstream/main
   "metadata": {},
   "outputs": [],
   "source": [
    "data_cart = data.copy()"
   ]
  },
  {
   "cell_type": "markdown",
   "id": "baa5b1d1",
   "metadata": {},
   "source": [
    "### Missing values"
   ]
  },
  {
   "cell_type": "code",
<<<<<<< HEAD
   "execution_count": 30,
   "metadata": {
    "scrolled": true
   },
   "outputs": [
    {
     "data": {
      "text/plain": [
       "Date                  0\n",
       "MinTemp               0\n",
       "MaxTemp               0\n",
       "Sunshine              0\n",
       "WindGustSpeed         0\n",
       "Humidity9am           0\n",
       "Humidity3pm           0\n",
       "Pressure9am           0\n",
       "Pressure3pm           0\n",
       "RainToday           264\n",
       "RainTomorrow          0\n",
       "RainTodayFlag         0\n",
       "RainTomorrowFlag      0\n",
       "Month                 0\n",
       "dtype: int64"
      ]
     },
     "execution_count": 30,
     "metadata": {},
     "output_type": "execute_result"
    }
   ],
=======
   "execution_count": null,
   "id": "9fba893b",
   "metadata": {
    "scrolled": true
   },
   "outputs": [],
>>>>>>> upstream/main
   "source": [
    "# Number of missing values in each column\n",
    "data_cart.isna().sum()"
   ]
  },
  {
   "cell_type": "code",
<<<<<<< HEAD
   "execution_count": 21,
   "metadata": {},
   "outputs": [
    {
     "name": "stderr",
     "output_type": "stream",
     "text": [
      "<ipython-input-21-cb74f32fe9fb>:4: FutureWarning: DataFrame.mean and DataFrame.median with numeric_only=None will include datetime64 and datetime64tz columns in a future version.\n",
      "  data_cart=data_cart.fillna(data_cart.mean())\n"
     ]
    }
   ],
=======
   "execution_count": null,
   "id": "44d3a7b1",
   "metadata": {},
   "outputs": [],
>>>>>>> upstream/main
   "source": [
    "# TODO: Handle missing values for both predictors and target\n",
    "\n",
    "data_cart=data_cart.dropna(subset=['RainTomorrow'])\n",
    "data_cart=data_cart.fillna(data_cart.mean())"
   ]
  },
  {
   "cell_type": "markdown",
   "id": "5fa00d5c",
   "metadata": {},
   "source": [
    "### Predictor type"
   ]
  },
  {
   "cell_type": "code",
<<<<<<< HEAD
   "execution_count": 34,
   "metadata": {},
   "outputs": [
    {
     "data": {
      "text/plain": [
       "Date                datetime64[ns]\n",
       "MinTemp                    float64\n",
       "MaxTemp                    float64\n",
       "Sunshine                   float64\n",
       "WindGustSpeed              float64\n",
       "Humidity9am                float64\n",
       "Humidity3pm                float64\n",
       "Pressure9am                float64\n",
       "Pressure3pm                float64\n",
       "RainToday                   object\n",
       "RainTomorrow                object\n",
       "RainTodayFlag                int64\n",
       "RainTomorrowFlag             int64\n",
       "Month                        int64\n",
       "dtype: object"
      ]
     },
     "execution_count": 34,
     "metadata": {},
     "output_type": "execute_result"
    }
   ],
=======
   "execution_count": null,
   "id": "35459ef0",
   "metadata": {},
   "outputs": [],
>>>>>>> upstream/main
   "source": [
    "# We check the format of the data\n",
    "data_cart.dtypes"
   ]
  },
  {
   "cell_type": "code",
<<<<<<< HEAD
   "execution_count": 24,
=======
   "execution_count": null,
   "id": "08c0f797",
>>>>>>> upstream/main
   "metadata": {},
   "outputs": [],
   "source": [
    "# Re-encode. Column 'Date' will not be used for prediction, therefore, no need to encode it. Only 'RainToday' and 'RainTomorrow' should be re-encoded.\n",
    "\n",
    "# TODO: Convert values of 'RainToday' and 'RainTomorrow' into 0-1 encoding. You can use .apply function to use row-by-row notation.\n",
    "data_cart['RainTodayFlag']=data_cart['RainToday'].apply(lambda x: 0 if x==\"No\" else 1)\n",
    "data_cart['RainTomorrowFlag']=data_cart['RainTomorrow'].apply(lambda x: 0 if x==\"No\" else 1)"
   ]
  },
  {
   "cell_type": "code",
<<<<<<< HEAD
   "execution_count": 31,
=======
   "execution_count": null,
   "id": "da82ee01",
>>>>>>> upstream/main
   "metadata": {},
   "outputs": [],
   "source": [
    "# We denote 'target' the name of the column with target values. 'predictors' stands for the list of all predictors\n",
    "\n",
    "target = 'RainTomorrowFlag'\n",
    "\n",
    "predictors = columns.copy()\n",
    "predictors.remove('Date')\n",
    "predictors.remove('RainToday')\n",
    "predictors.remove('RainTomorrow')\n",
    "predictors += [\"RainTodayFlag\"]"
   ]
  },
  {
   "cell_type": "code",
<<<<<<< HEAD
   "execution_count": 32,
   "metadata": {},
   "outputs": [
    {
     "data": {
      "text/plain": [
       "['MinTemp',\n",
       " 'MaxTemp',\n",
       " 'Sunshine',\n",
       " 'WindGustSpeed',\n",
       " 'Humidity9am',\n",
       " 'Humidity3pm',\n",
       " 'Pressure9am',\n",
       " 'Pressure3pm',\n",
       " 'RainTodayFlag']"
      ]
     },
     "execution_count": 32,
     "metadata": {},
     "output_type": "execute_result"
    }
   ],
=======
   "execution_count": null,
   "id": "e7c0685f",
   "metadata": {},
   "outputs": [],
>>>>>>> upstream/main
   "source": [
    "predictors"
   ]
  },
  {
   "cell_type": "markdown",
   "id": "d488ac21",
   "metadata": {},
   "source": [
    "## Split & train"
   ]
  },
  {
   "cell_type": "markdown",
   "id": "7e88a59a",
   "metadata": {},
   "source": [
    "We split the data into train and test datasets. We use stratification by 'Month' for further model evaluation."
   ]
  },
  {
   "cell_type": "code",
<<<<<<< HEAD
   "execution_count": 28,
   "metadata": {},
   "outputs": [
    {
     "data": {
      "text/plain": [
       "5     3007\n",
       "3     2945\n",
       "1     2943\n",
       "4     2885\n",
       "2     2714\n",
       "6     2660\n",
       "8     1515\n",
       "7     1511\n",
       "10    1499\n",
       "9     1444\n",
       "11    1434\n",
       "12    1417\n",
       "Name: Month, dtype: int64"
      ]
     },
     "execution_count": 28,
     "metadata": {},
     "output_type": "execute_result"
    }
   ],
=======
   "execution_count": null,
   "id": "20ccf1f5",
   "metadata": {},
   "outputs": [],
>>>>>>> upstream/main
   "source": [
    "# We have only one year of observations, therefore only numbers 1-12 can be used to encode month.\n",
    "data_cart['Month'] = data_cart['Date'].dt.month\n",
    "data_cart['Month'].value_counts()"
   ]
  },
  {
   "cell_type": "code",
<<<<<<< HEAD
   "execution_count": 35,
=======
   "execution_count": null,
   "id": "c7989392",
>>>>>>> upstream/main
   "metadata": {},
   "outputs": [],
   "source": [
    "# TODO: Split the data into 'data_cart_train' and 'data_cart_test' datasets. Use stratification by 'Month'.\n",
    "# Use function 'train_test_split' from 'sklearn.model_selection' package and choose parameters carefully.\n",
    "\n",
    "data_cart_train, data_cart_test = train_test_split(    data_cart,  test_size=0.2, random_state=17,stratify=data_cart['Month'])\n"
   ]
  },
  {
   "cell_type": "code",
<<<<<<< HEAD
   "execution_count": 37,
   "metadata": {},
   "outputs": [
    {
     "name": "stdout",
     "output_type": "stream",
     "text": [
      "*************** Tree Summary ***************\n",
      "Classes:  [0 1]\n",
      "Tree Depth:  5\n",
      "No. of leaves:  32\n",
      "No. of features:  9\n",
      "--------------------------------------------------------\n",
      "\n",
      "*************** Evaluation on Test Data ***************\n",
      "Accuracy Score:  0.8307988450433109\n",
      "              precision    recall  f1-score   support\n",
      "\n",
      "           0       0.85      0.95      0.90      3999\n",
      "           1       0.73      0.42      0.53      1196\n",
      "\n",
      "    accuracy                           0.83      5195\n",
      "   macro avg       0.79      0.69      0.72      5195\n",
      "weighted avg       0.82      0.83      0.81      5195\n",
      "\n",
      "--------------------------------------------------------\n",
      "\n",
      "*************** Evaluation on Training Data ***************\n",
      "Accuracy Score:  0.8360363828865681\n",
      "              precision    recall  f1-score   support\n",
      "\n",
      "           0       0.85      0.95      0.90     16029\n",
      "           1       0.74      0.44      0.55      4750\n",
      "\n",
      "    accuracy                           0.84     20779\n",
      "   macro avg       0.79      0.70      0.73     20779\n",
      "weighted avg       0.83      0.84      0.82     20779\n",
      "\n",
      "--------------------------------------------------------\n"
     ]
    }
   ],
=======
   "execution_count": null,
   "id": "fc3978ee",
   "metadata": {},
   "outputs": [],
>>>>>>> upstream/main
   "source": [
    "# Now we can fit the model.\n",
    "\n",
    "# TODO: Check the documentation for parameters' interpretation: https://scikit-learn.org/stable/modules/generated/sklearn.tree.DecisionTreeClassifier.html#sklearn.tree.DecisionTreeClassifier\n",
    "# Build the model and choose the parameters carefully.\n",
    "\n",
    "criterion = 'gini'\n",
    "splitter = 'best'\n",
    "mdepth = 5\n",
    "min_samples_split = 20\n",
    "min_samples_leaf = 5\n",
    "\n",
    "random_state = 17\n",
    "\n",
    "# Now we contruct the model.\n",
    "model = tree.DecisionTreeClassifier(\n",
    "    criterion=criterion,\n",
    "    splitter=splitter, \n",
    "    max_depth=mdepth,\n",
    "    min_samples_split=min_samples_split,\n",
    "    min_samples_leaf=min_samples_leaf, \n",
    "    random_state=random_state, \n",
    ")\n",
    "\n",
    "# And fit training data.\n",
    "\n",
    "clf = model.fit(data_cart_train[predictors], data_cart_train[target])\n",
    "\n",
    "# Predict class labels on training data\n",
    "pred_labels_tr = model.predict(data_cart_train[predictors])\n",
    "# Predict class labels on a test data\n",
    "pred_labels_te = model.predict(data_cart_test[predictors])\n",
    "\n",
    "# Tree summary and model evaluation metrics\n",
    "print('*************** Tree Summary ***************')\n",
    "print('Classes: ', clf.classes_)\n",
    "print('Tree Depth: ', clf.tree_.max_depth)\n",
    "print('No. of leaves: ', clf.tree_.n_leaves)\n",
    "print('No. of features: ', clf.n_features_)\n",
    "print('--------------------------------------------------------')\n",
    "print(\"\")\n",
    "\n",
    "print('*************** Evaluation on Test Data ***************')\n",
    "score_te = model.score(data_cart_test[predictors], data_cart_test[target])\n",
    "print('Accuracy Score: ', score_te)\n",
    "# Look at classification report to evaluate the model\n",
    "print(classification_report(data_cart_test[target], pred_labels_te))\n",
    "print('--------------------------------------------------------')\n",
    "print(\"\")\n",
    "\n",
    "print('*************** Evaluation on Training Data ***************')\n",
    "score_tr = model.score(data_cart_train[predictors], data_cart_train[target])\n",
    "print('Accuracy Score: ', score_tr)\n",
    "# Look at classification report to evaluate the model\n",
    "print(classification_report(data_cart_train[target], pred_labels_tr))\n",
    "print('--------------------------------------------------------')"
   ]
  },
  {
   "cell_type": "code",
<<<<<<< HEAD
   "execution_count": 38,
   "metadata": {},
   "outputs": [
    {
     "data": {
      "image/png": "iVBORw0KGgoAAAANSUhEUgAABYEAAAVdCAYAAAChM4bhAAAAOXRFWHRTb2Z0d2FyZQBNYXRwbG90bGliIHZlcnNpb24zLjMuMiwgaHR0cHM6Ly9tYXRwbG90bGliLm9yZy8vihELAAAACXBIWXMAAAsTAAALEwEAmpwYAAEAAElEQVR4nOzdebznc93/8cdzZjDD2LIbIVS2mbJGSSgVonJVRFL2pELa/NpL+1XaXCpakW1EJRQZZd8Zy1zRomzVpZIRMjOv3x/fc7koyyznnPd3edxvN7dzO7fbcc7zTJrzOc/v8/P+pKqQJEmSJEmSJPWnMa0DSJIkSZIkSZJGjiWwJEmSJEmSJPUxS2BJkiRJkiRJ6mOWwJIkSZIkSZLUxyyBJUmSJEmSJKmPWQJLkiRJkiRJUh+zBJYkSZIkSZKkPmYJLEmSJEmSJEl9zBJYkiRJkiRJkvqYJbAkSZIkSZIk9TFLYEmSJEmSJEnqY5bAkiRJkiRJktTHLIElSZIkSZIkqY9ZAkuSJEmSJElSH7MEliRJkiRJkqQ+ZgksSZIkSZIkSX3MEliSJEmSJEmS+pglsCRJkiRJkiT1MUtgSZIkSZIkSepjlsCSJEmSJEmS1McsgSVJkiRJkiSpj1kCS5IkSZIkSVIfswSWJEmSJEmSpD5mCSxJkiRJkiRJfcwSWJIkSZIkSZL6mCWwJEmSJEmSJPUxS2BJkiRJkiRJ6mOWwJIkSZIkSZLUxyyBJUmSJEmSJKmPWQJLkiRJkiRJUh+zBJYkSZIkSZKkPmYJLEmSJEmSJEl9zBJYkiRJkiRJkvqYJbAkSZIkSZIk9TFLYEmSJEmSJEnqY5bAkiRJkiRJktTHLIElSZIkSZIkqY9ZAkuSJEmSJElSH7MEliRJkiRJkqQ+ZgksSZIkSZIkSX3MEliSJEmSJEmS+pglsCRJkiRJkiT1MUtgSZIkSZIkSepjlsCSJEmSJEmS1McsgSVJkiRJkiSpj1kCS5IkSZIkSVIfswSWJEmSJEmSpD5mCSxJkiRJkiRJfcwSWJIkSZIkSZL6mCWwJEmSJEmSJPUxS2BJkiRJkiRJ6mOWwJIkSZIkSZLUxyyBJUmSJEmSJKmPWQJLkiRJkiRJUh+zBJYkSZIkSZKkPmYJLEmSJEmSJEl9zBJYkiRJkiRJkvqYJbAkSZIkSZIk9TFLYEmSJEmSJEnqY5bAkiRJkiRJktTHLIElSZIkSZIkqY9ZAkuSJEmSJElSH7MEliRJkiRJkqQ+ZgksSZIkSZIkSX3MEliSJEmSJEmS+pglsCRJkiRJkiT1MUtgSZIkSZIkSepjlsCSJEmSJEmS1McsgSVJkiRJkiSpj1kCS5IkSZIkSVIfswSWJEmSJEmSpD5mCSxJkiRJkiRJfcwSWJIkSZIkSZL6mCWwJEmSJEmSJPUxS2BJkiRJkiRJ6mOWwJIkSZIkSZLUxyyBJUmSJEmSJKmPWQJLkiRJkiRJUh+zBJYkSZIkSZKkPmYJLEmSJEmSJEl9zBJYkiRJkiRJkvqYJbAkSZIkSZIk9TFLYEmSJEmSJEnqY5bAkiRJkiRJktTHLIElSZIkSZIkqY9ZAkuSJEmSJElSH7MEliRJkiRJkqQ+ZgksSZIkSZIkSX3MEliSJEmSJEmS+pglsCRJkiRJkiT1MUtgSZIkSZIkSepjlsCSJEmSJEmS1McsgSVJkiRJkiSpj1kCS5IkSZIkSVIfswSWJEmSJEmSpD5mCSxJkiRJkiRJfcwSWJIkSZIkSZL6mCWwJEmSJEmSJPUxS2BJkiRJkiRJ6mOWwJIkSZIkSZLUxyyBJUmSJEmSJKmPWQJLkiRJkiRJUh+zBJYkSZIkSZKkPmYJLEmSJEmSJEl9zBJYkiRJkiRJkvqYJbAkSZIkSZIk9TFLYEmSJEmSJEnqY5bAkiRJkiRJktTHLIElSZIkSZIkqY+Nax1AkiRJeiITJky4+8EHH1yhdY65MX78+D8+8MADK7bOIUmSJP2rVFXrDJIkSdLjSlK9cr2ahKpK6xySJEnSv3IJLEmSpJ533HHHMW7cOBZZZBFWXXVVzj//fLbddltmzpzJ2LFj2WyzzR752Dlz5jBmzGNPRfvpT3/KFVdcwdprr81f/vIX9t13X6ZNm8add97Jq1/9aiZMmDDa35IkSZI0bDwTWJIkST1vyy235KqrrmLppZdm0qRJTJo0ifvuu49JkyY98jEnnXQSZ5xxBn//+985++yzOfvss/nLX/4CwAYbbMBGG23E7NmzWXLJJQFYZpllGDNmDA899FCT70mSJEkaLpbAkiRJ6nn/u/y98847AVhuueW45ZZbHvMxz372s4HOEnjWrFnMmjWL/z1q4vzzz2ebbbZhzJgx3HvvvcyYMYOlllqKquL3v//96H4zkiRJ0jDzTGBJkiR1rXk9E3jGjBnMmTOHddddF4DrrruOiRMnsuaaa45UxEd4JrAkSZK6lUtgSZIk9Y21116bpZZaigceeACA5zznOU/4sccddxzHHXccAL/97W856qijuOqqqzjyyCO55557OPvssznppJNGJbckSZI0knwwnCRJkvrC8ccfz1VXXcVOO+3E3XffzT/+8Q/WXHNN7rrrLtZcc00uuOACHnjgASZPnsykSZNYeOGFH/l3V199de677z5WWWUVll56aWbOnMnqq6/OhRde2PA7kiRJkoaHJbAkSZL6xqOPjth+++2ZNm3aI+/Pnj37MecAP/TQQyRhxowZjB07lhVWWIHbb7+dpZdemltuuYWHHnqICRMmjPa3IEmSJA07zwSWJElS15qXM4FnzJjBD3/4Q9797nePcKrH55nAkiRJ6laWwJIkSepa8/pguJYsgSVJktStPA5CkiRJfevEE09k1113fcqPu+2227jgggvYbLPNOPfcc3nGM57B4osvztlnn83uu+/Osccey4477sgdd9zBs5/9bDbaaKNRSC9JkiQND0tgSZIk9ZwjjzySrbbaigsvvJCJEyfyz3/+k5kzZ7L88suz5pprcvrppzNlyhTGjh3LCSecwO23385aa63FQgst9EiZO336dCZMmMCLXvQiVlttNRZffHEWWWQRnvOc53DHHXew7bbb8oc//IF11lmHKVOm8OxnP5u///3vXH/99ZbAkiRJ6iljWgeQJEmS5tV6663HlVdeycILL8wdd9zBEksswYYbbshLXvISbrvtNpL/O5XhgQceYJ111uFZz3oW1157LdB5gNysWbOYPXs2ANdffz1XX301EyZM4Nprr2XixIlccMEFbLXVVtx3330stdRSLLTQQtx7771ssskmLb5lSZIkab55JrAkSZK61vyeCTy3x0AMJ88EliRJUreyBJYkSVLX8sFwkiRJ0oLzOAhJkiT1nGnTpnH33XfP1cceddRR3Hfffbz3ve8F4Gtf+xqXX345U6dO5Rvf+AY333wzRx11FH/4wx/47ne/yznnnPPIv/vAAw9w6KGH8rvf/Y6PfOQj/Pa3v+XII4/knnvu4Rvf+AannXYaxx9//FxnkSRJklrwwXCSJEnqeieeeCJJWHzxxbnsssvYeuutmTZtGltttRXTp09n2rRpbLHFFmy33XZMnz6dO+64g0mTJjF58mSe9rSnsfjii/Pc5z4XgBkzZrDuuusye/ZsllxySdZZZx0uvfRSllhiCZZeemlmzJjBy172MgDOP/98NtpoI1ZffXWe8YxnsOiii7L00kszc+ZMllxySWbNmsWkSZMa/slIkiRJT80lsCRJkrre4osvTlUxc+ZM7r//fgBWWmklzj77bB5++GGWWWYZVlhhBQDmzJnDrFmzmDNnziP//sMPP8w111zD7373O9Zee21uu+02xowZw7333ss555zDPffcA8CDDz7IBhtswLnnngvA/fffzw033MBDDz3EuHHjGDduHEsvvTS33HILf/vb3xg7duwo/0lIkiRJ884zgSVJktS1huNM4LPOOoutttqKCRMmDFOqxzrvvPPYeOONWWqppTwTWJIkSV3J4yAkSZLUtcaPH//HJCu0zjE3xo8f/8fWGSRJkqTH43EQkiRJ6loPPPDAikPr2jWAc4FrgA2qKq3+ASYCRwJ3A7sAY6oqDzzwwIqt/pwkSZKkJ2MJLEmSpK6VZGyStwNX0CmBN62qa1tmqqr7q+oQ4NXAh4AfJFm5ZSZJkiTpyVgCS5IkqSslWRf4JfAa4AVV9emqmtU41iOq6lJgQ+B64Lok+yTxTGBJkiR1HR8MJ0mSpK6SZCHgPcDBwAeBo6tqTtNQTyHJFOBY4O/AvlX1m8aRJEmSpEe4BJYkSVLXSLIRcCXwAmDDqjqq2wtggKq6HtgcOAu4PMkhScY2jiVJkiQBLoElSZLUBZJMAD4MvAk4DDiuevRCNclawDHAeGDvqrqxcSRJkiQNOJfAkiRJairJlsB1wOrAlKr6Xq8WwABVdSuwDfAtYFqSDyZZuHEsSZIkDTCXwJIkSWoiyRLAp4BXAm+tqtPbJhp+SVYBjgZWA/aqqisaR5IkSdIAcgksSZKkUZdke+AGYGFg/X4sgAGq6nZgR+CTwI+TfC7Joo1jSZIkacC4BJYkSdKoSbIs8AU6D37bt6rOaxxp1CRZDvgisCmwT1VNa5tIkiRJg8IlsCRJkkZcOnYBpgP/A0wepAIYoKr+XFW7AYcA30vytSRLts4lSZKk/mcJLEmSpBGVZGXgdOCDwKur6pCqur9tqnaq6kfA+kPv3pDkFS3zSJIkqf9ZAkuSJGlEDK1/9wGuG/pnw6q6tHGsrlBV91bV/sAbgSOTnDB0XIQkSZI07CyBJUmSNOySrAGcC+wPvLiqPlhVDzWO1XWq6nxgCnAnMD3J65OkcSxJkiT1GUtgSZIkDZskY5McAlwOnAVsXlXXN47V1arqH1V1GLATcDjwwySrNI4lSZKkPmIJLEmSpGGRZH3gIuCVwGZV9bmqmtU4Vs+oqsuBjYArgWuS7J/E63VJkiQtsFRV6wySJEnqYUkWBt4HHAS8H/hGVc1pm6q3DRXqxwL/APatqlsbR5IkSVIPc1kgSZKk+ZZkE+AqYBNgg6r6mgXwgquqG4DnAz8ELk1yWJJxjWNJkiSpR7kEliRJ0jxLsijwUWAP4BDg++WF5YhIsibwDWAisHdVTW8cSZIkST3GJbAkSZLmSZKtgOuBlYH1q+oEC+CRU1W/Bl4MfB34eZKPJFmkcSxJkiT1EJfAkiRJmitJlgQ+A2wPHFhVP2ocaeAkmQT8F7AmnVXwpY0jSZIkqQe4BJYkSdJTSrIjcMPQu+tbALdRVXcAr6RzFMcPknw+yWKNY0mSJKnLWQJLkiTpCSVZLskJwBeAN1bV/lV1b+tcg6w6TgImA8sB05O8uHEsSZIkdTFLYEmSJP2bdOwGTAfuBKZU1fmNY+lRqup/qmoP4G3At5J8I8lSjWNJkiSpC1kCS5Ik6TGSrAL8EHgfsFNVHVZV/2gcS0+gqs4E1gceBm5I8srGkSRJktRlLIElSZIEQJIxSfYHrgGuBDaqqssbx9JcqKq/V9WBwO7A55KcmGT51rkkSZLUHSyBJUmSRJK1gPOAvYCtq+ojVfXPxrE0j6rqAmAKcBuds4LfkCSNY0mSJKkxS2BJkqQBlmRcksOAS+kcAfH8qrqhcSwtgKp6oKreA+wAvAs4M8mqjWNJkiSpIUtgSZKkAZVkCnAJsD3wvKr6QlXNbhxLw6SqrgQ2Bi4GrkryliRe/0uSJA2gVFXrDJIkSRpFSRYBDgcOpPPwt2PLi8K+lmRd4Fg6D4/bp6p+1TiSJEmSRpFLAEmSpAGSZDPgamAD4LlVdYwFcP+rqpuALYCpwMVJ3p1kXONYkiRJGiUugSVJkgZAksWAjwGvBw4GTrb8HUxJngF8HXgasFdVXdc4kiRJkkaYS2BJkqQ+l+TFwHRgOWByVZ1kATy4quq3wEuBrwLnJvl4kvGNY0mSJGkEuQSWJEnqU0mWAj4LvAx4S1Wd2TaRuk2SlemUwWsDe1fVxY0jSZIkaQS4BJYkSepDSV4J3EDnQWDrWwDr8VTVncDOwAeAU5N8McnExrEkSZI0zCyBJUmS+kiSFZKcBHwO2L2qDqyqv7fOpe5VHacCk4GlgOlJtm2bSpIkScPJEliSJKkPpOMNwPXA74ApVXVB21TqJVV1T1XtCbwFOCbJN5Ms3TqXJEmSFpwlsCRJUo9LsipwJvAuYIeqek9VPdA4lnpUVZ0NrA/8A7gxyc6NI0mSJGkBWQJLkiT1qCRjkrwFuAq4GNi4qq5sHEt9oKruq6qDgF2ATyY5NcmKrXNJkiRp/lgCS5Ik9aAkzwKmAW8EXlRVH6+qh9umUr+pql8CzwF+BVyfZM8kaRxLkiRJ8yhV1TqDJEmS5lKSccA76Rz98DHgK1U1u20qDYIkGwLHAn8E9q+q2xpHkiRJ0lxyCSxJktQjkjwHuAx4CbBJVX3RAlijpaquBjYFLgCuSnJQEn+fkCRJ6gEugSVJkrpckvHA+4H9gPcA3y4v4tRQkrXprIIL2KeqZjSOJEmSpCfhK/eSJEldLMnzgWuAdYHnVNW3LIDV2lDp+0LgRODCJIcnWahxLEmSJD0Bl8CSJEldKMlE4AjgtcDbgamWv+pGSVYHvgYsD+xVVde0TSRJkqR/5RJYkiSpyyR5KTAdWAqYXFWnWgCrW1XV74CXA0cC5yT55NARJpIkSeoSLoElSZK6RJKlgc8D2wD7V9XZjSNJ8yTJisCXgSnA3lV1YeNIkiRJwiWwJElSV0iyM3AjcD+wvgWwelFV3V1VrwXeB5yc5CtJFm+dS5IkadBZAkuSJDWUZMUkpwKfBHapqoOq6r7WuaQFUVWnAesBiwLTk7y8cSRJkqSBZgksSZLUQDr2BK4HfgU8p6p+2TiWNGyq6q9VtRewH3B0ku8kWaZ1LkmSpEFkCSxJkjTKkqwGnAUcDLy8qg6vqgfbppJGRlX9FFgf+BudVfBrkqRtKkmSpMFiCSxJkjRKkoxJchBwFXABsGlVXd04ljTiqmpmVb0DeA3wMWBqkpUax5IkSRoYlsCSJEmjIMnawC+A1wNbVNUnq+rhxrGkUVVVFwMbADcB1yV5s6tgSZKkkZeqap1BkiSpbyVZCHgXcCjwYeCoqprTNJTUBZI8FzgW+AuwX1X9tm0iSZKk/uUSWJIkaYQk2QC4HNgS2KiqvmIBLHVU1bXA84BzgSuSvCPJ2LapJEmS+pNLYEmSpGGWZDzwIWBvOivg75YXXdITSvIs4BhgHLBPVd3UOJIkSVJfcQksSZI0jJJsAVwHrAVMqarvWABLT66qfgVsBRwH/CLJ+4eOUpEkSdIwcAksSZI0DJIsDnwS2Bk4qKpOaxxJ6klJVgWOBiYBe1XVVY0jSZIk9TyXwJIkSQsoycuBG4BFgfUsgKX5V1W/B3YAPgv8JMmnk0xoHEuSJKmnuQSWJEmaT0mWAT5P58Fv+1fVTxtHkvpKkuWBLwMbAPtW1QWNI0mSJPUkl8CSJEnzKB2vAaYDfwMmWwBLw6+q/lRVuwDvBk5I8l9JlmidS5IkqddYAkuSJM2DJCsBU4GPAa+pqndU1czGsaS+VlWnA+sBCwE3JNm+bSJJkqTeYgksSZI0F4bWv28GrgNuAjaoqosbx5IGRlX9rar2Ad4MfCXJcUmWbZ1LkiSpF1gCS5IkPYUkzwB+ChwEvLSq3l9VDzaOJQ2kqjoPmAz8CZieZJckaRxLkiSpq1kCS5IkPYEkY5O8A7gCOBd4XlVd2zaVpKq6v6oOBV4NfBA4PcnKjWNJkiR1LUtgSZKkx5FkXeCXwH8Az6+qT1fVrMaxJD1KVV0KbAhcC1yXZB9XwZIkSf8uVdU6gyRJUtdIshDwHuAddBaGX6uqOW1TSXoqSaYAxwL3AftW1a8bR5IkSeoaLoElSZKGJNkIuBJ4PrBRVf2XBbDUG6rqemBz4CfAZUkOTTK2cSxJkqSu4BJYkiQNvCQTgA8DbwLeCRxfXiRJPSvJWsAxwARg76q6oXEkSZKkplwCS5KkgZbkRcB1wOrA5Ko6zgJY6m1VdSuwDfBN4PwkH0qycONYkiRJzbgEliRJAynJEsCngZ2At1bV6W0TSRoJSVYBjgZWA/aqqisaR5IkSRp1LoElSdLASbI9cAMwDljPAljqX1V1O7Aj8AngR0k+l2TRxrEkSZJGlUtgSZI0MJIsCxxJ5+FR+1XVeW0TSRpNSZYDvghsCuxbVec3jiRJkjQqXAJLkqS+l45dgOnAn4ApFsDS4KmqP1fVbsAhwHeTfC3Jkq1zSZIkjTRLYEmS1NeSrAycDnwQeHVVHVpV97dNJamlqvoRsP7Quzck2bFlHkmSpJFmCSxJkvrS0Pp3H+A64Fpgw6q6tG0qSd2iqu6tqv2BNwJfSHLC0HERkiRJfccSWJIk9Z0kawLnAfsDL66qD1XVQ41jSepCQ+cCTwHuAKYn2S1JGseSJEkaVpbAkiSpbyQZm+RQ4DLgJ8DmVXV941iSulxV/aOq3gXsBLwP+FGSpzeOJUmSNGwsgSVJUl9Isj5wMZ0SZ7Oq+lxVzWocS1IPqarLgY2Ay4Grk+yfxN+ZJElSz0tVtc4gSZI035IsTGe5dxDw/4BjqmpO21SSet3QC0vHAg8A+1bVLY0jSZIkzTdf1ZYkST0rySbAVcAmwAZV9XULYEnDoapuAJ4PnAFckuSwJOMax5IkSZovLoElSVLPSbIo8FHgDcAhwInlRY2kETL0sMmvA0sAe3vWuCRJ6jUugSVJUk9JsjVwPbASMLmqvm8BLGkkVdWvgZcAXwPOS/LRJIs0jiVJkjTXXAJLkqSekGRJ4DPA9sCBVfWjxpEkDaAkk4CjgLXorIIvbRxJkiTpKbkEliRJXS/JjsANQAHrWwBLaqWq7gBeRedImtOTfCHJYm1TSZIkPTlLYEmS1LWSLJfkBOALwBur6oCqurd1LkmDrTpOAtYHlgWmJ3lx41iSJElPyBJYkiR1nXTsBkwH7gCmVNX5jWNJ0mNU1f9U1R7A24BvJTkmyVKNY0mSJP0bS2BJktRVkqwC/BB4H7BTVb2rqv7ROJYkPaGqOpPOKvifwA1JXtk4kiRJ0mNYAkuSpK6QZEyS/YFrgCuAjarq8saxJGmuVNXfq+pAYDfgs0lOSrJC61ySJElgCSxJkrpAkmcCPwfeDGxVVR+tqn82jiVJ86yqfgE8B/gdcH2SPZKkbSpJkjToUlWtM0iSpAGVZBxwMPBe4AjgS1U1u2koSRomSTYGjqVztvkBVfX7xpEkSdKAcgksSZKaSDIFuATYDti0qr5gASypn1TVlcDGwMXA1UkOTOLvYJIkadS5BJYkSaMqySLA4cCBdB7+dmx5QSKpzyVZl84q+GFgn6r6VeNIkiRpgPgqtCRJGjVJNgOuBp4LPLeqjrEAljQIquomYAtgKnBxkvcMHYkjSZI04lwCS5KkEZdkMeDjwK7AO4BTLH8lDaokzwC+DjwN2Luqrm2bSJIk9TuXwJIkaUQleTEwHVgWWL+qTrYAljTIquq3wEuBrwA/TXJEkvGNY0mSpD7mEliSJI2IJEsBn6NTdBxQVT9pm0iSuk+SlYCvAuvQWQVf3DiSJEnqQy6BJUnSsEvySuAG4J901r8WwJL0OKrqLuA/gA8CU5N8KcnExrEkSVKfsQSWJEnDJskKSU4CPgvsVlUHVtXfW+eSpG5WHacA6wNLAtOTvLRxLEmS1EcsgSVJ0gJLxx7A9cBvgedU1S8ax5KknlJV91TVnsBbgG8k+VaSp7XOJUmSep8lsCRJWiBJVgXOBN4JbF9V762qBxrHkqSeVVVn01kFzwRuSPIfjSNJkqQeZwksSZLmS5IxSQ4ErgIuAjapqqsax5KkvlBV91XV24DXAUckOTXJiq1zSZKk3mQJLEmS5lmSZwHTgDcAW1bVEVX1cNtUktR/qupC4LnAr4Drk7wpSdqmkiRJvSZV1TqDJEnqEUnG0Tn24V3AR4GvVtXstqkkaTAk2RA4FvgTsH9V/a5tIkmS1CtcAkuSpLmS5DnAZcBL6Bz98CULYEkaPVV1NbApnTsxrkzytiT+TidJkp6SS2BJkvSkkowH3g/sB7wH+HZ5ASFJTSVZGzhm6N19qmpGyzySJKm7+aqxJEl6QkmeD1wDrAs8p6q+ZQEsSe0Nlb5bAicCFyY5PMlCjWNJkqQu5RJYkiT9myQTgU8ArwHeVlVTG0eSJD2BJKsBXwNWAPYeOjZCkiTpES6BJUnSYyR5KTAdWAJY3wJYkrpbVd0GbAccCZyd5JNJJrRNJUmSuolLYEmSBECSpYHPA1vTeer8OY0jSZLmUZIVgS8DU+isgi9sHEmSJHUBl8CSJIkkOwM3ADOByRbAktSbquruqnot8D7g5CRfSbJ461ySJKktS2BJkgZYkhWTnErn/N9dquptVXVf61ySpAVTVacB6wGLAjck2a5xJEmS1JAlsCRJAygdbwKuB34FPNdbhiWpv1TVX6tqL2Af4Kgk302yTOtckiRp9FkCS5I0YJKsDpwNvAN4WVUdXlUPtk0lSRopVfUzYDLwVzqr4NcmSeNYkiRpFFkCS5I0IJKMSfI24EpgGrBpVV3TNpUkaTRU1cyqegfwH8BHgdOSrNQ4liRJGiWWwJIkDYAkawO/AHYBtqiqT1bVw41jSZJGWVVdDGwA3Ahcl2QvV8GSJPW/VFXrDJIkaYQkWQh4F3Ao8GHgqKqa0zSUJKkrJHkucCzwF2C/qvpt20SSJGmkuASWJKlPJdkQuBzYEtioqr5iASxJ+l9VdS3wPOBnwBVJ3pFkbNtUkiRpJLgEliSpzySZAHwQ2IvOCvh75Q98SdKTSPIs4BhgIWDvqrqpcSRJkjSMXAJLktRHkmwBXAusBUypqu9aAEuSnkpV/QrYCvgu8IskH0iycNtUkiRpuLgEliSpDyRZHPgk8GrgbVV1WuNIkqQelWRV4GhgEp1V8JWNI0mSpAXkEliSpB6X5OXADcCiwPoWwJKkBVFVvwd2AD4LnJnkM0NHDUmSpB7lEliSpB6VZBng83Qe/LZfVf2scSRJUp9JsjzwJWAjYJ+quqBxJEmSNB9cAkuS1GPS8Vo669+/ApMtgCVJI6Gq/lRVuwKHAccn+a8kS7TOJUmS5o0lsCRJPSTJSsBpwEeAnavq4Kqa2TiWJKnPVdUZwPrAOOCGJDs0jiRJkuaBJbAkST1gaP27F3AdnQXwBlV1SeNYkqQBUlV/q6p9gTcDX0pyXJJlW+eSJElPzRJYkqQul+QZwE+BA4Ftq+oDVfVQ41iSpAFVVecBU4A/0VkF75okjWNJkqQnYQksSVKXSjI2yTuAK4CfAZtV1XWNY0mSRFXdX1WHAq8CPgCcnmRS21SSJOmJWAJLktSFkqwLXAjsDDy/qj5TVbMax5Ik6TGq6lJgQ+Ba4Nok+7oKliSp+6SqWmeQJElDkiwMvAd4O51l1derak7bVJIkPbUkk4FvAvcB+1bVrxtHkiRJQ1wCS5LUJZJsTOfoh82BDavqaAtgSVKvqKrpdH6GnQlcluTQJGMbx5IkSbgEliSpuSQTgI8AewKHAieUP6AlST0syVrAMcAEYO+quqFxJEmSBppLYEmSGkryIuB6YFVgclUdbwEsSep1VXUrsA1wLHB+kg8NHXkkSZIacAksSVIDSZYAPg3sCLy1qs5oHEmSpBGRZBXgaGA1OqvgyxtHkiRp4LgEliRplCXZAbgBGAusbwEsSepnVXU7nRc9PwH8MMnnkizaOJYkSQPFJbAkSaMkybLAkXQemrNvVf28bSJJkkZXkuXo/Cx8Hp2fhee3TSRJ0mBwCSxJ0ghLx6501r9/BKZYAEuSBlFV/bmqdgcOAb6b5OtJlmydS5KkfmcJLEnSCEoyCTgd+ADwyqp6Z1Xd3zaVJEltVdWPgPWBOcANSXZsHEmSpL5mCSxJ0ggYWv/uC1wLXANsWFWXtU0lSVL3qKp7q+oA4I3AF5J8f+i4CEmSNMwsgSVJGmZJ1gTOA/YFtqmqD1fVQ41jSZLUlYbOBZ4C3A5MT7JbkjSOJUlSX7EEliRpmCQZm+RQ4DLgTGDzqpreOJYkSV2vqv5RVe8CdgTeC/woydMbx5IkqW9YAkuSNAySrA9cTOeX182q6j+ranbjWJIk9ZSqugLYGLgcuDrJAUn8vVWSpAWUqmqdQZKknpVkYeB9wEHA/wOOqao5bVNJktT7kqwHHAs8COxbVbc0jiRJUs/yFVVJkuZTkk2Bq+gsljaoqq9bAEuSNDyq6kbgBcAZwCVJ3pVkXONYkiT1JJfAkiTNoySLAh8F3gAcApxY/kCVJGnEJFkD+AawBLB3VV3fOJIkST3FJbAkSfMgydbA9cBKwOSq+r4FsCRJI6uqfgO8BDgaOC/JR5Ms0jiWJEk9wyWwJElzIcmSwGeB7YC3VNWPG0eSJGkgJVkZOAp4Jp1V8KWNI0mS1PVcAkuS9BSS7AjcAMwB1rcAliSpnaq6E3g18BHgB0m+kGSxxrEkSepqlsCSJD2BJMsl+T7wBWCPqjqgqu5tnUuSpEFXHScD6wPLAtOTvKRxLEmSupYlsCRJ/yIduwHTgduBKVU1rW0qSZL0r6rqnqraAzgI+GaSY5Ms1TiWJEldxxJYkqRHSfJ04EfAe4Edq+pdVfWPxrEkSdKTqKqf0FkFPwTcmORVbRNJktRdLIElSQKSjElyAHA1cBmwcVVd0TiWJEmaS1X196o6EHg98JkkJydZoXUuSZK6gSWwJGngJXkm8HPgTcBWVfWxqvpn21SSJGl+VNUvgOcAvwGuT7JHkjSOJUlSU6mq1hkkSWoiyTjgEOA9wMeBL1fV7LapJEnScEmyEXAscCdwQFX9vnEkSZKacAksSRpISaYAlwAvAzatqiMtgCVJ6i9VdRWwCXARcFWSA5P4e7AkaeC4BJYkDZQkiwD/D3gLnYe/fbP8YShJUt9Lsg6dVfBsYJ+q+u/GkSRJGjW+AipJGhhJNgeuAaYAz6mqYy2AJUkaDFV1M/BC4BTgoiTvHToaSpKkvucSWJLU95IsBhwB7AK8HTjV8leSpMGVZHXg68AywN5VdW3TQJIkjTCXwJKkvpbkJcB04GnA+lV1igWwJEmDrap+R+e5AF8GfprkiCTj26aSJGnkuASWJPWlJEsB/wm8hM7TwM9qm0iSJHWjJCsBXwXWobMKvrhxJEmShp1LYElS30nyKuBG4EFgsgWwJEl6IlV1V1XtDLwfODXJl5JMbJ1LkqThZAksSeobSVZIcjLwGeD1VfXWqvp761ySJKn7VdVUYH1gCeCGJC9tHEmSpGFjCSxJ6nnp2AO4HvgN8Jyq+kXjWJIkqcdU1V+q6k3A/sDXk3wrydMax5IkaYFZAkuSelqSVYGfAO8Etq+q91bVA41jSZKkHlZV5wCTgZl0VsH/0TiSJEkLxBJYktSTkoxJ8lbgauCXwCZVdVXjWJIkqU9U1X1V9TbgdcARSU5NsmLrXJIkzQ9LYElSz0nybOACYHfghVX1iap6uHEsSZLUh6rqQuC5wK+A65O8KUnappIkad6kqlpnkCRpriQZBxw29M9HgKOqanbbVJIkaVAk2QD4JvAnYP+q+l3bRJIkzR2XwJKknpDkucBlwDbAxlX1ZQtgSZI0mqrqGmBTYBpwZZK3JfH3aklS13MJLEnqaknGAx8A9gXeDXyn/OElSZIaS7I2cAwQYJ+qurlxJEmSnpCvWEqSulaSFwDXAmsDU6rq2xbAkiSpG1TVDGBL4ATgl0kOT7JQ41iSJD0ul8CSpK6TZCLwCeA1wNuqamrjSJIkSU8oyWrA14AVgL2r6urGkSRJegyXwJKkrpLkpcANwBLA+hbAkiSp21XVbcB2wBeAs5J8MsmExrEkSXqES2BJUldI8jTgP4Gt6Txt+5zGkSRJkuZZkhWArwBT6JwV/MvGkSRJcgksSWovyX/QWf/OBCZbAEuSpF5VVX+sqtcC7wNOTPLVJIu3ziVJGmyWwJKkZpKslGQqcATw2qp6W1Xd1zqXJEnSgqqq04D1gfHADUm2axxJkjTALIElSaMuHW8CrgNmAM+tqovappIkSRpeVfXXqtob2Bs4Ksl3kyzTOpckafBYAkuSRlWS1YFzgLcDL62q/1dVD7ZNJUmSNHKq6lxgMvAXOqvg1yZJ41iSpAFiCSxJGhVJxiR5G3Al8HPgeVV1bdtUkiRJo6OqZlbVwcDOwEeA05Ks1DaVJGlQWAJLkkZcknWAXwKvA15QVZ+qqocbx5IkSRp1VXUJsAGdh+Jel2QvV8GSpJGWqmqdQZLUp5IsBLwLOAT4EHB0Vc1pm0qSJKk7JHkOcCzwN2C/qvpN20SSpH7lEliSNCKSbAhcAbwQ2LiqjrIAliRJ+j9VdR2wGZ3nJVye5OAkYxvHkiT1IZfAkqRhlWQCndXvm4HDgOPKHzaSJElPKsmzgG8ACwN7V9VNjSNJkvqIS2BJ0rBJ8kLgWmANYEpVfc8CWJIk6alV1a+ArYHvABck+UCShRvHkiT1CZfAkqQFlmRx4FPAq4CDquoHbRNJkiT1riRPB74GTKKzCr6ycSRJUo9zCSxJWiBJtqPzdOvxwPoWwJIkSQumqv4A7AB8BjgzyWeSLNo4liSph7kEliTNlyTLAF8AtqDzNOtzG0eSJEnqO0mWB74IbAzsU1UXNI4kSepBLoElSfMkHa+js/69B5hsASxJkjQyqupPVfV64J3A8Un+K8kSrXNJknqLJbAkaa4lWRk4DfgwsHNVHVJV97dNJUmS1P+q6ofA+sBY4IYkOzSOJEnqIZbAkqSnNLT+3Ru4FpgObFBVl7RNJUmSNFiq6m9VtR/wJuBLSY5LsmzjWJKkHmAJLEl6UknWAH4GvAXYtqo+WFUPNY4lSZI0sKrq58AU4I90VsG7JknjWJKkLmYJLEl6XEnGJjkYuBw4B9isqq5rm0qSJEkAVXV/Vb0TeCXwAeD0JJMax5IkdSlLYEnSv0myHnAR8Gpg86r6bFXNahxLkiRJ/6KqLgM2BK4Brk2yr6tgSdK/SlW1ziBJ6hJJFgbeA7ydzqLk61U1p20qSZIkzY0kk4FjgZnAvlX168aRJEldwiWwJAmAJJsAVwKbARtW1dEWwJIkSb2jqqYDmwNnApclOTTJ2MaxJEldwCWwJA24JIsCHwb2BA4FTih/OEiSJPW0JGsB3wAWBfauqhsaR5IkNeQSWJIGWJIXAdcBTwcmV9XxFsCSJEm9r6puBV5M53iI85N8aOjoL0nSAHIJLEkDKMmSwKeBHYC3VtUPG0eSJEnSCEmyCvBfwOp0VsGXt00kSRptLoElacAk2QG4gc7PgPUtgCVJkvpbVd0O7AQcAfwwyX8OHQkmSRoQlsCSNCCSLJfkeOBLwJ5VtV9V3ds6lyRJkkZedZwIrA+sCExPsnXjWJKkUWIJLEl9Lh27AtOBu+mc/fvzxrEkSZLUQFX9T1XtDrwD+G6Srw8dFSZJ6mOWwJLUx5JMAs4A3g+8sqreWVX/aBxLkiRJjVXVj+msgucANyTZsXEkSdII8sFwktSHkuwFvBB4BfBV4BNV9c+2qSRJktSNkmwFHANcC0ygMx6Y1TCSJGmYWQJLUp9JsirwG+AfwOur6szGkSRJktTlhh4U93PgecAXq+rgtokkScNpXOsAkqRhV8BU4GzggsZZJEmS1AOq6h9JDqdzJ9mvW+eRJA0vl8CSJEmSJEmS1MdcAkvSPJowYcLdDz744Aqtc8yt8ePH//GBBx5YsXUOSZIkdb9euNb1+laS5p1LYEmaR0mql/7uTEJVpXUOSZIkdb9euNb1+laS5t2Y1gEkSZIkSZIkSSPH4yAkaRgdd9xxjBs3jkUWWYRVV12VBx54gLPPPpvtttuOsWPHstlmmz3ysXPmzGHMmMe+Fvfxj3+cffbZh4suuoi//OUvrL322tx000286lWv4owzzmCVVVZh++2358477+TYY49llVVWYbXVVmObbbYZ7W9VkiRJA+pfr3nPP/98tt12W2bOnDlX17xHH300iy22GM94xjO4/fbb2XXXXZk2bRp33nknr371q5kwYcJof0uS1PdcAkvSMNpyyy256qqrWHrppZk0aRKbbbYZ6623HpMmTXrkY0466STOOOMM/v73v3P22Wdz9tln85e//AWALbbYAoDZs2ez5JJLctddd7HDDjtw6623ctdddzFnzhwArrrqKp75zGey8sorc999943+NypJkqSB9a/XvJMmTeK+++6b62vemTNnct999z1y7QuwzDLLMGbMGB566KFR/34kaRBYAkvSMPrfFcSdd94JwAUXXMBWW231mI959rOfDXRWEbNmzWLWrFn877lrN954IzfeeCNjxozh3nvvZcUVV+TMM8/k6U9/OmussQazZs1ixowZ/PWvf2X69Oksv/zy/OY3v2H27Nmj+n1KkiRpcP3rNe9yyy3HLbfc8piPebJr3okTJ7LIIos8cu07Y8YMllpqKaqK3//+96P7zUjSgPDBcJI0j+bmYRkzZsxgzpw5rLvuugBcd911TJw4kTXXXHM0Ij6GD86QJEnS3JqXB8O1uub1+laS5p1nAkvSCFh77bUf8/5yyy3H0ksv/cj7v/71rx/34vi4444D4A1veAM333wz559/PltuuSXnnnsue+yxB6eeeiobbLABm2666ch+A5IkSdJTWGKJJR5zjftEBfCjr3EB9t9/f4444ghOO+00VllllUfugttll11GJ7gkDSBLYEkaQccffzxXXXUVO+20E3fffTf/+Mc/WHPNNbnrrrtYc801ueCCC3jggQeYPHkykyZNYuGFF37k311nnXW49NJLHymQZ86cyYwZMx5ZWkiSJEktLMg17k033cRqq61GEu666y5WXnll1lhjDS688MKG35Ek9T/PBJakEfbo2+m233577rrrrkfenz179mPOR3vooYf45z//yYwZMzjnnHO45557ePDBB1l66aW55ZZbWHvttbnttttG/XuQJEmSHm1+r3Hvuusu7rvvPu6///5Hnnnx61//mgkTJoz69yBJg8QzgSVpHs3rOWk//OEPefe73z3CqZ6YZ6ZJkiRpbs3t8y9aXuN6fStJ884SWJLm0byUwI/nxBNPZNddd33Kj7v77rs55phjeN/73sdZZ53FLbfcwnLLLcdaa63FQgstxCWXXMLrXvc6pk6dytprr83WW2/9RHm9SJYkSdJcGa1r3T/+8Y+ce+65rL/++lxwwQVss802nH322Wy77bbMmjWLSy65hIMOOuiJMnp9K0nzyDOBJWmYHHnkkWy11VZceOGFTJw4kX/+85/MnDmT5ZdfnjXXXJPTTz+dKVOmMHbsWE444QRuv/32RwrdHXfckTvuuIPp06czYcIEXvSiF7Hiiiuy1lprMXbsWFZeeWVWX311Jk6cyN13381GG23EFVdcwfLLL88SSyzBlltu2frblyRJUh8b7mvdFVZYgYceeoiZM2fy17/+lQcffJBJkyZx3333scUWW3DFFVe0/pYlqa94JrAkDZP11luPK6+8koUXXpg77riDJZZYgg033JCXvOQl3HbbbST/N1Z44IEHWGeddXjWs57FtddeC3TOVZs1axazZ88G4N577+Waa67hT3/6EzfddBPrr78+N954IzfeeCPf/va3GTduHLNnz6aqGDt2bItvWZIkSQNiuK91b7/9dpZeemnmzJnDMsssw2233cZyyy3HLbfc8phrXUnS8PA4CEmaR/N7i9zc3ho33LxdTpIkSXOrF651vb6VpHlnCSxJ82hBz0kbbV4kS5IkaW71wrWu17eSNO88E1iShsm0adNYe+21WXHFFZ/yY4866ij22GMPjjjiCD71qU9x/fXXc9FFF1FVbLDBBmy++ebsv//+fPzjH+e0005jvfXWY4sttgDgwgsv5L//+7+ZOHEiiy22GJttthmnnXYaq6yyCuPGjeOKK65g9dVX58UvfvFcZZEkSZKezHBc5y677LLceeedTJkyhVtvvZXtttuOVVZZBYAzzjiDqmLZZZfl9ttvZ4011uDXv/41r3jFKzjvvPNYYokluOaaa3jnO9850t+qJPUtS2BJmk8nnngiSVh88cW57LLL2HrrrZk2bRpbbbUV06dPZ9q0aWyxxRZst912TJ8+nTvuuINJkyYxefJknva0p7H44ovz3Oc+F4DbbruNpZdemvHjx3Pfffdx0003sdpqq/GrX/2KV7ziFVx00UWPfN3NN9+cm2++mZVWWok///nPJOGuu+5i5ZVXZoMNNmDOnDmMHz++0Z+KJEmSet1IXOf+4x//4G9/+xurrbYad955JzfccMMjJfBmm23GJZdcwhZbbMGJJ57IVVddxQorrMCsWbMYP348c+bMYdKkSQ3/RCSp9/lgOEmaT4svvjhVxcyZM7n//vsBWGmllTj77LN5+OGHWWaZZVhhhRUAmDNnDrNmzWLOnDmP/PsPP/ww11xzDbfeeit//vOfufXWW1l++eW55ZZbuOuuu7jvvvtYddVVOfPMM1lppZU499xzAfjc5z7HsssuyworrMCf//xn7r//ftZYYw1mzZrF+eefzzbbbDP6fxiSJEnqGyNxnTthwgQmTpzI2LFjmTlzJuussw4333wzAB/96Ed5+tOf/shDkNddd10efPBBbrrpJmbPns2sWbNG/w9BkvqMZwJL0jwajnPSzjrrLLbaaismTJgwTKke67zzzmPjjTdmySWX9Mw0SZIkzbUFvdYdqevc0047jZ133hnwTGBJmh+WwJI0j3rhYRmP5kWyJEmS5lYvXOt6fStJ884zgSVpHo0fP/6PSVZonWNujR8//o+tM0iSJKk39MK1rte3kjTvXAJL0ghKMhG4HPhsVX1rAT/X+4GXA1tX1cPDkU+SJEmaH0n2Ag4DNq2qmQvweVYArgL2q6qfDFc+SdJjWQJL0ghJEuAE4P6q2mcYPt8Y4EfAjKp654J+PkmSJGl+JHku8DNgy6q6eRg+3xbAVOB5VfW7Bf18kqR/N6Z1AEnqY28F1gbeNhyfrKrmAHsAOyf5j+H4nJIkSdK8SLIUncL2oOEogAGq6kLg08ApSRYZjs8pSXosl8CSNAKSbAb8ENisqn4zzJ97Y+AnwBZV9avh/NySJEnSExm6M+0HwG1V9fZh/twBTgH+XFVvGc7PLUlyCSxJwy7JcsDJwD7DXQADVNWVwAeAqUkWG+7PL0mSJD2BdwHL0zkLeFhVZ6G2F7BNkj2G+/NL0qBzCSxJwyjJWOAs4Oqqeu8Ifp0A3xl6d8/yL3NJkiSNoCRbAScCm1TVH0bw60wGfg5sU1XTR+rrSNKgcQksScPrg8BCwPtH8osMlb4HABsA+43k15IkSdJgS7IScDywx0gWwABDxe+hwKlJlhjJryVJg8QlsCQNkyQvB44BNqqqP47S13wWcBGw3dAxEZIkSdKwSbIQcB7ws6r62Ch+3aOBZYHXetebJC04l8CSNAySrAZ8G3j9aBXAAEMPhnsLnScpP220vq4kSZIGxieAmcARo/x1DwZWH3orSVpALoElaQElWQT4JXBSVf1nowyfB54N7FhVc1pkkCRJUn9J8mrgC3TudLunwddfHbgM2LmqLhrtry9J/cQSWJIWUJKvAisCr2l1q9rQbXrnA2dV1WivNCRJktRnkjyTzrFjO1TVFQ1z7AAcTaeI/lOrHJLU6yyBJWkBJNkN+DCdpyTf2zjLJOAKOg/sOK9lFkmSJPWuJIsClwBHV9V/dUGejwObAy+tqtmt80hSL7IElqT5lGQ9YBrw4qq6vnEcAJJsQ+fJzRtX1R2t80iSJKm3JAnwTWAhOuOC5qVBkrHAOcBlVfX/WueRpF7kg+EkaT4kWRyYChzWLQUwQFX9HPgycPLQERGSJEnSvNgb2ATYvxsKYICh9e9uwBuTvKJ1HknqRS6BJWkeDa0jTgL+VlX7tc7zr5KMAc4Abq2qQ1rnkSRJUm9IsiGdxe0WVfXfrfP8qyTPB34AbFZVv22dR5J6iUtgSZp3bwfWHHrbdapqDvBG4JVJXts6jyRJkrpfkqWBU4EDu7EABqiqi4FPAqcmGd86jyT1EpfAkjQPeml9kGQj4Gy6dMkhSZKk7vCoO8l+XVUHN47zpB51V95fq2r/1nkkqVe4BJakuZRkeToXnHt3ewEMUFVXAYcDU5Ms1jqPJEmSutZ7gGWAd7cO8lSGzineG3hRkj1b55GkXuESWJLmwqOeSHx5VR3eOs/cGlpKfAsYR5c83VmSJEndI8nWwAnAJlV1e+s8cyvJesA04MXd9KBmSepWLoElae58mM7fmR9snGOeDJW+BwKTgQMax5EkSVIXSTIJOJ7OWKBnCmCAqroROJjOXW9LNo4jSV3PJbAkPYUk2wNfAzauqj+2zjM/kjwTuAjYoaquaJ1HkiRJbSVZCDgfOKuqjmidZ34lOQpYAXiNd71J0hNzCSxJTyLJ6nSOU9i1VwtggKq6hc4S+JQky7TOI0mSpOY+BfwN+GTjHAvqEODpwKGtg0hSN3MJLElPIMkiwIXACVX1hdZ5hkOSzwHrAq+oqjmt80iSJGn0JfkP4HPARlX1l9Z5FlSS1YDL6ayBf9k6jyR1I0tgSXoCSf4LWBZ4Xb/cWjZ029/PgZ9W1cda55EkSdLoSvIsOkOH7avqytZ5hkuS7YBv0DnC7e7WeSSp23gchCQ9jiR7ANsAe/dLAQxQVQ8DuwBvSbJt6zySJEkaPUkWA6YCH+inAhigqs4Cvgl8P8m41nkkqdu4BJakf5FkMp217DZVNb11npGQZCvg+8CmVfWHtmkkSZI00pIE+M7Qu3v209DhfyUZC5wFXFVV72udR5K6iUtgSXqUJEsApwKH9msBDFBV04AvAicnWbhxHEmSJI28/YANgAP6sQAGqKrZwO7A7kl2ap1HkrqJS2BJGjK0jjgF+J+qOqB1npGWZAxwOvDbqnpH4ziSJEkaIUk2prOQfUFV/ap1npGWZHPgDGCzqvpN6zyS1A1cAkvS/zkYWH3obd+rqjnAnsArkuzSOo8kSZKGX5Kn0Rk6vGUQCmCAqroE+BhwapIJrfNIUjdwCSxJQJIXAKcBz6uq3zWOM6qSbAD8FNiyqm5unUeSJEnDY+jOrx8B/11Vh7bOM5qG7vI7Abi/qvZpnUeSWnMJLGngJVkeOBHYa9AKYICqugZ4LzA1ycTWeSRJkjRs3gcsCbyndZDRNnTu8b7AC5K8uXUeSWrNJbCkgTb0BOGfApdU1ftb52kpyTeB8cDu/fqwEEmSpEGR5MXA94BNquqO1nlaSbIucAGwbVVd2ziOJDXjEljSoPsoUMCHWgfpAm8F1gUObB1EkiRJ8y/JJOA44A2DXAADVNVNwNvpnA+8VOM4ktSMS2BJAyvJK4CjgI2r6k+t83SDJGsBFwM7VtVlrfNIkiRp3iRZCJgG/LiqPtk4TtdI8hVgErCzd71JGkQugSUNpCTPAI4FdrEA/j9VdSuwH3BykmVb55EkSdI8+wzwF+DTrYN0mXcCKwOHtQ4iSS24BJY0cJKMBy4CvltVX2ydpxsl+QwwBdihqma3ziNJkqSnluS1dMrfjarqr63zdJskqwKXA6+rql+0ziNJo8kSWNLASfJ1Ok9J3tVbwR5fknHAecDPq+ojrfNIkiTpySVZG/gl8LKqurp1nm6V5GXAN+kcCXdX6zySNFo8DkLSQEmyJ7AlsI8F8BOrqlnArsB+QxfKkiRJ6lJJFgNOBQ63AH5yVXUO8A3gxKHhgyQNBJfAkgZGkil01q1bVdWNrfP0giQvAk4CNq2q37fOI0mSpMdKEuB7wCzgzQ4dnlqSscBPgGur6j2t80jSaHAJLGkgJFkSmAocbAE896rqAuDzdB4Ut3DrPJIkSfo3BwCTgQMtgOfO0DMvdgd2TfLK1nkkaTS4BJbU94bWEacCf6yqA1vn6TVDf36nAbdX1dta55EkSVJHkk2AM4EXVNUtrfP0miTPA34EPL+qbm2dR5JGkktgSYPgUODpwCGtg/SioUXJm4HtkuzWOo8kSZIgyTLAKcABFsDzp6ouAz4CnJpkQus8kjSSXAJL6mtJXkhnBbxpVd3WOk8vS/Ic4FzgRVV1U+s8kiRJgyrJGODHwE1VdVjrPL1s6K6344EHq2qv1nkkaaS4BJbUt5KsCHwfeJMF8IKrquuAdwNTkyzeOo8kSdIA+3/A4sD7WgfpdUN3ve0HbJZk79Z5JGmkuASW1JeSjAN+Bvyyqj7YOk8/SXIMMBF4vQ8fkSRJGl1JtgW+A2xcVXe2ztMvkqwD/AJ4aVVd0zqPJA03l8CS+tXHgIfpnPGl4fU24NnAQa2DSJIkDZIkTwe+C+xmATy8qupmOte3pyZZqnEcSRp2LoEl9Z0kOwFfATaqqj+3ztOPkqwBXArsVFWXts4jSZLU75IsDFwAnFFVn2qdp18l+RKwGvDqqprTOo8kDRdLYEl9JcmawCVYTo44y3ZJkqTRYzk5Oh5Vtp9eVZ9unUeShoslsKS+kWQCcDHwzar6cus8gyDJp4ANge2qanbrPJIkSf0oya7AEXRefP9b4zh9b+jYjSuAXatqWuM4kjQsLIEl9Y2hB5YtRueMNP9yGwWPegDfL6rqQ63zSJIk9RsfWNbGox7At1FV3dU6jyQtKB8MJ6kvJHkz8AJgXwvg0VNVs4DXA3sneXnrPJIkSf0kyURgKvBeC+DRVVU/A44GTkqyUOs8krSgXAJL6nlJnktnjfqiqrqpcZyBlOSFwCnA86rqttZ5JEmSel2SAMcDD1bVXq3zDKIkY4AzgRuq6l2t80jSgnAJLKmnJVkKOBV4uwVwO1X1S+CzwClJFmmdR5IkqQ8cCKwLvLV1kEE19AC+NwCvTfLq1nkkaUG4BJbUs4bWEacBd1TVQa3zDLqh/z1OBe6uKn9ZkSRJmk9Jngf8CHh+Vd3aOs+gS7IJnUXwC6rqltZ5JGl+uASW1MsOA1YG3tk6iGDoLOa9gG2T7N46jyRJUi9KsixwMrCfBXB3qKorgA8BU5Ms2jqPJM0Pl8CSelKSLelcHG9aVb9vnUf/J8kU4Dxgq6q6sXUeSZKkXpFkLJ3F6fVV9e7WefR/hu56+x4wC3izD6OW1GtcAkvqOUlWAr4P7GkB3H2q6no6K+2pSRZvnUeSJKmHvB+YABzeOogea6j03R/YGNincRxJmmcugSX1lCTj6KxMz6+qDzeOoyeR5OvAUsAuLiUkSZKeXJKXAd8ENq6qu1rn0eNL8mzgQuBlVXV16zySNLdcAkvqNZ8AHgQ+1jqIntLbgTWH3kqSJOkJJFkV+A6wmwVwd6uq/wYOBE5NsnTrPJI0t1wCS+oZSV4FfBHYqKr+p3EczYUkzwAuBV5dVRe3ziNJktRtkiwC/AKYWlWfaZ1HcyfJkXQGD6+sqjmN40jSU7IEltQTkqwFXAzsWFWXtc6juZfkFcB/0Snv/9Q6jyRJUjdJ8hVgErCzR2j1jiQLA9OAH1XVJxvHkaSnZAksqeslmQBcAnyjqr7aOo/mXZJPAJvSOTttdus8kiRJ3SDJbsBH6ZwD/LfGcTSPkqwCXEHnGI/zW+eRpCdjCSyp6yX5JjAe2N11RG8aeqDfT4GLquoDrfNIkiS1lmRd4ALgJVV1Xes8mj9JXgJ8F9ikqu5onUeSnogPhpPU1ZLsDWwG7GcB3LuqahbweuDNSbZvnUeSJKmlJIsDU4F3WwD3tqo6FzgKOCnJQq3zSNITcQksqWsl2YDOenTLqrq5dR4tuCQvAE4DnldVv2scR5IkadQlCfB9YGZV7dM6jxZckjHAj4AZVfXO1nkk6fG4BJbUlZIsBZwKHGQB3D+q6iLgU8CpSca3ziNJktTAQcCzgbe1DqLhUVVzgD2AnZO8pnUeSXo8LoEldZ2hV9J/ANxWVW9vnUfDa2j9cjJwT1Ud0DqPJEnSaEmyGfBDYLOq+k3rPBpeSTYGzgJeUFW/ap1Hkh7NJbCkbvQuYHngsNZBNPyGznbeG9g6yR6t80iSJI2GJMvReSF8Hwvg/lRVVwLvB6YmWax1Hkl6NJfAkrpKkq2AE+k8XfcPbdNoJCWZDPwc2KaqprfOI0mSNFKSjKWzEL26qt7bOo9GztBdb98ZendPH24tqVu4BJbUNZKsDJwA7GEB3P+Git9D6ZwPvETrPJIkSSPoQ8BCdFai6mNDpe8BwAbAfo3jSNIjXAJL6gpJFqKzCv1ZVX20dR6NniRHA8sCr3UpIUmS+k2S7YBvABtX1d2t82h0JHkWcBGw3dAxEZLUlEtgSd3ik8BM4OOtg2jUHQysPvRWkiSpbyRZDfg28HoL4MEy9GC4twCnJHla6zyS5BJYUnNJdgY+D2xUVfe0zqPRl2R14DJg56q6qHEcSZKkBZZkEeBC4KSq+lzrPGojyeeBZwM7VtWc1nkkDS5LYElNJXkmcDGwQ1Vd3jqP2kmyA3A0nRcD/tQ6jyRJ0oJIchSwIvAfHnk1uIaOvTsfOKuqjmidR9Lg8jgISc0kWRSYCnzQAlhVdSadJyl/f+gJ2pIkST0pye7AtsCbLYAHW1U9DOwCvDXJi1vnkTS4XAJLaiJJgG8B44A9vDgWwFD5ew5wWVX9v9Z5JEmS5lWS9YBpwIur6vrGcdQlkmwDHE/nAYF3tM4jafC4BJbUyj7AxsD+FsD6X1U1G9gN2CPJK1rnkSRJmhdJFqdzp9thFsB6tKr6OfAl4OShIyIkaVS5BJY06pJsSGftuUVV/XfrPOo+STYHTgc2q6rfNo4jSZL0lIbudDsJ+FtV7dc6j7pPkjHAGcCtVXVI6zySBotLYEmjKsnSwKnAgRbAeiJVdQnwCeDUJONb55EkSZoLbwfWHHor/ZuqmgO8EXhlkte1ziNpsLgEljRqHvXK96+r6uDGcdTlhtY0JwL3uqaRJEndLMnzgR/gXUyaC4+6M/KFVTWjdR5Jg8ElsKTR9F5gGeDdrYOo+w2dFb0PsGWSPVvnkSRJejxJlqdzDMTeFsCaG1V1NXA4nbveFmudR9JgcAksaVQkeTFwHLBJVd3eOo96h0/YliRJ3SrJWDqLzsur6vDWedQ7hu56+xYwDtjDh2VLGmkugSWNuCST6BTAe1gAa15V1Y3AwcDUJEs2jiNJkvRoH6Hze/UHWwdRbxkqfQ8EJgMHNI4jaQC4BJY0opIsBJwPnF1VH2+dR70ryVHACsBrXEpIkqTWkuwAfA3YqKr+2DqPelOSZwIXATtU1RWt80jqXy6BJY20TwP3Ap9oHUQ97xDg6cChrYNIkqTBlmR14JvArhbAWhBVdQudJfApSZZpnUdS/3IJLGnEJHkN8Fk664i/tM6j3pdkNeByOmvgX7bOI0mSBk+S8cCFwAlV9fnWedQfknwOWBd4RVXNaZ1HUv+xBJY0IpI8i85tTdtV1ZWt86h/JNkO+AawcVXd3TqPJEkaLEmOBpYFXusRVRouQ8fo/Rz4aVV9rHUeSf3H4yAkDbskiwFTgfdbAGu4VdVZdG6//H6Sca3zSJKkwZFkD2BrYC8LYA2nqnoY2AV4S5JtW+eR1H9cAksaVkkCfGfo3T29ONZISDIWOAu4qqre1zqPJEnqf0km01lqblNV01vnUX9KshXwfWDTqvpD2zSS+olLYEnDbT9gA+AAC2CNlKqaDewG7JZkp9Z5JElSf0uyBHAqcKgFsEZSVU0DjgROTrJw2zSS+olLYEnDJsnGdNaZL6iqX7XOo/6XZDPgDGDzqvpN6zySJKn/DN3pdgrwP1V1QOs86n9D/82dDvyuqt7ROI6kPuESWNKwSLIMnXXEWyyANVqq6lLg48DUJBNa55EkSX3pEGB14OC2MTQohu6o3BN4RZJdW+eR1B9cAktaYEnGAD8GZlTVoa3zaLAMLSVOAO6vqn1a55EkSf0jyRZ0Hnj8vKr6XeM4GjBJNgB+CmxZVTe3ziOpt7kEljQcDgeWAN7TOogGz9BSYl/gBUne3DqPJEnqD0lWAE4E9rIAVgtVdQ3wXjp3vU1snUdSb3MJLGmBJHkJ8D1g46q6o3UeDa4k6wIXANtW1bWN40iSpB6WZBydBebFVfX+1nk02JJ8ExgP7O7DtyXNL5fAkuZbklXoFMC7WwCrtaq6CXg7cGqSpRrHkSRJve2jwBzgQ62DSMBbgXWBA1sHkdS7XAJLmi9JFgamAT+uqk80jiM9IslXgEnAzi4lJEnSvEqyI3AUsFFV/al1HgkgyVrAxcCOVXVZ6zySeo9LYEnz6zPAPcCnWgeR/sU7gZWBw1oHkSRJvSXJGsCxwC4WwOomVXUrsB9wcpJlW+eR1HtcAkuaZ0leR6f83aiq/to6j/SvkqwKXA68rqp+0TqPJEnqfknGAxcB36uqIxvHkR5Xks8AU4Adqmp26zySeoclsKR5kmRt4JfAy6vqqtZ5pCeS5GXAN+k8tPCu1nkkSVJ3S/J1YCk6K2B/UVZXGnpo4XnAz6vqI63zSOodHgchaa4lWQw4FTjcAljdrqrOAb4OnDh0sSxJkvS4kuwJbAnsYwGsblZVs4Bdgf2GRg+SNFdcAkuaK0kCfA+YBbzZi2P1giRjgJ8A11XVe1rnkSRJ3SfJFDrLyq2q6sbWeaS5kWRL4GRg06r6fes8krqfS2BJc+sAYDJwoAWwekVVzQHeAOya5FWN40iSpC6TZElgKnCwBbB6ydBzL/4TOCXJIq3zSOp+LoElPaUkmwJnAs+vqlta55Hm1dB/wz+m89/wra3zSJKk9obudDsNuKuqDmydR5pXj/pv+I6qOqh1HkndzSWwpCeVZBk6txntbwGsXlVVlwMfAU5NMqF1HkmS1BXeCUwCDmkdRJofQ3dovhl4eZLdWueR1N1cAkt6QkPnqZ4J3FhVh7XOIy2IoaXE8cCDVbVX6zySJKmdofNUT6FznuptrfNICyLJc4BzgRdV1U2t80jqTi6BJT2Z9wMTgfe1DiItqKGlxH7AZkn2bp1HkiS1kWRF4PvAmyyA1Q+q6jrg3cDUJIu3ziOpO7kElvS4krwU+DawcVXd2TiONGySrAP8AnhpVV3TOo8kSRo9ScbRWUz+oqo+2DqPNJySHENnxPN6H+Yt6V+5BJb0b5I8HfgusJsFsPpNVd0MHETnfOClGseRJEmj6+PAP+k8K0DqN28Dnk3nWleSHsMlsKTHSLIwnZXk6VX1qdZ5pJGS5EvAasCrq2pO6zySJGlkJdkJ+AqwUVX9uXUeaSQkWQO4FNipqi5tnUdS97AElvQYQ8XY6sCrLMbUz4Ze8LiAzgsen26dR5IkjZwkawKXAK+sqkta55FGki94SHo8lsCSHpFkV+AIOucA/7V1HmmkDR19cjmdc9OmNY4jSZJGQJIJwMXAN6vqy63zSKMhySeBjYDtqmp26zyS2rMElgT4sCwNriTbAt/BhyBKktSXhh6WtRid5134C7AGwtBDEH8K/LKqPtQ6j6T2fDCcJJJMBKYC77UA1qCpqp8B/wWclGSh1nkkSdLwSfJm4AXAvhbAGiRVNQt4PbB3ku1a55HUnktgacAlCXA88GBV7dU6j9RCkjHAj4Gbquqw1nkkSdKCS/Jc4GfAi6rqpsZxpCaSvBA4Fdi0qm5rnUdSOy6BJb0VWHforTSQhh6CuAfwmiQ7t84jSZIWTJKl6BRfb7cA1iCrql8CnwFOTbJI6zyS2nEJLA2wJJsBPwSeX1W3ts4jtZZkE+BM4AVVdUvrPJIkad4N3en2A+D2qjqodR6ptaH/T5wK/LGqDmydR1IbLoGlAZVkWeAkYD8LYKmjqq4APgRMTbJo6zySJGm+vAtYCXhn6yBSNxg6D3sv4CVJdm+dR1IbLoGlAZRkLPAT4LqqenfrPFI3GVpKfA+YBbzZh8hIktQ7kryIztBh06r6fes8UjdJMgU4D9iqqm5snUfS6HIJLA2mDwDjgcNbB5G6zVDpuz+wMbBP4ziSJGkuJVkJOAHY0wJY+ndVdT1wGJ273hZvnUfS6HIJLA2YJC8HjgU2rqq7WueRulWSZwMXAi+rqqtb55EkSU8syTg6C8fzq+rDjeNIXS3J14GlgF28600aHC6BpQGSZFXg28BuFsDSk6uq/wYOpPMk5aVb55EkSU/qE8CDwMdaB5F6wNuBNYfeShoQLoGlAZFkEeAXwKlV9dnWeaRekeQLwFrAK6tqTus8kiTpsZK8CvgisFFV/U/jOFJPSPIM4FLg1VV1ces8kkaeJbA0IJJ8BZgE7OwtP9LcS7IQMA34cVV9snEcSZL0KEnWAi4GXlFVl7fOI/WSJDsAR9N5AeVPrfNIGlmWwNIASLIb8FE65wD/rXEcqeckmQRcCbyhqs5rnUeSJEGSCcAlwDeq6qut80i9KMkRwPPoPAdjdus8kkaOJbDU55KsC1wAvKSqrmudR+pVSV4MHEfnxZQ7WueRJGnQJfkmMB7Y3TvdpPmTZCzwU+CSqnp/6zySRo4PhpP6WJLFganAuy2ApQUztAD+CnDS0BERkiSpkSR7A5sB+1kAS/NvaP37emDPoeMhJPUpl8BSn0oS4ETgvqrap3UeqR8kGQP8EPhVVR3aOo8kSYMoyYbAOcCWVXVz6zxSP0jyAuA04HlV9bvGcSSNAJfAUv96G/CsobeShkFVzQHeCLw6yWta55EkadAkWRo4BTjIAlgaPlV1EfAp4NQk41vnkTT8XAJLfSjJ5sAZwGZV9ZvWeaR+k2Rj4CzgBVX1q9Z5JEkaBEN35JwO/K6q3t44jtR3hu4mPRm4p6oOaJ1H0vByCSz1mSTLAScB+1gASyOjqq4E3g9MTbJY6zySJA2IdwPLAYe1DiL1o6HztfcGtk6yR+s8koaXS2Cpjww92fVs4Kqqem/rPFI/G1pKfGfo3T19KI0kSSMnydbA94FNquoPrfNI/SzJZODnwDZVNb11HknDwyWw1F8+BIyjs1CUNIKGSt8DgA2A/RrHkSSpbyVZGTge2MMCWBp5Q8XvoXTOB16idR5Jw8MlsNQnkmwHfAPYuKrubp1HGhRJngVcBGw3dEyEJEkaJkkWorNI/FlVfbR1HmmQJDkaWBZ4rXe9Sb3PJbDUB5KsBnwbeL0FsDS6hh4MdwBwSpKntc4jSVKf+SRwH/Dx1kGkAXQwsNrQW0k9ziWw1OOSLAJcCJxYVf/ZOo80qJL8J7AO8IqqmtM6jyRJvS7JzsDngY2q6p7WeaRBlGR14DLgP6rqwsZxJC0AS2CpxyU5ClgBeI236EjtPOp21XOqyrWSJEkLIMkz6Ry3tENVXdE6jzTIkmwPfJ3OCzJ/bJ1H0vzxOAiphyXZHXgJsJcFsNRWVT0M7AIcmOQlrfNIktSrkiwKTAU+ZAEstVdVPwG+BXw/ybjWeSTNH5fAUo9Ksh4wDXhxVV3fOI6kIUm2Bk4ANqmq21vnkSSplyQJnbJpHLCHQwepOyQZC5wNXFFVh7fOI2neuQSWelCSJYDTgMMsgKXuUlXnA18CTk6ycOs8kiT1mH2AjYH9LYCl7lFVs4HdgDck2bF1HknzziWw1GOG1hEnA3+tqv1a55H075KMAc4Afl1VBzeOI0lST0iyEZ2l4RZV9d+t80j6d0k2B04HNq+q3zSOI2keuASWes87gDWAt7cOIunxVdUc4I3ATkle1zqPJEndLsnTgFOBAy2Ape5VVZcAnwBOSTK+dR5Jc88lsNRDkrwA+AHwvKr6bes8kp5ckg2Bc4AXVtWM1nkkSepGQ3fQ/BC41TtopO43dHfqicC93p0q9Q6XwFKPSLI8nR+0e1kAS72hqq4GDgdOTbJY6zySJHWp9wJPA97dOoikpzZ0Xvc+wJZJ9mydR9LccQks9YChJ7GeA1zuk1il3uJTziVJemJJXgwcB2xSVbe3ziNp7iVZD5gGvNgHlkvdzyWw1Bs+AgT4YOsgkubNUOl7IDAZOKBxHEmSukaSSXQK4DdYAEu9p6puBA4GpiZZsnEcSU/BJbDU5ZLsABwNbFRVf2qdR9L8SbIWcDHwiqq6vHUeSZJaSrIQcD5wVlUd0TqPpPmX5KvAysDO3vUmdS+XwFIXS7I68E1gVwtgqbdV1a3A/sDJSZZpnUeSpMY+DfwN+GTjHJIW3KF0SuB3tg4i6Ym5BJa6VJLxwIXA8VX1hdZ5JA2PJJ8F1gd2qKo5rfNIkjTakrwG+CydO93+0jqPpAWXZDXgMuB1VfWL1nkk/TtLYKlLJTkaWIbOD1H/jyr1iSTjgJ8D51bVR1vnkSRpNCV5FnARsF1VXdk6j6Thk+TlwLF0XuC5u3UeSY/lcRBSF0qyB7A1sLcFsNRfqmoWsAuwf5KXts4jSdJoSbIYMBV4vwWw1H+q6mzgGODEoeGDpC7iEljqMkkm01kJblNV01vnkTQykmwFnAhsUlV/aJtGkqSRlSTAd4EC9nToIPWnJGOBnwDXVNV7W+eR9H9cAktdJMmSdNYRh1oAS/2tqqYBXwBOSbJw4ziSJI20/YHnAgdYAEv9q6pmA7sDuyXZqXUeSf/HJbDUJYbWEacCf66qA1rnkTTyhv5/fzpwW1W9vXEcSZJGRJKNgbOAF1TVr1rnkTTykmwG/BDYvKp+3TqPJJfAUjc5BFgNOLhxDkmjZGgJtSewQ5JdW+eRJGm4JVmGztDhLRbA0uCoqkuBjwGnJpnQOo8kl8BSV0iyBZ1jIJ5XVb9rHEfSKEuyAfBTYMuqurl1HkmShkOSMcCPgRlVdWjrPJJG19BdbycA91fVPq3zSIPOJbDUWJIV6Dwc6s0WwNJgqqprgPcAU5NMbJ1HkqRhcjiwBJ2fcZIGzNBdb/sCz0+yV+s80qBzCSw1lGQcnfXfRVX1gdZ5JLWV5FhgUWA3H5ojSeplSV4CfBfYuKrubJ1HUjtJ1gF+AWxbVdc2jiMNLJfAUlsfBWYDH26cQ1J3OAhYG3hr6yCSJM2vJKsA3wN2twCWNHTc2dvonA+8VOM40sByCSw1kmRH4KvARlX159Z5JHWHJGsClwA7DT1QQ5KknpFkYWAa8KOq+mTjOJK6SJIvA08HXu1db9LocwksNZBkDeAYYBcLYEmPVlW/pnN22klJlm2dR5KkefQZ4B7g062DSOo67wRWBN7VOog0iFwCS6MsyXjgIuC7VfXF1nkkdacknwaeC2xfVbMbx5Ek6SkleR3wKTp3uv21dR5J3SfJqsDldAZRF7TOIw0SS2BplCX5OrAksKu3wEh6IkMPjjwXmFZVH24cR5KkJ5VkbeCXwMuq6urWeSR1ryQvBb5F58GRd7XOIw0Kj4OQRlGSNwFbAvtYAEt6MlU1C9gV2DfJy1vnkSTpiSSZCEwFDrcAlvRUquqnwNeBE4eGD5JGgUtgaZQkeQ6dVd9WVXVj6zySekOSLYGTgU2r6vet80iS9GhJAhwHPAy82aGDpLmRZAzwE+D6qnp36zzSIHAJLI2CJEsCpwIHWwBLmhdV9QvgP4FTkizSOo8kSf/iLcD6wIEWwJLmVlXNAd4A7JLkVY3jSAPBJbA0wobWEacBd1XVga3zSOo9j/p75I6qOqh1HkmSAJJsCpwJPL+qbmmdR1LvGfp75Md0/h65tXUeqZ+5BJZG3juBScAhrYNI6k1Dy6o3Ay9PslvrPJIkJVmGznFF+1sAS5pfVXU58BFgapJFW+eR+plLYGkEPeosz+dV1W2t80jqbZ4tLknqBkNneZ4J3FBV72qdR1Jve9TZ4v8E9vJoGWlkuASWRkiSFYHvA2+yAJY0HKrqOuBddJYSi7fOI0kaWO8HFgPe1zqIpN43VPruB2wK7N04jtS3XAJLIyDJODprvQuq6kOt80jqL0m+ASwB7OpSQpI0mpK8FPgWsHFV3dU6j6T+kWRt4JfAy6rq6tZ5pH7jElgaGR8HHgI+2jqIpL70NuCZQ28lSRoVSZ4OfBfY3QJY0nCrqhnAW4FTkizdOo/Ub1wCS8MsyU7AV4ANq+p/WueR1J+SrAFcCryyqi5pnUeS1N+SLAz8AvhBVX26dR5J/SvJF4FnAK+qqjmt80j9whJYGkZJ1gQuAXaqqktb55HU35LsCHwV2Kiq/tw6jySpfyX5ErAanVLGXyIljZihF52mAT+sqk81jiP1DUtgaZgkmQBcDHyzqr7cOo+kwZDkk8DGwMuranbrPJKk/pNkV+AIOi86/q1xHEkDIMkqwBXw/9n783ir6jPf9/080ksnIo0gAoJII52m0QSNGhNjE02Mxl667MquW7XPqZNTp05OVe17XpWkzt6ve1N1s/fOtpJKaFQ0GMUuRrFFE4wmNoC0SiNLaRYIKALSLdZz/xhjrSwQ1ppzzTHGb4w5v+/Xa78ocTLnd2X/eBzzN57fM7jV3ReFziNSDbQJLJIQM/sl0VOSb1V3hIhkJX4Q5TPAYnf/f4fOIyIi1cXMxhCNgfiquy8JnUdEaoeZfQW4m+hBlFtC5xEpOj0YTiQBZjYD+CLwH7QBLCJZcvcG4BZghpldGTqPiIhUDzPrASwAvq8NYBHJmrs/C/wb8ICZdQqdR6To1AksUiEzmwQ8C3zJ3VcFjiMiNcrMLgIeAj7n7nWh84iISLGZmQH3A/vdfUboPCJSm8zsJOAJYJW7/23oPCJFpk5gkQqY2SlEmy7/izaARSQkd/898P8BHjKzLqHziIhI4f0VMCb+VUQkCHdvBO4AbjCz60PnESkydQKLtFPcHfEI8L67/6fQeURE4rr0ELDd3f8ydB4RESkmM7sAeBz4gruvC51HRMTMPgs8CXzR3d8JnUekiNQJLNJ+/wcwEPjfQwcREQGIZ5JPB75sZreHziMiIsVjZqcBDxA960IbwCKSC+7+GvCfiU69nRw6j0gRqRNYpB3M7EtEF8efc/f3QucREWnJzMYDLwCXuvuK0HlERKQYzKwDUafdUnf/P0PnERFpKT71dg/QCEzTQ9lFyqNOYJEymdnpRA/JuFMbwCKSR+6+nOiUwgIz6xU6j4iIFMZ/BroA/xA6iIjIseJN3/8InA/8h8BxRApHncAiZTCzjsDzwAvu/k+h84iItMbMfg6cCnxbnRIiItIaM/saMAs4393rQ+cRETkRMzsHWAx8zd3fCJ1HpCjUCSxSnv8H2A/8MHQQEZES/K/AWfGvIiIix2VmZwJzgVu0ASwieefubwN/CTxoZqeGziNSFOoEFimRmX0D+G9E3RE7AscRESmJmQ0HXgWud/eXQ+cREZF8MbMuwO+Ah9z9/xs6j4hIqczs/wecDVzr7o2h84jknTaBRUpgZiOBPwDXuPufQucRESmHmV0N/IzoJtb20HlERCQ/zOynwGCim4X6cigihWFmnYAXgd+6+/8TOI5I7mkTWKQNZtYNeAX4hbv/z9B5RETaw8z+Gfg8cIW7HwmdR0REwjOzW4EfAJ9x948CxxERKZuZDQZeB2539+dD5xHJM20Ci7TCzAyYTfSU5NvUHSEiRWVmHYBngFfc/R9D5xERkbDMbBxRB93l7r4scBwRkXYzsy8D84huaG0OnUckr/RgOJHWzSTqnPsLbQCLSJHF3b+3AFPj8RAiIlKjzKwnsAD4O20Ai0jRxR3APwV+HY+IEJHjUCewyAmY2XnA08BF7r4mdB4RkSSY2ReBh4EL3P3d0HlERCRb8Um3+cDH7v4fQucREUmCmZ0EPA6sdff/LXQekTxSJ7DIcZhZH+BB4K+0ASwi1cTdXwb+C/CQmXUNnUdERDL3n4Cz419FRKqCuzcCdwDXmdmNofOI5JE6gUWOEd9BfBR4193/18BxREQSF3eBPQB86O7fDZ1HRESyYWYXAo8RnQbZEDqPiEjSzOx8YCEwxd3fDp1HJE/UCSzyaX8HnAb8H6GDiIikIZ5x/h3gEjO7M3QeERFJn5n1I7oBOFMbwCJSrdz9DeAfgAVm1j10HpE8USewSAtmdilwP/BZd98UOo+ISJrM7FxgEXCZuy8PnUdERNJhZh2IOuNed/f/K3QeEZE0xafe5hI1Pt6ph7yLRNQJLBIzs0HAfUT/kdAGsIhUPXdfAfxvRJ0SvUPnERGR1PzfQAfgP4cOIiKStnjT9y+BiYBGn4nE1AksAphZJ+AF4Bl3/2HoPCIiWTKzfwP6AzeoU0JEpLqY2ZXAL4Dz3X1b6DwiIlkxs1HAYuAqd389dB6R0NQJLBL5L8Ae4J9DBxERCeBvgDOJuoJFRKRKmNlQoiPRt2gDWERqjbu/A/xH4CEz6xs6j0ho6gSWmmdm1wP/StQdsTN0HhGREMxsGPBH4FvuvjhwHBERqZCZdSHqgJvv7v8SOo+ISChm9i/AGOAad28MnUckFG0CS80ys17AZOBB4Gp3fy1wJBGRoMzsKuDfgRuBN9z9UOBIIiLSDvGDP/9fwAA06kdEalyL8Y/PAr929zWBI4kEoU1gqVlm9n3g/wJ+6e7/e+g8IiJ5YGb3AVcBf+3u94XOIyIi5TGzk4B9wG6ik26bA0cSEQnOzMYTnY742N2HhM4jEoJmAkstuxnoCiwPHUREJEeWAD2BO0IHERGRdhlDdI37LrA/cBYRkbz4GNgEnGFmXUOHEQlBncBSs8xsLLDV3T8MnUVEJE/MbBDQxd3fDZ1FRETKY2YGXODur4TOIiKSJ3F9vNDd/xA6i0gI2gQWERERERERERERqWIaByEiIiIiIiIiIiJSxTqGDiAC0K1bt/oDBw4MCJ3jeLp27bpt//79A0PnEBGpVJ5r7bFUe0WkWuS19qrOiki1yWu9BdVcyQeNg5BcMDPP61o0M9zdQucQEalUnmvtsVR7RaRa5LX2qs6KSLXJa70F1VzJB3UCS67NmzePjh070qVLF84880wWLVrEV77yFfbu3UuHDh244IILml/b2NjISScdPeHkhz/8ITfddBPbt2/n7bffZubMmaxcuZJXX32VL3zhC9xzzz381V/9FatWrWLHjh3ceuutWf+IIiK5oHorIpKdY2vuvn37WL9+PaNGjSqp5i5cuJDdu3fTsWNH3n//ff7mb/6G+vp6fvnLX/L3f//3/PSnP+Wyyy5jyZIlDBkyhEsuuSTjn1BEJB+Orbf79+9n4cKFXHnllSXV2x/96Ed85zvf4eWXX2bXrl1ceumlPPHEE3znO9/hueeeo1evXlx22WVs2bKFWbNmccYZZzB06FAuu+yyrH9UkTZpJrDk2sUXX8wbb7xBnz59GDx4MIMHD2bPnj0MHjy4+TUPPPAAjz32GB9//DELFy5k4cKF7Nq1C4BBgwaxZ88eLrzwQhobGwFYuXIlM2fOZPny5c3vN2XKFI4cORLkZxQRyQPVWxGR7Bxbc8866yx2795dcs0dNmwYe/bsYdiwYWzevJkDBw4wcOBARo4cybZt2/jwww85cOAAq1ev5tChQ6F+TBGR4I6ttxdccAHjxo0rud5OmTIFgCNHjtC7d29GjhzJwIED6dGjB127dm2+7n3jjTc4++yzm6+JRfJIm8CSa02daFu2bAGgX79+rF279qjXnHPOOUB0166hoYGGhgaajoA0vf7HP/4xp512GmvWrGHs2LHMnj2bcePGceaZZ/LOO+/wgx/8gCFDhmT7w4mI5IjqrYhIdo6tue+88w7du3c/6jWt1dz169fTrVs3OnTowLBhw9i4cSO7d+9myZIldOjQgb59+1JXV8fo0aOpq6vL9ocTEcmRY+vtSy+99KnTEa3V25UrV7Jy5UpOOukkdu/eTX19PUuWLKGuro4jR47Q0NDAmjVr+PDDD1m+fDn9+/dnw4YNanqQXNJMYMmFtmb3rFmzhsbGRsaOHQvAsmXL6NGjByNGjMgim2b3iEhVKGVOWsh625Jqr4hUi9Zqr65xRUSSk9d6G2dTzZXgtAksuVDOAPctW7bQp08funXrBkSdEMcr3PPmzQPg9ttvB+C73/0u//Iv/9I8t6ehoYHXXnuNf/iHf2grm4q1iFSFch+W0Z56u3r1ahYtWsSdd97Jj370I/7rf/2vPPbYY7g73/jGN8rJqtorIlWh1NpbyTXuP/7jP7Jo0SIGDBjAa6+9xne+8x0GDmz9IfSqsyJSbbK41n333Xd56qmnuOmmm3j88ccZM2bMUXOFW8mmmivB6cFwUhj33Xcfb7zxBtdeey319fV88sknjBgxgq1btzJixAheeukl9u/fz/jx4xk8eDCdO3du/rOrVq1i6NChR83tmTx5cvP8HhER+bNK6u2YMWN49dVX6dSpE5MmTQLgggsu4JVXXgn004iI5FsS17h9+/alT58+rFmzpnl+pYiIHF8ldbdpJntDQwOHDx8O+FOIlE8zgaVQWt7Vu+qqq9i6dWvzPzfN42l6zcGDBzl06BBr1qxh69at7Nmzhy1btjS/btGiRXpip4jICbS33j799NPs3LmTQ4cOsWTJEjZu3Kg5wCIibaj0GveDDz7gwIEDTJ48uXl+pYiInFh76+66desYMGAAO3bswMzYvHlz5tlF2kvjICQXSp1T+fjjj/N3f/d3GaWK6NiGiFSLUo/Ihaq3Lan2iki1KOXZF7rGFRGpXJ6vdVVzJQ+0CSy5UO7sniypWItItchzrT2Waq+IVIu81l7VWRGpNnmtt6CaK/mgcRBSePPnzy/pdXV1ddxzzz1s2LCB//7f/zsrVqxg3rx5vPrqqzz55JPcddddNDQ0pJxWRKS4Sq239fX1/OhHPwJg0aJFzJ8/nx//+McsW7aMpUuX8stf/pLt27fzb//2byxatCjNyCIihVVuzd2/fz8///nPWbBgAXfffTf//u//zurVq/nbv/1b9u3bl3JaEZFiK7fmNjY2Nu8r3Hvvvbz44ovMmTOHF154IeWkIu2nB8NJbv3kJz/hkksuYfHixfTo0YNDhw6xd+9e+vfvz4gRI3j00UeZMGECHTp04P7772fTpk2MHDmSTp068fWvf53NmzezfPlyunXrxpe+9CWGDh1Kz5496dChAx9++CEHDhxgypQp1NfXs3fvXiZMmMD27dsZNGhQ6B9dRCRTSdfbgQMHMnLkSIDmjYfBgwezZ88epkyZwpo1a+jfvz+9evXi4osvDvmji4hkLq2a261bN8444wyWLVvGKaecwieffMKYMWOYMGEC3bt3D/1ji4gEkVbN3bZtW/O+wurVqxkwYACDBg1iz549oX9kkRNSJ7Dk1rhx43j99dfp3LkzmzdvplevXpx33nlcfvnl1NXVYfbnkxT79+9nzJgxjBo1iqVLlwLRoPeGhgaOHDkCwFtvvcWbb75Jt27d6Nu3L3V1dc0PzujRowfLli2jf//+IX5UEZGgkq63u3fvZsmSJWzfvp09e/awefNm+vXrx9q1a9mwYQNLlizhyJEjuDsdOnQI8SOLiASTZs1taGho3vTt0qULe/bs4ZRTTgnwU4qI5ENaNbdDhw7N+wqjR4+mrq6O/v37s2HDhubXiuSNZgJLLrRnds/8+fO5+eabU0r0Z5rdIyLVor1z0rKqty2p9opItSi39uoaV0SkfbSvINI6bQJLLmiAu4hI+vJca4+l2isi1SKvtVd1VkSqTV7rLajmSj5oHITk2osvvkh9fX1Jr73rrrvYs2cP3//+9wF45pln+Od//mcWLFjAk08+yaJFi/jFL37Bpk2bmv/Mz372M+69917279/P9773PdatW8dPfvIT9u3bx89+9rNUfiYRkTyppM4+9thjPProo7zxxht873vfY+PGjfzTP/0Ty5cvb35Nk8WLFzN//vzm17z77rvMmTOHV199lZ///Of86U9/4r777is5i4hIkVVSe3/0ox9RX1/P4sWLmTVrFs8//zyzZs2irq6u+c80XePeddddvPLKK83XwXV1dbrGFZGa056a++ijj/LCCy80X6c2Xcs22bt3b3NdXrhwIQ888AALFizgF7/4BQDf/e53ta8guaMHw0muzJ8/HzOjZ8+e/PGPf+TSSy/lxRdf5JJLLmH58uW8+OKLTJkyhSuvvJLly5ezefNmBg8ezPjx4zn11FPp2bMnkyZNAmDy5Mk0Njby2muvMX78eEaPHs2WLVtYsWIFZ5xxBhAV7sbGRhYtWsT555/PyJEjGThwIN27d9f8NBGpSknW2QsuuIBXXnmF888/n5UrVzJs2DCGDx/O+PHjm1/TZMqUKcyfP7/5NYMHD+bw4cMArFmzhrFjxzJ48OCM/9cQEclGkrV3ypQpAFx44YWsXr2ak046ibq6Ojp2/PNXu6Zr3KaHFI0cOZItW7awevVqXeOKSNVLouZ27dqVxsbG5uvUiy666KhN4B49ejTX5WHDhrF48WJ69epF7969WbVqFUOHDtW+guSOOoElV3r27Im7s3fv3uYnyp9++uksXLiQw4cP07dvXwYMGABAY2MjDQ0NNDY2Nv/5w4cPs2TJEjZu3MiiRYu47LLLGD16NJs2baJDhw7s3buXMWPGsHr1aiAq3F26dGHfvn2sWLGC9957jyVLluiJniJStZKssz/4wQ8YMmQIa9euZfTo0bg7HTt2POo1zz33HEDzgzibXrN27VrMjM2bNzc/TENEpFolWXub6umPf/xjTjvtNI4cOcKoUaPYuHHjp65x+/fvz9q1a+nUqRN79+7lvPPOy/6HFxHJWKU1d9euXRw5coSGhobm69Sm2vvCCy/Q2Nh4VF1ev3493bp146STTmL37t1s3bqVPXv26ISb5I5mAksuJDG756mnnuKSSy6hW7duFefZt28fixcv5oorrtDsHhGpGpXW2iTr7PE8//zzfOYzn6F3796qvSJSNfJUe3WNKyLVTPsKIq3TOAjJha5du24zswGhcxxP165dt4XOICKShDzX2mOp9opItchr7VWdFZFqk9d6C6q5kg/qBJZCM7OpwA3u/vVWXvOvwH53/4fskomIVB8zmwOscPd/aeU1bwL/p7s/m10yEZHqYmYnAeuAG939jRO8ph+wFhjq7ruzzCciUk3MbDjwJ+AMdz94gtdcS3SN+8VMw4kkSDOBpehmALPbeM1sYKqZdcggj4hIVTKznsA3gHvbeOlsotosIiLt9yVgD/DmiV7g7h8AzwE3ZxVKRKRKTQPuP9EGcOwp4CwzG51NJJHkaRNYCsvMzgbOAZ5o7XXuvgLYDFyRRS4RkSp1E7DI3be38br7gSvN7NQMMomIVKuZwKwShlvOil8rIiLtEDeLTaeN5jJ3Pwzcg5odpMC0CSxFNh2YFxfjtqgzTUSkMqWcvMDddxF1StyaeiIRkSpkZqcA1wD3lfDyZ4BBZjY+1VAiItXry8B2d19WwmvnAHeaWaeUM4mkQpvAUkhm1hGYSgkbErH5wOXx7DQRESmDmY0BhgELS/wj6kwTEWm/W4Cn3X1nWy909yPAXNTsICLSXjOJrl3b5O5riOa1X5VqIpGUaBNYiuoK4D13X1XKi+OHZTwO3J5qKhGR6jQDuNvdG0p8/QtAHzObnGImEZFqVdLJixbmALeZWeeU8oiIVCUz60u0t/CrMv6YThlLYWkTWIqq5Lt1LcwCZpqZpZBHRKQqxcfd7qCMDQl3byTalFA3sIhIGcxsAjCA6IFvJXH39cBK4Nq0comIVKnbgCfc/aMy/syvgYvN7PR0IomkR5vAUjhmNgC4lKj4luN3QFfgs4mHEhGpXtcA77j72jL/3FzgZjPrmnwkEZGqNROYG495KIc600REyhA3h82kvJMXuPte4GGiJgmRQtEmsBTR7cCj7v5xOX8ofrrybNSZJiJSjhmUf/ICd68D3gS+mXgiEZEqZGZdiB6qOacdf3wBcIGZnZFsKhGRqnUe0BN4sR1/VqeMpZC0CSyF0uJuXdkbErG7gRvN7OTkUomIVCczGwR8EXionW8xC3WmiYiU6jpgmbu/W+4fdPdPgAeIHpwsIiJtmwnMjseYlesVoBH4QrKRRNKlTWApms8DHYCX2/OH3X0zUcG+IclQIiJV6k7gIXff184//xgw2cyGJRdJRKRqlftAuGPNBmaYmb7jiYi0wsy6ATcRNYmVTaeMpah0gSBF03S3zit4j1moWIuItCo+edGuURBN3P0AcD8wPalcIiLVyMzOJHpuxSMVvM3rwD7gS4mEEhGpXtcDf3L39yt4j3uA682sZ0KZRFKnTWApDDPrTtTBe0+Fb/UEMNrMzq48lYhI1ZoCHAb+VOH7zAamm1mHyiOJiFStqcB8d9/f3jdo0ZmmMTwiIq2r9OQF7r6NaJ7wt5MIJJIFbQJLkdwI/N7dt1byJu5+CJiHOtNERFozE5hV4ckL3H0p8AHw5SRCiYhUm3h8Q0UnL1qYB3zdzE5J4L1ERKqOmZ0FTAAeT+DtdMpYCkWbwFIkFd+ta2E2MNXMOib0fiIiVcPMehE9oGheQm+pzjQRkRO7BNgNLKn0jdx9B/AscHOl7yUiUqWmAfe5+8EE3uspYLiZjUngvURSp01gKQQzGwWMAn6bxPu5+0rgfeCKJN5PRKTK3AS84O7bE3q/+4GvmVnfhN5PRKSaJHLyogV1pomIHEc8nmwayZy8wN0biB4up2YHKQRtAktRTAfudffDCb6nOtNERI4vyZMXuPuHwJPArUm9p4hINTCzPsDVRDfLkvIsMNDMJiT4niIi1eByYJu7L0/wPecAd5hZpwTfUyQV2gSW3ItHNkwlwQ2J2Hzgy2bWP+H3FREpLDMbC5wJPJ3wW88CZpqZJfy+IiJFdguw0N13JvWG7n4EmIuaHUREjjWThLqAm7j728Baoht6IrmmTWApgiuBje6+Osk3dfePgceA25N8XxGRgpsJ3B0fb0vSIqA3MDnh9xURKbKZJN/oAFFn2m1m1iWF9xYRKRwzOw34KlEzWNJ0ylgKQZvAUgRJPS35eNSZJiISM7PORDfGEt+QcPdGok0JzakUEQHMbBJwGvB80u/t7huA5cC1Sb+3iEhB3Qb8xt0/SuG9HwQuMrPTU3hvkcRoE1hyzcwGED0x+dcpfcTvgc7A51J6fxGRIrkGWOPu61J6/7nAzWbWLaX3FxEpkhnA3Hh8QxrUmSYiAsRNX2mdvMDd9wILgDvTeH+RpGgTWPLuDuARd9+TxpvHT2GejTrTREQg3ZMXuPt7wOvAN9P6DBGRIjCzrkQPy5yT4scsAD5nZkNS/AwRkSI4H+gOvJTiZ8wCZuiUseSZNoElt1rcrUttQyJ2N3CDmXVP+XNERHLLzAYDXwAeSvmjZqHONBGR64Al7r4xrQ9w9/3AA0QPWBYRqWUzgdnxeLK0vAocAb6Y4meIVESbwJJnFwAG/CHND3H3LfFn3JDm54iI5NydwIPu/knKn/MYMNHMhqf8OSIieTaDlI4lH2M2UWeavveJSE0ys5OBbxM1f6VGp4ylCHQxIHnWdLfOM/isWahYi0iNik9epDoKoom7HwTuB6an/VkiInlkZkOJjiY/ksHHvQHsIXrGhohILboe+KO7b8rgs+4FvmlmvTL4LJGyaRNYcsnMegDfAu7J6CN/C5xjZqMy+jwRkTy5CDgIvJbR580GpplZh4w+T0QkT6YC8939QNof1KIzTWN4RKRWZXXyAnffBiwi6jwWyR1tAkte3Qj8zt3rs/gwdz9EdNdOnWkiUotmArMyOnmBuy8DtgOXZ/F5IiJ5EY9lmE4GJy9amAdcY2anZPiZIiLBmdkI4Fzg8Qw/VqeMJbe0CSx5ldnduhZmA1PNrGPGnysiEkx8XO1aok2CLKkzTURq0aXAR+6+JKsPdPedwDPALVl9pohITkwD7oubvrKyEBhqZmMz/EyRkmgTWHLHzM4BRgJPZvm57r4KqAO+luXniogEdjPwvLt/kPHn3g9cYWZ9M/5cEZGQZpJtF3ATdaaJSE2Jx45NI+Oa6+4NRA+hU7OD5I42gSWPZgD3uvvhAJ+tzjQRqTUzyf7kBe7+EdE89tuy/mwRkRDMrA9wFdFNsKw9B/Q3s4kBPltEJISvAlvdfUWAz54D3GFmnQJ8tsgJaRNYciUukncSYEMi9gBwmZkNCPT5IiKZMbNzgcHA04EizAJmmpkF+nwRkSzdCjzl7ruy/mB3PwLMRc0OIlI7ZhDm5AXu/g7wNnBNiM8XORFtAkveXAlscPc1IT7c3T8GHgVuD/H5IiIZmwHcHW8OhPAi0BM4L9Dni4hkKcjJixbmAreaWZeAGUREUmdm/YCvAPMDxtApY8kdbQJL3gS7W9eCOtNEpOqZWWeiG15zQmVw98b48zWnUkSqmplNBvoCz4fK4O4bgLeA60JlEBHJyG3A4+6+O2CGB4EpZjYoYAaRo2gTWHLDzAYCXyIqliEtBjoCnw+cQ0QkTV8HVrn7usA57gZuMrNugXOIiKRpBjAnvvkVkjrTRKSqxc1coU9e4O77gIeIxl2K5II2gSVP7gAedvc9IUO4uxP9B0OdaSJSzfJw8gJ3fw94Dbg+dBYRkTSYWVfgFgKevGjhYeCzZnZm6CAiIin5DNANeCl0EKJr7Rk6ZSx5oU1gyYW83K1r4R7gBjPrHjqIiEjSzGwwcCGwIHSWmDrTRKSafQNY4u51oYO4+36iByFPDZ1FRCQlM4lOXnjoIMAfgQZgSuggIqBNYMmPC+Nf/xA0RczdtxCNhbgxdBYRkRRMBX7t7p+EDhJ7DJhgZmeFDiIikoJcnLxooakzTd8FRaSqmNnJwLeJHoQZXLwRPQudMpac0H/4JS9mArNycreuiYq1iFSd+Et/rjYk3P0gcB8wPXQWEZEkmdlQ4Dzg0cBRWnoT2A1cGjqIiEjCvgW84u6bQwdp4V7gG2bWK3QQEW0CS3Bm1oNoFuS9obMc47fA2WY2KnQQEZEEXQTsB14PHeQYs4FpZtYhdBARkQRNA37l7gdCB2nS4vkXGsMjItVmBvkZMQmAu28HXgBuCp1FRJvAkgffBl5y9/rQQVpy98NEG9O6QBaRapLHkxe4+1tAPfCV0FlERJIQn7yYTo5OXrRwH3C1mfUJHUREJAlmNgIYB/wmdJbj0CljyQVtAkse5OmBcMeaDdxpZh1DBxERqZSZ9QauBeaFznIC6kwTkWryZWCXuy8NHeRY7r4TeBq4JXQWEZGEzADmufuh0EGO42lgiJmNCx1Eaps2gSUoMxsNnAU8GTrL8bj7amAjcGXgKCIiSbgZeNbdd4QOcgK/Ar5qZqeFDiIikoBczV8/DnWmiUhViMeJTSWnzWXu3gDcjZodJDBtAktoM4B74qKYV+pME5FqkeeTF7j7R8ATwG2Bo4iIVMTMTiVqIrg/dJZWPA/0M7NJoYOIiFToCmCzu68IHaQVc4Dbzaxz6CBSu7QJLMGYWSfgTnK8IRF7ALjUzAaEDiIi0l5mNh4YBDwTOksbZgEzzcxCBxERqcCtwJPu/mHoICfi7keINiXU7CAiRZf3kxe4+1pgDXBN6CxSu7QJLCFdBaxz97dDB2mNu+8BHgHuCJ1FRKQCM4C58Zf+PHsJ6AGcHzqIiEgFcn3yooW5wK1m1jV0EBGR9jCzfsDlRM1beadTxhKUNoElpNzfrWtBnWkiUljxsbPbiDq+cs3dG4kukDWnUkQKycwmA32AF0JnaYu7vwssBa4LHEVEpL1uBx5z992hg5TgIeALZjY4dBCpTdoEliDM7HTgYuDB0FlK9DLR35cLQgcREWmHa4GV7r4+dJAS3Q3cZGYnhw4iItIOM4E58U2tIlBnmogUUtykVZSTF7j7PqKN4DtDZ5HapE1gCeUOYIG77w0dpBTu7qgzTUSKq0gnL3D394E/AteHziIiUo54rMLNRGMWiuIR4DNmNjR0EBGRMn0W6AL8LnSQMswCZuiUsYSgTWDJXNHu1rVwD/AtM+sROoiISKnM7AyiUwwPh85SJnWmiUgRfRN4093rQgcplbvvB+YDU0NnEREpU9PJCw8dpAx/Ag4BF4UOIrVHm8ASwheBRuCV0EHK4e5bgd8DN4bOIiJShmnAA+7+SeggZXocONfMRoQOIiJShpkU6ORFC7OA6Wam74ciUghm1p3ou/ndobOUI96wnoVOGUsA+o+8hDADmFWwu3VNZqHONBEpiPjL/HQKuCHh7geB+4g2sUVEcs/MhgGTgEeDBmkHd38T+Ai4NHAUEZFSfQv4g7tvDh2kHe4FrjOzXqGDSG3RJrBkysx6Eh2Tuzd0lnZ6EjjbzM4JHUREpARfAvYBb4QO0k6zgWlm1iF0EBGREkwH7o9vYhWRnn8hIkVSxBGTALj7B8DzRDPkRTKjTWDJ2reBF919W+gg7eHuh4lmA6sbWESKoMgnL3D35cBW4Kuhs4iItCa+WVXIkxct3AdcZWZ9QgcREWmNmZ0NjAaeCJ2lAhoJIZnTJrBkrbB361qYDdxpZp1CBxEROREzOwX4OtGX+iLTA+JEpAi+DHzg7stCB2kvd98FLARuDZ1FRKQN04F57n4odJAKPAOcYWbnhg4itUObwJIZMxsDDAOeChylIu6+BtgAXBk6i4hIK24GnnH3HaGDVOhXwFfMrF/oICIirZhBsbuAm6gzTURyzcw6AlMpeHOZuzcAc1Gzg2RIm8CSpRnAPXGxKzp1polI3lXDyQvcfTfwG+C20FlERI7HzPoCXyO6aVV0zwN9zWxy6CAiIidwBfC+u68MHSQBc4Dbzaxz6CBSG7QJLJmIRyfcQRVsSMR+DXzJzAaGDiIiciwzmwAMBJ4NnSUhs4CZZmahg4iIHMetwG/d/cPQQSrl7o1EmxJqdhCRvKqWkxe4+zpgFdEIN5HUaRNYsnI1sNbd3wkdJAnuvgd4hGhjW0Qkb2YAc939SOggCfkdcDLwmdBBRERaim9OVcXJixbmAreYWdfQQUREWjKz/kQz2B8InSVBOmUsmdEmsGSlau7WtaDONBHJHTPrQjQ6YU7oLEmJO9NmozmVIpI/k4HewKLQQZLi7huBJcA3wiYREfmU24FH3f3j0EES9BBwoZkNDh1Eqp82gSV1ZnY6cBFRcasmf4h/vTBoChGRo10LLHf3DaGDJOxu4NtmdnLoICIiLcwE5sQ3q6qJOtNEJFeq9OQF7v4J8CDRw+5EUqVNYMnCVOAhd98bOkiS3N1RZ5qI5M9Mqu/kBe6+CXgV+FboLCIiAGbWDbiZaHxCtXkEOM/MhoYOIiIS+zzQGfh96CApmAXMMDPt0UmqtMAkVfHduhlU2d26Fu4BrjezHqGDiIiY2RDgs8DDobOkRJ1pIpIn3wRed/f3QgdJmrsfAOYD0wJHERFpMgOYHTdjVZvXgANEJ6hFUqNNYEnbFKCBqHur6rh7PdEDi74dOouICNGX9QfcfX/oICl5HBhnZiNCBxERoUpPXrQwC5iuzjQRCc3MugM3EI0HqzrxxvYsdMpYUqb/oEvaZgCzqvRuXZNZqDNNRAKLv6RPp4o3JNz9EDCP6OcUEQnGzIYDE4DHQmdJi7svAXYBl4XOIiI17wbgZXffEjpIiuYB15pZ79BBpHppE1hSY2a9iJ4qfG/gKGl7ChhhZqNDBxGRmnYJsAd4M3COtM0GpplZh9BBRKSmTQfud/eDoYOkTM+/EJE8qLoHwh3L3T8AniOaNS+SCm0CS5q+DSxy9+2hg6TJ3Q8TzQZWN7CIhFQLJy9w9xXAZuCK0FlEpDbFN6GmUeUbErH7gSvN7NTQQUSkNpnZKOAc4InQWTKgkRCSKm0CS5qq/m5dC3OAO82sU+ggIlJ7zOwU4BrgvsBRsqIHxIlISJcD2919WeggaXP3XUSn3m4NnUVEatZ04N64+araPQMMMrPxoYNIddImsKTCzMYCQ4GFobNkwd3XAOuAq0JnEZGadAvwtLvvDB0kI/OBy82sX+ggIlKTZlDF89ePQ51pIhKEmXUEplIjzWXufgSYi5odJCXaBJa0zADudveG0EEypM40EQmllk5e4O67gceB20NnEZHaYmZ9icbR/Cp0lgy9APQxs8mhg4hIzfkaUOfuq0IHydAc4DYz6xw6iFQfbQJL4uKRCHdQQxsSsV8DF5vZ6aGDiEjtMLOJQH+iB0nUklnATDOz0EFEpKbcBjzh7h+FDpIVd28k2pRQN7CIZK3WTl7g7uuBlcC1obNI9dEmsKThGuBtd18bOkiW3H0v8DDRBriISFZmAHPj42O15HdAV+CzoYOISG2IbzrV1MmLFuYCN5tZ19BBRKQ2mNkA4FKiZqtao1PGkgptAksaZlJjd+taUGeaiGTGzLoQPaxnTugsWXN3J7pAVmeaiGTlfKAn8GLgHJlz9zrgTeCbobOISM24A3jU3T8OHSSABcAFZnZG6CBSXbQJLIkys0HAF4GHQmcJ5BXAgS+EDiIiNeE64C13fzd0kEDuBm40s5NDBxGRmjADmBOPR6hF6kwTkUzETVUzqM2TF7j7J0Qd0FNDZ5Hqok1gSdpU4EF33xc6SAhxZ5qeoCwiWanlkxe4+2aim283hM4iItXNzLoBNxGNRahVjwKTzWxY4BwiUv0uADoCi0MHCWgWMMPMtG8nidFiksTU+t26Fu4FvmlmPUMHEZHqZWZnAp8BHgmdJTB1polIFq4HXnP390MHCcXdDwC/AqYFjiIi1W8GMDtusqpVrwOfABeHDiLVQ5vAkqSLgEPAH0MHCcnd64GXgG+HziIiVW0aMN/d94cOEthvgLFmNjJ0EBGpajV98qKFWcB0M+sQOoiIVCcz60F0yuvu0FlC0iljSYM2gSVJulv3Z+pME5HUxMfCpqOTF7j7IWAe0f8eIiKJM7OzgPHA46GzhObuS4GdwGWBo4hI9boBWOzuW0MHyYF5wNfNrHfoIFIdtAksiTCzXsA3iEYhCDwJDDezMaGDiEhVuhTYTfSkdom6JKaZWcfQQUSkKk0H7nP3g6GD5IQ600QkTTp5EXP3HcCzwC2hs0h10CawJOUm4Hl33x46SB64ewNwD+oGFpF0zABm6eRFxN1XAu8DV4TOIiLVJR57MA1tSLR0P/A1M+sbOoiIVBczGwWcDfw2dJYc0Y03SYw2gSUpM9Gx5GPNAe4ws06hg4hI9TCzPsDVRF/C5c80hkdE0vAVoN7dl4cOkhfu/iHRqbdbQ2cRkaozA7jX3Q+HDpIjzwIDzWxC6CBSfNoEloqZ2ThgCPB06Cx54u5vA2uJNmtERJJyC7DQ3XeGDpIz84Evm1n/0EFEpKrMQF3AxzMLmGlmFjqIiFSHeKzXnai57CjufgSYi5odJAHaBJYkzADujkcgyNHUmSYiSdPJi+Nw94+Bx4DbQ2cRkepgZqcBXyW6ySRHWwT0BiaHDiIiVeNKYKO7rw4dJIfmALeZWZfQQaTYtAksFTGzzsAdaEPiRB4ELjKz00MHEZHiM7NJwGnA84Gj5JU600QkSbcDv3H3j0IHyRt3byTalNCcShFJih4IdwLuvgFYDlwbOosUmzaBpVLXAKvdfV3oIHnk7nuBBUTHWkREKjUDmBsfC5NP+z3QGfhc6CAiUmzxzaQZqNGhNXOBm82sW+ggIlJsZjYQuAT4deAoeaZTxlIxbQJLpXS3rm2zgBnqTBORSphZV6KH8MwJnSWv3N2JLpDVmSYilfoM0B14KXSQvHL394DXgW+GziIihXcH8LC77wkdJMcWAJ83syGhg0hxaRNY2s3MBgMXEhUjObFXgUbgi6GDiEihXQcsdfeNoYPk3D3AjWbWPXQQESm0GcCceOyBnJg600SkIjp5URp33w88AEwNnUWKS5vAUompwIPuvi90kDyLO9Nmoc40EamMTl6UwN03Ay8DN4TOIiLFZGYnAzcRjTuQ1j0KTDKz4aGDiEhhXUi0N/Vy6CAF0HTKWHt50i5aONIuultXtnuBb5pZz9BBRKR4zGwocD7Rl21pmzrTRKQS1wN/dPdNoYPknbsfBO4HpgWOIiLFNQOYHTdPSeveAPYCXwodRIpJm8DSXhcDB4A/hQ5SBO6+DVhE1FUiIlKuacCv4mNg0rYngNFmdnboICJSSDp5UZ5ZwHQz6xA6iIgUi5n1AL5FNM5L2qBTxlIpbQJLe+luXfnUmSYiZYuPe01HJy9K5u6HgHlE/7uJiJTMzEYA44DfhM5SFO6+DPgA+HLoLCJSODcCv3f3raGDFMh9wDVmdkroIFI82gSWsplZb6IHFN0bOkvBPAUMM7MxoYOISKFcBnzo7m+GDlIws4CpZtYxdBARKZTpwH3xmAMpnTrTRKQ9dPKiTO6+A3gGuCV0FikebQJLe9wEPOfuH4QOUiTu3gDcjbqBRaQ8M9DFcdncfRXwHnBF6CwiUgzxOINpqOa2x/3AFWbWN3QQESkGMzsHGAk8GTpLAc1C+wrSDtoElvaYiY4lt9cc4A4z6xQ6iIjkn5n1Aa4i+nIt5ZuNOtNEpHRfBba4+4rQQYrG3T8CfgvcFjiKiBTHDOAedz8cOkgBPQcMMLMJoYNIsWgTWMpiZucCg4GnQ2cpInd/B3gHuCZ0FhEphNuAp9x9V+ggBfUAcJmZDQgdREQKQceSKzMLmGlmFjqIiORb3BR1J2ouaxd3PwLMRc0OUiZtAku5ZgB3x0VH2kcPiBORUs1AF8ft5u4fA48CtweOIiI5Z2b9gMuB+aGzFNiLQE/gvMA5RCT/rgQ2uPua0EEKbC5wq5l1CR1EikObwFIyM+tM9EV6TugsBfcgMMXMBoUOIiL5ZWaTgb7A86GzFJw600SkFLcDj7v77tBBisrdG4m+J6gzTUTaopMXFXL3DcBbwHWhs0hxaBNYyvF1YJW7rwsdpMjcfR/wEDA1dBYRybUZwJz4S7W032KgI3BB6CAikk/xTSKdvEjGXOAmM+sWOoiI5JOZDQQuJmqOksro+RdSFm0CSzl0ty45s4Dp6kwTkeMxs67ALejkRcXc3dEYHhFp3WeBbsBLoYMUnbu/D7wGXB86i4jk1p3Aw+6+J3SQKvAw8BkzOzN0ECkGbQJLSczsDKIuqgWhs1SJPwINwJTQQUQkl74BLHH3utBBqsQ9wA1m1j10EBHJpaaTFx46SJXQjTcROS6dvEiWu+8nehCyThlLSbQJLKWaCvza3T8JHaQaxF8yZqGjGyJyfDp5kSB330I0FuLG0FlEJF/M7GTg28DdobNUkceACWZ2VuggIpI7X4h//UPQFNVlFjDDzLS/J23SIpE2xcVEd+uSdy/wDTPrFTqIiOSHmQ0DJgOPhk1SddSZJiLH8y3gVXffFDpItXD3g8D9wLTAUUQkf2YAs3XyIlFvAh8DlwTOIQWgTWApxcXAJ0TzvSQh7r4deAG4KXQWEcmVacCv3P1A6CBV5gngHDMbFTqIiOSKTl6kYzbR8y86hA4iIvlgZj2J5oXfEzpLNdEpYymHNoGlFLpblx51polIs/jkxXR08iJx7n6Y6ATG9NBZRCQfzGwkMBb4Tegs1cbdlwHbgMtDZxGR3LgR+J2714cOUoXuA642sz6hg0i+aRNYWmVmvYFrib44S/IWAmea2djQQUQkF74M7HT3JaGDVKlZwFQz6xg6iIjkwnRgnrsfCh2kSqkzTURa0smLlLj7TuBp4JbQWSTftAksbbkFeNbdd4QOUo3cvYHoQSS6QBYR0MVxqtx9NbARuDJwFBEJLL4ZNA2dvEjTr4CvmtlpoYOISFhmNgY4C3gydJYqphtv0iZtAktb9EC49M0BbjezzqGDiEg4ZnYq8DWih+lIejSGR0QAvgpscvcVoYNUK3f/iGge+22Bo4hIeNOBe+ImKEnH80A/M5sUOojklzaB5YTMbDwwCHgmdJZq5u5rgTXANaGziEhQtwFPuvuHoYNUuQeAS81sQOggIhKUTl5kYxYw08wsdBARCcPMOgF3ouayVLn7EaIGMzU7yAlpE1haMwOYGxcTSZc600REJy8y4O57gEeAO0JnEZEwzKwf0Qz2B0JnqQEvAT2A80MHEZFgrgLWufvboYPUgLnArWbWNXQQySdtAstxmVkX4HaiO0mSvoeAL5jZ4NBBRCR7ZnYe0Ad4IXSWGqHONJHadgfwmLvvDh2k2rl7I9ENTs2pFKldOnmREXd/F1gKXBc4iuSUNoHlRL4OrHD39aGD1AJ330e0EXxn6CwiEsQMYE78ZVnS9zLRNdAFoYOISLbimz8z0cmLLN0N3GRmJ4cOIiLZMrPTgYuAB0NnqSE6ZSwnpE1gORHdrcveLGCGOtNEaouZdQNuITq+JRlwd0edaSK16nNAZ+B3oYPUCnd/H/gjcH3oLCKSuTuBBe6+N3SQGvII8BkzGxo6iOSPNoHlU8xsCPB54OHQWWrMn4BDRHdKRaR2fAN4w93rQgepMfcA3zKzHqGDiEimmk5eeOggNUadaSI1Jm5u0jMvMubu+4H5wNTQWSR/tAksxzMVeMDdPwkdpJbEX0Zmoc40kVqjkxcBuPtW4PfAjaGziEg2zKw70d/5u0NnqUGPA+PNbEToICKSmS8CjcAroYPUoFnAdDPTnp8cRQtCjhIXienobl0o84DrzKxX6CAikj4zGwZMAh4Lm6RmqTNNpLZ8C3jF3TeHDlJr3P0gcB8wLXAUEcnODGC2Tl4EsQTYDVwaOojkizaB5VhfAvYBr4cOUovcfTvwPHBz6CwikonpwP3ufiB0kBr1W+BsMzsndBARyYROXoQ1C5hmZh1CBxGRdJlZT+CbROO3JGM6ZSwnok1gOdZMYJbu1gWlYi1SA+IvwdPRhkQw7n6Y6MuJuoFFqpyZnQ2MBp4InaVWuftyYCvw1dBZRCR1NwEvuvu20EFq2H3AVWbWJ3QQyQ9tAkszMzsFuIaoWEg4zwBnmNm5oYOISKq+DHzg7stCB6lxs4E7zaxT6CAikqrpwDx3PxQ6SI3TGB6R2qAHwgXm7ruAhcCtobNIfmgTWFq6BXjG3XeEDlLL3L0BmIsukEWqnY4l54C7rwE2AFeGziIi6TCzjkQPPtaGRHi/Ar5iZv1CBxGRdJjZGGAY8FTgKKJTxnIMbQJLS7pblx9zgNvNrHPoICKSPDPrC1xB9GVYwlNnmkh1uwJ4391Xhg5S69x9N/Ab4LbQWUQkNTOAe+LmJgnreaCvmU0OHUTyQZvAAoCZTQAGAs+GziLg7uuAVcDXQ2cRkVTcBvzW3T8MHUQA+DXwJTMbGDqIiKRCJy/yZRYw08wsdBARSVY8XutO1FyWC+7eSNRgpmYHAbQJLH82A5jr7kdCB5Fm6kwTqULxl96Z6OI4N9x9D/AIcEfoLCKSLDPrD1wGPBA6izT7HXAy8JnQQUQkcVcD77j7O6GDSLO5wC1m1jV0EAlPm8CCmXUh6kqbEzqLHOUh4EIzGxw6iIgk6jygF7AodBA5ijrTRKrTHcCj7v5x6CASiTvTZqM5lSLVSCcvcsbdNwJLgG+ETSJ5oE1gAbgWWO7uG0IHkT9z90+AB4keZCIi1WMGMCf+Eiz58Yf41wuDphCRxMQ3dfTMi3y6G/i2mZ0cOoiIJMPMBgFTiJqZJF90ylgAbQJLRHfr8msWMMPM9HdVpAqYWTfgZqJjWZIj7u6oM02k2nwe6Az8PnQQOZq7bwJeBb4VOouIJOZO4CF33xs6iHzKI8B5ZjY0dBAJSxtLNc7MhgCfBR4OnUWO6zXgAHBR6CAikohvAq+7+3uhg8hx3QNcb2Y9QgcRkUTMAGbHN3kkf9SZJlIldPIi39z9ADAfmBY4igSmTWCZBjzg7vtDB5FPi7+0zEKdaSLVQicvcszd64keWPTt0FlEpDJm1h24gWjsgOTT48A4MxsROoiIVGwK0EDU4S/5NAuYrlPGtU3/n1/D4r/8M9CGRN7NA641s96hg4hI+5nZWcAE4LHQWaRVuvEmUh1uBF529y2hg8jxufshoutcdQOLFN9MYJZOXuSXuy8BdgFfDp1FwtEmcG27BPgYeDNwDmmFu38APEc0R1REimsacL+7HwwdRFr1FHCWmY0OHUREKqJjycUwG5hqZh1CBxGR9jGzXsA3gHsDR5G2aQxPjdMmcG3T3briUGeaSIHFX26now2J3HP3w0SzgXWBLFJQZjYKOAd4InQWaZ27rwA2A1eEziIi7XYT8IK7bw8dRNp0P3ClmZ0aOoiEoU3gGmVmfYCrgftCZ5GSPAMMMrPxoYOISLtcDmxz92Whg0hJ5gB3mlmn0EFEpF2mA/fGN3Uk/9SZJlJsOnlREO6+i+jU262hs0gY2gSuXbcAT7v7ztBBpG3ufgSYiy6QRYpKD4QrEHdfA6wDrgqdRUTKY2YdgaloQ6JI5gOXm1m/0EFEpDxmNhYYCiwMnUVKplPGNUybwLVLd+uKZw5wm5l1Dh1EREpnZqcBXwV+FTqLlEWdaSLF9DWgzt1XhQ4ipXH33cDjwO2hs4hI2WYAd7t7Q+ggUrIXgD5mNjl0EMmeNoFrkJlNBPoTPWxMCsLd1wMrgWtDZxGRstwGPOHuH4UOImX5NXCxmZ0eOoiIlEUnL4ppFjDTzCx0EBEpTdycdAdqLisUd28kajBTN3AN0iZwbZoBzI1HDEixqDNNpEDiL7Mz0cVx4bj7XuBhoi83IlIAZjYAuJToJo4Uy++ArsBnQwcRkZJdDbzt7mtDB5GyzQVuNrOuoYNItrQJXGPMrAvREPA5obNIuywALjCzM0IHEZGSnA/0AF4MnEPaR51pIsVyB/CIu38cOoiUx92d6IapOtNEikMnLwrK3euAN4Fvhs4i2dImcO25DnjL3d8NHUTK5+6fEHW3TA2dRURKMgOYEx+7kuJ5BXDgC6GDiEjr4ps1euZFsd0N3GhmJ4cOIiKtM7NBwBeBh0JnkXbTKeMapE3g2qO7dcU3C5hhZvr7K5JjZtYNuInouJUUUNyZpicoixTDBUAHYHHoINI+7r6Z6ObbDaGziEibpgIPuvu+0EGk3R4FJpvZsMA5JEPaRKohZjYU+AzwSOgsUpHXgX3Al0IHEZFWfQv4k7u/HzqIVOQe4Hoz6xk6iIi0aiYwO755I8WlG28iOdfi5IWaywrM3Q8A9wPTQ2eR7GgTuLZMBea7+/7QQaT9WsxM09ENkXzTseQq4O7biGY6fztwFBE5ATPrQXTj7Z7QWaRiTwCjzezs0EFE5IQuAg4BfwodRCo2G5huZh1CB5FsaBO4RsSjA6aju3XVYh7wdTM7JXQQEfk0MxsBjAceD51FEqHONJF8uxH4vbtvDR1EKuPuh4iuc9WZJpJfM4FZOnlRfO6+FPgA+HLgKJIRbQLXjkuB3cCS0EGkcu6+A3gWuDl0FhE5rmnAfe5+MHQQScRTwHAzGxM6iIgcl05eVJfZwFQz6xg6iIgczcx6ET1sfl7oLJIYnTKuIdoErh26W1d91JkmkkPxcapp6ORF1XD3BqKn1usCWSRnzOwc4Gzgt6GzSDLcfSXwPnBF6Cwi8ik3A8+7+/bQQSQx9wNfM7O+oYNI+rQJXAPMrA9wFdFfbqkezwIDzWxC6CAicpSvAPXuvjx0EEnUHOAOM+sUOoiIHGU6cK+7Hw4dRBKlzjSRfNLJiyrj7h8CTwK3hs4i6dMmcG24FVjo7jtDB5HkuPsRYC66QBbJm5moC7jquPvbwFrg6tBZRCQSjwuYijYkqtF84Mtm1j90EBGJmNk4YAjwdOgskrhZwEwzs9BBJF3aBK4NultXveYAt5lZl9BBRATM7DSiTuD5obNIKtSZJpIvVwLvuvvq0EEkWe7+MfAYcHvoLCLSbAZwdzwmS6rLIqA3MDl0EEmXNoGrnJlNAk4Dng8cRVLg7huA5cC1obOICBB9Wf2Nu38UOoik4kHgIjM7PXQQEQF08qLaqTNNJCfMrDNwB2ouq0ru3kjUYKZnDlU5bQJXvxnA3Hh0gFQndaaJ5ED8JVUnL6qYu+8FFgB3hs4iUuvMbCBwCfDrwFEkPb8HOgOfCx1ERLgGWO3u60IHkdTMBW42s26hg0h6tAlcxcysK9E84Dmhs0iqFgCfM7MhoYOI1LjPAN2Bl0IHkVTNAmaoM00kuDuAh919T+ggkg53d6Ibq+pMEwlPJy+qnLu/B7wOfDN0FkmPNoGr2zeAJe6+MXAOSZG77wceAKYFjiJS62YCs+PjVFK9XgWOAFNCBxGpVfFNGG1I1Ia7gRvNrHvoICK1yswGAxcCD4XOIqmbhW68VTVtAlc3HUuuHbOB6Wamv9MiAZjZycC3ib6sShVr0ZmmMTwi4VwY//qHoCkkde6+BXgZuCF0FpEaNhV40N0/CR1EUvcYMMHMhocOIunQhlGVMrOhwHnAI6GzSCbeAPYQzcYTkex9C3jV3TeFDiKZuBf4ppn1Ch1EpEY1nbzw0EEkE+pMEwkkbjKagU5e1AR3PwjcD0wPnUXSoU3g6jUNmO/uB0IHkfSpM00kOJ28qCHuvg1YRNT9LSIZMrMewPXAPaGzSGZ+C5xjZqNCBxGpQRcBB4DXQgeRzMwGpplZh9BBJHnaBK5C8d266ehuXa2ZB1xjZqeEDiJSS8xsBDAOeDx0FsmUOtNEwvg28Dt3rw8dRLLh7oeITmCoM00kezOBWTp5UTvcfRmwHbg8dBZJnjaBq9NlwIfuviR0EMmOu+8EngFuCZ1FpMZMB+6Lv6RK7VgIDDWzsaGDiNQYnbyoTbOBqWbWMXQQkVphZr2Ba4majaS26JRxldImcHXS05JrlzrTRDIUH5OahmpuzXH3BqIHAeoCWSQjZjYaGAk8GTqLZMvdVwF1wNdCZxGpITcDz7n7B6GDSObuB64ws76hg0iytAlcZczsVOBKor+0UnueA/qb2cTQQURqxFeBLe6+InQQCWIOcIeZdQodRKRGTAfucffDoYNIEOpME8mWTl7UKHf/iGge+22Bo0jCtAlcfW4FnnL3XaGDSPbc/QgwF10gi2RFJy9qmLu/A7wNXBM6i0i1i2+23Ik2JGrZA8BlZjYgdBCRamdm5wKDgadDZ5FgZgEzzcxCB5HkaBO4+uhuncwFbjWzLqGDiFQzM+tH9MCE+aGzSFDqTBPJxpXABndfEzqIhOHuHwOPArcHjiJSC2YAd8dNRlKbXgR6AucFziEJ0iZwFTGzycCpwPOhs0g47r4BeAu4LnQWkSp3O/C4u+8OHUSCehD4opkNCh1EpMrp5IWAOtNEUmdmnYmuc9VcVsPcvZFo9JmeOVRFtAlcXWYCc+K/rFLb9IA4kRTFXz61ISG4+z7gIWBq6Cwi1crMTgcuBn4dOosEtxjoCFwQOohIFbsWWOnu60MHkeDmAjeZWbfQQSQZ2gSuEmbWlejpnXMDR5F8eAT4jJmdGTqISJX6LNAV+F3oIJILs4EZ6kwTSc0dwMPuvjd0EAnL3R2N4RFJm0ZMCgDu/j7wGnB96CySDG0CV49vAm+6e13oIBKeu+8nmlM6LXAUkWo1E5gdfxkV+SNwCLgodBCRaqOTF3IcdwM3mFmP0EFEqo2ZnUHUab8gdBbJDZ0yriLaBK4eulsnx5oNTDcz/T0XSZCZnQzcSPQlVESdaSLp+gLgwCuhg0g+uPtWorEQN4TOIlKFpgK/dvdPQgeR3HgcGG9mZ4UOIpXT5lAVMLNhwGSip+WKNHkT2A1cGjqISJW5AXjF3TeHDiK5ci/wDTPrFTqISJWZCczSyQs5hjrTRBIWNw/NQCcvpAV3PwjcB0wPnUUqp03g6jAN+JW7HwgdRPJDnWkiqdHJC/kUd98OvADcFDqLSLUws55EI8/uDZ1Fcue3wNlmNip0EJEqcjHwCfB66CCSO7OBaWbWIXQQqYw2gQsu/ks4Hd2tk+O7D7jazPqEDiJSDcxsJDAW+E3oLJJL6kwTSda3gZfcvT50EMkXdz9MdHNAzQ4iydHJCzkud38LqAe+EjqLVEabwMV3GbDT3ZeGDiL54+47gaeBW0JnEakS04F57n4odBDJpaeBIWY2LnQQkSqhkxfSmtnAnWbWMXQQkaIzs97A14F5obNIbumUcRXQJnDx6WnJ0hZ1pokkIP6SOQ1tSMgJuHsD0QMDdYEsUiEzGwOcBTwZOovkk7uvBjYCVwaOIlINbgGedfcdoYNIbv0K+KqZnRY6iLSfNoELzMxOBb4G3B86i+Ta80A/M5sUOohIwX0V2OTuK0IHkVybA9xuZp1DBxEpuOnAPfHNFZETUWeaSDJ08kJa5e4fAU8AtwWOIhXQJnCx3QY86e4fhg4i+eXuR4g2JXSBLFIZnbyQNrn7WmANcE3oLCJFZWadgDvRhoS07QHgEjMbEDqISFGZ2XjgdOCZ0Fkk92YBM83MQgeR9tEmcEHFf+m0ISGlmgPcamZdQwcRKSIz6w98GZgfOosUgsbwiFTmamCtu78dOojkm7vvAR4humkgIu0zE5gbNw+JtOYloDvwmdBBpH20CVxck4HewKLQQST/3H0jsBS4LmwSkcK6HXjM3T8OHUQKYQFwoZkNDh1EpKB0LFnKMRuYoc40kfKZWReiE8ZzQmeR/HP3RnTKuNC0CVxcM4E58V9CkVKoM02kHXTyQsrl7vuAB4GpobOIFI2ZnQ5cRPR3SKQULxN9r70wdBCRAroWWO7uG0IHkcKYC9xkZieHDiLl0yZwAZlZN+Bmor98IqV6FDjfzIaGDiJSMJ8DOgO/Dx1ECkWdaSLtcyewwN33hg4ixeDujh4QJ9JeOnkhZXH3TcAfgetDZ5HyaRO4mL4JvO7u74UOIsXh7vuBXwHTAkcRKZqZwOz4S6ZIqf4EHAAuDh1EpCjimyYz0MkLKd89wLfMrEfoICJFYWZDgM8TjbESKYdOGReUNoGLSXfrpL1mA9PNTH/3RUpgZt2BG4m+XIqUTJ1pIu3yRaAReDV0ECkWd99KdGLnxtBZRApkKvBA3CwkUo7fAOPMbEToIFIebQQVjJkNByYRHe0XKYu7vwl8CFwWOotIQdwAvOzum0MHkUK6F7jOzHqHDiJSEDOBWTp5Ie2kzjSREsVNQTp5Ie3i7geB+4DpobNIebQJXDzTgPvjv3Qi7aHONJHS6eSFtJu7fwA8D9wUOotI3plZT6KRZ/eGziKF9SQw0szOCR1EpAC+BOwF3ggdRAprNjDNzDqEDiKl0yZwgcR/uaaju3VSmfuAq8ysT+ggInlmZmcDo4EnQmeRQlNnmkhpbgIWufu20EGkmNz9MNH4JjU7iLRNJy+kIu6+HNgCfDV0FimdNoGL5cvAB+6+LHQQKS533wUsBG4NnUUk56YD89z9UOggUmjPAGeY2bmhg4jknE5eSBJmA3eaWafQQUTyysxOAa4hag4SqYROGReMNoGLZSbqApZkqDNNpBVm1pHoYRmquVIRd28A5qILZJETMrMxwDDgqcBRpODcfQ2wAbgydBaRHLsFeMbdd4QOIoX3K+ArZtYvdBApjTaBC8LM+gJXAPeHziJV4Xmgr5lNDh1EJKe+Brzn7qtCB5GqMAe43cw6hw4iklMzgbvjmyYilVKzg0jr1FwmiXD33cDjwO2hs0hptAlcHLcBv3X3j0IHkeJz90aiTQl1pokcn44lS2LcfR2wCvh66CwieRMf27+D6LpEJAkPAheb2cDQQUTyxswmAv2B50JnkaoxG5hpZhY6iLRNm8AFEP9l0t06Sdoc4BYz6xo6iEiemNkA4DLggdBZpKqoM03k+K4B3nb3d0IHkerg7nuAh4E7Q2cRyaEZwFx3PxI6iFSNl4CuwGdDB5G2aRO4GM4DegIvBs4hVcTd64AlwDcCRxHJm9uBR93949BBpKosAC4wszNCBxHJGZ28kDTMBmaoM03kz8ysC9HDwecGjiJVxN0dnTIuDG0CF8NMYE58hF8kSepME2lBJy8kLe7+CfBrogcOighgZoOAKUTH90WS9If41y8ETSGSL9cBb7n7htBBpOrcDXzbzE4OHURap03gnDOzbsBNRH+pRJL2KDDZzIYFziGSF58HOgKLQweRqtTUmabrL5HIncBD7r4vdBCpLnFn2mzUmSbSkk5eSCrcfRPwKvCt0FmkdfoSkn/XA6+5+3uhg0j1cfcDwK+AaYGjiOTFTGB2/OVRJGmvAZ8AF4cOIhJafPJiBjp5Iem5B7jezHqGDiISmpmdSTSz9eHQWaRq6ZRxAWgTOP90t07SNhuYrs40qXVm1h24gehLo0ji1JkmcpQpQAPwx9BBpDq5ez3wO+DG0FlEcmAq8IC77w8dRKrWb4CxZjYydBA5MW365JiZnQVMAB4LnUWql7svAXYCXw6dRSSwG4HF7r4ldBCpavOAa82sd+ggIoHNBGbp5IWkTJ1pUvPiZh+dvJBUufshouvc6aGzyIlpEzjfpgH3u/vB0EGk6qkzTUQnLyQD7v4B8Bxwc+gsIqGYWS/gG8C9gaNI9XsKOMvMRocOIhLQJcDHwJuBc0j1mw1MNbMOoYPI8WkTOKfivzTT0N06ycZ9wJVmdmroICIhmNkoYBTwROgsUhPUmSa17ibgBXffHjqIVDd3P0w05knNDlLLdPJCMuHuK4DNwBWhs8jxaRM4v74CbHP3t0IHkern7h8CTwK3hc4iEsgM4N74y6JI2p4BBpnZ+NBBRAKZiRodJDuzgTvNrFPoICJZM7M+wNVETT8iWVCzQ45pEzi/dCxZsqaREFKTzKwjcCequZIRdz8CzEU1V2qQmY0DhgBPh84itcHd3wbWAVeFziISwC3A0+6+M3QQqRkPAF82s36hg8inaRM4h8zsNOCrwK9CZ5Ga8gLQx8zOCx1EJGNXAhvdfXXoIFJT5gC3m1mX0EFEMjYDuNvdG0IHkZqizjSpVTp5IZly993AY8AdobPIp2kTOJ9uA55w949CB5Ha4e6NRJsS6kyTWqOTF5I5d18PrAC+HjqLSFbMrDNwO9H1hkiWHgQuMrPTQwcRyYqZTQL6Ac8HjiK1ZzYw08wsdBA5mjaBcyb+S6K7dRLKXOAWM+sWOohIFsxsAHAp0bElkaypM01qzTXAGndfGzqI1BZ33wssIBr/JFIrZgBz4jFUIln6HdAZ+FzoIHI0bQLnz/lAD+Cl0EGk9rh7HfAG8I3AUUSycgfwiLvvCR1EatLDwOfNbEjoICIZ0ckLCWk2MEOdaVILzKwrcCtRk49Iptzd0SnjXNImcP7MBGbHR/NFQlBnmtQEnbyQ0Nz9E6Iu9Kmhs4ikzcwGA18AHgqdRWrWK0Aj8MXQQUQycB2w1N3fDR1EatbdwI1m1j10EPkzbQLniJmNB24i+ssiEspjwCQzu0SdElKtzKwjcD3RfwdfDhxHattsYLqZjQodRCQtZtYH+I/AQ+6+L3QeqU1xZ9ps4C/MbFDoPCJpMbNhxM1lgaNIDXP3zUQ332aaWY/QeSSiTeB8eQXYA/QJHURqWg9gG/BbogcJiFSjcUQXxnuBToGzSG3rCZwCPBM4h0ia7gS+RzQfUCSkzsDNwD+FDiKSop8BXwK6hg4iNe8k4IfAVaGDSESbwPmzC1gXOoTUtF3AKuDk+P8WqUY7gF7AInc/FDqM1LRlRDeAtTkm1awH0A14MHQQqXlPAo6abqS6nQIcQM8ZkvAeJPrOpYcT5oRFp2IkD8zsq8BL7n4wdBapbfEYiCvd/cnQWUTSYmZXu/tvQ+cQMbPewER3/13oLCJpMLNTgHPdfXHoLCJmNg7Y7+4bQmcRSYOZTQB2xw/9Fgkq3ud6UY03+aBNYBEREREREREREZEqpnEQIiIiIiIiIiIiIlWsY+gARdKtW7f6AwcODAid43i6du26bf/+/QND55D8ytv61ZqVtuRtzbak9SvHk+c120RrV1qTtzWs9SqlyNu6Ba1daZvWrRRV3tau1m15NA6iDGbmef3fy8xwdwudQ/Irb+tXa1bakrc125LWrxxPntdsE61daU3e1rDWq5Qib+sWtHalbVq3UlR5W7tat+XROAgRERERERERERGRKqZxEAmaN28eHTt2pEuXLpx55pns3LmTHTt2MHToUDp06MAFF1zQ/NrGxkZOOunoPfif//znTJ48mc997nM8+eSTrF27llGjRvHhhx/yzW9+k27dumX9I0kVO3a97tu3j/Xr1zNq1KiS1uvChQvZvXs3HTt25P333+dv/uZvqK+v55e//CV///d/z09/+lMuu+wylixZwpAhQ7jkkksy/gmlmlVab5955hlee+01/uEf/oE5c+YwdOhQTjrpJLZs2aJ6K6k7dv2uWLGCgwcPMm7cuJLW7y9+8Qv69u3L9ddf37x+L7vssqx/DKlyx67T/fv3s3DhQq688sqS1umPfvQjvvOd7/Dyyy+za9cuLr30Up544gluv/12fv/73zNgwAC+8IUvcPfdd3Pw4EE6deqktSyJqvRa4a233uLll1/mL//yL1m5ciVPP/00kyZNor6+XtcKkqpj1+6iRYv4yle+wt69e0tauz/72c/o3r07Y8eO5b777uNf//VfefHFF3WdK6k6dt2uXr0agOHDh5e1v3DTTTdpPyxF6gRO0MUXX8wbb7xBnz59GDx4MFOmTOHIkSMMHjy4+TUPPPAAjz32GB9//DELFy5k4cKF7Nq1C4A1a9Zw8OBBAIYOHUpDQwNnnHEGJ510UvPviyTl2PV61llnsXv37pLX67Bhw9izZw/Dhg1j8+bNHDhwgIEDBzJy5Ei2bdvGhx9+yIEDB1i9ejWHDh0K9WNKlaq03k6ePJnzzz8fgEGDBrFnzx769u2reiuZOHb97tu3j48//rjk9du7d28aGhqAP69fkaQdu04vuOACxo0bV/I6nTJlCgBHjhyhd+/ejBw5koEDB3LaaafRr18/evXqBdC8/rWWJWmVXivU1dXRp08fINrE2Lt3r64VJBPHrt3BgwezZ8+ektfu3r172bNnD+effz6TJk0C0NqV1B27bjt37kznzp3L3l8A7YelSZvACWq6Q7dlyxYAfvCDHzBkyJCjXnPOOecA0Z2PhoYGGhoaaJqnMnr0aOrq6lizZg2dOnWic+fO9OrVC3fnvffey/aHkap37Hp955136N69+1GvaW29rl+/nm7dutGhQweGDRvGxo0b2b17N0uWLKFDhw707duXurq65nUtkqRK6+2iRYu47LLLWLNmDf3792fDhg2qt5KZY9dv9+7d6dKly1GvaW39fvTRR3To0OGo9XvkyJFsfwipeseu05deeulTp3paW6crV65k5cqVnHTSSezevZv6+nqWLFlCXV0dDz/8MD169GDNmjXN619rWZJWybVCQ0MDH3zwAevWrWPNmjWsXbuWvn37cuqpp+paQVJ37Nrt168fa9euPeo1rdXfHj160KVLF9auXcvo0aNZs2YNp5xyitaupOrYdXvw4MFPNYOVsr+g/bB06cFwZSh1APaaNWtobGxk7NixACxbtowePXowYsSINLNpGLa06kTrN8R6jfNozUqrSqm5Wr+SJ+U+KEPXC5I3x1vDoepsnEfrVdrUVu1VrZU8yuN1rtatlCJvNVfrtjzqBE5Br169GD58ePM/n2jBz5s3j3nz5gHw7rvvctddd7Fz507mzJnDq6++yg9/+EPeeeedzHJLbRo9enRzgd6yZQujRo1qXq/r168/7p9puXYBvvvd7/L+++9zzz338PTTT/Pzn/+cP/3pT+mHl5rXtH63bNnC/v37mThxIiNGjChp7a5bt46f/OQn7Nixg0ceeYQ//OEPWUYXqeh6oa6uju9///tANHu1vr4+m9BSc1peJ0DUkTZo0KDmfy7nWmHv3r08+uijvPDCCyxcuJAHHnggveAisUquFeDT17kiWRk9ejSnnHIK+/fvB2DixIknfG3Ldbt69WruuusuNm3a1HyNq5orWWnvuoU/Xys0XeM+88wz/PM//3O6gWuMHgyXoPvuu4833niDa6+9lvr6ej755BNGjBjB1q1bGTFiBC+99BL79+9n/PjxzTNSmjTNP2loaODw4cOA5vxJdipZu6tWrWLo0KH07duXPn36sGbNGjZu3HjUF0aRtFSydk80n1IkbUlcL/To0aN5zl/T7FWRNCVxrdCjRw+6du1KY2Mjw4YNY/HixQF/IqkVSV/nXnHFFQF/GqkVlazbMWPG8Oqrr9KvX7/ma9xTTz1VNVdSl9S1QtM17uTJk2lsbAz001QndQInrGVb/FVXXcXWrVub//nIkSNHzTxpmpGyZs0a1q1bx4ABA9ixYwdmxubNm487+0ckLe1du1u3bmXPnj188MEHHDhwgMmTJ2sOsGSqvWv3ePMpRbJS6fXCrl27WLJkCRs3bmyevSqStkqvFbZs2dL8uqbZfyJZSPI6VyQr7V23Tz/9NDt37qS+vr75Glc1V7JSab19//33m69xm57jIsnRTOAylDL75PHHH+fv/u7vMkwV0RwUaUtr6zfE2tWalbaUOistRN3V+pXjKefZAbpekDzStYIUUR6/o2ntSlu0bqWodK1QbNoELkO5D3xpaf78+dx8881tvq6+vp5f/vKX/OM//iOLFi1i27ZtNDQ0sG/fPj7zmc/wyiuv8Nd//dfHy6aFL61qz/ptz7r967/+a376058yb948Ro4cyY4dO1i/fj1/8Rd/cdTdZ61ZaUt7a26p6/att95i2bJljBw5kvvuu4+f/vSn/PjHP+YrX/kKDQ0NJ6y3cTatX/mUSq4ToPS1u3HjRp577jmuvvpq/vjHP9KhQwc++ugjhgwZwrvvvsvQoUNP2DWhtSutyeJa4fvf/z7//u//zvDhw9m+fTsHDx7kc5/7HK+//jrf+c53js2j9SptyuI72muvvcbatWsZMWIEb7zxBsOHD2fHjh0MGTKESy655HiZtHalVVms2+3bt7NgwQJGjRrFypUrGTRoEP3792f9+vVMnz79eJm0bqVNWX1HO+uss3jjjTcYNGgQvXr1YseOHdx6663Hy6N1WwbNBK7QT37yEy655BIWL15Mjx49OHToEHv37qV///6MGDGCRx99lAkTJtChQwfuv/9+Nm3axMiRI+nUqRNf//rX2bx5M8uXL6dbt2586UtfYuDAgYwcORKAffv2AXDWWWfx8MMP893vfpfXXnst5I8rVSLNdds0m3LKlCnU19dz6NAhtm/fzkknafqMVCbpddupUyfWrVvH2LFjm9ft4MGD2bNnD1OmTFG9lcQkvXZfeeUV+vTpw8GDBzn99NN57733WL16NQMGDNDzBCQxaV0rbNu2jYkTJ7J582b27dvHJ598wqRJk1izZk3oH1mqSNLrd8iQIdTX1/Pcc89xySWXsHnz5ua6K5KUpNdt//796dWrV/N7nnrqqZx11lm8+eaboX9UqSJpfkf78MMPOfXUU7nqqqtYsGBB6B+1KmhXpkLjxo3j9ddfp3PnzmzevJlevXpx3nnncfnll1NXV4fZn29I7N+/nzFjxjBq1CiWLl0KRPNSGhoaOHLkCAC7d+9myZIlbN++nT179rB58+bmz5k7dy4dO3Zsfq1Ie6W5bt966y1Wr17dPKOyU6dOnH766ezduzfEjypVJOl1+/HHHzNp0iQ+/PDD5nXbNItd9VaSlPTanThxIgcPHqSuro4PPviADh06NM9i79+/Pxs2bNDalYqlda3QqVMnli5dSo8ePejevTtdunRhw4YNLFmyROtWEpP0+u3UqRO7d+/muuuua16/egaGJC3pddv0e4cOHWLAgAGcdNJJvPPOO3Tv3j3rH02qWFrf0bZs2dK8bn/wgx8wZMiQED9e1dE4iDKkeUSuUmqBl7aUs36zWLdas9KWcmtuVvUWtH7l+NI+HpcErV1pja4VpIjy+B1Na1faonUrRZW372hat+XRJnAZKp31lyYtfGlL3tav1qy0JW9rtiWtXzmePK/ZJlq70pq8rWGtVylF3tYtaO1K27Rupajytna1bsujcRAVevHFF6mvry/ptXfddRd79uzh+9//PgA/+tGPqK+vZ8GCBTz55JOsXr2au+6666hj8wsXLuSBBx7g9ddf53/+z//J73//e37+85+zefNmfvazn6XyM0ntaM/6/R//43+wfv16fvGLX/Dwww/zxhtv8L3vfa/5dRs3buQnP/kJO3fubF7jixcvZv78+WzevJn58+en9eNIDWjPmn3wwQe55557+PnPf86f/vSn5nq6bt06fvKTnxz1Z374wx/yzjvvsHjxYmbNmtX8mn379qnmSruUu2ZXr179qRq6f/9+vve97zVfA+zcubP5z7Sss7NmzWq+llixYkXz+/zLv/xLWj+e1IBK6m7TdeyDDz7If/tv/635dXv37uXRRx/lhRde4K233uLf/u3fmmuzrhUkCe1Zt01r8t///d+59957WbBgAb/4xS+aX3e8a9ym73Fat5KUSvYXmr6fHbt2W36H+9nPfsa9996rmiuJKnfdvv/++zzyyCP84Q9/aP6O1rRn0KTlun3sscd49NFHta+QAD0Yrkzz58/HzOjZsyd//OMfufTSS3nxxRe55JJLWL58OS+++CJTpkzhyiuvZPny5WzevJnBgwczfvx4Tj31VHr27MmkSZOAPz9Aa9WqVYwfP54xY8bw6quv0qlTp+bPGzZsGIsXL2b48OE8++yzbN26lauvvpq6ujpOOeWUAP8LSJFVun5XrFhBx44dOXDgAL1796ahoYHzzz+flStXNn9Gt27d6NOnD3v37j3qIXHz589n8ODBoX50Kagkam63bt24/PLL+cEPfsDYsWMZO3Yszz77LCNHjmTgwIFHfV7TQ7UuvPBCVq9e3fya7t27q+ZKSSpds6eeeuqnauiiRYs4//zzm68B3n77bb7whS8Af76WaFqzTdcS/fr1a34f1V4pR5J1d9u2bSxevJhOnTrx0UcfNX9Gjx496Nq1K42NjdTV1dGnT5/ma12tV2mPJNZt05ocMWIEL774IuPHj6d3797Nn3G8a9ym73Fat9JeSe4vNH0/a/q/m7T8Drd3714aGxtVc6Uila7bIUOGUFdXR69evVizZg1jx47loosuOmpjt+W6veCCC3jllVe0r5AAdQKXqWfPnrg7e/fuZd++fQCcfvrpLFy4kMOHD9O3b9/mp8Q2NjbS0NBAY2Nj858/fPgwS5YsYePGjc0Pzho9ejSbNm3i6aefZufOndTX17N69WoA1q9fT7du3Vi7di3du3dn4MCB/Pa3v2XUqFHZ//BSeJWu37PPPpuOHTtSV1fHRx99RIcOHVi7di2jR4/mhRdeoLGxkY4dO9KnTx/Wrl3bvMab/p9IuSpdswAfffQRffr0aX6AS1M9ra+vZ8mSJdTV1TXX3KYHw/34xz/mtNNOa37Nnj17sv3BpbAqXbPHq6H79u1jxYoVzdcAgwcPbl6zTa9pWrNN1xIHDhxofh+RciRZd5uuY7t160aPHj2arxV27drFkSNHOHDgAB988AHr1q1rrs0i7VHpum1akw0NDbg75557LieddBK7d+9u9Rq36XvcsX8HREqV5P5C0/ezY9duy+9wPXr0oEuXLqq5UpFK1+2WLVt4+OGHj3rIZlNdPd66bXownPYVKqeZwGWodPbJU089xSWXXEK3bt0qzrJv3z4WL17MFVdc0ZRNc1CkVXlYv5s3b2bTpk18/vOf15qVNuVhzTZRzZVS5GnNtvTwww9z/fXXA1q70ro8rGFdK0i58rZu40xau9KqJOaqquZKCHmruVq35dEmcBnyNgC7JS18aUve1q/WrLQlb2u2Ja1fOZ48r9kmWrvSmrytYa1XKUXe1i1o7UrbtG6lqPK2drVuy6OZwGXo2rXrNjMbEDrH8XTt2nVb6AySb3lbv1qz0pa8rdmWtH7lePK8Zpto7Upr8raGtV6lFHlbt6C1K23TupWiytva1botjzqBM2Rmfw2Md/fvtvi9FcCd7v5muGQiJ2ZmvYAtQG93PxL/3t8CZ7r7/xI0nEgrzOwhYIG7/yr+59OA9UAfd9fwPsklM7sG+E/ufkWL33sCmO3uD4dLJnJiZmbAB0TXuVvj37uB6Br32qDhRFphZj8Gdrr7f4n/+STgI2C4u+8MmU3kRMzsXKJr3HNa/N5PgQ3u/q/hkom0zsxeJ7rOfSX+588QXeNOCJusdujBcNk6Dzh2s/fN+PdF8moSsLxpAzimdStFcFTNdfcdwG7grGCJRNqmawUpoiHA4aYN4JjWrRTBsdcKjcBSYHKoQCIl0LWCFI6ZdQLGAm+1+O0VwNlmluwDMeSEtAmcrcnAkmN+bwm6yJB8O966XQpMjLslRHLHzE4B+gFrj/lXqrmSd7pWkCI63rp9F+hhZv0C5BFpU9zBPgnVXCkeXStIEY0FNrr7vqbfcPcDwDvAucFS1Rht4GTEzLoA5wDLj/lXKtaSd5+6yHD3XcBOYGSQRCJtmwS8dZyxD6q5knf6YidFdLxrBUcdlZJvQ4H97r79mN9XzZW8O961wkpguJmdHCCPSCmOt25BNTdT2gTOzjhgvbvvP+b3lwITzKxD9pFESnK840bEv6diLXmldSuFY2Z9gVOJZle3VAd0NbOB2acSKYlqrhSR1q0UTnwS83g33g4Ba4DxIXKJlEA1Nwe0CZyd4971cPePgG3AqKwDibTFzLoSdfuuOM6/XoLmTkl+tXan+bz4CKhI3kwClh7bwR53VKpLQvKs1ZqbcRaRUp1o3a4GhppZj4zziJRiOLA7ftbFsVRzJc90rZAD2gTOzokWPOiLneTXucBadz94nH+ndSt5dqKauwnoAJyebRyRkuhaQQrHzE4DehLNAD6W1q3k2YmadA4DqwA9rV7ySNcKUjhxB/tEopPwx1oGnGtmHTMNVaO0CZwdFWspojbXrToqJW/iWWhnEc1GO4o6KiXndK0gRTSZqIPdj/Pv1gCDzaxnxplESqGaK0WkdStFNALYFT9b6Cju/jGwhegZWpIybQJnIJ73e6K7HqAZKJJfJ5rbA1GhbgQGZxdHpCTjgTXxbLTjUc2VvGqt5mrdSl6dcN26ewPRSKmJmSYSaYOZDQC6Ec1cPx7VXMmr1q4VlgHjzKxThnlEStHaugXV3MxoEzgbZwPb4vm/x6MZlZJXJ7zT3KKjUvN7JG9a65AArVvJITPrTvSk+tUneMk7wEAz651dKpGSqOZKEU0Glpyggx20biW/Wvt+thd4DxiTaSKRtulaISe0CZyNVhe8u9cDB4EzM0sk0oa4g/1cojvKJ6IjR5JHpVxkaN1K3kwAVsWzKD/F3Y8Ay4keHieSJ6q5UkRtrdu3gNFm1jmjPCJtMrPTgY5Ez7g4EdVcySNdK+SENoGz0daCBy16yZ9zgK3xjJ4T0bqVPGqr5q4FTjOzPhnlESmFrhWkcOJZv2cQzf49Ea1byaO2mnQ+ATYCY7MKJFKCtjrYQTVXciY+8V7SJrBOx6dPm8DZaGv+CfG/V/u75InWrRROPANtHK10sLt7Y/zvdYEseaKaK0U0EVgRz/49keXAOWbWJaNMIqVQzZUi0rqVIhoMONEzhY7L3bcDe4HhWYWqVdoETlmJdz1Ad+wkf0pZtxuA3mbWN4M8IqUYDbwfz0RrjWqu5I2uFaSI2ly37r4fWEc0YkokuHi2+kCiWeutUc2VvCn1WmGimWmvR/KilA52UM3NhApD+oYAh+K5v63Rgpe8KeWLnToqJW9KuTgG1VzJkXjm5BiiGZStWQGMNLNu6acSKYlqrhTRRGB5PGu9NVq3kjelfD/bCewGzsokkUjbdK2QI9oETt95lLbg3wV6mFn/lPOItKmMDnaIjhypWEtelFpztW4lT8YC78YzKE/I3Q8Cb6OOSsmPUo4mg2qu5Eup61YdlZIb8bMs+hE926ItqrmSJ7pWyBH9By19kylhwcet8brzIXkxDNgXz+ZpyxI0d0ryo6SaC6wChpvZySnnESlFqTfdQDVXciKe8TuKaOZvW7RuJU9Kqrnu/iGwAzg79UQibZsELItPYrZFNVfypJxOYK3blGkTOH3lfrHTJrDkgdatFE7cqTOJ0r7YHSJ6mv2ElGOJlEI1V4poHLDe3Q+U8NqlwHgz65BuJJGSqOZKEWndSuHEzw46hehZQm15D+hiZgNTDVXjtAmcPhVrKaJy1u1q4Ewz65FiHpFSDAd2x7PQSqGaK3mhawUpopLXrbvvBrYRdQ6LBGNmXYGRRDPWS6GaK3lR9rVCPOJPJKRJlNjBrtPx2dAmcIrMrB/Qk2jebyk0A0XyotS5Pbj7YWAl6qiU8EpetzHVXAku7mCfSOlf7JYC55pZx9RCiZRGNVeKaDzwTjxjvRRat5IX5dTcTUR7PaenF0ekJLpWyBltAqdrMrAkvqNRireBwWbWK8VMIqUo504zaH6P5IPWrRTRSGBnPHuyTe6+B9gMjE41lUjbVHOliNq1btVRKSHFz7AYTvRMiza16KhUzZXQdK2QM9oETldZC97dG4iOJk1MLZFIG8xsANCVaCZPqXRsQ/Kg3IuMt4CxZtYppTwipSh33YJqrgQWz/YdT9SZXiqtW8mDcmvuVuAIcEY6cURKMh5YEz/TolSquZIH7dkE1rpNkTaB09WeL3Zqf5fQJgNvltHBDlq3EljcoXMe5d142wvUAWPSyiVSgsmUd0wOVHMlvLOBbfGs31K9iWZUSnhl1dz4elg1V0LTtYIUjpl1B84keoZQqd4BBphZ73RSiTaB01Xu/BPQnQ8Jr6yNtNhyYLSZdU4hj0gpTif6b9qmMv+caq6E1p6aq3UroZW9bt19G3CA6AuhSObiWerjgWVl/lHVXAlN1wpSRBOBVfEzhEri7keITmtOSitUrdMmcErMrCcwmGjObzk0A0VCK7uD3d0/IXoA4rhUEom0rdwZ7E1UcyWYuCOy3eMg1FEpAbVn3YJqroR1DrA5nq1eDq1bCa09NXcdcJqZnZpCHpFS6Fohh7QJnJ6JwIp4zm85lgOjzKxLCplESlFJsdbdZglF61aKaDDQSDRzsmTu/gGwl+ghMSIhqOZKEWndSuHEz64YS9QdWTJ3byTqep+UQiyRUqjm5pA2gdPTniMbuPsBYC1wbuKJRNoQz94ZSDSLp1yaOyUhtavmxn9mopnpv4cSwnmUP4O9iWquBNFiBnu5I89A61bCau+63QD0NrO+CecRKcUY4L34WRblUs2VkHStkEP60pue9gxvb6I7HxLKJOCteBZPubRuJaR21Vx33wl8BJyVdCCRErS3QwJUcyWcM4ED8YzfcmndSkjtqrlxR+VStHYlDF0rSOHEzwoaTXTSvVwrgRFm1i3ZVALaBE5TpcVaM1AkhErW7VKijsoOycURaZuZ9QH6Es0+aw/VXAlF1wpSRJWs241AdzPrn1wckbbFHeyTUM2V4tG1ghTRWODd+NlBZXH3g0Qnk8cnnkq0CZyGeJ7vKNp31wN0x07CafdFhrt/COwARiaaSKRtk4g62Bvb+edVcyUUdfdIEVVyreCoo1LCGAbsi2eqt4dqroRSybXCKmCYmZ2cYB6RUlSybkE1NzXaBE7HucC6eL5veywFxqujUgJo79yeJprfIyFo3UrhxLMlTyGaNdke7wGdzez0xEKJlEY1V4pI61YKJ35mxSTaf+PtELAamJBgLJFSqObmlDaB01HRXQ933w3UA+cklkikDfHMnRFEM3jaS0eOJIQk7jSfFx8VFcnKZGBpezvY445KdUlICInU3ISyiJSq0nW7BjjTzHoklEekFGcBH8XPsGgv1VwJQdcKOaVN4HRUuuBBX+wke+cC78QzeNpL61ZCqLTmbgYMGJRMHJGS6FpBCsfM+gHdiWb7tpfWrYRQaZPOYaJGiYmJJRJpm64VpHDiDvYJRCfc22sZMM7MOiYSSpppEzgd51F5sVb7u2RtMpUd2SD+85PVUSlZiWecDSeaedYucUelaq5kLbGam0AWkVJNBpbEdbO93gYGmVmvhDKJlEI1V4pI61aKaCSwI35mULu4+x5gEzA6sVQCaBM4cfEc3/FUdtcDdMdOslfxzQt33wo0AGckkkikbROA1fHMs0qo5krWkrhhrHUrWUviWqGB6OHJ6qiUTJjZQKAL8H6Fb6WaK1lL4lrhLWCsmXVKII9IKZJYt6CamwptAidvFFAfz/WtxBLUUSnZSuK4EWh+j2RL61YKJ54pOYRoxmQl1gIDzOyUikOJlEY1V4ooiQ520LqVDMX7ABXXXHffB9QBY5PIJVICXSvkmDaBk5fIgnf3bcABYGjFiUTaEM/aOZdo9k6ldMdOspTkRYbWrWRlArAqnjHZbu5+hKjDZ1ISoURKoJorRZTUul0OnGNmnRN4L5G2nE60X7M5gfdSzZUs6Vohx7QJnLykWt9B83skO6OBTfHsnUpp3UqWkqq564BTzezUBN5LpC3nUfmMvyaquZKJeIbvYKKZvpXSupUsJVJz3f0TYAMwruJEIm07D3gzgQ52UM2VjMQd7Eld5y4BJul0fLK0CZy8JIa3N9GdD8lKUnfrQOtWMhLPNhtLAh3s7t4Yv8+kSt9LpASquVJEE4Hl8UzfSq0Azjazrgm8l0hbVHOliLRupYjOABriZwVVxN0/APYQPQRcEqJN4AQlNbenBc1AkawkuW7fBXqb2WkJvZ/IiYwB6uJZZ0lQzZWs6FpBiiixdevuB4hOYJybxPuJnIiZ9Qb6E81QT4JqrmQl6WuFSWam/R9JW5LrFlRzE6cikKwzgQPxPN8k6I6dZCXJL3aNwFK0diV9aVxkaN1KquJZkqOJZksmYSUwwsy6JfR+IieimitFNImog/1IQu+ndStZSfL72S7gQ2BEEu8n0gpdK+ScNoGTleQ8YICNwMlm1j/B9xQ5Sgod7KC5U5KNpGuu1q1kYRywIZ4tWTF3PwisAcYn8X4irUhyljWo5ko2kl63S4AJZtYhwfcUOUr8jIq+RCcmkqKaK1nQtULOaRM4WUnOAyYeAq87H5K24cCeeOZOUrRuJQuJ1lxgFTDMzLon+J4ix0r6phuo5krKzKwLcDbRLN+kaN1KFhKtue7+EfABMDKp9xQ5jknAsviEZVJUcyUL6gTOOW0CJyutL3aagSJp0rqVwolnmk0i2S92h4HVwISk3lPkOFRzpYjOBdbFs3yTshR1VEr6VHOliLRupXDMrC/Qm+gZQUl5H+hsZqcn+J41TZvAyUr6aDKo/V3Sl3Q3JUQbaWeYWY+E31ekyQjgw3jGWZJUcyVtadRcrVtJW+Lr1t0/BrYA5yT5viJN4lnpI4hmpydJNVfSltq1QjwKUCQNk4ElSXawx6fjVXMTpE3ghMRze08mmuObJLW/S9oSv3nh7g1EF9wTk3xfkRbSuDgG1VxJUdzxOJGoAzJJy4BxZtYp4fcVaZJGowOo5kq6xgNvx7PTk6R1K2lLo+ZuiX8dlPD7ijTRtUIBaBM4OU13PTzh930bGGRmvRN+X5EmaRw3Ah05knRp3UoRjQQ+iGdKJsbd9wKbgNFJvq9IC6q5UkSprlt1VEoazOxkYBjRsyoS0+J5Q6q5khZdKxSANoGTk8qCd/cjwHLUUSkpiGfrdCaatZM03bGTNKV1kfEWMEYdlZKStNYtqOZKSuIO9vEk38EOWreSrrS+n20FDgNDkn5vEaJnU6yOn1WRNNVcSVOam8BatwnRJnBy0mp9B81AkfRMBt5MoYMdtG4lJXHnTSo11933EY31GZv0e4sQrds0xpiAaq6k5xxgazzDN2lLgEnqqJSUqOZKEWndSuHEzwIaQvRsoKStBfqZ2SkpvHfN0SZwctKaTwm68yHpSbMrbTlwjpl1Sen9pXY1zTLbnNL7q+ZKWtQJLEWU2rp1923AfmBoGu8vtcvMOgLjiGamp0E1V9KiawUpoonAyvjZQImKT8e/BUxK+r1rkTaBE2BmvYDTieb3pkEzUCQtaX6x2w9sILoAF0lSWjPYm6jmSuLiTsfUv9iZma7tJGlprltQzZV0jAY2xTPT06B1K2lJs+auB041s74pvb/ULl0rFIS+KCRjIrAivkORhhXA2WbWNaX3l9qVRbHW3WZJmtatFNEZQEM8SzJx7r4D+BgYnsb7S01TzZUi0rqVwomfSTGWqOsxce7eSNQdPymN95eapppbENoETkaa84Bx9wPAO8C5aX2G1J54pk5/ohk7adHcKUlDqjU3fu+J6qiUhKU546+Jaq4kKoMOdtC6lXSkXXM3AD3N7LQUP0Nqz1hgY/yMirSo5koa0q65WrcJ0RfcZKQ5D7iJ7nxI0iYBb6XYwQ5at5KOVGuuu+8CdgEj0voMqUlpb6SBaq4kbyiwP57dmxatW0lDqjU3Hkm1FK1dSZauFaRwzKwz0UNkl6f4MSuBs8zs5BQ/oyZoEzgZWRVrzUCRJGWxbpcSdVR2SPlzpEaY2anAqUQzzdKkmitJ07WCFFEW67YO6GZmA1L+HKkR8UmeSajmSvHoWkGKaBywIX4mUCrc/RDRM7jGp/UZtUKbwBWK5/SOIprbmya1v0vSUj+a7O4fAduAs9P8HKkpk4Fl8UyzNKnmStI0DkKKKItrBUedaZKs4cDH8az0NKnmStKyuFZYBQw1s+4pf47UjizWLajmJkKbwJU7F3gnntubpmXAueqolARlcacZ9MVOkpXF+B3QupUExTMjewLvpvxRm4COZnZ6yp8jtUPXClJEWrdSOHEH+0Sik5SpcffDRBvBE9L8HKkpqrkFok3gymWy4N39Y2Ar0awVkYqYWTfgLKLZOmlTsZYkZXqRET8USaRSk4GlccdjatRRKSnQFzspoqzW7RrgDDPrmcFnSfUbAeyKn02RNtVcSZKuFQpEm8CVy2rBg+b3SHLGA2/Hs3XSpnUrScqq5m6Jfx2cwWdJ9dO1ghROPKO3G9HM3rRp3UqSsmrSaSBqqJiY9mdJTdC1ghROfFJ9Ail3sMeaTsd3yuCzqpY2gSt3HtkVa81AkaRkNbeH+HPUUSkVi2eXDSM6wpaquKNSNVeSknnNzeizpLpNBpak3cEeexsYaGa9M/gsqX6quVJEWrdSRGcD2+NnAaXK3fcC7wGj0/6saqZN4ArEdz3OJZu7HqD2d0lOZnea3b0eOAQMyeLzpKpNAFbFs8yyoJorScm6u0frVpKQ5bXCEWA56qiUCsUz0TsSzUjPgmquJCXLa4W3gDHqqJQEZLluQTW3YtoErsw5wNZ4Xm8WNKNSkqJiLUWkdSuFY2Y9gDOIZkdmYS3Qz8z6ZPR5Ur1Uc6WIsuxgB61bSUD8/T7LG2+fABuBsVl8nlQ1XSsUjDaBK5Ppgnf37cAnRMehRdolvuM7jmimTlY0d0qSEOIiQ+tWKjURWBnPjkyduzcSdfhMyuLzpKqp5koRZb1ulwOjzaxLhp8p1WdQ/OuWVl+VLNVcSYKuFQpGm8CVyXIecBPN75FKjQbej2fqZEXrVpKQdc1dD/Qxs74ZfqZUnyxn/DVRzZWKxLN5Tyea1ZsVrVtJQqY11933A+uIGixE2us84M0MO9hBNVcqFHewZ32duwSYZGbay2wn/Q9Xmclk/8VO7e9Sqazv1oHWrVQo7mAfQ9ThmIm4o3Ip6qiUyqjmShFNBJbHs3qzsgIYaWZdM/xMqT6quVJEWrdSREOAQ/EzgDLh7juA3cDwrD6z2mgTuJ2yntvTgtrfpVIh1u27QE8z65fx50r1GAtsdPd9GX+uaq5UStcKUkSZr1t3P0g003p8lp8r1SOehd6PaB1lSTVXKhXiWmEp6qiUyoRYt6CaWxH9hW+/YcAn8ZzeLOnYhlQq86PJ8dEm3W2WSoQYvwOquVKBeEbkOUQzI7O0EhhuZidn/LlSPUKMMQHVXKnMJGBZfJInS1q3UqkQ3892ATuAkVl+rlQVXSsUkDaB2y/EKAiA94CuZjYgwGdLwcV3eicR7o6dirW0V6iaq3UrlRgHrI9nRmbG3Q8Ba1BHpbRfyO4e1Vxpr1Drdikw3sw6BPhsKbj42ROnABsCfLxqrlRC1woFpE3g9guy4NVRKRUaDux2950BPlvrVioR6iJjNTDUzLoH+GwpvlDrFlRzpZ3imbwjiWb0Zk3rVioR6vvZbmA7cHbWny1VYRJhOthBNVcqE3QcRDyiVcqkTeD2C/3FTjNQpD20bqVw4g72iUSdNply98PAqvjzRcqlmitFdC6wNp7Rm7VlRB2VHQN8thSfaq4UkdatFE78rJ+eRM/+ydomoANweoDPLjxtArdfqPmUoBko0n6h5vZAdDR5sJn1DPT5UlwjgV3x7LIQVHOlvULWXK1baa9g69bdPwY2E83SFilZPAP9LKKZ6CGo5kp7Bb9WUEeltMNkYEl8Uj1T8Weq5raTNoHbIZ7H2xWoCxRBxzakvYLdaXb3BqKjpeqolHKFmgfcRDVXyhbPhhxPgA722FvAWDPrFOjzpbhCdqWBaq60z3hgTTwTPQStW2mvkDV3K9AIDA70+VJculYoKG0Ct0+wux6xd4CBZtY70OdLcalYSxFp3UoRnQ1sj2dFZs7d9wLvA6NDfL4UmmquFFEu1q06KqUc8TMnhhI9gyJzet6QVCAXNTfg5xeWNoHbJ+iCd/cjwHKiIfIiJTGz04GORDN0QtHcKWmP0BcZbwFjzKxzwAxSPKHXLajmSpniWbzjiWbzhqJ1K+0R+vtZPXAIODNUBimkCcCq+BkUoajmSnuEvs7Vum0nbQK3T8h5wE00A0XKdR7wZsAOdtC6lTLFHTVBa667f0L00IOxoTJIIYWc8ddENVfKdQ6wOZ7NG8oSYJI6KqVMqrlSRFq3UjjxM37OIHrmTyhrgdPMrE/ADIWkTeD2CT2fEtT+LuULfbcOog72UWbWJXAOKY7BRLPKtgTOoZor5cpDzdW6lXIFX7fuvh3YBwwLmUOKI559Ppbo5E5IqrlSruA1F61bKd9EYEX8zJ8g3L2R6NTSpFAZikqbwGWK5/AOJJrLG5KKtZQr+EWGux8A1gPjQuaQQgk9g72Jaq6ULO5gDF5z+XNHpa73pFR5WLegmivlGQ28H89CD0nrVsqVh5q7ATjFzPoGziHFkYd1C6q57aIvBeWbBCyP5/KGtAIYaWbdAueQ4sjDcSOIMmh+j5QqD+N3QOtWynMmcDCeERmMu+8EPgLOCplDCkXXClJEWrdSOPGzJsYQuIM97qhcijbTpHSquQWmTeDy5eKuh7sfJOpGPjd0Fsm/eFZOX2Bd6Czojp2UJxc1l+jieII6KqVEeVm3oJorJYo72CeRj7WrdSvlyEvN3Qh0N7N+oYNIIYwF3o2fPRGaaq6UIy81V+u2HfRltnx5mAfcRIteSjUJeCu+0xua1q2UIxc1190/BHYCI0NnkULIy8UxqOZK6YYB+9z9g9BB0LqV8uSi5sajq5aitSulycW6janmSkniZ/uMInrWT2irgOFmdnLoIEWiTeDy5a1Yq/1dSpGndbuUqKOyQ+ggkm/xbLJTiGaV5YFqrpQqTzVX61ZKlad1+x7Q1cwGhg4i+Raf0JlEftauaq6UKk81V+tWSjUOWB8/6ycodz8ErAEmhM5SJNoELkM8f/dsonm8efAmumMnpcnL3B7cfTdQT3QHUaQ1k4FlOelgB9VcKV1uai7xuo2P+ou0JjfrNu6oVM2VUpwFfBTPQM8DrVspVW5qLrAaGGJmPUIHkdzL07oF1dyyaRO4POcCb8fzePNgGXCumXUMHURyL093mkFHjqQ0uRgF0YLWrbQpngXZnWg2ZB5sJrreOz10EMk9XStIEWndSuHEHewTiE5IBufuh4mO1qujUtqimltw2gQuT64WvLvvIfpyd07oLJJf8Yyc4UT/Yc8LFWspRa5qLvG6VUeltGEysDTuZAwuzqGaK6XIZc0NHUJyL2/r9m1gsJn1Ch1Ecm0ksDN+5kReqOZKKfJWc7Vuy6RN4PKcR74WPGh+j7RtPLAmnpmTF1q3Uoq81dytQCNwRuggkmt5uzgG1VxpQzx7tyvRLN680LqVUuSq5rp7A9HowImhs0iu5WrdxlRzpVXxM31y08EeewsYZ2adQgcpCm0ClyePxVozUKQteZvbA5pRKW2IZ5KdSTSjLBc0o1JKlNuaGzqE5Npk4M28dLDH3gEGmFnv0EEkn+LrSNVcKSKtWymiUUB9/IyfXHD3vUAdMCZ0lqLQJnCJ4rm755Kvux6g9ndpW+5uXrj7NuAA0SafyPFMAFbGM8ryRDVX2pK7movWrbQtd+vW3Y8QdfhMChxF8ut0ou+zm0MHOYZqrrQldzUXWA78/9n78yi9rvO+8/1uYiygMBSGqgJnEhwAkiABqu3Ibl5bkpWsZVlOO52+176Jk+50cqN27G6ndW8n9o3XcmzJvZK+diTLFkVKlhWJFE1ZJkVZgynZEikJNGlJJEiABCAMJEACRKEKcxVQhUIB+/5x9vuiUKjhHc7z7n3O+X3W4rJFFqo2fnjwvOfd73P22eCcWxh7IZKsFOsW1HObok3gxt0JHA7n8KZEZ1TKXNSspYhUt1I44QzI68jOhEzJPmC1c64n9kIkWeq5UkRbgG2JTbCD6lZmEd63J9dzvffngDeAu2KvRZKVXN0G6rlN0CZw41I7mxIA7/0QMEz24C+RK4Szce4GXom9lmm8hM6dkpkl2XNR3crs7gN2hDMhk+G9v0T2OqALZJlJircmg3quzC7Vut0B3OGcWxR7IZKk64GLZM+aSI16rswm1Z6rum2CNoEbl+qnHqBPPmRmG4GD3vuzsRcyDdWtzCbVnvsGsMI5tzr2QiRJqdYtqOfKDMKZu73A3thrmYbqVmaTZM/13o+R3YFxT+y1SJJSnWAH9VyZQaoT7ME24D7nnPY3G6CQGreFND/1ADVrmVmqjRpUtzKDcBbZBrKzIJMSJipfRrUr01PPlSLaTDbBfjH2QqbxGrDeOdcVeyGSJPVcKSLVrRTRjcBYeLZPUrz3J4BTwK2Rl1II2gRuQOKfeoCatcws5bo9ACx1zvXGXogk5y7gjXA2WYrUc2UmKfdc1a3MJNm69d6fB/agiUqZIpxxvpps4jZF6rkyk2R7LtmggyYqZTop1y2o5zZMf7kbcwswEs7fTZHOQJGZpHpuD+EWKDVrmU6q5wHXqOfKVcLZj3eQnQWZop3ALc65JbEXIslJ9lohUM+V6WwBXgl36KRIdSszSbbneu9PAkPA7bHXIslJtm4D9dwGaRO4MSkfBQHwFrDQOdcfeyGSjvAJ7n2kvZmmTWCZTuo9V3Ur07kH2BfOgkyO934c2AXcG3stkhxN90gRpV63LwObnHPzYi9E0hGeKbGC7BkTqVLPlemk3nNVtw3SJnBjki54TVTKDG4FToUzclKlupXpJN1zgd3ADc657tgLkaSkXregnitThLN215OdvZsq1a1MJ+me670/AwyQ3SEiUrMFeDnhCXZQz5XpJd1zCXUbjnKVWWgTuDGp35oMatZytdQbNahuZYowMXMf2QRNkrz3F8hurddEpUymnitFdA+wJ5y9m6pXgHucc/NjL0SSop4rRaS6lcIJz/BZSvZMn1QdJtvfXBd7IanTJnBjitCsdQaKTFWEDy9+BFzrnFseeyGSjNuAY+FMspSp58pURei5qluZKvm69d4PA4eADbHXImkIZ5vfQvaBbMrUc2Wq5HsuoW41USmT1CbYfeyFzCSsTT23AdoEnkM4Z3ch8GbstcxBn9jJVKmfq4r3fgJ4lWzyUwQKULeBeq7UhQn2TaT/xm47cJdzbkHshUgy1HOliO4FdoWzzlOmupWpku+53vsjwARwfey1SDKSr9tAPbcB2gSe2xZgW8qfegR7gV7n3MrYC5H4wie3RfikGdSs5UpFuPMCVLdypTuAgXAGZLK892eBg8DG2GuRZKjnShEVqm41USkA4VkSN5A9WyJ16rkyWaF6buxFpE6bwHMrxEaa9/4i2YTP5shLkTRcG/7v4airaIxu25DJCtFzyfrtBufcwtgLkSTcTzEmJEA9V4Jwxu49ZGfupk51K5MVoud6748Co8BNsdciSbgPeC08WyJ16rkyWSF6LqrbhmgTeG5F+dQD9MmHXFaUCXZQ3UoQJmUK0XO996PA68DdsdciSShE3QbquVKzATgUztxN3TZgsyYqJVDPlSJS3UrhhGf3rCN7lk/q9gOrnHOrYi8kZdoEnltRzj8BNWu5rEgXGa8CtzvnFsVeiER3PdkZZEdiL6RB6rlSU6Seq7qVmsLUrff+GDBM9jAwqbBwpvldZHfkFIF6rtQUpueiupXL7gNeDXeeJ817f4ns7qbNkZeSNG0CzyKcr9tLdt5uEahZS01hLjK892PAPrJbUqXaijTBDuq5QrEm2IPaRKWuAaVIdQvquZLZCBwMZ5wXgepWaorUc98AVjjn1sReiERXpLoF9dw56Q3A7DYDO4rwqUfwGrDeOdcVeyESXVHO7anR+T0CxTkPuEZ1K5Cd9Tgazn5Mnvf+BHACWB97LRKdrhWkiFS3UjjhGRIbKMgEe5io1GaagHpu6WgTeHaF+tTDe3+e7KyWTbHXIvGEM3BWkZ2JUxS6yBAoWM8FXgbudc7Ni70QiapodQvquZUXJtg3U6zaVd0KFK/nHgS6nHO9sRciUd0NvB6eKVEU6rkCxeu5qts5aBN4dkU6D7hGRS+bgVfCJ7hFoboVKFjP9d6fAoaA2yIvReIq2sUxqOdKdrbucDhrtyhUtwIF67nhiKuXUe1WXaHqNlDPrbjwzJ7byZ7hUxQ7gZudc0tiLyRV2gSeXdFuTYZsA0XNutqKeJHxMrBJE5XVFc4cW0F2BlmRqOdKEXuu6laKWLdvAQucc+tiL0TiCGeZb6Z4taueK0XsuapbuQfYF57hUwje+wtkG8H3xl5LqrQJPINwru56snN2i2QbOgOl6op2bg/e+zPAEeDO2GuRaLYALxdsgh3Uc6WAPZdQt+FIAKmmwtVtmKjUZFq1rQdOhLPNi0TXClK4ngvsBm5wznXHXohEU8S6BfXcWWkTeGabgN3hnN0ieQW42zk3P/ZCJJoiftIMemNXdYU6CmIS1W2FhTMeu8jOfCySt8P/vTbqKiQmXStIEalupXDCnY73kt35WBje+wmygbj7Yq9FolHPLSFtAs+skAXvvR8BDpE9fVQqxjm3FLiZ7BaIolGzrrZC9lxC3WqisrJqE+w+9kKaoYlKoeA9N/YiJJqi1u2PgHXOueWxFyJR3AYMhWdJFI16brUVteeqbmehTeCZFfE84JqX0Ph7Vd0L7Apn4RSN6rbaCtlzvfdHgAvADbHXIlEUsm4D9dyKCmfqLiQ7Y7doVLfVVsie672/COwgO89YqqeQdRuo51ZUUSfYg+3AXc65BbEXkiJtAs+sqJ96gD75qLKi3lIPWd1u1kRl9YSzxm4gO3usiNRzq6voPVd1W01bgJeKNsEe7AXWOudWxl6IdFa4PlTPlSJS3UoR3Qm8HZ7dUyje+7PAAeCuyEtJkjaBpxHO072b7HzdIlKzrq7CfnjhvR8ERoGbYq9FOu4+4NWCTrCDem6VFbbnorqtssLWbXh46HY0UVlFtTPM3571q9Klnltdhe25ZBPsdzrnFsZeiHRckesW1HNnpE3g6W0ADnnvh2MvpEW1iUr9+VaPmrUUkepWCiec7biO7KzHItoPrHLOrYq9EOk49Vwpoi3AtoJOsIPqtpImTbAXsud670eB18kG5KRaClu3gXruDLRJOL0in9uD9/4YcAa4JfZapHPCmTd3kU3IFJXOnaqmQvdcVLdVtRnYEc56LJwwUfkyukCuovsp7q3JoJ5bVUWv21eB251zi2MvRDrqBuBCeIZEUannVlPRe67qdgbaBJ5e0T/1AH3yUUV3AQfCGThFpbqtpqL33DeAZc65NbEXIh1V9LoF9dzKCWfpriU7W7eoVLfVVOie670fI/t7d0/stUhHFbpuA/XcigkT7Jspdu2+DNynu+OvpkCmV+TD22vUrKtHFxlSOM65RWQPHijsBHu4NfVlVLtVo54rRbQZ2B4mwYvqNeBW59yS2AuRjlLPlSJS3UoR3QSMhmf2FJL3/gRwAlgfey2p0SbwFOGTgjI0a42/V0/Rb6kHOAh0Oef6Yi9EOuZu4PVw5liRqedWTxl6ruq2egpft977cWA3sCn2WqQznHOrgVVkZ5kXmXpu9RS+53J5onJe7IVIx5ShbkE9d1raBL7aLcCZcK5ukekTu+op/AR7mKhU7VZLGT50A9VtpYQzHW8jO+OxyHYBNznnlsZeiHRM4a8VAvXcatkMvFzwCXZQ3VZR4Xuu9/4UcBS4PfJSpHMKX7eBeu40tAl8tbIU/CFgvnNuXeyFiL0wwX4f2Se1RadmXS1l6bmq22q5B9gbzngsLO/9BWAncG/stUjH6IM3KaKy1O0rwD2aqKyG8KyIZWTPjig69dxqKUvPVd1OQ5vAVytFwWuisnLWAyfC2TdFp7qtllL0XLJbk693zi2LvRDpiLLULajnVkY4Q/dWsjN1i051Wy2l6Lne+zPAEbJnIUj5bSGbYPexF5ID9dxqKUXPJdRteNCdBNoEvlpZzj8BnYFSJapbKZwwCVOKCXbv/QTZ0QD3xV6LdIR6rhTRJuBH4UzdonsFuNs5tyD2QqQj1HOliFS3Ujjh2TxdZM/qKbq3AQ9cF3shKdEm8NXK8qkH6BO7KinLLfUAe4B+59yK2AsRc7cDg+GssTJQz62OMvVc1W11lKZuvfcjwFvAhthrEVvhzPKbyI6uKQP13OooTc9FE5VVsgXYVoYJdt0dPz1tAk8Szs+dT3ZRWQYq+OoozYcX3vuLwA40UVkFZbo4BvXcSggT7PeQTSKWwXZgoyYqK6E01wqBem413AvsDGeYl4HqtjpK03O99wPAOHBD7LWIudLUbaCeO4U2ga9Umk89gr3AWudcT+yFiJ3wiayatRSR6laK6E7gSDjbsfC89+eAA8BdkZci9tRzpYhKWbeaqCy38IyI68meGVEW6rnVUMqeG3sRKdEm8JXKdG4P3vtLZJNKmyMvRWzVzrh5O+oq8qVzp6qhVD2XbIL9TufcotgLEVNlq1tQzy29MOldpgl2UN1WRal6rvd+EDgL3Bx5KWLrPuC18MyIslDPrYZS9VxUt1fRJvCVyvapB+iTjyrYArxUogl2UN2WXhkn2L33o8B+4O7YaxFTZTvGBNRzq2AD8GY4S7cstgGbnXN6P1Nu6rlSRKpbKZzwTJ5+4Eex15Kj14GVzrnVsReSCl00XUnNWoqoVBtpwavAbc65xbEXImZuAMa990diLyRn6rnlV8aeq7otv9LVrff+OHAauCX2WsSGc24hsJHs7PIyUc8tv9L1XFS3VXAfsCM8o6cUdHf81bQJHIRzc9eSnaNbJhp/L7+y3bKB9/48sAfYFHstYqZ0dRuo55ZYGSfYg23AfZqoLDX1XCmiu4AD4ezyMlHdll8Ze+4bwDLn3NrYCxEzZaxbUM+9gi72L9sMbA+fFJTJTuAW59yS2AsRM2WcYAd92lx2ZdxIA9Vt2d0MnA1nOpaG9/4kcBy4LfZaxIyuFaSIVLdSOOHZEHeQPSuiNMLRg6rdclPPrQBtAl9Wyg0J7/042VNJNVFZQuFsm5VkZ92UjZp1uZWy5wIvA5ucc/NiL0RMlLVuQT23tMKE92bKWbuq23Ira899E1jsnOuLvRAxcTewPzwromzUc8utrD1XdTuJNoEvK+unHqCiL7PNwCslnGAH1W3ZlbLneu9PA4PA7bHXIibKenEM6rlldgtwOpyhWzbbgPvDUS1SPqXsuZqoLL1S1m2gui2p8Cye28iezVM2u4CbnHNLYy8kBdoEvqys55+AzkApszLX7ctkE5XzYy9E8hXOEltGdrZYGannlleZe67qtrzKXLeHyN7PrIu9EMnXpAn2l+OuxIx6bnmVueeqbstrE7A3PJunVLz3F4DXyB58V3naBAbCebm3kBVGGekTu/Iq5TQlgPd+GDgM3Bl7LZK7LcDLYRKmjNRzy6u0PZdQt5qoLKXS1q0mKkvtNuCY9/5E7IUYUd2WV2l7LvAj4Drn3LLYC5HclbluQT23TpvAmU3A7nB+bhltB+5yzi2IvRDJXZlvNwI167LSRYYUTji7cTHZWY5ldAS4BFwXeyGSO10rSBGpbqVwwjMhNlHSCXbv/QTZcQGaqCwf9dyK0CZwpsy3bOC9HwHeAjbEXovkJ5xpcxPZGTdlpWZdTqXuuWiisqy2ANvKOsGuicpyCn2oEj039iIkd2XfkNgD9DvnVsReiOTqdmAwPCOirNRzy6nsPVd1G2gTOFP2gged31NG9wE7wxk3ZaW6LadS91zv/QBwHrgx9lokV2XfSAP13DJaB8wjOzu3rFS35VTqnuu9v0h2t+bmyEuRfJW6bgP13JIJz+DZBLwSey2GtgMbnXMLYy8kNm0CZ0q9IRHok4/yKfst9ZDV7WZNVJZHOEPsOmB37LUYU88tn6r0XNVtuWwBXirrBHuwD1jtnOuJvRDJR7juU8+VIlLdShHdCRz23p+JvRAr3vtzZA8lvyv2WmKr/CZwOCf3bsr9qQeoWZdR6T+88N4PAWeBmyMvRfJzH/BqOFOszNRzy6f0PRfVbRmVvm6995fQRGXZXEd2RvmR2Asxpp5bPqXvucAO4A7n3KLYC5HcVKFuQT0X0CYwwEbgzXBubpnVJir1Z14eVbjdCHTLUdmobqVwwpmN/WRnOJbZ68BK59zq2AuR3KjnShHdT4nPYJ9EdVsiFTmDHe/9GNkdGPfEXovkpvR1G6jnok1gqMinHt7748Ap4NbIS5EchLNsNpBNvpSdPrErl0r0XFS3ZbMZ2BHOcCytMFH5MqrdMlHPlSKqSt2+Bqx3znXFXojk4kbgfHg2RNmp55ZLVXqu6hZtAkN1Ch5U9GVyF/BGONum7FS35VKVnnsAWOqcWxt7IZKLKpzxV6OeWxLhjNw1wN7Ya+kA1W25VKLneu/Pk91hoonKcqhE3QbquSURJtg3U433Zy8D91b97vhK/+YDNWspoqpspIHqtjTC2WF3kJ0lVmrhFtaXUe2WhXquFNFm4JUw4V12O4FbnHNLYi9EcqGeK0WkupUiuhk4670fjL0Qa977k8Bx4LbYa4mp0pvA4ROAzVSnWesMlPKoyrk9AG8Ci5xz/bEXIm27B9jvvR+NvZAOUc8tjyr1XNVteVSmbr3348Au4N7Ya5H2hDPJV5KdUV4F6rnlUZmey+WJynmxFyJtq1LdgnputTeByc7HPR3Oy62CbcCWMPIvxVaZCfYwUalPm8uhShMSoLothXBW43rg1dhr6ZDdwA3Oue7YC5G2VeZaIVDPLYctwMsVmWAH1W2ZVKbneu9PAwNkd/hJsVWmboPK99yqbwJXreAPk/2Zr4u9EGldmGC/l+wT2KqofLMuiar1XNVtOdwD7AlnN5ae9/4C2a31mqgsPn3wJkVUtbp9BbjHOTc/9kKkdeEZEEvJnglRFeq55VC1nlv5uq36JnClRt/DROVLVLzoS+A24Hg406YqVLflUKmeC/wIuNY5tzz2QqQtVbs4BvXcwgtn495CtqFfFarbcqhUz/XeDwOHgDtjr0XaUptg97EX0kHqueVQqZ5LqNsq3x1f9U3gqhU8ZL/fSp+BUgJV20gD1W3hhTPDNlGhCXbv/QTZEQL3xV6LtEU9V4roXmB3OCu3KrYDdzvnFsReiLRFPVeKSHUrhROeubOY7Bk8leC9PwJcBK6PvZZYKrsJHHb+q7oJrE/siq1qt9QD7AV6nXMrYi9EWnYHcDScIVYl6rnFV8Weq7otvsrVrff+LHAQ2Bh7LdKacBb5DWQP+asS9dziq1zPRc8bKoMtwEsVm2CHivfcym4Ck52Lew3Z7TdVUumCL4nKfXjhvb8I7AA2R16KtK6KF8egnlto4YzGe8jObKySHcAG59zC2AuRllXuWiFQzy22e4Gd4WzyKlHdFl/leq73/igwBtwYey3SssrVbVDpnlvlTeD7gW0V/NRjH7DaObcq9kKkeeGT1irebgTZBqJuOSou1a0U0QbgcDizsTK89+eA14G7Y69FWqaeK0VU1brVRGWBhWc/XEf2LIiqUc8ttqr23ErXbZU3gSv5qYf3/hLZRNPmyEuR1lxPdobNkdgLiaDSn9iVQCV7LtmZwLc75xbFXoi0pKp1C+q5hRXOxL2L7IzcqlHdFlsle673fggYJnuYoxTPfcCr4VkQVaOeW2yV7LlUvG61CVxNlS76gqvquT2gui2sCp/Bjvd+jOwOjHtir0VaUtVjTEA9t8g2Age99yOxFxLBNuA+51yV3+MUmXquFJHqVgonPGunD9gTey0RvAGscM6tjr2QGKp8gaRmLUVUyY204DVgvXOuK/ZCpGk3AmPe+4HYC4lEPbe4qtxzVbfFVdm69d6fAE4Bt0ZeijQpnEG+gexM8ipSzy2uyvZcVLdFthnYHp69Uynh7viXqWjtVnITOJyHu4ZsOquKKn0GSsFV9dwevPfnyc7a2hR7LdK0ytZtoJ5bQFWeYA9qE5XzYi9Emqaeq55bRHcDb4QzyatIdVtcVe65B4Clzrne2AuRplW5bqHCPbeSm8Bkn3q8Ej4BqKKdwM3OuSWxFyJNq/KGBOjT5qJS3apui+gWYCSc1Vg53vtTwBBwW+SlSPPUc9Vzi0h1q7otnPDMhzuo6AR7OKJQtVtM6rkVrduqbgJX+SgIvPcXgF3AvbHXIo1zzq0BVpA9sb2qKtusC67SPZfsdqNNmqgsnKrXLajnFk44C3czemOnui2eqvfct4CFzrl1sRciTbkH2BueAVFV6rnFVPWeW9m6reomcNVH36HC4+8FtgV4ucIT7KC6LapK91zv/RngCHBn7LVIUypdt4F6bvGsB05674/HXkhELwH3hyNdpDgq3XPDROVLVHRTosAqXbeBrhUKJjxj5zayZ+5U1S7gBudcd+yFdFpVN4GrPvoOFf7ko8BUt/AKcLdzbn7shUhjwhlhS8jODKsy9dziUc9V3RaR6hbeDv/32qirkIaFO2XuJbtzpsrUc4tHPVd1W0SbgB+FZ+5Ukvd+gmwT/L7Ya+m0ym0Ch3NwbyY7F7fK1KyLp/IXGd77EeAQ2dOjpRhqE+w+9kIiU88tnsr3XELdaqKyUCpftzqjspBuA45570/GXkhkqtviqXzPJXtw9zrn3PLYC5GGqW4zley5ldsEJvuUeZf3fjz2QiLbDtzlnFsQeyHSsKqf21NTyWZdYKrbjOq2QMKZjAuBN2OvJSbv/RFgArg+9lqkYeq5GfXcYlHdZlS3BRIm2DdR8Ql27/1F4FUqOFFZYOq5mUr23CpuAuvcHsB7f5bs9uy7Ii9FGhDOqrkR2B17LQnQuVPFop6b0URlsWwBtmmCHVDPLYzQX9RzM6rbYlHdZvYCvc65lbEXIg25Exjw3p+OvZAEqOcWi3puppJ1W8VNYI2+X1bJTz4K6j7gNe/9hdgLSYDqtljUcwHv/VFgFLgp9lqkIarby9Rzi+NawAGHYy8kAarbYlHPpT5RuR3YHHkp0hjV7WXquQURnq1zN9mzdqpuB3Cnc25h7IV0kjaBq03Nujh0y8Zl24DNmqhMXzgb7Fqys8JEPbdI1HMvU90WxxbgJU2wA7AfWOWcWxV7ITK7cD2nnnuZem5xqG4vU90WxwbgkPd+OPZCYvPejwKvk22KV0alNoHD+bd3oU89atSsi0MfXgTe+2PAMHBL7LXInO4DdoSnr4p6bpGo516mui0O1W3gvb9Edr2/OfJSZG7XAxPhDHJRzy0S9dzLXgVud84tjr0QmZPq9kqV67mV2gQm2wA+GM7DlcsTlVWrgyLSuT1XquT5PQWkur2S6rYAwlmMfWRnM0o2IbHcObcm9kJkTuq5V1LPLQbV7ZVUtwUwaYJdtQt478fIrpvuib0WmZN67pUq13OrtvmnRj2J9/4EcAJYH3stMrNwRs2dZGfWSKZyn9gVlHrulVS3xbAZ2B7OZqy8cLTAy6h2i0A990rqucWgur3Sa8Ctzrmu2AuRWd0EjIVnPkhGPbcY1HOvVLm61SawVK7oC+hu4HXv/bnYC0mI6rYY1HOvdBDocs71xV6IzEpn/F1NPTdx4ezbVcC+2GtJiOq2GNRzJ/Hej5M9S2FT7LXIrFS3V1PPTVy4A3wzen822cvAvc65ebEX0ilV2wS+HzXrqSo3/l5AumXjaqrbxIUzwe5AE+x1YaJSF8jpU8+9mnpu+rYAr4SzcCWzE7jZObc09kJkVuq5V1PPTZ/q9mqq2/TdAgx774diLyQV3vtTwCBwe+SldExlNoHDpx73oWY9lTYk0qdpyqsdAuY759bFXojM6B5gbzgjTC5Tz02feu7VVLfpU91O4b2/QLYRfG/stcj0wlnjy4E3Yq8lMeq56VPPvdorwD1VmqgsINXt9CrVcyuzCUx27u3JcA6uXLYN2BIOt5c0qVlPoYnKQlDdTk91m7BwBuN6sjMZ5bLdwPXOue7YC5EZqedOTz03bVuAlzXBfhXVbfrUc6fw3p8BjpA9y0bSpLqdXqV6bpU2gXVuz/TeDv/32qirkGmFT1LvRc16OpVq1gWknjs91W3aNgG7vffnYy8kJd77CbKN8ftir0VmpJ47PfXctKlup/cKcLdzbkHshcjVwrMdlgAHIi8lReq5aVPPnV6l6rZKm8A6t2caYaJS5/ek63ZgKJxVI1dS3aZNPXd6PwLWOedWxF6ITEt1OzP13ESFM29vJjv6QK6kuk2beu40vPcjwFvAhthrkWltAbaF99FyJfXctKnnTu8l4P6q3B1fpU1gjb7PrFKffBSM6nZmqttEhQn2TWRPW5VJvPcXyR6Wp4nKNKnnzkw9N133ArvCGbhype3ARk1UJks9d2bquelS3c5MdZuo8CydBWQfMMkk3vsBYBy4IfZaOqESm8BhR1/NemZq1ulS3c5sL7DWObcy9kLkKncCR8LZYHI19dx0qefOTHWbLtXtDLz358hu2b4r8lJkinDG+A1kZ47L1dRz06WeO7NtwOaqTFQWjCbYZ1eZnluJTWAun3d7OOoq0lWZgi8gndszg/AQke3A5shLkaupbmennpugMCl4N9lZjHK1HcCdzrlFsRciV1HPnZ16bpruA17VBPuMVLfpUs+dgfd+EBgFboq9FrmK6nZ2lem5VdkEvh996jGb/cAq59zq2AuRy8InqDq3Z3Y6dypNqtvZqW7TtAE45L0fjr2QFHnvR8muF+6OvRa5inru7NRz06S6nd02YItzrirv1wshPNPhWrJnPMj01HPTpJ47u8rUbVVeVHTLxizCROXLaKIyNTcAF7z3R2IvJGGV+cSuYNRzZ/cqcJtzbnHshcgVVLdzU89NTJhg30h2Z4xMT3WbJvXcWXjvjwGngVtir0WucB+wIzzjQaannpsm9dzZVaZutQksNZUp+gLRLRtzU90mRmewz817f57sTOt7Yq9FrqCeOzf13PTcBRzw3p+NvZCEvQzcp4nK5Kjnzk09Nz2q27mpbhPjnOsB1pK9/5DpvQEsc86tjb0Qa1W5GLofNeu5VGb8vUB0y8bcXgNudc4tib0QqbsZOOe9Pxp7IYlTz02Peu7cVLfpUd3OwXt/AjgO3BZ7LZIJZ4tvIDtrXGamnpse9dy5qW7TsxnYrgn2mYWjYyvxAUbpN4HDObc9ZOfYycwqUfAFo2nKOXjvx8meKr0p9lqkTnXbGPXchIQJwc2odufyMrDJOTcv9kKkTj23Meq5abkb2B/OGpeZqW7To547tzeBxc65vtgLkTrVbWMq0XNLvwlM9qbulXDurcxsF3CTc25p7IVInZp1YyrRrAtEddsY1W1abgHOhDMYZQbe+9PAIHB77LVInXpuY9Rz06K6bYzqNiHhWQ63kz3bQWZQpYnKAlHPbUwl6rYKm8A6t6cB3vsLwE7g3thrEQhn0SwDXo+9lgKoRLMuEPXcxrxCNlE5P/ZCBFDdNkM9NxFhgv0+9MauEarbtKjnNuYQMN85ty72QgTInuWwx3s/FnshBaCemxb13MZUom6rsAmsc3sap/N70rEF74DYmgAAkUJJREFUeDl8kiqzU92mRT23Ad77M8Bh4M7YaxFAddsM9dx03AacCGfeyuxeAu4PDy+V+NRzGxDeB6jnpkN12zjVbSLCs3NuJXuWjsxuN3C9c25Z7IVYqsImsEbfG1eJTz4KQnXbuO3AXc65BbEXUnXh7K/FwMHYaykI9dx0qOc2TnWbDtVt444Al4DrYi+k6sKZ4veSnTEuc1PPTYd6buNUt+nYBPwoPEtHZuG9nyA77uW+2GuxVOpN4HC+7U1kxxzI3NSs06GLjAZ570eAt8ieMi1xaYK9Oeq56VDPbdw2YIsmKpOgum2QzqhMyu3AoPf+VOyFFITqNh3quY3bA/Q751bEXoiobptU+p5b6k1gsk+Zd4bzbmVu24GNzrmFsRciOrenSS9R8mZdEKrb5qhuExDOWpxP9mGSzMF7PwCcB26IvRZRz22Sem4aVLfNUd0mIDzDYROaYG+I9/4i2d5CqScqC0I9tzml77ll3wTWuT1N8N6fA94A7oq9lioLZ9BcT3YmjTRmGzp3KgXquc3RRGUa7ge2aYK9Keq5kYW+oZ7bHNVtGlS3zdkHrHHO9cReSMXdCbwdnukgjVHPTYN6bnNKX7dl3wTW6HvzSj/+XgD3Aa+FM2mkMarbNKjnNsF7PwScBW6OvJSqU902Tz03vusAD7wdeyEForpNg3puE7z3l8gmKjdHXkrVqW6bp54bWXhmzt3AK7HXUiA7gDucc4tiL8SKNoFlKjXr+FS3zdsGbHbOlb2nJSuc+bUO+FHstRSMem586rnNU93GtwVNsDfrdWClc2517IVUVZhgV89tnnpufKrb5qlu49sAvBWeoSMN8N6PAfvJNs9LqbQbJuFc241kn5xK416i5OPvBXA/OrenKd7748Ap4NbIS6myzcD2cAaYNE49Nz713OapbuNT3TYpTFS+jDYlYroRGPfeH4m9kIJRz41PPbd5rwK3Oee6Yi+kwlS3rSl1zy3tJjDZubYHvPdnYy+kYF4G7tVEZVT6pLk1+rQ5LtVta1S3EYUzFtcAe2OvpWAOAEudc2tjL6TC1HNbo54bl+q2NarbiMIE+2ZUu03x3p8H9gD3xF5LhanntqbUPbfMG30q+BZ4708Cx4HbYq+lisLZM3eSnUUjzSl1sy4A9dzWqG7j2kw2wX4p9kKKJBxB8DKq3ZjUc1ujnhuX6rY1O4FbnHNLYi+kom4GznnvB2MvpIDUc+NSz21NqetWm8AynVIXfeLuBvZ570djL6SAVLdxqee25k1gsXOuP/ZCKmoLuk2uVeq5kYQzbXvIzqyT5qhu41LPbYH3fhzYDWyKvZaKUt22Tj03knBn92b0/qwVL5PdHT8v9kIslHkTWOeftK7UZ6Ak7n7UqFv1EnB/uGVLOiic9XU72dlf0oQwUfkSukCORT23dbpWiGcL8LIm2FuyC7jROdcdeyEVpZ7bOvXceFS3rVPdxnMrcNp7fyz2QorGe38aGADuiL0WC6XcBA6fetxHtoMvzdMndvFomrJ1h8l62rrYC6mge4A94Wmq0jz13HjUc1unuo1Hddsi7/0Fslvr7429lqoJZ4h3A2/EXktBqefGo57buleAe5xz82MvpIJUt+0pbc8t5SYw2Xm2x733J2IvpKC2AVs0URmFmnWLwkRlaZt14lS37VHdRhDOVrwVeC32WgrqR8B1zrnlsRdSQeq57VHPjaM2we5jL6SgVLfxqOe2yHs/TDaoc2fstVSQ6rY9pe25Zd0E1lEQ7TkCXASuj72QKglnztyLJtjboVuO4lDPbY/qNo57gV3hrEVpkvd+guwhpvfFXksFqee2Rz03DtVte14B7nbOLYi9kCoJz2xYDByMvZYCU8+NQz23PaWt27JuAutTjzZoojKaO4Cj3vtTsRdSYKrbONRz27MX6HXOrYi9kIpR3bZPPbfDwlm2N5KdbSutUd3GoZ7bBu/9WbKNyI2x11IxW4BtmmBvi3puh4U7utVz21Pau+NLtwnsnPvvgP8euCH2WorKObcUWAD8tnPultjrqYLwqf6fASedc6rd1t0M/JRz7t9GXkdlOOf+T7Inz94UeSlFtpHsDoyvx15IVTjnfgz4X4A14TkC0qRwUdwH/Cvn3E/GXk+FfJ3sYSV3xV5Igd1MNlH5+7EXUhXOuX8DvJsse2mBc+5a4Azw2fBAXjHmnLse+L3s/9XRR224EfjvnHP/Q+yFVMjngSVkD+6W1mwAHPDF2AvJWxkP6D5Odibw87EXUmDjwC1kF2qDcZdSDd77C865m8g+mDkXez0FdgFYDUzEXkiFdAMLybKX1pwl20SfF3shFTJAdhzEOe/9pdiLKSLvvXfOrQY2keUpndFLdlzX2dgLKbBxstetZbEXUiHjwFp0fdaOc2R3Dc4D9CDezjhGdq1wGDgfeS1FtoDsGQx6XlPnrAaWorptxyiwgizLUinjJvALwLeBfx17IUUVNiT/MfAb4dYj6Yz/Cmz13h+PvZAC+wjZpMlXYi+kQj4PrPLefyH2QorKe/+Gc+5/B1bGXktVeO/fcs59HV0rtOv/DnzWe/967IVUyKeBC977fbEXUlTe+y855/4r8GjstVTI18M//zn2QorKe3/KOffPgX+gowk6w3s/5pz7AvBR770201r3v5JtAj8XeyEV8qfADu+9Mm+R9/77zrn/TAkfIO30GiIiIiIiIiIiIiJSXjoHT0RERERERERERKTEtAksIiIiIiIiIiIiUmJJnQnc1dU1MDY21hfr5y9evPjo6Ohof6yfn7fYec6kLDmnlm9ZcoX0soXy5KtsbaSYa43ytaNs7ZQhW0gzX2VrpyzZ1qSSsXK1pXxtlC1XULbWYudbxlxjZzqd2DkndSawcy7qOffOObz3LtoCchY7z5mUJefU8i1LrpBetlCefJWtjRRzrVG+dpStnTJkC2nmq2ztlCXbmlQyVq62lK/ZOkqVKyhba7HzLWOusTOdTuyck5oEnurRRx9l/vz5LFq0iBtvvJGzZ8+yf/9+7rjjDubNm8c73/nO+tdeunSJa6658nSL7du389xzz/FjP/Zj/N3f/R2/+qu/yrPPPsvbb7/NP/pH/4iurq5O/5aSMTXbdevW8elPf5r3vOc9yrZFUzMdHR3l6aef5md/9mcbyvTDH/4w/+pf/Suee+45Tpw4wYYNG9i5cye/8Au/wFNPPcXdd9/NAw88wHe/+13279/Pv/gX/6LTv8UktFu7Dz/8MFu2bGHTpk38h//wH/gv/+W/VL52a9Rz85V3T3j3u9/NV7/61XpP+Gf/7J+xevXqek8AuOmmm3jPe97T0d9nDFbZ/vIv/zJPPvkk119/Pe973/t49NFHAbhw4UJlsp2s3Z7w9NNPc/r0aa655hrefvttfv3Xf53XXnuNF154gZ/8yZ9k48aNnf4tJWNqtsePH+fYsWPcdNNNTfXbX/mVX+HFF1/k+eef55577qlsv52q3XxrPaK/v59du3bx6U9/mne/+92cPn268vm2ex32yU9+kq6uLpYsWUJXVxfve9/7Kn2tMFm7PfdDH/oQv/iLv8jg4CCHDh3il37pl9RzuTrXXbt2cdttt3Hx4sWGcv3yl7+M957rr7++fn178OBBvvOd7/DAAw/wqU99il/91V/l+uuv7/RvLbq8sl2zZk29ZgcGBviTP/kTfuu3fovf/M3frGy2NVMzfuaZZ/j7f//vMzIy0lTP3bhxo96fTdFutg899BBLly5leHiYLVu28BM/8ROFyDbpM4F/6qd+ihdffJGenh6uu+46br31Vk6fPs11111X/5ovfOELfPnLX+bMmTM8/fTTPP3005w4cQKAgwcP0tPTwy233MKZM2cAWL16Nddccw3nz5+P8ntKxdRsX3zxRW6//XZl24apmb7zne/k7rvvbjjTBx54AICLFy+yYsUKjhw5ws/93M+xb98+3v/+9/P2228D1P8eVFW7tbt7927Onz/PM888wzve8Q5AtVujnpuvvHvCbbfdRn9/P11dXfT09DAyMgJc7gnXXnstw8PDnf+NRmCVrXOOI0eOcOnSJQAWLlzIwoULK5XtZO32hJtvvpnh4WHOnTvHqVOnAHjttdf4l//yX7Jjx44Yv6VkTM32gQce4OLFi033W4B3vOMdzJ8/v9L9dqp28631CICNGzdy7733cuONNypf2r8OW79+PXv27GHnzp2Mj48D1b5WmKzdnlt7rZpcv+q50/cDoOFcaxtBk69vb7rpJpYtW8bSpUu57rrrKnmNAPllO7lm+/v7ue222+rfp6rZ1kzNuJZJsz1X78+u1m62IyMjDA8PX/E+oQjZJr0JXNuJr21+7dmzh6VLl17xNXfeeSeQ7cxPTEwwMTGB956JiQmGhobYt28fe/fuZenSpezevZuVK1fivefNN9/s+O8nJVOzPXny5FUXB8q2OVMz/c53vsO73vWuK75mpkwhu0h77bXXuOaaazh9+jT9/f187Wtf44477uBrX/sa69atY/fu3dP+PaiSdmoXYMOGDRw8eJCzZ8/y6quvsn379srXbo16br7y7gkDAwNs27aNsbExenp62Lt37xU9obe3l9dff52LFy929PcZg1W2IyMj3HrrrUxMTNQ/MBofH69UtpO10xMA9u/fT1dXF11dXXR3d7Nz507uuusu/vRP/5R77rmns7+ZxEzN9nd/93e54YYbrviaRvrt7t27+a//9b8yf/58li9fXtl+O1U7+cLlHrF7926Gh4dZuXJlpV/PJmv3Osx7zz333MOGDRs4dOgQO3fuVLZBuz137dq17N2794r6Vc+9OtdaPpPNlmutf0y+vt2+fTsvvfQSY2Nj3HjjjezZs6ezv6lE5JXt5Jo9ffo027Zt4+DBg5XOtmZqxrW/55M10nP1/uxq7Wbb3d3NokWL6O3trb8vK0K2hTgTePfu3Vy6dIm77roLgFdeeYXu7m7Wr1+f988v1RkojZx/0qlsp6yrFDnHrtdp1lOKXCHN2i1LvsrWxmy5xuoJk9ZW2nyVbftS7AlhXYXPFubOV9m2LsXaLUu2Nam8tlUpV1DdtiuVa4ay5QrK1lrsnlvGXHWtMM3PL8ImMMDbb79NT09P/VyN/fv3T/uHUju/75d/+ZcB+MAHPsBv/dZv8cwzz9DX18cbb7zB0qVL+Wf/7J9N9/NLVfTNHILdSr5vvPEGf/VXf8XP/dzP8YlPfIL/9J/+U6PrKkXOjeTbbq7f+c536Ovr48CBA2zZsoUf//Efn209pcgV7LKFrCf83u/9Xv3cz7feemvObMOaSpFvin2hDNla57pv3z6++tWv8k//6T/lySef5O6772ZkZITTp0/zi7/4i3OtrTL5tpLtrl27eOaZZ/jn//yf88UvfpGNGzeyfft2urq6pr1WmLIuZTvFdD33D/7gD/ibv/kbli9fzr59+yqTLdi/njV6jTtlTcp2iulex/7xP/7HfPnLX+b6669n/vz5/OAHP+A//If/MNeaSpFtzVwZt9Nzf/7nf75eu2NjY3jv+YVf+IWZ1lGpXKGzfaFq+bbTF37xF3+Rv/zLv2Tjxo38zd/8Tf3s8BnWUapcwSbb2jXuL//yL/O9732Pvr4+RkZGZu25ZcwWbK/JvvCFL7B06VLe//73z/bzS5erZaaT3/d+//vfZ3R0lHPnziXfc5N+MBzA5z//eV588UX+4T/8hwwMDHDu3DnWr1/PkSNHWL9+Pd/5zncYHR1l06ZNXHfddSxcuLD+a3fu3MlNN93E6tWr6enpYffu3Vy4cKF+1p+0l2/trL/u7m42b94c7zeRoDxynT9/fr1uDxw4UP9kqury6Am1cz+vvfba+q1ycpn6go12cq2dWbtnzx7e//7389xzz3HvvfeydevWiL+jdLST7caNG3nhhRdYsGABFy5cALLz05599tlIv5u05NFzu7u7Wbx4MZcuXVK2k+ga105e12G1a4UtW7Yo20ny6LnLly+v1+4v/dIv8fzzz0f8HaVDfcFOHn1hYmKifq0w+RzbqsvjGnfNmjWsXbuW5cuXc/vtt6tup9FOzuvWrWNoaKj+0D7J5PW+t6uri/e+9718+tOfTr52kz4TuGbyzv373vc+jhw5Uv/fFy9evOJcjtr5fbt37+bIkSMMDw8zNDTE2NgYW7ZsqZ/bIZe1mu++ffvo6+vjxIkTbNu2jQMHDnR66UlrN9eRkZF63dbOsZVMuz3h7Nmz9XM/le301BdstJpr7czaG2+8sX5GeO28Vcm0mu03vvENjh8/zu7du3HOcfjw4fr5aZJpt+e+/fbbV3ydsr1M17h22n0de/XVV+vXCs888wzvec97Ov57SFm7PReo1+50ZzZXmfqCnXb7wrFjx+rXCtOdf1tl7V7jHjx4kCeffJLu7m713Fm0mnNfXx9DQ0P1/iuXtdsXzpw5w6lTp+jp6SlEz03+OIjdu3fzl3/5l/y7f/fvOvHzSzX+3uj5J53Kt6YsOc91Zo9ybV1q2YY1lSLfFPtCGbJNMdeaKuSrbFunbG3p9cyOsrU32/mfuk5oXWq1W5V8VbftU7a2Yl+TlTHX2JnOsCadCVzTzJmKRj+/VEUfO8+ZlCXn1PItS66QXrZQnnyVrY0Uc61RvnaUrZ0yZAtp5qts7ZQl25pUMlautpSv2TpKlSsoW2ux8y1jrrEznU7snAtxHMRMHn/88Ya+bmBggA9/+MMA/OZv/iaHDh1i69at/NZv/Zbl8gqr2Vy99zz11FN85Stf4bvf/S6f+cxn+MxnPsO3v/1t45UWV6MZA/z2b/82AwMD9dp95JFHdJ7iLBrN9sCBA/zJn/wJb7/9Nh/72Md49dVX+eY3v8ljjz1mvMLiajTbZ599lscee4zR0dF63SrbmTWa6+DgIJ/4xCf41re+Va/ZRx99lEcffZSvf/3rPPjgg0xMTBivtlia7bWHDx/mq1/9Kh/5yEfqNfvyyy/zJ3/yJ4arLKZmrxUuXbpUr9u3336bD33oQ3jv+ZVf+RXjlRZXoxkfPHiQz33uc+zfv5+Pfexj/MVf/AWf/exn+eQnP2m8wuJqtu/+1V/9FQ8//DBPPPFE/VpXptdsbxgdHeWpp57im9/8Zr03yPRavV74i7/4C12HzaHRbI8ePcrnP/95duzYwa/92q8BKNsGtHM99uijj/LCCy8Yrq7YWtkTe+aZZ3j88cfVc+fQbM995pln6vtiKV+HJflguI9+9KO8613vYuvWrXR3dzM+Ps7IyAi9vb2sX7+ep556invvvZd58+bx2GOPcejQIW677TYWLFjAz//8z3P48GF27NhBV1cXP/3TP01/fz+33XYbANdddx3Dw8O8853v5K233or8O+0sq1ydc6xbt44333yTLVu28NJLL7Fx40aGh4dj/5Y7Lu+Mh4aGWLJkCXC5dnft2kVfX1/k32nn5Z3t888/T09PDwcPHuTkyZOMjY3xwAMP8MQTT8T+rXZc3tmuXr2agYEBzp8/X6/bKmabd669vb0sX76cDRs2sHXrVsbGxuoPJxgZGeHee+9lcHCQa6+9NvLv3J5Vr503bx7XXnstN998M7feeitPPPEEmzdvZvfu3bF/yx1jda1w9OjReq998cUXuf322/ne975XyQdI5p3xTTfdxLJly+ju7ubkyZOsWrWKs2fPcu7cudi/1Y6z6rv/4B/8A55++mleeeUV/t7f+3u89NJLsX+rHWfVG7q6urjzzjsZHBys94aqsarb2vdctWoV73vf+yp3HQb5Z9vX18f58+eZN29e/cFwVbzGrenE9Vh3dzcDAwOxf6sdZ7kndvbsWQD13Jx77k/91E/xwx/+kDfffDPp67AkJ4HvvvtufvjDH7Jw4UIOHz7M8uXLuf/++3nve9/LwYMHce7y5PTo6CgbN27kjjvu4OWXXwayg50nJia4ePEiAKdPn64fNn7jjTeyZ88evvOd7/Cud70rwu8uHqtc33zzTYaGhpg3bx579uxh6dKl9Pb28vrrr9e/tiryznjv3r0459i/f3+9dqv6ILO8s73vvvvqB7uvXr2agwcPVvbBJHlnu3LlSrz3V/TcKmabd661f9fX11ev2VoNd3d388orr9Db29vp32YUVr328OHD7Ny5k3vuuades6+//jrbtm2rzOuZ1bXCvHnz6nV78uRJduzYwZkzZzhw4ACnT5+O8VuNJu+Mt2/fzksvvcTY2Bh9fX1cc801LF26NPkHk1iw6rvz5s1jYmKCe++9t36tWzWW7yP++I//mN7e3npvqBqruh0fH6/3hCpeh0H+2R46dIienh5Onz7N9u3b2bVrV2Wzhc5cj1X1AXxWPXdwcJDh4WEOHz6snptzz71w4UJ9Xyzl67BCngn8+OOP80u/9EsWP79UZ6A0e/6JVa5TlSXnVs6Xscy4LLlCetlCefJVtjZSzLWmivkq28YpW1sp9gZlq2wb1UzGusZtXGp9t8r5qm6bk0rtljFbiF+7ZcxV1wrT/PwibgIb/vxSFX3sPGdSlpxTy7csuUJ62UJ58lW2NlLMtUb52lG2dsqQLaSZr7K1U5Zsa1LJWLnaUr5m6yhVrqBsrcXOt4y5xs50OrFzTvI4iMmeffbZhs+AefDBB3nrrbf45Cc/yde//nWefvppvvCFL9T/+4EDB/id3/kd3njjDT7zmc/wwgsv8Ad/8AdWS09Ss3kODw/zG7/xGwB86lOf4sknn+TFF1/kgx/8IM888wyf+tSnOHToUP3XfPnLX+app57iwQcf5Pnnn+f73/8+f/Znf8bp06d56KGHTH5PKWkl36eeeopvf/vb9XrdunUrn/70p+tfNzIyUv8zqOU7OjrKBz/4QQ4fPtzUQftF10o/+NKXvsTf/u3f8s1vfpPf+73fq9dmzcjISP3P4KGHHuKRRx6p13iV8m0229HR0Xof3b59O5/4xCd44okn+PrXv17/usm1W+sfta+pSrat9IQvfvGLfO5zn+PDH/4wAwMDfPGLX+QP//AP+cIXvsBXv/rVK35NLfutW7fy+OOP17/m7Nmzpe+57dRsrR5/+MMf8vGPf5xdu3bx4IMPMjIyUv81Dz/8MN///vfr+dde8w4ePKhsJ5l6rVCr2yeeeIJPfepTfOtb3+LTn/70FccYfehDH2LPnj31/HWtMLOp+U7NrmZyv61dT9Re76rSb2uazXfXrl189KMf5fjx4/XrgKnXCseOHatfT9T6R603KN+ZTb0Wq13H1uzbt4+PfvSjDA0N8fDDD7N169b613z+85+v1Dmg7byHmPp6NVntda/Wm/UeYm61fP/oj/6I/fv31/tCzeRrhqnXwlWr25p26ndqXwD4wAc+cMV7tE9+8pM88sgjyrcBU99P1GqzprYn9oMf/KDed6u2JwbtXYtN3TOoOXDgQP16ona9VnuPllLPTe7BcI8//jjOOZYtW8bf/d3f8e53v5tnn32Wd73rXezYsYNnn32WBx54gJ/92Z9lx44dHD58mOuuu45NmzaxatUqlixZwpEjR7j22mu59dZb2bp1a/1733zzzdxyyy1cd911XLhwAcgetlVm7ea5bNmy+kNbVqxYwcTEBO94xzt47bXXuOmmm3j77bd59dVXuf766wF45zvfyfPPP8+1117L8PAw+/fvp6+vj0uXLrFy5cp4QRjJI9/Fixdz6dIlbr75ZrZu3cpP/MRPsGvXrvrP6O7urv8Z1PJ95plneMc73qH6nSPfG264gYMHD7J8+XJuv/12Ll26xNjY2BUPLezu7q7/GYyMjHDp0qV6jZc533aznTdvXr2PHjx4kJ6eHnbu3MmmTZvqP2Ny7db6x49+9CM2bdpU2mzz6AldXV28973v5ZVXXgHg3LlznDp1ii1btjA0NMTFixeZN28ecDn7Bx54gMcff5x169YxNDTE4sWLS9dz86zZWj3ecsst/PVf/zUbN27khRdeYMGCBfWft3v3bu666656/rXXvF27dinbWa4Vag/KuXjxIitWrOCaa67h4MGDzJ9/+ZKzdo1Qy//FF1/UtUKD+U7NrmZyv61dT9S+tqz9tqbdfFetWkVPTw8jIyP164BadjVr1qxh7dq1LF++vN4/RkdHOXXqlPJt4lps/fr1V2yu33bbbfT397Nnzx7e//7389xzz9Uf3qtcG38PMfX1qmZ8fLz+ulfrzXoP0Vi+r776KvPnz2dsbKzeF2omXzNMvRbu7++P9VvuqDzrt/b+tmbnzp3cdNNNV7xHW79+Pc8++yw/8zM/E/F33Tl5vp/YunUrPT099e9d2xMbHx+v992y9wPI91ps6p5BTVdXV/16onYdUXuPllLGyU0CL1u2DO89IyMj9acWrlu3jqeffpoLFy6wevVq+vr6ALh06RITExNXNOWzZ89y6623MjExwf79++nq6uJv/uZvgOyw5vnz519x4HjZtZvnhQsX2LZtGwcOHODUqVPMmzePvXv3smHDBhYsWMDIyAgbN26sb1rWDsbv7e1l79693HXXXYyNjZX2E7t28z1x4gQXL168ol5///d/nzVr1vDtb3+bS5cuXfFnUMv37NmzvPrqq4yPj0f5fXdKu/m+/fbbPPnkk3R3d/PMM8/wnve8p16btXwn/xl0d3ezaNGieo2XWbvZ1vrowYMHGRoaYt++fWzYsIFDhw5NW7u1/lH7msnfq0zazRXg1KlT9PT01B+E0dXVRXd3N319fQwNDXHo0CF27drFxMREPfva19a+5vjx4x3/vVvLq2YPHz58xevZ0qVL+cY3vsHx48cZGBiov57VHsJZy3/evHmMjIxw//33d/43byzPa4VaLV5zzTWcPn2aixcvcscdd3DgwIF6tmvXrmXv3r31/HWt0Hi+U7Obrt/Wridqr3dl126+8+fPp6enh71799avA6ZeK0y+nqj1j1pvKOvrWU2e12K169jae7OBgQG2bdvGjTfeyNe+9jXWrVtXmYds5fkeYurrVa1uJ7/u1Xqz3kM0lu/tt9/O/PnzOXjwYL0v1Oq2ds2we/fuq66FqyLP+p3aF44cOcLw8DBvv/12/Wu899xzzz2d/41Gktf7iWXLltVrc+qe2B133FHvu1WQ57XY1D2DWs+dfD1Ru15L8sGG3vtk/smW07qvf/3r/ty5c039mieeeKL+/4efHz2HvP6JkedMRkZG/NNPP+29L0/OKeR76NAh/8ILL3jvy5OrzyFb75XvTP8o23LnWlO2nptCv61RtldStunnO7nfeq9sJ9PrWbr1+zd/8zf+1KlT3nvlOpXqNt18y1y3Podsvc8n3zJm6yPmW9sTK2OusWu2JqWem9RxEIsXLz7qnOuL+fNj/WwLsfOcSVlyTi3fsuQK6WUL5clX2dpIMdca5WtH2dopQ7aQZr7K1k5Zsq1JJWPlakv52q0j9hrypmxtxc63jLnGznQ6sXN22UZ0sTnnXgb+BfCrwPe995+Mu6LycM79V+A7wFLgLu/9v4m7ovJwzv1b4Bbgi8D/5b3/ybgrKg/n3LuA3wF+DhgElvoyNLsEOOdWAge99yucc/uA93nv90ReVmk45w4A7wb+f8Cfe+//PO6KysM59xTwWeBuYIn3/v8bd0Xl4Zz7j4ADfgD8G+/9++KuqDycc7/Alde418ZdUXk4524GvuO9v8k5d4zsOncw8rJKwzl3iiuvc78Zd0Xl4Zx7lknXud77/yvuisrDOfdR4CAwRHaN+0/irqg8nHP/E1de494Vd0Xl4ZzbTHaNuwUYA5Z5789HXVRJOOfmAaPAEuAFsuvc78ddVXuSOxO4ReuAI+Gfahxq0jnK1o6ytbMOOOK9HwEuAssjr6dManULqt1cOecc0A8MoGwtqOfaUbZ2atkeBdaGNyOSD72eGXHOdQGLgVMoWwvquXaUrR1la6f23vcS2fVCNZ5Q2Bm9wAnv/QQlqd3CbwI75+YDq8g+rRtABZ+32oaEss3fFdmGDSDJRy1bUO3mTdnaWQmMee9HUbYW9HpmR9na6QcGvPcXyDbU1sRdTqno9cxOrW49ytaCeq4dZWunlu0JYIlzbnHk9ZSJXs/slC7bwm8Ck+3MH/PeX6QkO/OJ0Sd2dmqf2J0FLgArIq+nTDTdY0fZ2lG2RjRlbW7ytOoaTavmSn3BjrK1o2yNOOeWAAuB0yhbC3rva6f23tejadW8qefaKV22ZdgEXsflnflS/KGkwjm3AOgBjqFpVQuqXTvK1o6ytaNs7awCznnvx1C2FtaRTf1NkE349EZeT5moL9hRtnaUrZ1av/UoWwu12j0JdIWjTSQf6gt2lK2d0mVbhk3gfi7vzJdiPDshvcCQ9/6i9/4ccJ7sdmXJh2rXjrK1o2ztKFs7k7MdAlaF46SkTc65a4A+SnarXELUF+woWzvK1o6yNeKc6wbmAWd0lIkJ1a4dZWundNmWYRN48ni2plXzNTlbKMknHylwzi0kO/7hWPhXyjZfpbttIyHK1o6ytVPPNkyrHkfTqnlZBQxPegq1ajdf6gt2lK0dZWtncrangEXhiAhpXz+XjysA1W7e1BfsKFs7pcu2DJvA9YOaw8N0RsmOMJD2TT4EG0ryyUcialPWl8L/Vrb5Kt0B7glRtnYmZzsE9IRjeaR9ej2zo2yNhCnrXrKzE0HZ5k2vZ3aUrZ3J7301rZovvZ4ZCVPWDhgJ/0rZ5ks9107psi3DJrCmVe0oWzvK1kiYsl5GNukHyjZvpfs0NCGTp1Uvkt0poGnVfKjn2lG2dlaT3ZY8Hv63ss2XXs/sTM72NLDAObc04nrKRD3XjrK1M/mhcKBscxPugtfrmZ2pJw/0Ff3kAW0Cy2yUrR1la6cfGJw0Za1s8zW5do8BK8PGu7RPfcGOsrWjbO0oWyPOuXnAWi5PWSvbfE3+UFMPMMuX+oIdZWtH2dpZBlzy3temrJVtvia/no0BZ8k+pC+sMmwC67YNO8rWjrK1o2yNOOcWAUuBE1CfVh1C06p5Ue3aUbZ2lK0dZWtnNXDae38h/O9h4Jpwy7K0T7VrR9naUbZ2lK2dqdkeBXrDkVLShjDxW7raLUNh6FMlO8rWjrK1MzXbY8ByTavmoh84OulWLlDt5kl9wY6ytaNs7UybbdFvQ0zEFdlqWjU/Ycp6DTA46V8r2/yo59pRtnaUrZ2pr2fnyT7YLPS0aiKWAxPe+7OT/l3ha7fQm8Az7MwX/g8lIetQtlaUrZ0rsg3HQgxS8E/sEjG1bkG1mwvnXBewBDg56V8r2/yo59pRtnamvp4NA57s1k9pj17P7KwFTk2asgZlmyf1XDvK1s7UbGvTqvMiradM9Hpmp5TZFnoTGFgBjHvvz036d4Ufz05IP1d+Yqds8zM12xNAd7jdXtozNVtQ7eZF2drpAwamTFkr2/zo9czOtNlqWjUX6rl2lK0dZWskbJit5sopa2WbH10r2Lki2/DA09NoWjUP6rl2Splt0TeBp95WACXYmU+BpqzNTb1t4xLZJ6KFbiiJUF+wo2ztKFsjYcp6MXBq0r9WtvmZ+no2Alwku4VO2qO+YEfZ2lG2dnqB4977iUn/TtnmZ2rtHgXWalo1F+oLdpStnVJmW4ZN4NKNZyeiBxjz3o9O+ncngCXhDbW0R7VrR9naUbZ2lK2ddUw/Za2zVfOh2rWjbO0oWzvK1o6yNeKcmw+sInvgMQDhSJOTZEecSHtUu3aUrZ1SZlv0TeBSjmcn4qpswxvoo2S3LUuLwqZDH1c3FNVuPtQX7ChbO8rWznSvZ2eBcbJjpaRFzrmlwAKyWzonU+3mQ33BjrK1o2ztTJftILBa06pt6wWOee8vTvn3qt18qC/YUbZ2Splt0TeBpxvPPgl0aVq1bdNlCyX45CMBq4Cz3vuxKf9e2eajlLdtJELZ2pkuW52tmg+9ntnpB45MmbIGZZsX9Vw7ytaOsrVzVbbhaIgTZJuY0jpdKxhxzi0AVgLHpvwnZZsP9Vw7pcy26JvAU8+srU2rFn53PgFXZRso2/YpWyPOuWvIpqyPTvlPyjYf09Wuss3HdK9n54DzZBfO0jr1XDvK1ohzrhuYBwxP+U/KNh96PbMzXbZDwKpwy720Tj3XjrK1oylrW3o9s1PKbIu+CaxP7OwoWzvK1s4qYNh7f37Kv1e2+Zjp01BNq7ZPfcGOsrWjbO1oytpWKad7EjHTtOpxNK3aLvVcO8rWjrI14pxbSHa0maasbUxXu6eAhc65JZ1fTj7KsAk83Sd2Kvr2KVs7ytaOsjUSpqx7mTJlHY41OUe2AS+tU+3aUbZ2lK0dZWvEObcMcMDIlP80BPSEW5eldapdO8rWjrK1o2zt9AFD3vtLU/69ss3HVbU76eSBwuZb9E3g6Q5qhhKMaCdA2dpRtnZmyvYo0Bc2MqU1q4Ez3vvxaf6bard96gt2lK0dZWtH2dqZdso63Kp8DE2rtizcFaTataNs7ShbO8rWzkzZngHmh6OlpAXOuUXAMrK7WKYqdO0WfUNEtxbYUbZ2lK2dabMN06ojaFq1HTPVLah22xKe6L2Wq8+yBmWbB/VcO8rWzkzZDgErwi2g0hq9ntlZBlzy3k+dsgZlmwf1XDvK1o6ytTPTe18f/n1hNyoT0AccnWbKGgpeu4XdBHbOLQaWkj0NdapC/6EkQrdt2Jkp26NAr6ZV2zJTtqDabZeytbMGOO29vzDNf1O27dPrmR1la2fabMObkSGyNyfSGr2e2VG2RsKUtXquHWVrZ6Zsh8lKe1mH11Mm6rl2SpttkTebajvzUx+YAQUfz06EbtuwM2224WFmw2S33UtrZqpbUO22S9naUbZGwpT1Gqafsla27Zupdo8Dy8KtdNIa9QU7ytaOsrWzHLjgvT87zX9Ttu2b9b2vHoDclpne+9bOVlXttk49105psy3yJrBu5TLinOsCuoCT0/zno8Da8MZaWqPataNs7ShbO8rWzlrgRHgy/VTKtn0z3YZ4CRhE06rtUF+wo2ztKFs7ytbIpLOsp7v7YhjwZEedSGtUu3aUrZ3SZlv0TeBSjmcnoJ8ZpqzDQ6FOk01WSWtUu3aUrR1la0fZ2pkt2xNAdzheSprknJtPdufK0Axfotptj/qCHWVrR9namS3bAWCdplVbthIY996fm+G/q3bbo75gR9naKW22Rd4Enm08exBYo2nVls2WLRR8/D0m59wSYBFwaoYvUbbtKe1tGwlQtnaUrZ0Zsw3TqkfRtGqr1gLHZ5iyBtVuu9QX7ChbO8rWzmyvZyPABNmREdI8vfc1MtuUdaBs26Oea6e02RZ5E3jGnfnwcJ2TZG9QpHmzfeoBBf/kI7J+YGCGs6xB2bartJ/YJUDZ2plrWnVJOKZHmqfXMzvK1kiYsl6Fpqyt6PXMjqZV7ajn2lG2dnqAUe/96Az/Xdm2R69ndkqbbZE3gfWJnR1la0fZGnHOLQUWkB1XMh1l257SfhqagNmmezyaVm2Heq4dZWunFzjmvb84w39Xtu3R65md2V7PzgLjwIqOrqg81HPtKFs7ytZI+ECtD01ZW5nr5IHVRT15oMibwLMd1AwF352PTNnaUbZ2+oEjmrI2M1vtngQWa1q1ZeoLdpStHWVrR9kacc4tIDv/89gMX3IE6Ne0astUu3aUrR1la0fZ2lkFnPXej83w35Vte2as3XAU2gmyD+0Lp+ibwLptw4aytaNs7ShbI865bmAeMDzdfw8b7wMo31apdu0oWzvK1o6ytdPHLFPW4ZblMbJbmKV5ql07ytaOsrWjbO3Mle0gsCocMSVNcM5dQ3a9cHSWLyts7RZ5E1i3FthRtnaUrZ25sj0NLAzHRkhz5pqyBtVuO9QX7ChbO8rWTiPZ9mlatSVzZQuq3ZY45xaSPZhspilrULbtUM+1o2ztKFs7s2YbPuw8TkGnVSNbBQx778/P8jWFrd1CbgKHnfleSroznwDdtmFH2dqZNduwgXmEgjbryOaqW1DttsQ5twzAez/tlHWgbFunnmtH2dqZ6/VsDDhH9iZFmqPXMzt9wKD3/tIsX6NsW6eea0fZ2pkr2yGgJxzVI83R65mdUmdbyE1gYA1wxns/PsvXFPYPJQG6bcPOXNmeAeaF2++lOXNlC6rdVilbO8rWSJiS1OuZnbmyrU2rFvVaMyb1BTvK1o6yNeKcWwQsIzuDcibKtnW6VrAza7ZhWnUIPQC5Feq5dkqdbVEvzHUrl5HwhMO1zD5lrWxbN9dtG7WzVZVv89QX7ChbO8rWzjLgovd+ZJavUbatm+v17DwwgqZVW6G+YEfZ2lG2dvqAo3NMWSvb1s1Vu8eAFeHIE2mO+oIdZWun1NkWdRO41Dvzka0BTnnvL8zyNcNkQ1bLOrSmMlHt2lG2dpStHWVrp5FsB4BeTas2p8Epa1DttkrZ2lG2dpStHWVrxDm3GFjKLFPWYfN9EE2rtkK1a0fZ2il1tkV909PwGR16aEbT5sx20tmqhSz6WMKU9Rpmn7IGZduqUp/dE5mytaNs7TTyejZOdgzPmo6sqDxWABe892fn+DrVbmvUF+woWzvK1k4j2R4HloWjI6Rx/WRT1rM9/BhUu61SX7CjbO2UOtuibgLPOZ4dbv+8RHY7qDSukdF3KPD4e0RrgRPe+4k5vk7ZtqbUt21EpmztNJLtILA2fJAkjdPrmR1layQML/TT2BS7sm2eXs/sKFs7jbz31bRqa/R6ZsQ51wV0ASfn+FJl2xr1XDulzraom8CNjGdDgXfnI1K2dpStEefcfGA12YMFZqNsW1PqW2IimzPbMK16Ck2rNks9146ytbMSOO+9PzfH1ynb1uj1zE4j2Z4AusMt+NI49Vw7ytZOPzCgKWszej2z0+iRcoU8eaCom8D6xM6OsrWjbO2sBY5rytpMo9OqazSt2jT1BTvK1o6ytaNsjYQ3an2UeLonskanVY+iadVmqS/YUbZ2lK0R59wSYCHZkMhslG1rGj15YAJY3pEV5aiom8CNnNEB+uSjFcrWjrK1o2yNhCnrVcwxZR0eJnmSbENeGqfataNs7ShbO8rWTg8w6r0fm+PrTgBLwq3M0jjVrh1la0fZ2lG2dpqZsu4v4rRqZKWu3SJvAuu2DRvK1o6ytdNotoPA6rCxKY3pA4557y828LWq3eapL9hRtnaUrR1la6ehbMObak1PNWHSlPVcDz8G1W4r1BfsKFs7ytZOo69n54BxsqOmpAHOuaXAArIHR8+lkLVb1E1g3VpgR9naUbZ2Gso2HBdxAk2rNqPRugXVblOccwvILsqONfDlyrZ56rl2lK2dRrM9BSwKt4RKY/R6ZmcVcLaBKWtQtq1Qz7WjbO00la2mVZui1zM7/cCRBqasoaDZFm4T2DnXDcwDhhv48kLuzEemT+zsNDOtukrTqk1pNFtQ7TZL2drpA4Y0ZW1Gr2d2lK0dTava0euZHWVrxDl3DZqytqTXMzuNvp6NAqNkR/ZIY9Rz7ZQ+28JtAhPO52hwZ76QfyixhE/fSn3+SWQNZRs2hI6hh2Y0o9G6BdVus5StHWVrxDm3kOxBDY1MWSvb5jVau6eBBeHWOmmM+oIdZWtH2dpZDQx778838LXKtnmN1q6mVZunvmBH2dopfbZF3ATW6LudbrLhkkamrI8BK8PtzNIY1a4dZWtH2dpRtnb6gMHwJPq5KNvmNXoEj6ZVm6e+YEfZ2lG2dpStkTBlvZYGpqzDUSdnyY4+kcaodu0oWzulz7aIm8ClH8+OqOFsw7TqEJpWbcikKWvVrg1la0fZ2lG2dprJ9gwwLxw3JXNwzi0ClpGdr94I1W5z1BfsKFs7ytZOM9kOAH1hc1PmtgY4470fb/DrVbvNUV+wo2ztlD7bIr5ANDOefQxYEW4Llbk1ky0UtOgjWQ5c9N6PNPj1yrY5pb9tIyJla6fpbHUbYsMazjZMq6p2G9cPHG1wyhqUbbPUc+0oWzvK1k4zr2fnyZ6bs9p0ReWh975GnHPzaHDKOlC2zVHPtVP6bIu4CdzweHZ4gzKIplUb1czoOxR0/D0SZWskbIr109yUhLJtXOlviYmomWxrHyBpWrUx6rl2lK0R59xiYAmNT1kr2+bo9cxOM9keBXo1rdow9Vw7ytbOGuCk9/5Cg1+vbJuj1zM7pc+2iC++zYxnQ0F35yNRtnaUrZ0VwAXv/dkGv17ZNqfpW2I0rdqwZo7g0bRqc9Rz7ShbO7Up60YefgzKtlmlv8UzomZez8bJHhq5xnRF5aGea0fZ2lG2RsKU9RqyYcdGKNvmNFO7x4Fl4ai0wijiJrA+sbOjbO0oWzvK1kizU9bhuJNLZOeFytxUu3aUrR1la0fZGnHOdQFdwMkGf8kgsDa82Za5qXbtKFs7ytaOsrWzFjjhvZ9o8OuVbXNKf/JAETeB9amSHWVrR9naaSlbTas2ZCVw3nt/rolfo9ptnPqCHWVrR9naUbZ2+oGBRqesw7TqKTSt2ijVrh1la0fZ2lG2dprN9jiwNBw5JbNwzs0nO1N9qIlfVrjaLeomsA5wt6Fs7ShbO01lG46NuEB2jITMrtm6BdVuQyZNWasv2FDPtaNs7TSb7SCwRtOqDdHrmRHn3BJgIdmmeaOUbePUc+0oWzvK1k6z73092VnsmgaeWy9wvIkpayhg7RZqE9g5twDoobmdeY2/N063bdhpKVtNqzak2WxBtdsoZWunBzjnvR9r4tco28bp9cyOsrXTVLbhgTsnyW4Nldnp9cxOU1PWgbJtnHquHWVrp9lsTwJd4egemZ1ez+xUIttCbQKT7cwf895fbOLXFG5nPiLdtmGnqWzD7ffnyW7Hl9k1W7eg2m2UsrWjbI2ED8/6yKYeGqVsG9ds7Q4Cq8MtdjI79QU7ytaOsjXinFsKLADONPHLlG3j9N7XTrPvfT0F3EyLRD3XTiWyLdomsG7lMuKcW0h2e3zTU9aaVm2IateOsrWjbO0oWzurgbNNTlkr28Y1exviBNl5dL1mKyoP9QU7ytaOsrWzDjjS5JS1sm1cs7V7ClgUjkCR2akv2FG2diqRbdE2gSsxnh1JLzAUnnDYEO/9KDBKdluzzE61a0fZ2lG2dpStnVayHQJ6wrFTMgPn3DVk1wvNTFmDardR6gt2lK0dZWtH2RpxznUDDhhu9NdoWrUpql07ytZOJbIt2iZwK+PZA0CfplXn1Eq2UMBPPjotTFkvJ5uEaoaybUwlbtuIRNnaUbZ2ms42HDN1DE2rzmU1MOy9P9/kr1PtNkZ9wY6ytaNs7bSS7WlgQThKQma2jubPsgbV7pzCvov6gh1la6cS2RZxE7ipnflwO+hZsjcuMrNWRt+hgEUfQT8w2MyUdaBsG1OJ2zYiUbZ2Wsn2GLAyfLAkM9PrmR1la8Q5N4/sAW/NTlkr28bo9cyOsrXTyntfj/JthF7P7CwjK8WGp6wDZdsY9Vw7lci2aJvArYxnQwFHtCNQtnaUrRHn3CKgGzjR5C9Vto2pxC0xkTSdbZhWHULTqnNRz7WjbO2sBk5778eb/HXKtjF6PbPTSrbDwDXhlnyZmXquHWVrR9kaCVPW/bR2d7yynVsrtXsU6A1HphVCYRYa6MgCO8rWjrK10w8c1ZS1mVZq9xiwQtOqc1JfsKNs7ShbO8rWyKQp68Emf+kRYJ2OlJtTK0fwaFq1MeoLdpStHWVrZzlw0Xs/0uSvU7aNaeX17DzZB5uFOXmgaJvA+lTJjrK1o2ztKFsjzrnFwBKanLIOG/KDQJ/FukpEtWtH2dpRtnaUrZ01wEnv/YUmf13tTbamVWen2rWjbO0oWzvK1k6r2RZuWrXT2piyhoLVbtGKQJ8q2VG2dpStnVazPQ4sC8dJyPRqU9bNPjADVLuNUF+wo2ztKFs7bWWradVZtZStplXnFqas19D8lDUo20ao59pRtnaUrZ1WX8/GyR4auSb3FZXHCuCC9/5sC7+2ULVbmE3gSTvzOsDdhg7Ht6Ns7bSUbZhWPUqBPrGLoNW6BdXurJxzXcBi4GQLv1zZzk09146ytdPq69kIcJHsFlGZnl7P7PQCJ7z3Ey38WmU7N/VcO8rWTqvZHgXWhg+XZHp6PbNTmWwLswkMrATGvPejLfzaQo1nR6LbNuy0mu0JYEm4LV+m12q2oNqdi7K10w8MtDhlrWznptczO21lq2nVWann2lG2dpStEefcfGAVrU1ZK9u56VrBTkvZhiN7TqFp1dmo59qpTLZF2gRu9bYCKNjOfKe1ef6Jsp1bO7chalp1duoLdpStHWVrxDm3BFhIdstbs5Tt3Fp9PTsLXCC71U6mp75gR9naUbZ2eoHj3vuLLfxaZTu3Vmv3KLBG06qzUl+wo2ztVCbbom0CV2I8O4JVwDnv/VgLv/Yk0BVub5bpqXbtKFs7ytaOsrWzjjanrDWtOivVrh1la0fZ2lG2dpStEefcAqAHGGr214ajT06QbdLL9FS7dpStncpkW6RN4MqMZ0fQcrbhjbbynUF4AmcfrX+qpGxnp75gR9naUbZ22nk9OwecJzt+SqZwznUD84AzLX4L1e7s1BfsKFs7ytZOO9kOAavCkRJytV5gqMUpa1DtzkV9wY6ytVOZbIu0CdzOePYpYGG4TVSu1k62ULBPPjpsFTDivT/f4q9XtrOrzG0bEShbO+1mq2nVmen1zE47Z1mDsp2Leq4dZWtH2dppOdswrXocTavORNcKRpxzC8mOfjrW4rdQtrNTz7VTmWyLtgnc7rRqYf5gOqyd0XcoWNF3mLI1Eqase8nO5mqFsp1dZW6JiaCd17Mx4BzZB0xyNfVcO8rWiHNuGeCA4Ra/hbKdnV7P7LST7RDQE27Nl6up59pRtnb6yKasL7X465Xt7PR6Zqcy2RZpE7jVB5fVFGpEu8OUrR1la2c1MNzGlLWynV07tXsU6Asb9XI19QU7ytaOsrXT7pS1sp1Bmw8/BmU7l5azDbfiH0PTqjNRz7WjbO0oWyPOuUXAMrIp/1Yo29m1U7tngPnh6LTkFekNuj6xs6Ns7ShbO8rWSHji8VpanLIO06ojaFp1JqpdO8rWjrK1o2ztLCO7KbDVKetjwMpwi7NcTbVrR9naUbZ2lK2dPmBQU9Zm2j154AgF2WQv0iZwOwc1gz75mI2ytaNs7bSb7VGgV9Oq01oNnPbej7fxPVS7M1NfsKNs7ShbO8rWTlvZhmnVITStepUcpqxBtTsb9QU7ytaOsrXTbrbDwDVFmVbtpDBl3Q2caOPbFKZ2i7T5oQPc7ShbO8rWTlvZhmMkhsk2POVK7dYtqHanNWnKerCNb6NsZ6aea0fZ2mk322PAck2rTkuvZ3aWAxe99yNtfA9lOzP1XDvK1k4u2eoByNNq971vbVpVtXu1fuBoG1PWUKBsC7EJ7JzrApbQ3s58Yf5QItBtG3bazbY2rTovp/WUSbvZgmp3JsrWzlrgpPf+QhvfQ9nOTK9ndpStnbayDW9aBinIBEqH6fXMjrI1MmnKWj3Xhl7P7LT7ejYMeLKjfORK6rl2KpVtITaByc4/aeeBGVCg8ewIdNuGnXZvQxwHTqNp1em0W7eg2p2JsrWjbI2ED8tW096UtbKdWbu1ewLoDrfcyZXUF+woWzvK1s4KYNx7f66N76FsZ5bLe19Nq05LfcGOsrVTqWyLsgmsW7mMhCnrxcCpNr7NUWCtplWnpdq1o2ztKFs7ytZOL3DCez/RxvdQtjNr9zbES2TXC4W4QO4w9QU7ytaOsrWjbI3kcZZ1OALlItmRKHIl1a4dZWunUtkWaRO4MuPZHbaONqesw23NJ8luc5YrqXbtKFs7ytaOsrWTR7YngCXhA1IJnHPzgVW0N2UNqt2ZqC/YUbZ2lK2dPLIdQGerTqcHGPPej7b5fVS701NfsKNs7VQq26JsArf75FnI3ris1rTqVfLIFgo0/t4pzrmlwEKy4xzaoWynl0ftKtvpKVs7ytZO29mGD0SPkh1DJZf1Ase99xfb/D6q3empL9hRtnaUrZ08Xs/OAuNkR0vIZXrvayR84NCH+oIV9Vw7lcq2KJvAbe/Mh9tDT5C9kZHL8vjUAwr0yUcH9QNH2jzLGpTtTCr1iV2HKVs7eWR7ElisadWr6PXMjrI14pxbQDaZNtTmt1K209PrmZ28stXZqldTz7WjbO2sAs5578fa/D7Kdnp6PbNTqWwrswkcFOYPpoOUrR1la8Q51w3MA860+a2U7fQq9ULYYXl8qOkJt3nmsqLyUM+1o2zt9AFDOUxZK9vp6fXMTh6vZ6PAGNkHIXKZeq4dZWtH2Rpxzl1DPlPWynZ6edTuILAqHKGWtKJsAuu2DTvK1o6ytdNPm2dZB8p2ennU7mlgYTgWRS5TX7CjbO0oWzvK1ohzbiHZrfDH2vxWA0CfplWvotq1o2ztKFs7ytbOKmDEe3++ze+jbKeXxxE8F4HjFODkgaJsAutTJTvK1o6ytaNsjTjnlgEOGG7n+4QN+iPoQmMq1a4dZWtH2dpRtnb6gEHv/aV2vkm4tfkc2ZtwuUy1a0fZ2lG2dpStnbyyHQJ6wlFUQn3Kupd8PsAoRO0WZRO4n3yKXp98XE3Z2lG2dvLK9gwwPxwvIZm8zrIG1e4VwhSZ+oIdZWtH2drJK9ujZNOqRbm274S8sgXV7hWcc4uAZWRTT+1StldTz7WjbO0oWzu5ZBumVY9RgGnVDloNnPHej+fwvQpRu8lfKDrn5gFryc7YaFchduY7bB0V+tSjw5StnVyy1bTqtPKqW1DtTrWMrOxGcvheyvZq6rl2lK2dvF7PxoARNK06mV7P7OQyZR0o26up59pRtnbyynYIWBGO9JGMXs/sVC7b5DeBgTXA6Zx25gvxh9Jhum3DTl7ZDpMNES7L4XuVRV7Zgmp3KmVrR9kaCVPWemNnJ6/aPQr0alr1CuoLdpStHWVrxDm3GOgGTuTw7ZTt1fTe104u2YYPl4bIPmySjHquncplW4SL8LwOGIeCjGd3SpiyXkM+U9YDQL8emnGFXGo3TKuqdq+kvmBH2dpRtnaWAxM5TVkr26vl9Xp2nuyDzdVtr6g81BfsKFs7ytZOH3A0pylrZXu1vGr3OLAsHI0iGfUFO8rWTuWyLcImcOV25jtoLXDSe3+h3W/kvR8GPNntzpJR7dpRtnaUrR1layfPbI8Ca8MHpZWX81nWoNqdSn3BjrK1o2ztKFsjzrkuYAk5TFmHTfpBNK06mWrXjrK1U7lsq7YJPACs07RqXZ7ZQkGKvhOcc/PJJp3ymLIGZTtV5Zp1BylbO8rWTm7ZhuOnTpPdKSOwEhj33p/L6fupdq+kvmBH2dpRtnbyzPYE0B2OmJAw8ZfTw49BtTuV+oIdZWunctkWYRM4t/HscJvoBNlto5Lv6DsUZPy9Q9YCJ7z3Ezl9P2V7pcrdttFBytZOntkOAms0rVqn1zM7ytbIpClr9VwbytaOsrWT53vfS2R3t2haNaPXMyPOuSXAIuBUTt9S2V5JPddO5bItwiawplXtKFs7ytZImLJehaasrVTu09AOynNa9QJwkuwDJ1HPtaRs7fQAo9770Zy+n7K9kl7P7OQ9rbok3Kov6rmWlK0dTVnb0uuZncqdPFDFTeABVPQ1ytaOsrXTBxzz3l/M6fsp2yvlWbuDwOqwcS/qC5aUrR1la0fZGjGasla2l+X5oaYnm1ZNfnqqQ9QX7ChbO8rWiHNuKbCA7KiyPCjbK+X5enYWGCc7Si1ZRdgEzvu2jSPoIqNG2dpRtnaUrRHn3AKyF61jeXy/cBzKCTStWqPataNs7ShbO8rWzirgrPd+LKfvdxJYFG55FtWuJWVrR9naUbZ2LKas+1OfVu2gytVuETaBdduGHWVrR9nayTvbQWCVplWBbMp6KMcpa1DtTqa+YEfZ2lG2dpStnVyzDW++C3HWnzXn3DVk1wt5v2lW7WbUF+woWzvK1k7er2ejwCjZkVSV5pzrBuYBZ3L8tsnXbhE2gXWAux1la0fZ2sk127DheRzozet7FljedQuqXQCccwuBFeQ0ZR0o28vUc+0oWzt5Z3saWBhuHa06vZ7ZWQWMeO/P5/g9le1l6rl2lK0di2z7NK0K6PXMUt5T1lCAbJPeBHbOLQMcMJzjt01+Z76D9ImdnbyzHQJ6wu36VZd3tqDarVG2dvqAwfCk7rwo28v0emZH2dqxmFZN/jbEDtHrmR1layRMWfeiKWsrej2zk/fr2RhwjuxDp6pTz7VTyWyT3gQmCy/vnfnk/1A6IXyqtg5dZFjJNdswrTpEtpFUdXnXLah2a5StHWVrxDm3CFhGNtGfF2V7Wd61ewaYF27Bqzr1BTvK1o6ytbMGGPbej+f4PZXtZXnXbm1aNfU9lU5QX7CjbO1UMtvUG1Y/+e/MJz+e3SHLgEve+zynrI8BK8Jtz1Wn2rWjbO0oWzvK1o7FlLWyvSzX2tXZqldQX7CjbO0oWzvK1ohzbh7Zg4qP5vU9w5EoI2haFVS7lpStnUpmm/omcCXHszsk92zDG/BBKj6tOmnKWrVrQ9naUbZ2lK0di2yHydr5spy/b6E45xYDS8l3yhpUuzXqC3aUrR1la8ci2wGgV9OqrAFO5TxlDardGvUFO8rWTiWzTf3FwOIP5TiwLNw+WmUW2UIBir4DVgAXvPdnc/6+yjZTyWbdIcrWjlm2emiGyYeatbNVq167/cDRnI/lAmVbo55rR9naUbZ2LF7PxsmO4VmT5/ctIL33NRKmrNeQDYPlqfLZBuq5diqZbeqbwLk/CVHTqnUWT5mEAoy/d4CyNRI2u/SEVDvK1o7F69kIcInseJ8qU8+1o2yNOOe6gC7gZM7fuvLZBno9s2OR7SCwNmwmVZl6rh1la2ctcNJ7fyHn76tsM3o9s1PJbFPfBNYndnaUrR1la2clcN57fy7n76tsM1a3IWpaVX3BkrK1o2zt9JP/w49B2dZUcrqnQ6ymVU+haVX1XDvK1o6yNeKcmw+sRlPWVixq9wTQHY5US1JVN4EHUNErWzvK1o6yNWI1ZR2mVSfIjkmpMtWuHWVrR9naUbZGnHNLgEVkm4p5GgTWaFpVtWtI2dpRtnaUrZ1e4Lj3fiLn76tsM1bPyTpKwtPAqW8CW922cYSE/1A6RNnaUbZ2TLOt+LRqDzDqvR81+N6qXfUFS8rWjrK1o2ztmExZh1udT5Ld+lxlql07ytaOsrWjbO1YZXsC6ApHU1WSc24B2fvfIYNvn3Ttpr4JrFsL7ChbO8rWjkm24XiJ82THTVSVVd1CxWvX8CxrqHi2gXquHWVrxyrbQWB1uIW0qvR6ZsQ5txRYAJw2+PaVzjZQz7WjbO0oWztW7309BTi71lgvcMx7f9Hgeyddu8luAoed+ZXAMYNvX/WCBx2Ob8k024pPq1plC6pdZWtnFXDWez9m8L2rni3o9cySsrVjkm24ZfQE1Z5W1euZHauzrEHZgnquJWVrxyrbU8CicMRPVen1zE5ls012ExjoA4aquDPfIfrEzo7VJ3ajwCjZbQtVpekeO8rWjrI14py7hux6QVPWNiynVVdpWlV9wYiytaNsjTjnuoF5wBmDb1/pbAO997WjaVU76rl2KpttypvAlf1DseacW0j2kCazKeuKT6uqdu0oWzvK1o6ytbMaGPbenzf43lXPFuze2F0kuwbpy/t7F4j6gh1la0fZ2lkHHDGasq50tuF9qVXtngYWhKNSqkp9wY6ytVPZbFPeBK7seHYH9AGD4cmFuQq3O58lu/25qlS7dpStHWVrR9nascz2GLAyHE9VOWHKupfsCccWVLvqC1aUrR1la0fZ2ukO/3ck72+saVVAtWtJ2dqpbLYpbwJb7swPAH3hDU4VWWYLiX/yYck5twhYBhw3+hGVzTao7Cd2HaBs7ShbO2bZhmnVIao7rboGOO29Hzf6/qpd9QUrytaOsrVjme0ZYF44cqKKLKesocK1azxlDRXONlC2diqbbcqboJZv7M4Dw2S3kVaRNoHt9ANHLaasgypnCxVu1h2gbO1YZnsMWBGO+akivZ7ZUbZGnHPzyB7cZjVlXdlsA72e2THPtsJHylm+9/VUu3b1emZnOXDRe5/7lHVQ5WxBr2eWKpttypvAluPZkPiItjFla0fZGnHOLQaWkD313EJlsw0qe0tMB5hlGz5wGqS606rquXaUrZ01wCnv/QWj71/lbEGvZ5Yss61tIlV1WlU9146ytaNsjYQPxPR6Zscy26NAb6onDyS5qECf2NlRtnaUrZ3alLVu5bJhWbvHgWXhuJQqUl+wo2ztKFs7ytZImLJeg/GUtaZV86dpVfUFQ8rWjrK1swK44L0/a/T9q5wt2L6ejZM9NHKNxfdvV8qbwP3YNpQqf/KhbO0oWzvK1ohzrgvoAk5afH9Nq6p2DSlbO8rWjrK1sxY44b2fsPjm4ZbnS2TPf6gi1a4dZWtH2dpRtnassx0E1oYPTyulA1PWkHDtprwJvA7bP5Qqf/KhbO0oWzvW2R4HloZjJ6qmHxgwnLIG1a76gg1la0fZ2ulIthWdVrXOFipau865+WTPUxky/DGVzDZQz7WjbO0oWzum2YZp1VMkOq1qbCVw3nt/zvBnJFu7SW4CT9qZ160FNnTbhh1la8c027ABepREP7EzZl23UNHadc4tARaSXWRZqWS2gXquHWVrx/r17CxwgexW0qrR65mdXuC41ZR1UNVsQT3XkrK1Y53tILCmitOq6PXMUqWzTXITGOgBznnvxwx/RrLj2R2g2zbsWGd7EugKt+9XjXW2UN3aVbZ2OjFlXdVsQa9nljqSbUWnVdVz7ShbO8rWiHNuAdn7X8sp60pmG+hawY5ptuEBqifJjvqpGvVcO5XONtVNYN3KZSS82erD7oEZUNFsA+vbNjwJNxRj6gt2lK0dZWvEObcUWACcMfwxlcw2sH49OwecJ7slr2rUF+woWzvK1k4vcMx7f9HwZ1Q1W7Cv3UFgdTgypWrUF+woWzuVzjblTeDKjmcbWw2cNZ6yPgUsCrdBV41q146ytaNs7ShbO+uAI52Ysq7otKpq146ytaNs7ShbO8rWiHNuIdmHjcesfkY4IuU42WZ+1ah27ShbO5XONtVNYOsn9UF1pynNs63qtKpz7hqyF3/LKWuoYLaB+oIdZWtH2drpxOvZKDBKdptuZTjnusmuEYeNf5Rq146ytaNs7ShbO0NATzh6okp6gSHjKWtQ7VpStnaUrZ1ks011E7gTO/OngQXhdtIq6US2kPAnH4ZWA8Pe+/PGP6eK2ULFP7EzpmztdCLbAaCvgtOqej2z04kpa6hgtuHvqXquHWVrR9naMc82bIIeo3rTqrpWMBKmrJdjOGUdVC7bQD3XTqWzrewmcHhjk+wfjCG9ENpRtkbCE2E7MWVduWyDSr8QGuvE69kYcJbsg6gqUc+1o2ztLCO7DLWesq5itqDXM0udyPYYsDJsLlWJeq4dZWunHxj03l8y/jlVzBb0emap0tmmugncifFsSHhE25CytaNs7awGTnvvx41/ThWzhc7U7lGgNxybUiXqC3aUrR1la0fZGglT1pW+xdNYJ47guUh2bEHVplXVF+woWzvK1ohzbhHQDZww/lGVyzboRO0OA9eEI9aSkuqbcX1iZ0fZ2lG2dpStkTBlvRbjKetwTMowmla1UrnaRdlaUrZ2lK2d5cBF7/2I8c85BqzQtKqZKtausrWjbO0oWzv9wNFOTVnrSLn8pXzyQKqbwP10pqFU8ZMPZWtH2drpVLZVnFZdA5z03l/owM9S7dpRtnaUrR1la0fZGglvygeBPuuflYoOTlmDateSsrWjbO0oWzu1D02Tm1a14pxbDCzBfsoaEq3dVDc61tGZi4wkd+aNKVs7ytZOR7INx02cJtsYrYpO1S1UrHbDlPUass0Ca5XKNlDPtaNs7XQq2+PAsnBLaVXo9czOCuCC9/5sB35W1bIF9VxLytZOR7Ot2LRqp977Jjutaqg2ZW398GNINNvkNoGdc13AYuBkB35ckn8oxnTbhp1OZXsUWBs2mKqiU9lC9WpX2drpBU547yc68LOqli3o9cySsrXTkWzDtOpREpxAMaTXMzvK1sikKWv1XBt6PbPTqdezEeAi2ZE/VaGea6fy2Sa3CUy41ahDO/NJjmcb020bdjp1G+IF4BTVmlbtVN1C9WpX2dpRtkacc/OBVXRmyrpS2Qadqt0TwJJwa15VqC/YUbZ2lK2dlcCY9360Az+ratlCh9/7VmxaVX3BjrK1U/lsU9wE1q1cRpxzS4CFZLe7WzsKrKngtKpq14aytaNs7ShbO73A8fAkeWtVyxY6extiFadV1RdsKFs7ytaOsjXSybOsw1EpF8iOTqkK1a4dZWun8tmmuglc6fFsQ+vo0JR1uP35BNkb9apQ7dpRtnaUrR1la6eT2Z4EusJxVaXnnFsA9ABDHfqRql07ytaOsrWjbO1UbVp1FXDOez/WoZ+n2rWjbO0oWztJZpviJnAnx7OHgFXhttIq6GS2kOj4uwXnXDcwDzjToR9ZmWyDyt+2YUjZ2lG2djqWbfjgtEr59gJDHZqyhmplC+oLlpStHWVrp5OvZ+eA82RHUFSB3vsacc5dA/TRuYnKymQbqOfaqXy2KW4Cd2w8O0yrHqc606qdHH2HRD/5MNLJs6yhWtmCbtuwpGztdDLbU8CicOxPFej1zI6yNeKcW0h2q/CxDv3IymQb6PXMTiezrdq0qnquHWVrZxUw4r0/36GfV6VsQa9nliqfbaqbwJ3+xC65PxgjytaOsjXinFsGOGC4Qz+yMtkGnb4NUdkamDStWpV81XPtKFs7fWRT1pc69POqlC3o9cxSJ1/PRoFRsk2mKlDPtaNs7ShbI2HKupfsmQmdUJlsg07W7hDQE45aS0aKm8AdObx9kiMkOKJtRNnaUbZ2YkxZVyLbTj4wIzgNzA/Hp1SB+oIdZWtH2dpRtkacc4uAZWR3+HXCANAX3qxXgWrXjrK1o2ztKFs7q4HhDk9ZVyVb6GDthqPVjpHYyQMpXrh0+lOlJEe0jShbO8rWjrK1s4xsiLQjU9ZhI79KFxqqXTvK1o6ytaNs7fQBg52asg4PmhpB06pWqlS7ytaOsrWjbO10OttjwMpwZFWpOefmAWvp3JQ1JFi7KW4C6wB3O8rWjrK10+lsh4FrKjKt2ulsoSK1G2HKGiqSbaCea0fZ2ul0tkeB3opMq+r1zEiYsu4GTnTwx1Yi20A9146ytaNs7XQ02zCtOkRi06pGVgOnvffjHfyZydVuUheFk3bmBzv4Y5PbmTekw/HtRMm2Ig/N6Gi2k6ZVq1C7na5bqE62y4GL3vuRDv7MqmQLej2zpGztdPr17DzZB5urO/UzI9LrmZ1+4GgHz7KG6mQL6rmWlK2dTmd7DFhehWlV9HpmSdmS2CYw2QbwSe/9hQ7+zOT+UAzptg07Hc023L7vyW7nL7tO1y1Up3aVrR1la2TSlLVez2x0unZr06rzOvgzY1FfsKNs7ShbI865LmAJnZ2yrkS2gd772un0e99LZIOCSU1UGlHPtaNsSW8TWLdyGQlvrlbT2SnrAaC/ItOqql07ytaOsrWjbO2sAMa99+c6+DOrki10/jbEcbKHRlZhWlV9wY6ytaNs7fTR2YcfQ3Wyhc7X7gmgOxyhUnbqC3aUrR1lS3qbwBrPttMLnPDeT3TqB4bboC+S3RZddqpdO8rWjrK1o2ztxMj2KLC27NOqkc6yBtWuJWVrR9naUbZ2KpFtmLJeDJzq1M8M06pHSWzDx4hq146ytaNsSXMTOMbOfBXOVo2RLSRY9Hlzzs0nezp0J6esoQLZBrptw46ytaNs7XQ823BM1UmyY6vKrAcY896PdvjnqnbtKFs7ytaOsrVzAlgSNknLbB2dn7IG1a4lZWtH2dpJLtvUNoE7Pp7tvT8LjJPdXlpmMUbfIcHxdwO9wLHwZM1OqkK2oNs2LClbOzGyHQRWl31aFb2eWVK2RsKwQR+dn0ApfbaBXs/sKFs7Md77erJp1b5O/twI9HpmxDm3FFhAdpRTJ5U+20A9146yJb1N4Bjj2ZDg7rwBZWtH2Rpxzi0gm0w71uEfXfpsA90SY6fj2Ybjfk6QfTBVZuq5dpStnVXAOe/9WId/bhWyBb2eWYqR7UmgqyrTqhF+bhVqV9na6UdT1pb0emYnRrbJPScrtU1gfWJnR9naUbZ2eoEhTVmbiVG7Q8CqcIxKmakv2FG2dpStHWVrxDl3DZqythRrWrUK+aov2FG2dpStEedcNzAPONPhH136bIMYr2fngPPAyk7+3Nmktgmsc2vtKFs7ytaOsjXinFtIdgxOR6esw7TqcaoxrarataFs7ShbO8rWzipg2Ht/vsM/9xSw0Dm3pMM/t9NUu3aUrR1la0fZ2ukHjkSask5qWtWIapc0N4F124YNZWtH2dqJle0Q0BOOoyirPrIp60sRfrZq146ytaNs7ShbO8rWyKRp1dLmG6ase8nOkO001a4dZWtH2dpRtkbCUVXnyD5ULSXn3DLAASMRfnxStZvMJnD41EG3FthRtnaUrZ0o2YbjJ45R7mnVWHULJa9d59wiYBnZxHOnlTrbQD3XjrK1EyvbM8D8cItpWen1zM5q4Iz3fjzCzy57tqCea0nZ2omV7VGgL3w4VVZ6PbMTa8oaEss2pb9Ay8g+VK/8zrwRfWJnJ+a06opwW39ZxcoWyl+7ytZOHzCoKWszej2zo2ztxJxWPUJCbz4M6PXMjrI14pybB6wFBiP8+FJnG+j1zE7MadURSjytinquJWUbpLQJHOt8DkjsDyVvYcpa55/YiZJt2GAaIttwKiv1BTvK1o6yNeKcWwwsJc6UdamzDWLV7jDZ5cqyCD+7U9QX7ChbO8rWzhrgdKQp67JnC/Fq9yjQW/JpVfUFO8rWjrINUmpOGn23sxy44L0/G+FnHweWhdujy0q1a0fZ2lG2dpStnT7gaMxbuUr+0IxYR/DUzlYtc+2qL9hRtnaUrR1layRMWa8hwpR1eEDlMNlRKmWl2rWjbO0o2yClTWCNZ9uJlm2YVh2kpNOqk86yVu3aUF+wo2ztKFs7MV/PhgFPdnxV6TjnuoAlwMlIS1Dt2lG2dpStHWVr5yiwNmyWltFa4KT3/kKkn6/ataNs7ShbO0llm9omcKyd+RNAd7jNtIxiZguJFX3OVgLj3vtzkX5+mbMF3bZhSdnaiZntALCuxNOqej2z0w8MRJqyhnJnC+q5lpStHWVrJ1q24QiK02TTsmWkawUjzrn5ZFPOMc6yhhJnG6jn2lG2QUqbwNHGs8O06lFKOq1K3NF3SGz8PWfK1kgCU9alzTbQLTF2Yr6ejQATZMcAlZF6rh1la8Q5twRYBJyKtITSZhvo9cxOzGwHgTUlnlZVz7WjbO2sBY577yci/fwyZwt6PbOkbIOUNoFjjmdDYrvzOVO2dpStnR5g1Hs/GunnlzlbiFu7VZhWVV+woWztKFs7mrK2pVs87cQ8gucC2fE0a2P8/A5Qz7WjbO0oWyNhynoV2YPfYyhttkHM2j0BLAlHr0WX0iawPrGzo2ztKFs7ytZI2HztI94bu7PAOLAixs/vANWuHWVrR9naUbZGnHNLgQVkt7bHMAis1rSqmdLWLsrWkrK1o2zt9ALHvPcXI/38MmcLce/U9CR08kBKm8A6u8eOsrWjbO2kkG1/SadVVwFnvfdjEdeg2rWjbO0oWzvK1k6Zs+0HjsSasg63RJ8ge/NeRqpdO8rWjrK1o2ztxM72JLA4lWnVPDnnFpA9y+lYxGUkU7upbQLr1gIbytaOsrUTNdtwDMUY2bEUZRO7bqGkteucu4bsU96jEZdRymyD2LWrbO0oWzuDwKpwq2nZxM4WSlq7zrluYB4wHHEZpcw2iF27ytaOsrWjbI2ED1MHKGe+fcSdsoaEajeJTWDn3EKyh9jE3Jkv8/i7btuwk0K2fSWdVo2dLZS3dpWtnVXAsPf+fMQ1lDVbiF+7ytaOsjUS3vQcp5zTqrHrFspbu1GnrIOyZgvxa1fZ2lG2dk4DC8NRQGUTO1sob+0q20mS2AQm25kf9N5firiGZHbmDcS+tUDZGgm3858j23gqm9h1C+WtXWVrR9kaCVPWvWjK2krs2h0CesIte2UTO1sob+0qWzvK1ohzbhmA915T1jZi166yNRI+lDpCIptpOYtdt1De2lW2k6SyCRz7tgJI6A8lT865RcAysvPKYqlNq6ZSb3lS7dpRtnaUrR1la2cNcMZ7Px5xDWXNFuLfhniRbCM4iYdm5Ex9wY6ytaNs7ShbI+HuyNj5ngHmhSNVyiZ2tlDS2kXZWlK2k6SyKafxbDt9wNGYU9bhtugRyjmtqtq1o2ztKFs7ytZOCtkeA1aEY6xKwzk3D1hL3ClrUO1aUrZ2lK0dZWunrNkuAy5670diLWDS2aplzFe1a0fZ2lG2k6SyCZzCzvxRoLeE06opZAsJffKRF+fcYmApcaesoYTZBinUrrK1o2ztKFsj4QPVQco3rboGOOW9vxB5HapdO8rWjrK1o2ztDJMNzi6LvI68pZAtlLB2E5myhhJmGyhbO8p2klQ2PKOf0RGmVYfJ3giVSfRsgzI+abKfbMo65gMzoJzZQhq1q2ztKFs7x4Fl4TigMkkhWyhn7SpbI2HKeg1pTFmXKtsghdpVtnYGgHUlfABy9GwnTauWrXajZxuUMdsVwAXv/dnI6yhjtpBG7SpbO8lkm8omcArj2VDOQ8aVrR1la8Q51wV0AScjL6V02QYp1K6yNVLiadXo2QZlrF1la2ctcMJ7PxF5HWXMFtKoXWVrJDw47RLZLf5lEj3boIy1q2ztKFsj4YOuftKYVi1VtkEKtXsUWBuGA6JKZRM4hfFsSGhEO0fK1o6ytdMPDCQwZV3GbCGN2j0BdIdjVcokhWyhnLWrbO0oWzvK1ohzbj6wmuyBgjGVeVpVtWtD2dpRtnaUrZ2VwHnv/bnI6yhjtpBA7YYHW58igZMHUtkETmFnHhI6rDlHytaOsrWjbI0455YAC8lehKIJ06pH0bSqldLVLsrWkrK1o2ztrAWOx56yDg+gmgCWx1yHAdWuHWVrR9naUbZ2Usl2EFiTwrRqXsIHtH2kkW8StZvKJnAKZ3RAOT/5ULZ2lK2dVLI9ASwJx1OURSpT1qDataRs7ShbO8rWzhGgv2TTqqlkCyWr3TBlvYr4U9ZQsmyDVGpX2dpRtnaUrZHwgOCTZB+ylkUPMOq9H4u9EBKp3eibwJN25mM/MAMS+UPJWfTR90DZ2lG2RiY9NCP6J3Y5SiLboFS165xbCiwAzsReCyXLNkildpWtHWVrJNxiOk52y2lZJJFtULba7QOOee8vxl4I5csW0qldZWtH2doZBFaHD6vKIpVsoXy1q2yniL4JTPYp89lEdubLttkD6dxaoGztnAIWhdv8yyKVbKF8tats7fQDRxKZsi5btpBO7SpbOwOUb1o1lWyhfLWrbO0oWyPOuQXACtKYsi5VtkEqtatsjYQjgE5QrmnVJLINyla7ynaKFDaBkxh9D5LYmc+Lc+4aNGVtKYnaLfG0avRsg7LVrrK1o2yNOOe6ya5ZhmOvhZJlGyRRu977UWCU7Na9skgi26Bstats7ShbO33AUHg2QmxlyxbSqd1BYFUJp1VTyBbKV7vK1o6ynSKVTWCNZ9tYDQx778/HXghwGlgQbpcuC9WuHWVrR9naUbZ21pHOWdalmlYNvw/Vrh1la0fZ2lG2dpStEefcQrIHNB6PvZZwlMoxyvUAZNWuHWVrR9lOkcImsMaz7SSTbdmmVcOU9VrSmLKGEmUbJFO7KFtLytaOsjUSjq86S3acVRl0k71MpzBlDapdS8rWjrK1o2ztHANWhiMqyqAPGExkyhpUu5aUrR1layeJbFPYBE5pPPsMMC/cdloGKWULiXzykZM1wGnv/XjshQRlyhbSql1la0fZ2hkA+sIHVmWQUrZQrtpVtkY0ZW0updpVtnaUrZEwrTpEeaZVk8k2KE3tOucWkX1ofCL2WoLSZBukVLvK1k4S2abw5rCfRC6OyzatSkLZBsrWTmmydc7NI9tkH4y9lqA02QYp1a6yNRKOARqhPNOqyWQblKl2la2dZcBF7/1I7IUEZcoW0qpdZWvnGLAi3OpfBillC+WqXWVrR1PWtlKqXWVrJ4lsU9gETmlnHhLZnc+JsrWjbO2sAU557y/EXkhQpmwhrdodAHo1rWqmTLWrbO0oWzvK1oimrM0lU7th02kQTataKVPtKls7ytaIc24xsBRNWVtJqXaHyS5hlsVcRApvvFO6gINyFb2ytaNs7ShbI6lNWYfjVM6QrakMVLt2lK0dZWtH2dpZAVzw3p+NvZDgOLAs3DJdBqpdO8rWjrK1o2zt9ANHE3n4MYRsy/IAZBKq3fBnHL12U9gETumgZkhkRDsnytaOsrWTWraDwNqwgVp0a4ET3vuJ2AuZRLVrR9naUbZ2lK0dZWukTNOq4Y1/Uvmi2rWkbO0oWzvK1kg4wuoS2ZFWheac6wIWAydjr2WS6LWbwiZwSuPZkMDOfI6UrR1layepbMO06inKMa2aVLZBKWrXOTcfWE0iU9ZBKbINUqtdZWtH2do5DiwNt54WXWrZQnlqdyUw5r0fjb2QScqSLaRXu8rWjrK1U6Zp1dSyhfLUbj8wkNCUNSSQbdRNYOfcEmAhcDrmOqaI/oeSo2RG3wNla2cQWFOSadXUsoXy1K6ytdMLHA9P2k5FWbKF9GpX2dpRtkbCm6CjlGN6Kqlsg7LUrrI1MmnKOqV8S5FtkFrtKlsj4SigC2RHAxVdUtkGZaldZTuN2JPAKe7MRx/PzlFStxagbM2Eh6idJLvdv+iSyjYoS+0qWzvK1ohzbgHZZNpQ5KVMVopsg9Rq9yTQFW7hK7rUsoXy1K6ytaNs7fQA57z3Y7EXMklZsoX0ancA6C/JtGpq2UJ5alfZ2lG204i9CazRdyPOuaXAfLKHLqViEFgdbpsuOtWuHWVrR9naUbZ2eoFjmrI2k1TthsGA6BfIOUkq26Astats7ShbO8rWSNho7SOhqT/v/TngPNkH2UWn2rWjbO0o22mksAmcTKMOov+h5GQdiU1Zh4dRHSd7Q190ql07ytaOsrWjbO2kmO0pYFE41qqwnHMLyW6lPBZ7LVOodu0oWzvK1o6ytVOWadXVwFnv/fnYC5lCtWtH2dpRtnaiZxt7EzjF8ewhoCfcflpkKWYLJZjucc51Aw4Yjr2WKQqfbZBi7SpbO8rWjrI1UqJp1V5gyHt/KfZCpihDtpBg7aJsLSlbO8rWSHgA4CjZURVFlly2QeFr1zl3Ddn1QmqbaYXPNkixdpWtnejZxt4ETm48O9xueoziT6sml20Q/ZOPHKwDjqQ0ZR0UPtswhZBi7RY+20DZ2kkx29PAgnA8UJGlmC2Uo3aVrZEwZb2c7A6olBQ+2yDF2lW2dsoyrZpitlCO2lW2dlYDZ7z347EXMkUZsoU0a1fZ2omebexN4NSejloTfXc+B8rWjrK10002ZDcSeyFTlCFbSLN2la2REk2rJpdtoGztlCHbPmBQU9ZmUqxdZWskPEjtLLAq9lralFy2QRlqV9naUbZGwpT1WrJnJ6Wk8NkGKdbuMWBlzJMHYm8Cp7gzDwnszudA2dpRtnaUrZGEp6zPAPPCMStFlmK2UILaRdlaUrZ2lK0R59wisg+NU5uyHgD6wpv6IlPt2lG2dpStHWVrZw1wWlPWZpKr3XDywBDZsEAUsS9SkvtDCcpQ9MrWjrK1k3S2Bb8NcTkw4b0/G3shk4VpVdWuHWVrR9naUbZ2ypBtP3A0tWO5wgOphslunS4y1a4dZWtH2dpRtnZSzfYYsCIcbVVIzrl5ZJvsqU1ZQ+Tajb0JnOJ4NpRj/F3Z2lG2dlLNtnY8RZGnVVPNFgpeu+HDgVTzLXS2gbK1o2ztpJrtUaC34NOqqWYLBa9d59xiYAlwMvZaplHobINUa1fZ2lG2dpStkXCU1SARp1VzsAY45b2/EHsh04hau9EuALUzby7VT5WUrZ0yTKsmmW1JplWTzDYoerYrgHHv/bnYC5lG0bOFdGtX2dpRtkbCLaenya7BiyrJbIOi124/MJDalHVQ9Gwh3dpVtnaUrZ3jwLJwRFBRpZotFL92le0MYk4B9AInvPcTEdcwk6IXPGTrT+5TJZStmfAwtYtkt/0XVZLZBkWvXWVrR9kaSXzKutDZBqnW7lFgbRgYKKpUs4Xi166ytaNsjTjnuoDFwKnIS5lOobMNUq1dZWskTKsepdjTwElmGxS9dpXtDGJuAveT7s58oW8tcM7NJ3t6bopT1gNAf8GnVVW7dpStHWVrR9naWQmMee9HYy9kGkXPFhKt3XDr3imKPa2aZLZB0WtX2dpRtnZSnrIueraQbu2eAJaEo1aKKtVsofi1q2ztKNsZxNwE1ni2nV7gWHjyYFLCQ6kukN0+XVSqXTvK1o6ytaNs7aSc7SCwpqjTqolPWYNq15KytaNs7ShbO4XO1jm3BFhIdtRNUsKmfxmmVVW7NpStHWU7g9ibwKm+8Sj6tGrK2UK2tkI2FOfcAqCH7ImZKSpstkHKtats7ShbO8rWSJhWPUn2wWsRrQLOee/HYi9kBqpdO8rWjrK1o2ztnAS6wpEVRbSOdKesQbVrSdnaUbZ2omar4yCmER7uc57sNtQiSjbb4AjF/TS0FxhKcco6KHK2kHbtKls7ytbOILAqHBNURClnC8WuXWVrxDl3DdkTtVN981HYbIOUa1fZ2lG2RsLmaZFv/U4226Cwteuc6wbmAWdir2UGhc02SLl2la2dqNnGngRO9Q8Fij3+rmztKFsjzrmFZMeEpDplXdhsg5RrV9kaCQ9fPU5xp1WTzTYocu0qWzurgGHv/fnYC5lBkbOFtGtX2do5BSwKt/4XUcrZQrFrV9na6QeOJDxlXeRsIe3aVbZ2op48EHsSONUJCSj+p6HK1oaytVObsr4UeyEzKHK2kHbtDgE94biVIko5Wyh27SpbO8rWjrI1Eqase8nO2ExRYbMNkq3dkkyrJpltoGztKFs7hc02TFk7YCT2WmZQ2GyDZGs3PPB6lOyY0Y7TJPDMivzJh7K1o2ztKFsjYcp6GdlEaHLC8SrH0LSqlcLWLsrWkrK1o2ztrAbOeO/HYy9kBqeBBc65pbEX0iLVrh1la0fZ2lG2dtaR9pT1ANBXxOdkhTWrdmegTeCZFb6hxF7ELJStHWVr5xiwMmyoFk0/MJjwlDWodi0pWzvK1o6ytaNsjYQ384XM1zk3D1hLulPWUNBsg6RrF2VrSdnaUbZGwoODz5J9+Fo0y4BL3vtUp6yhapvAYWc+2fHsoMjj78rWjrK1k3S2YVp1iGJOqyadbVDI2nXOLQKWAidir2UWhcw2SL12la0dZWtnGLgm3IpaNKlnC8Wt3dXAae/9hdgLmUVRs4X0a1fZ2lG2do4CveGooKJJPVsobu0q21nE+suyHJjw3p+N9PMboU+V7ChbO8eA5QWdVk09Wyhu7SpbO/3A0YRv5YLiZgvp166ytXMEWFfE2xBJPNsiT6uSeLaBsrVTyGzDlPUaNGVtJfXaVbZGwgNYhynmtGrS2QZFrV1lO4tYm8DXU5A/lKJ9quScm0/6n3zUsp0feyHNCBdwSTeUcLv/IHBd7LU0I7zJv5aEsw2OULBsg+tQtlaK9HpWqM20MKXYBZyMvZZZ6PXMiPd+GPDAyshLaUrBXs+uj72IFuj1zE5Rsr22aK9nZO/NTnrvJ2IvZBa117N5sRfSjPD6m/TrGZenVQs1pBP2QVLPFor7elaUawW9ntk4QlYDHRdrg/MrZGdr/qNIP78R/wfw3wD/NvI6mvVFYB7wwdgLmcX/DqwAPhN7IU36DWATWW0kyTn3T4DFwNdir6VJ7wN+AfhfI69jRs65+4B7gD8NRwAUgnPuBuA/An/fORflhWYuzrklwD8BPuCcuz/2epr0BHCdc+49sRcyi/838NPAv4i9kCZ9DZgg4b5Alu2NwH+JvZAm/SfgVuD/E3shM3HO/QpwCfh67LU06Z8AP0PC12HOuf8bcBPwxSJtpjnn7gH+N+D/4ZxbHns903HOrQV+DvhN59z62OtpVNj4exTY4Jz7b2KvZxa/TpZvyu8hp/M1sgcG/k+xFzKL/wPYAPx27IU06SGyo9qS7blk730vAk9FXkezfgV4J2m/9/05singL8deSzOcc/8t8D8C/yrVQQLn3K3Afwv8vnNuTez1NCpcH/wR8OPOuTtjr2c64drrfwH+nzHeQ8baBN5LdiTEM5F+fiO+Qnag9NOxF9KkF4EFpP0i8yWy2vt+7IU06ZvAErJNn1T9NdnfrV2xF9KkrWS3yaVcE68Bi4AT4dajojgEzAfOkegnot77c8BBsom/7XFX07SDZK8VL8ReyCy+Bawi6w9F8grZJPBXYi9kFrUPXr8TeyFNeobsWuHPYy9kFl8jO297R+yFNOnbZG9In428jtn8AOgG3kz8KJupdpH128Pe+zOxFzODY8Apsg/kX4+7lMaF5x4cJeu5r0RezmyeJ7tefDbyOppVq92U31d+kezP/xuxF9KkFwAHPBl7IbP4MrAQeCn2Qpr012SDWyl/GPs9sve++2MvpEkvkl2b70z4DoE3yD6Mv+C9PxZ7MY0K1wejZH1hb+TlTCtce20nez3r+HvIWJ86/Dpwp/f+VKSf34iPA/O99ztjL6RJHwEGvfevxl7ITLz3P3TO/Srw6dhradIPySbDH4u8jhl574fCNHChLjK896edc/+GbAolSd77CefcL5B9EFAY3nvvnPufgV2Jv9n/p8C7E74QmsmvAKvDRnaq/iMw4L1/K/ZCmvS7wIve+zdiL2Qm3vtvO+f+N9L+4HU6TwO/7r1P9s2+9/5N59z/SPYhRmF47484534N+FTstczEez/mnPvvyT4cLAzv/UXn3L8i++A4SeE1938AtiT+mjud/xdA4g+G+3Vgm/c+5YexTuc3gKe89ykf1/cE2cTq38ZeSJM+Cyz23j8feyEz8d7vds79a7KN9sLw3u9xzv068Mex1zIT7/0Z59wvkm1YFkZ4Hf4A8Jex1zKT8Hr2C8ANsdfSgv8ZGApHZabqXwL/KMZ7SFe86xMRERERERERERERaVShHnomIiIiIiIiIiIiIs3RJrCIiIiIiIiIiIhImXnvW/pn8eLFA4Dv9D+LFy8eKMpam11z7HU2s95U1tpqXXRy/SmvLc/1x153Wes2lTWXaa2prLORdae61qKtt0hrnWm9qa55tr9vqa23CH2smWuG2Gst4pqLUANFXXcr79E6ve4yX5OnttZG8k5lzWXrYSmss9k1p7LeMtaC1mqz5lTW2UrOTb9Q138h+OkcPnzYnzt3rv6/9+3bN+3XPfLII/6RRx7x3nu/c+dO//GPf9wPDw/7P/3TP/XPP/+8/93f/V3/ox/96KpfF35uLmttdb3ee/+v//W/9m+++ab/7Gc/659++mn/0EMP+b/7u7+b9tc2uubZ1tnqWvfu3es/8pGP+DNnzvg///M/95/97Gf9hz70IX/kyJEZf04j651rre2s+fXXX/cf//jH/YEDB/zHPvaxGX9Ns2tudP2trPm73/2uf+ihh/yxY8dM19bOGmu5DgwM+Icffth/7Wtf86+88op/8MEHZ/1ZedRvO3/PJtfuN77xDf/hD3+45XVaZTt5rbWa/au/+iv/+OOPz/qz8lhzuz333//7f++99x3pC+1k+8Ybb/iPfOQj/tixY3NmO9daLftXred67+uvZw8//LD/3Oc+N+fPm27dja611fXWetcPf/jDer6N9IU81tvqmmu9bLp+a7XWdmphcu22UwuNrrnd190vfelL/lvf+tacPWGutVqu1/usLwwNDdVfz5566in/pS99qeW1NrLmdtY6ODjoH3roIf+9731v1rU2c83QyXxnk8KaH3/8cf+Vr3xlzu8d81phuuvb2d4/5Lnudq4VduzYUe9hedXubOvO673ZdK9lqVyTT7feRnpuu/223fVOfj2b6b16o+ttdM3t1O5bb73ln3zySf/cc8+1tc5G15xXtrNdh8XcV6hdMx44cKD+3qwTr72trrdWB2+++Wb99Xeu67A8X8/yer9uvda83vu2+z69kbW2u97J1zVz9bBY/WtyDdTqdrZsm1lz7Z/55OTzn/88L774Iv/wH/5DBgYGOHfuHOvXr+fIkSOsX7+e73znO4yOjrJp0yauu+46Fi5cWP+1Gzdu5IUXXmDBggVcuJA9kPbaa69leHg4r+Xlut6dO3dy0003sXr1anp6eti9ezcHDhzgrrvuSm6tt912G/39/Sxbtoyuri7e+9738sorr5isM68133zzzQwPD3Po0CHmz5/P2NiY+XrbXfORI0f4uZ/7OX70ox/xkz/5k0musZbr/PnzOXLkCNdeey0HDx6kp6cnyfXW/p5Nrt2JiQkuXbJ5yGcea3311VfrNXvzzTezdavdA8zz6rmbN28G4IEHHkhyrbVsu7q66OnpYWRkJOlsaz13fHy8/nq2fv16nn322STXW+td+/fvr+dr3RfaXXOtl3VCHrUwuXYtayGPTLu7u1m8eDGXLl0y7QntrrfWF5xz9dezd77znTz/vM3D4fNY6549e3j/+9/Pc889x0//9E+brTXPNU/OtxPaWfO6desYGhri4sWLzJs3L8k1Tnd9u3v3brP3D+2ut3atsHbt2noPS/3v2eT3ZuPj48lf405ebxF67uTXs5Tfq0+u3bVr17J8+XKzdba71umytbwOy+Oa8c0336y/NxsfHzd9PcujDl5//fX666/1NXm7a57u/XqK65zuve+WLVvM3qfntd7J1zWWPSyPGti3b1+9bt/97nfnmm2uZwKHHXEA3ve+93HkyJH6/7548SITExP1rzl//jzj4+Ps3r2bb3zjGxw/fpzdu3fjnOPw4cOsXbuWvXv35rm83NZ75MgRhoeHGRoaqhf8hg0bOHjwYHJrHRgYYNu2bQwPD3Pq1Cl6enp47bXXeO2118zW2u6a9+3bR19fHwsXLmT+/Pmmuea15v7+fr72ta9xxx13JLvGWq6vvvoqt956K2NjYwwNDbFv374k11v7ezYwMFCv3WeeeYb3vOc9ya71hhtuqNfs/v376erqMltrO+ut9dzx8XG2bdvGgQMHzPtCu9lOTEzQ09PD3r17k8621nN37dpVfz3z3nPPPfckud5a79qwYUM93070hXbWXOtlZ86cMV9jO+us1cLY2Fg9W+taaDfTAwcO1L+uE9cK7faFs2fPcuuttzIxMcHv/u7vcsMNNyS71htvvJGvfe1rrFu3znytea15cr6d0uqa+/r6GBoa4vjx48mucbrrW+v3D+2st3atMLmHpf73bPJ7syJc405ebxF67uRrsZTfq9dqd2BggCeffJLu7m7Tdbaz1umyta7dPN7v1t6bdeL1rN06uPXWW+uvv524Jm9nzVPfr1u//ub53tf6fXoe6518XWPdw/K4VqjVbe7ZNjIuPN0/TBl/3rVrl//P//k/zzadnAtyOg6iU+ttZs3TrbPTa/W+sfXOtNaaFNfsI9VEHmuzXuNs2qnf1P6eFTHbMvSF1NaaWv+qmW7dc63V++Kt1/s0aqJo2foEe5j3s/99S229rfax1F7LZltrjdbc+lpjr3E6Zavd6dadyp//dGubTmo9LMVrm3aux1Kt3aL8PUvlmtz79vpuCteLM/0Te81lrNuZ1up9erWQSv+arNGcXfa1zXPO+VZ/bTucc3jvXZO/JspaJ/38htYce52T1jHnelNZa02zddHJ9ae8tkYUpX7LWreprLlMa01lnVNNt+5U1wrFWm+R1goz13CKa57t71tq6y1CH2vmmiH2WietozBrLkINTKcI627lPVr4dbomb1CR+i0U53qsbD0sfF0S2UIx+tekdZSuFsLXaq1NKkr/mqzRnHM9DmIujz/+eENfd/DgQT73uc+xf/9+Pvaxj/EXf/EXxiu7UqPrHBgY4MMf/jCjo6M89dRTfPOb3+TRRx/l4YcfNl7hlRpdL8Bv//ZvMzAwwK/92q8B8M1vfpPHHnvMamlXaXStP/jBD3jsscd47rnn6tl+97vf5TOf+YzxCqfX6Lq3b9/OI488Yn7W33RaqYNnnnmGxx9/nM9+9rN88pOfNFzd1Zr9ewbU1/voo4/y6KOPWi7vKo2u99lnn+Wxxx67oi+k+vfs6NGjfP7zn+eVV17hq1/9Kh/5yEd45JFHzM/KmqrZWrh48WKU9baSa+017NFHH+WFF17gM5/5DN/+9reNV5pppw5qPaFT623n+mDr1q381m/9VpLZTq7Z2nrffvttPvShD/HNb36TP//zP6dTF5CNrvnAgQP8yZ/8CW+//TYf+9jHePXVV+tr7pRmrxVefPHFK/6udfr1AZrPd/K1WKc1+/fttddeq7+e1f6+dVKz2R45coSnnnqKr3zlK8Yru1qjax0cHOQTn/gEzzzzTH2tna7dVq7DajX7+7//+x15xsh0WukPndbsNfnkmk3571jtemHHjh31a/IYtdDOa3Cn30+WdV9h8uvDww8/zBNPPJHstcJ07x9i/D2D1t5P/uZv/iaHDh0yXtn0WtkDqdVDJzVbt6+//nr99axo+wp57Nvk8mC4j370o7zrXe9i69atdHd3Mz4+zsjICL29vaxfv56nnnqKe++9l3nz5vHYY49x6NAhbrvtNhYsWMDP//zPc/jwYXbs2EFXVxc//dM/XX8YVHd3NydPnmTVqlV5LDP3dfb393PbbbfR1dXFnXfeyeDgILfeeitPPvlkkusdGhpiyZIlwOWHQD3wwAO5/CXNe6033HADAwMD7Nmzh3e+8531bF966aW212q57gULFrBv375cH/JhWQdnz56t/99z584lud7a37PJ6518eHpq6129ejUDAwOcP3++3hd+7Md+LMm/Z319fZw/f54FCxZw7bXXcvPNN/PYY4/R19eXQ7J2tTBv3rxc12uV6/z58+uvYQ888AADAwO5PISgE3Xw3e9+l3PnzrFp06a21tuJ64N3vvOdvPXWW6xatSq5bCf3r9p6X3zxRW6//XZ27NjBjTfeyMWLF5k/v/XLsbzX/Pzzz9PT08PBgwc5efIkY2Nj9TW3y+pa4eWXX67nm+frg8Waa/mOjY3l/iAoq79va9as4ZprrmFwcLD+9y3F9dayPX/+POvWrePNN9/MZZ0Wa+3t7WX58uX81E/9FD/84Q958803c6tdyz5Wq9nrrrsu9wfqWPWH7du38453vCPJNdauyZ1z9ZpN+e9Y7Xph3rx59WvyPGuhE6/Beb2frPq+wuTXh+uvv55XXnmFhQsXJnmtMN37hw0bNuT298xizZPfTxah307eA6nVQ4rrrNXt0qVL669nRdtXyGPfJpdJ4Lvvvpsf/vCHLFy4kMOHD7N8+XLuv/9+3vve93Lw4EGcuzyRPDo6ysaNG7njjjt4+eWXgexc4omJCS5evAhknyS89NJLjI2N0dfXxzXX5DOwnPc6T58+zbZt23jzzTf54z/+Y3p7e+s/J8X17t27t/6gou3bt7Nr167cDnPPe60LFizg9OnTvOMd76hnu2fPHpYuXdr2Wi3XfebMGTZv3szJkyeTXWOtDg4ePMjw8DCHDx9m6dKlLFq0KMn11v6eDQ4O1tdbOzw9xfWuXLkS7/0VfSHVv2eHDh2ip6eH06dPs3PnTu65555cH1JjWQt5rtcq1zNnztRfw2oPfOnt7eX111+vf21K651cB7We0O56O3F98J3vfId3vetdSWZbq9lDhw7V13vy5El27NjBhg0bOHHiRNsX9nmv+b777qv32NWrV9c3g3fs2NHWOi3WWrtW+PEf//F6vnm+PlisuZbvwYMH69diqa619vft/Pnz9dez2t+3FNc7OduhoSHmzZuXyzot1lr7dxcuXKivNa/atXztrdWsxQN1rPrDj/3YjyW7xto1+f79++t1kPLfsdr1wtDQUP2aPM9a6MRrcF7vJ6u+r1B7fXDOMTExwb333pvstcJ07x/y/Htmseba+8mDBw9y4403smfPntzWarHeyXsgtXpIcZ2T67b2ela0fYVc9m18gwc0T/2HBh/+4r33f/Znf9bw186FnB4MZ73OyRpdczOZeh93vamstabZuuhkTVitLc81zibv+i1S3Xpvm2/eay7SWr2PVwuprHOq6dadWs1Olsd6i7RW7+Ou1ye65tn+vqVWD0XoY81cM8Rea43Vmi3WW8RrBe/zXXcKdeAjrbvM1+RFrNtU8rXoYbHXmkq23uffd2Ov1Sey5iJdLxQp15q8+5f38Xtu7R89GK4DinaAe5EOb69J+UEPKa+tEUWp37LWbSprLtNaU1nnVGV4eFmq6y3SWkEPhrNShD5WxoenTPna5PONvcbpFGHdejCcvSL1WyjO9VjZelj4uiSyhWL0r0nrKF0thK/VWptUlP41WbQHwz377LMMDAw09LUPPvggb731Fl/60pf427/9W7Zv384nPvGJK77mAx/4AGfPnuWhhx6Kus5du3bx0Y9+lOPHj/PJT36SRx55pP7fDxw4wO/8zu/wgx/8gIcffpitW7fyB3/wB1HWOTw8zFNPPcW3v/1tvvnNb/J7v/d7/PCHP+TjH/94/etGRkbqX1P7vXz+859v+OfkudYvfvGLfO5zn+NTn/oUTz75JE888QRf//rX61937Nixen18+MMfZmBggBdffJEPfvCDHD58uKkHL+S9/rfeeqv+513zxS9+kT/8wz+MvrbJdfD000/zhS98ga1bt/LpT3+6/nUjIyP8xm/8BkA921r+ea2/lUw/+clP8vWvf50PfehDV9z68oUvfIGvfvWrHDhwoP53MY+/Z61kW8ut9vfniSee4FOf+lT96yb/HZuafx7Z5lUPU9fxmc98hhdeeKGefR59odX1Tq3NBx988IoHLg4PD/NHf/RH7N+/v/417ay3nUxredXqoFark03N/Xvf+x4PP/wwhw8fbun1rZ31Pvzww3z/+9+v96vaWo4fP17/NZN7wuTfUyuvx+1cF9RyGx0d5YMf/GD99faNN96o/5pa/rW/Y9/61rf49Kc/zcGDBzuWba1ep2Y7XS1M7bf79u3jox/9aMvXOu1cz3z5y1/mqaeeuurv1+TXh9qfwRNPPMFHP/rRtntYO+t96KGHeOSRRxq6rsn7WqGduqhdj032gQ98ALjcd2NeN073Zz35Wuytt97ic5/7HN/4xjdy6bd5rLn2511bT80bb7zBgw8+yNGjR+t9JMa1wuS6rfWoWh+rmfz3rFYjsa/DZqvbZ555hk996lMcOnSofq2WV922u+7JedfU8o59TT7de91af6qZXAtTry073XMn10DtNWLqNePk92e1r8kz7zyuG2pqr7GTrxtr7ztjXeeOjo5edc1dM/kaJu/Xh1bWOt01ec2uXbt48MEHr+gJtfxj7C1MroOpa63VweT3kbVrtpivZ5NrYaY1Q/7XCq2ud7r3lDW1a97Jf9diXdtM3lOY+lpWy3VyH4tZt5P/jk3eE5u8twCXa6DWc9vZd2r7wXCPP/44zjmWLVvG3/3d3/Hud7+bZ599lne9613s2LGDZ599lgceeICf/dmfZceOHRw+fJjrrruOTZs2sWrVKm644QYOHjzI8uXLeeONN+jp6al/7507d3LTTTexdOlSVq5cGXWdq1atoqenh5GREdavX3/F0+hvvvlmbrnlFsbHx3n/+9/Pc889x3XXXRdlncuWLWPx4sVcunSJLVu2cOnSJW655Rb++q//uv4zuru7619T+738zM/8TJS1dnV18d73vpe//uu/ZmJigh/96Eds2rSp/jPWrFnD2rVrWb58ef3w7ne84x289tprLWec1/rffPPN+p93zblz5zh16lT0tU2ug5tvvpmtW7fyEz/xE1ecPdjd3c3mzZuByw/62LlzJ5s2bYpWv0uWLOHIkSNce+21Vz1Aa926dQwNDdHV1VX/u9jKOvPItpZb7e/Ppk2bWLFixRXZzpR/rDVPXc8DDzxwxQvG+Pg4Fy5cAKhnH7OPTa3NqfXw6quvMn/+/CsertTMevPMtLa2ixcvsmLFCvr7+///7d1RaxzVHwbgn80WU4xIjNAWBWvVUMWb4I0I3njrZ/Ab+VX0rlKlWIRCA70IiGBKKhiIiX+CEulWIk06/xvPMJ2u7WZ3k5n9+TxQ6MWUvjl75syZt2VP7O/vx/Hxcf2dlO1x39vbi88++yy2t7fHer7NMu/m5ma8//779XpVsty7dy8+/vjjJ8a9/TMtLi4+N+8s9wWvvvpq3L59O27duhUffvhh/bx966236r+vjH+5x86dOxfb29sxGAzObGzLfG2P7dra2lNzob3evvPOO3Hp0qWx9zqz3M989NFHcefOnafur+bzoczdtbW1WF9fj5WVledmPK28w+Fw7H3N559/PtVeYZbzouzHirK/ba67fchZPuu9vb0n9mIrKyuxvLwcm5ubE623p5G5fN7tw/WuXLkSDx48iMFgUO8fu3juNudtub/KOlY077MyR+7evdvpPuxZ8/bNN9+M3d3d+P777+u92rT73Vnlbo53WaPKeHe9Jx/1rlveZYrmXGjvLU+af5ZzoDwj2nvG5vvZ22+/HXfu3JlqvE9j31CUZ2xz3/jKK6/E0dFRZ/fZwsLCU3vuouxhImLq58Msso7akxfvvfderK+vx/nz5+s14erVq3H79u36QL6zzNqcB+2sZR403yPLnq3L8W3OhX/LPIu9wqzyjnqnLMq7+g8//FDfa33oFNrPsjKuzXWsrBtdzNvmPVbWpvL7ojkHyro8Te809f8Efvnll6OqqhgOh/UpoZcvX44bN27Eo0ePYmVlpT65/fHjx3F0dPTEh7C7uxtfffVVLC4uxv7+fty/fz9u3rwZERF7e3vx4MGDmfzLzLQ5B4NBLC8vx9bWVlRVFR988EGds6qqGAwGsbq6GtevX4/Lly93lvOPP/6I4+PjODo6ilu3bsWnn34aW1tb8dJLL8V3330Xjx8/fuKa8rN0kTUi4uDgIJaXl+Pg4CAWFhbi2rVrsbOzU2ct82Npaak+WGlrayuuXbs2UeZZ5m9+3mUuXLhwIZaWlp76Oc86W/Mz/vnnn+PChQvxxRdfxGuvvVaP7aNHj2JjYyN++eWXemzL+E+af9rcDx8+jKtXr8bR0VF90EQZ24sXL8b+/n5ERH0vdpGxOW7l/jl37lz8+eefI++x9vh3kXlUnvKZl8zNgyOnPeRjlmPcPFBta2urzvvuu+/GYDCI7e3t+pquxrSMV5kHZa7u7OzU//DSHvdLly7F9evXY3V19czzlsP0ynpVsrz++ut13pKz/TM1/5fVaWVtrvtl3B4+fBg//vhj/P333zEYDOLXX3+ts5bxL/fY8fFxrK6uxsHBwZmMbXO+tsd21Fxor7e7u7uxsbEx9gFxs9zPlEMr2/dX82cqn8HCwkJcuXIlFhcXx8p5GnmXlpbixRdfHGtfM+1eYZbzouzH2vvbu3fv1utuH3KWz7q9F1tYWIjDw8NYW1ubaL2ddebm513ylLG9f/9+XLx4MTY3N+t1pIuMzXlb1qiyjn377bdP3WdljnS9D3vWvD1//nwMh8P45JNP6r3arMxyvEveMt7THvhzGu+6ZX0atea295ZnnbeZpTwj2nvG5nO6XDPNeJ/GvqHMg99++y02NjbijTfeqPeN5b1zUtPmHbXnLnnLHmY4HE79fJhF1lF78pL1m2++id9//z0ODw/rNaGMfxdZR/UG7XlweHhYrxWzOFx6lnPh3zL/9NNPM5kLs8g76p2y/a7efEfrKmezU2g/y8q4bm9vP7VudJG1eY+VtandLTTnSVlzp+qdqjG/oLn9Kyb4IuS2r7/+uvrrr7+ee91wOKxu3LhRVdXJvlR6VlnHzdn05Zdf1r8fN3MXOYubN29WBwcHY+ftMmuxs7NTra+vV1V18nlx2vn7nG0ck+Sfh/tsHsf2v7QuzCrv87L2YR4Uz3u+dT2mbaedd56yVtXZ5q16Mr7NNayqnr029C1vn9ex8jw7yZ5hnp4PXWae971CVfU39yTvO2ed+7+yJ+/LM+0k49115nH3jbPMPC+9wqRZi3nqFjI/z2aVddq8fR/X4iRzoet7rJjkGedguDMwb1/gPk9f3l70+aCHPmcbx7zM36zzti+ZM2XtS862DIeX9TXvPGWNcDDcaZmHdSzj4Smta3s/vl1nHGUecjsY7vTN03obMT/7sWxr2D/X9WJsI+Zj/WrkSDcX/rlW1hOal/Wradxxnvg7gRcXF//3wgsvXJz0z0/z907yZ7rI2vz7x72uy5zNHONc04esxUnnxVnm73O2cczL/M06b/uSOVPWvuRsG5W7r1kj5ivvPGWN+Pc53MfMz7rf+pZ3Htaxk+wZus7azHGSa/s+vl1nHGUeck/yjlb+nD35eOZpvY2Yn/1YtjWsXNeHsY2Yj/WrmeMk187DXCjXynoy87J+NY07zhP/T2AAAAAAAPpv6oPhAAAAAADoLyUwAAAAAEBiSmAAAAAAgMSUwAAAAAAAiSmBAQAAAAASUwIDAAAAACSmBAYAAAAASEwJDAAAAACQmBIYAAAAACAxJTAAAAAAQGJKYAAAAACAxJTAAAAAAACJKYEBAAAAABJTAgMAAAAAJKYEBgAAAABITAkMAAAAAJCYEhgAAAAAIDElMAAAAABAYkpgAAAAAIDElMAAAAAAAIkpgQEAAAAAElMCAwAAAAAkpgQGAAAAAEhMCQwAAAAAkJgSGAAAAAAgMSUwAAAAAEBiSmAAAAAAgMSUwAAAAAAAiSmBAQAAAAASUwIDAAAAACSmBAYAAAAASEwJDAAAAACQmBIYAAAAACAxJTAAAAAAQGJKYAAAAACAxJTAAAAAAACJKYEBAAAAABJTAgMAAAAAJKYEBgAAAABITAkMAAAAAJCYEhgAAAAAIDElMAAAAABAYkpgAAAAAIDElMAAAAAAAIkpgQEAAAAAElMCAwAAAAAkpgQGAAAAAEhMCQwAAAAAkJgSGAAAAAAgMSUwAAAAAEBiSmAAAAAAgMSUwAAAAAAAiSmBAQAAAAASUwIDAAAAACSmBAYAAAAASEwJDAAAAACQmBIYAAAAACAxJTAAAAAAQGJKYAAAAACAxJTAAAAAAACJKYEBAAAAABJTAgMAAAAAJKYEBgAAAABITAkMAAAAAJCYEhgAAAAAIDElMAAAAABAYkpgAAAAAIDElMAAAAAAAIkpgQEAAAAAElMCAwAAAAAkpgQGAAAAAEhMCQwAAAAAkJgSGAAAAAAgMSUwAAAAAEBiSmAAAAAAgMSUwAAAAAAAiSmBAQAAAAASUwIDAAAAACSmBAYAAAAASEwJDAAAAACQmBIYAAAAACAxJTAAAAAAQGJKYAAAAACAxJTAAAAAAACJKYEBAAAAABJTAgMAAAAAJKYEBgAAAABITAkMAAAAAJCYEhgAAAAAIDElMAAAAABAYkpgAAAAAIDElMAAAAAAAIkpgQEAAAAAElMCAwAAAAAkpgQGAAAAAEhMCQwAAAAAkJgSGAAAAAAgMSUwAAAAAEBiSmAAAAAAgMSUwAAAAAAAiSmBAQAAAAASUwIDAAAAACSmBAYAAAAASEwJDAAAAACQmBIYAAAAACAxJTAAAAAAQGJKYAAAAACAxJTAAAAAAACJKYEBAAAAABJTAgMAAAAAJPZ/WIb+MlY63zwAAAAASUVORK5CYII=\n",
      "text/plain": [
       "<Figure size 1800x1800 with 1 Axes>"
      ]
     },
     "metadata": {
      "needs_background": "light"
     },
     "output_type": "display_data"
    }
   ],
=======
   "execution_count": null,
   "id": "4da7a7b5",
   "metadata": {},
   "outputs": [],
>>>>>>> upstream/main
   "source": [
    "# We can plot the tree structure.\n",
    "\n",
    "fig, ax = plt.subplots(figsize=(25, 25))\n",
    "tree.plot_tree(clf, ax=ax)\n",
    "plt.show()"
   ]
  },
  {
   "cell_type": "markdown",
   "id": "821f04cb",
   "metadata": {},
   "source": [
    "## Evaluate"
   ]
  },
  {
   "cell_type": "markdown",
   "id": "5bfc0460",
   "metadata": {},
   "source": [
    "We evaluate performance\n",
    "\n",
    "- we inspect accuracy of the predictions on test data month by month\n",
    "- we evaluate predictors importance"
   ]
  },
  {
   "cell_type": "markdown",
   "id": "fe3bdd2f",
   "metadata": {},
   "source": [
    "### Accuracy"
   ]
  },
  {
   "cell_type": "code",
   "execution_count": null,
   "id": "77f26113",
   "metadata": {},
   "outputs": [],
   "source": [
    "## TODO: Predict target variable on test data in two steps\n",
    "# - use 'predict_proba' method for 'DecisionTreeClassifier'\n",
    "# - convert result to 0/1 values using some threshold (could be done in one step but we want to observer dependence on the threshold)\n",
    "# Finally store the prediction as 'Prediction' column\n",
    "\n",
    "..."
   ]
  },
  {
   "cell_type": "code",
   "execution_count": null,
   "id": "91cb928d",
   "metadata": {},
   "outputs": [],
   "source": [
    "# TODO: Compute accuracy by 'Month'. Store the result to pd.Series 'data_cart_accuracy'\n",
    "\n",
    "..."
   ]
  },
  {
   "cell_type": "code",
   "execution_count": null,
   "id": "a5d68c71",
   "metadata": {
    "scrolled": true
   },
   "outputs": [],
   "source": [
    "# Inspect stability of the model performance in time\n",
    "\n",
    "ax1 = plt.subplot(111)\n",
    "ax1.bar(range(len(data_cart_accuracy)), data_cart_accuracy)\n",
    "ax1.set_xticks(range(len(data_cart_accuracy)))\n",
    "ax1.set_xticklabels(data_cart_accuracy.index, rotation = 90)\n",
    "ax1.set_xlabel('Month')\n",
    "ax1.set_ylabel('Accuracy')\n",
    "\n",
    "plt.show()"
   ]
  },
  {
   "cell_type": "markdown",
   "id": "b4694669",
   "metadata": {},
   "source": [
    "### Predictor importance\n",
    "\n",
    "In scikit-learn the feature importance is the decrease in node impurity. The key is that it measures the importance only at a node level. Then, all the nodes are weighted by how many samples reach that node."
   ]
  },
  {
   "cell_type": "code",
   "execution_count": null,
   "id": "386afd4e",
   "metadata": {
    "scrolled": true
   },
   "outputs": [],
   "source": [
    "# Get numerical feature importances\n",
    "importances = list(clf.feature_importances_)\n",
    "# List of tuples with variable and importance\n",
    "feature_importances = [(feature, round(importance, 2)) for feature, importance in zip(predictors, importances)]\n",
    "# Sort the feature importances by most important first\n",
    "feature_importances = sorted(feature_importances, key = lambda x: x[1], reverse = True)\n",
    "# Print out the feature and importances \n",
    "[print('Variable: {:20} Importance: {}'.format(*pair)) for pair in feature_importances];"
   ]
  },
  {
   "cell_type": "code",
   "execution_count": null,
   "id": "95e8e53c",
   "metadata": {},
   "outputs": [],
   "source": [
    "# Plot importance\n",
    "x_values = list(range(len(importances)))\n",
    "# Make a bar chart\n",
    "plt.bar(x_values, importances, orientation = 'vertical')\n",
    "# Tick labels for x axis\n",
    "plt.xticks(x_values, predictors, rotation='vertical')\n",
    "# Axis labels and title\n",
    "plt.ylabel('Importance'); plt.xlabel('Variable'); plt.title('Variable Importances');"
   ]
  },
  {
   "cell_type": "markdown",
   "id": "13806808",
   "metadata": {},
   "source": [
    "# CHAID\n",
    "\n",
    "Implementation: https://github.com/Rambatino/CHAID\n",
    "\n",
    "Documentation: https://www2.karlin.mff.cuni.cz/~kozmikk/files/TREE-CHAID.pdf\n",
    "\n",
    "- supports missing values for predictors (treated as a category)\n",
    "- assumes the predictors to be categorical (either nominal or ordinal)\n",
    "- the same implementation works also for regression (choose the dependent variable to be continuous)\n",
    "\n",
    "Short description:\n",
    "\n",
    "Continuous predictors are assumed to be categorized either in 'nominal' or 'ordinal' (e.g. deciles) format. Target is either 'nominal' or 'continuous'.\n",
    "\n",
    "We define constants alpha_merge and split_threshold.\n",
    "\n",
    "In each node we iterate over all categories of all predictors and test if they significantly influence the target value in terms of Chi-square test if target is 'categorical' or F-test if target is continuous. Categories are merged until the significance is below alpha_merge. Now we iterate over such newly categorized predictors and split using the one with the most significant influence on target (using the same measure as above) if split_threshold is triggered by any of them. We obtain possibly split which is non-binary.\n",
    "\n",
    "Additional parameters:\n",
    "\n",
    "- the above procedure is repeated only until the depth of the tree is not larger then max_depth\n",
    "- if we have less then min_parent_node_size in given node, no splitting is performed\n",
    "- if splitting would result in new node with less then min_child_node_size observations, no splitting is performed\n",
    "- if is_exhaustive is true then all possible merging combinations of given predictor's categories are examined (according to https://www.researchgate.net/publication/332591728_Classification_of_air_traffic_control_scenarios_using_decision_trees_insights_from_a_field_study_in_terminal_approach_radar_environment, note that the significance is adjusted using Bonferroni method)"
   ]
  },
  {
   "cell_type": "markdown",
   "id": "f4bb1e0f",
   "metadata": {},
   "source": [
    "## Data Manipulation"
   ]
  },
  {
   "cell_type": "markdown",
   "id": "edc65ab8",
   "metadata": {},
   "source": [
    "We copy our data to 'data_chaid' dataframe.\n",
    "\n",
    "First, we handle missing values, then encode all predictors as numerical."
   ]
  },
  {
   "cell_type": "code",
   "execution_count": null,
   "id": "2660fdfc",
   "metadata": {},
   "outputs": [],
   "source": [
    "data_chaid = data.copy()"
   ]
  },
  {
   "cell_type": "markdown",
   "id": "19a1758e",
   "metadata": {},
   "source": [
    "### Missing values"
   ]
  },
  {
   "cell_type": "code",
   "execution_count": null,
   "id": "13afe2ae",
   "metadata": {},
   "outputs": [],
   "source": [
    "# TODO: Handle missing values for both predictors and target\n",
    "\n",
    "..."
   ]
  },
  {
   "cell_type": "markdown",
   "id": "13c46671",
   "metadata": {},
   "source": [
    "### Predictor type"
   ]
  },
  {
   "cell_type": "code",
   "execution_count": null,
   "id": "e0397107",
   "metadata": {},
   "outputs": [],
   "source": [
    "data_chaid.dtypes"
   ]
  },
  {
   "cell_type": "code",
   "execution_count": null,
   "id": "fd71eb23",
   "metadata": {},
   "outputs": [],
   "source": [
    "# Re-encode. Column 'Date' will not be used for prediction, therefore, no need to encode it. Only 'RainToday' and 'RainTomorrow' should be re-encoded.\n",
    "\n",
    "# TODO: Convert values of 'RainToday' and 'RainTomorrow' into 0-1 encoding. You can use .apply function to use row-by-row notation.\n",
    "..."
   ]
  },
  {
   "cell_type": "code",
   "execution_count": null,
   "id": "c331e0fc",
   "metadata": {},
   "outputs": [],
   "source": [
    "target = 'RainTomorrowFlag'\n",
    "\n",
    "predictors_chaid = list(data_chaid.columns)\n",
    "predictors_chaid.remove('Date') # Date will not be used for training\n",
    "predictors_chaid.remove('RainToday') # We use RainTodayFlag instead\n",
    "predictors_chaid.remove('RainTomorrow') # Target\n",
    "predictors_chaid.remove('RainTomorrowFlag') # Target# We denote 'target' the name of the column with target values. 'predictors' stands for the list of all predictors"
   ]
  },
  {
   "cell_type": "code",
   "execution_count": null,
   "id": "0eda6f3f",
   "metadata": {},
   "outputs": [],
   "source": [
    "# Create column 'Month' for future evaluation of the model performance in time\n",
    "data_chaid['Month'] = data_chaid['Date'].dt.month\n",
    "data_chaid['Month'].value_counts()"
   ]
  },
  {
   "cell_type": "code",
   "execution_count": null,
   "id": "d8576fdd",
   "metadata": {},
   "outputs": [],
   "source": [
    "# We check the predictors if we can assume that these are continuous\n",
    "\n",
    "for predictor in predictors_chaid:\n",
    "    \n",
    "    plt.hist(data_chaid[predictor], density=True, bins=10)  # density=False would make counts\n",
    "    plt.ylabel('Probability')\n",
    "    plt.xlabel(predictor);\n",
    "\n",
    "    plt.show()"
   ]
  },
  {
   "cell_type": "markdown",
   "id": "efac0382",
   "metadata": {},
   "source": [
    "## Split & categorize"
   ]
  },
  {
   "cell_type": "markdown",
   "id": "f394bc90",
   "metadata": {},
   "source": [
    "Based on the histograms above we conclude that some of the predictors must be categorized. We do the categorization based on training data only, therefore, now we have to split the dataset."
   ]
  },
  {
   "cell_type": "code",
   "execution_count": null,
   "id": "133cab2f",
   "metadata": {},
   "outputs": [],
   "source": [
    "# Split the data, stratify by month\n",
    "data_chaid_train, data_chaid_test = train_test_split(\n",
    "    data_chaid, test_size=0.2, random_state=17, stratify=data_chaid['Month']\n",
    ")"
   ]
  },
  {
   "cell_type": "code",
   "execution_count": null,
   "id": "43fb5123",
   "metadata": {},
   "outputs": [],
   "source": [
    "# Only 'RainTodayFlag' predictor is categorical. The rest is continuous, therefore we have to categorize.\n",
    "\n",
    "n_cat = 10 # number of categories created for each predictor\n",
    "\n",
    "# We store categorized predictors from 'predictors_chaid' to 'predictors_chaid_cat' columns.\n",
    "\n",
    "predictors_chaid_cat = []\n",
    "for predictor in predictors_chaid:\n",
    "    \n",
    "    predictor_cat = predictor+'_cat'\n",
    "    predictors_chaid_cat.append(predictor_cat)\n",
    "    \n",
    "    if (predictor not in ['RainTodayFlag']): # 'RainTodayFlag' need not to be categorized\n",
    "        \n",
    "        # TODO: Categorize given predictor 'predictor' by quantiles using function pd.qcut with 'n_cat' categories. \n",
    "        # Note that in the future we will need to categorize also test data, therefore, label the\n",
    "        # new categories by right-end-point of each interval (np.infty for infinity).\n",
    "        ...\n",
    "        \n",
    "    else:\n",
    "        # Already categorized\n",
    "        data_chaid_train[predictor_cat] = data_chaid_train[predictor]\n"
   ]
  },
  {
   "cell_type": "markdown",
   "id": "39d1b02c",
   "metadata": {},
   "source": [
    "## Train"
   ]
  },
  {
   "cell_type": "code",
   "execution_count": null,
   "id": "4cc6c7cc",
   "metadata": {},
   "outputs": [],
   "source": [
    "# Now we can fit the model.\n",
    "\n",
    "# The model needs to know if 'ordinal' or 'nominal' predictors are present (only 'nominal' in our case as we have also missing values)\n",
    "independent_columns = dict(zip(predictors_chaid_cat, ['nominal'] * len(predictors_chaid_cat)))\n",
    "\n",
    "# TODO: Choose the parameters carefully. See the algorithm description above.\n",
    "config_chaid = {\n",
    "    'alpha_merge': ..., # minimum significance level for categories not to be merged\n",
    "    'max_depth': ..., #maximum depth of tree\n",
    "    'min_parent_node_size': ..., # minimum number of observations of node for splitting\n",
    "    'min_child_node_size': ..., # minimum number of observations in new node\n",
    "    'split_threshold': ..., # minimum gain for new split\n",
    "}\n",
    "\n",
    "tree_ch = CHAID.Tree.from_pandas_df(\n",
    "    data_chaid_train,\n",
    "    independent_columns,\n",
    "    target,\n",
    "    alpha_merge = config_chaid['alpha_merge'],\n",
    "    max_depth = config_chaid['max_depth'],\n",
    "    min_parent_node_size = config_chaid['min_parent_node_size'],\n",
    "    min_child_node_size = config_chaid['min_child_node_size'],\n",
    "    split_threshold = config_chaid['split_threshold'],\n",
    ")\n",
    "\n",
    "# Tree summary and model evaluation metrics\n",
    "print('*************** Tree Summary ***************')\n",
    "print('Classes: ', len(data_chaid_train[target].unique()))\n",
    "print('Tree Depth: ', tree_ch.max_depth)\n",
    "print('No. of features: ', len(independent_columns))\n",
    "print('--------------------------------------------------------')\n",
    "print(\"\")\n",
    "\n",
    "print('*************** Evaluation on Training Data ***************')\n",
    "print('Accuracy Score: ', tree_ch.accuracy())"
   ]
  },
  {
   "cell_type": "markdown",
   "id": "66317421",
   "metadata": {},
   "source": [
    "Note: features_importance not available in this implementation"
   ]
  },
  {
   "cell_type": "markdown",
   "id": "7530915a",
   "metadata": {},
   "source": [
    "## Evaluate"
   ]
  },
  {
   "cell_type": "markdown",
   "id": "aa9c7a52",
   "metadata": {},
   "source": [
    "We evaluate performance of the model using accuracy month by month.\n",
    "\n",
    "Before we can predict for test data, we have to use the same categorization as for the train data."
   ]
  },
  {
   "cell_type": "markdown",
   "id": "15ea750f",
   "metadata": {},
   "source": [
    "### Predict"
   ]
  },
  {
   "cell_type": "code",
   "execution_count": null,
   "id": "91ec0a0a",
   "metadata": {},
   "outputs": [],
   "source": [
    "# First, we need to categorize the train data in the same way as we have categorized the train data\n",
    "\n",
    "for predictor in predictors_chaid:\n",
    "    \n",
    "    predictor_cat = predictor+'_cat'\n",
    "    \n",
    "    if (predictor not in ['RainTodayFlag']): # 'RainTodayFlag' need not be categorized\n",
    "        \n",
    "        # TODO: Categorize predictor 'predictor' using intervals from train data. Use the function\n",
    "        # pd.cut.\n",
    "        labels=list(data_chaid_train[predictor_cat].unique()) # We take the right-end points of intervals from train data\n",
    "        labels = sorted([x for x in labels if str(x) != 'nan']) # We drop 'nan' end point which stands for missing values\n",
    "        bins = [-np.inf] + labels\n",
    "        data_chaid_test[predictor_cat] = ...\n",
    "    else:\n",
    "        # Already categorized\n",
    "        data_chaid_test[predictor_cat] = data_chaid_test[predictor]\n"
   ]
  },
  {
   "cell_type": "code",
   "execution_count": null,
   "id": "05c80efb",
   "metadata": {},
   "outputs": [],
   "source": [
    "# Disclaimer: The implementation does not involve method for prediction. Therefore, we use our own implementation.\n",
    "\n",
    "# Leaves of the tree: list of leaves with rules\n",
    "leaves = tree_ch.classification_rules() # Contains rules for leaves\n",
    "nodes = tree_ch.tree_store # Contains predictions for all nodes (not only leaves)\n",
    "\n",
    "def chaid_predict(data):\n",
    "    \"\"\"\n",
    "        Returns prediction of 'target' using trained CHAID tree for one observation by identifying correct leaf.\n",
    "        \n",
    "        Args:\n",
    "            one observation as in format 'data_chaid' with columns 'predictors_chaid_cat'\n",
    "        \n",
    "        Returns:\n",
    "            float: number of positive cases in identified leaf/number of total cases in identified leaf\n",
    "    \"\"\"\n",
    "\n",
    "    # Iterate over all leaves of the tree and find the correct one\n",
    "    for leaf in leaves:\n",
    "        \n",
    "        # List of rules that determine the leaf\n",
    "        rules = leaf['rules']\n",
    "        rule_i = 0\n",
    "\n",
    "        # Evaluate conditions until one fails\n",
    "        is_member = True\n",
    "        while is_member and (rule_i+1<=len(rules)):\n",
    "            \n",
    "            \n",
    "            var_name = rules[rule_i]['variable']\n",
    "            var_val_list = rules[rule_i]['data']\n",
    "            \n",
    "            if data[var_name] not in var_val_list:\n",
    "                is_member = False\n",
    "            \n",
    "            rule_i = rule_i+1\n",
    "            \n",
    "        if is_member: # All conditions met\n",
    "            \n",
    "            zeros = nodes[leaf['node']]._members[0]\n",
    "            ones = nodes[leaf['node']]._members[1]\n",
    "            \n",
    "            return ones/(zeros+ones)\n",
    "        \n",
    "    return None # No leaf found"
   ]
  },
  {
   "cell_type": "code",
   "execution_count": null,
   "id": "2804a379",
   "metadata": {},
   "outputs": [],
   "source": [
    "# TODO: Predict target variable on test data in two steps\n",
    "# - use 'chaid_predict' to compute prediction as probability\n",
    "# - convert result to 0/1 values using some threshold (could be done in one step but we want to observer dependence on the threshold)\n",
    "# Finally store the prediction as 'Prediction' column\n",
    "\n",
    "..."
   ]
  },
  {
   "cell_type": "markdown",
   "id": "3eb1ced3",
   "metadata": {},
   "source": [
    "### Accuracy"
   ]
  },
  {
   "cell_type": "code",
   "execution_count": null,
   "id": "4fc44a5e",
   "metadata": {},
   "outputs": [],
   "source": [
    "# Compute accuracy by 'Month'\n",
    "\n",
    "..."
   ]
  },
  {
   "cell_type": "code",
   "execution_count": null,
   "id": "9076ab07",
   "metadata": {},
   "outputs": [],
   "source": [
    "# Inspect stability of the model performance in time\n",
    "\n",
    "ax1 = plt.subplot(111)\n",
    "ax1.bar(range(len(data_chaid_accuracy)), data_chaid_accuracy)\n",
    "ax1.set_xticks(range(len(data_chaid_accuracy)))\n",
    "ax1.set_xticklabels(data_chaid_accuracy.index)\n",
    "ax1.set_xlabel('Month')\n",
    "ax1.set_ylabel('Accuracy')\n",
    "\n",
    "plt.show()"
   ]
  },
  {
   "cell_type": "markdown",
   "id": "038b1802",
   "metadata": {},
   "source": [
    "# Random forest - manually\n",
    "\n",
    "We build our own random forest based on one of the above trees. This includes randomly selecting predictors and observations for the training.\n",
    "\n",
    "The forest consists of CART trees each trained on a fraction of training data. We observe accuracy on data not used when training given tree (validation data) and assess the whole forest by accuracy on separate test data."
   ]
  },
  {
   "cell_type": "code",
   "execution_count": null,
   "id": "39dfdf4a",
   "metadata": {},
   "outputs": [],
   "source": [
    "import random\n",
    "\n",
    "random.seed(17)"
   ]
  },
  {
   "cell_type": "code",
   "execution_count": null,
   "id": "c7e9942c",
   "metadata": {},
   "outputs": [],
   "source": [
    "# Meta parameters\n",
    "target = 'RainTomorrowFlag'\n",
    "\n",
    "n_models = 10 # Number of trees in ensemble\n",
    "p_obs = 0.3 # Prob. that observation is chosen for training of a given tree\n",
    "\n",
    "# TODO: Adjust parameters as above. Note that reasonable forest should consist of trees with distinct random seeds.\n",
    "criterion = 'gini' #(TODO)\n",
    "splitter = 'best' #(TODO)\n",
    "mdepth = 4 #(TODO)\n",
    "min_samples_split = 5 #(TODO)\n",
    "min_samples_leaf = 0.001 #(TODO)\n",
    "minleaf = 100 #(TODO)\n",
    "\n",
    "\n",
    "# We fit 'n_models' models and store them into list\n",
    "clf_list = []\n",
    "for n in range(n_models):\n",
    "    \n",
    "    # TODO: Define 'train_index' a list of indices from 'data_cart_train' to be used for training in given iteration, consider parameter 'p_obs'\n",
    "    train_index = random.sample(list(data_cart_train.index), int(p_obs*len(data_cart_train))) #(TODO)\n",
    "\n",
    "    # Init the model\n",
    "    model = tree.DecisionTreeClassifier(\n",
    "        criterion=criterion,\n",
    "        splitter=splitter, \n",
    "        max_depth=mdepth,\n",
    "        min_samples_split=min_samples_split,\n",
    "        min_samples_leaf=min_samples_leaf, \n",
    "        random_state=n,\n",
    "    )\n",
    "\n",
    "    clf = model.fit(data_cart_train.loc[train_index, predictors], data_cart_train.loc[train_index, target])\n",
    "    \n",
    "    clf_list = clf_list + [model]\n",
    "\n",
    "    if n==0:\n",
    "        # Tree summary and model evaluation metrics\n",
    "        print('*************** Tree Summary ***************')\n",
    "        print('Classes: ', clf.classes_)\n",
    "        print('Tree Depth: ', clf.tree_.max_depth)\n",
    "        print('No. of leaves: ', clf.tree_.n_leaves)\n",
    "        print('No. of features: ', clf.n_features_)\n",
    "        print('--------------------------------------------------------')\n",
    "        print(\"\")\n",
    "        \n",
    "        # TODO: Compute predictions using model.predict_proba for 'data_cart_train' and 'data_cart_test' in the first iteration\n",
    "        data_cart_train['Prediction_forest_prob'] = model.predict_proba(data_cart_train[predictors])[:,1] #(TODO)\n",
    "        data_cart_test['Prediction_forest_prob'] = model.predict_proba(data_cart_test[predictors])[:,1] #(TODO)\n",
    "    \n",
    "    else:\n",
    "        # TODO: Compute predictions using model.predict_proba for 'data_cart_train' and 'data_cart_test' after the first iteration\n",
    "        data_cart_train['Prediction_forest_prob'] = 1/(n+1)*(data_cart_train['Prediction_forest_prob']*n + model.predict_proba(data_cart_train[predictors])[:,1]) #(TODO)\n",
    "        data_cart_test['Prediction_forest_prob'] = 1/(n+1)*(data_cart_test['Prediction_forest_prob']*n + model.predict_proba(data_cart_test[predictors])[:,1]) #(TODO)\n",
    "    \n",
    "    # TODO: Use threshold to transform probabilities to 0/1 values and store prediction as 'Prediction_forest' column in 'data_cart_train' and 'data_cart_test' datasets\n",
    "    data_cart_train['Prediction_forest'] = (data_cart_train['Prediction_forest_prob']>=0.5).astype(int)\n",
    "    data_cart_test['Prediction_forest'] = (data_cart_test['Prediction_forest_prob']>=0.5).astype(int)\n",
    "\n",
    "    print('*************** Evaluation After Iteration '+str(n+1)+' *********')\n",
    "    score_te = 1-abs(data_cart_train['Prediction_forest']-data_cart_train[target]).mean()\n",
    "    print('Accuracy Train: ', score_te)\n",
    "    score_tr = 1-abs(data_cart_test['Prediction_forest']-data_cart_test[target]).mean()\n",
    "    print('Accuracy Valid: ', score_tr)\n",
    "    print('--------------------------------------------------------')\n"
   ]
  },
  {
   "cell_type": "markdown",
   "id": "d3515ffc",
   "metadata": {},
   "source": [
    "Now we evaluate the performance of our forest. Prediction is simple average of predictions over different trees."
   ]
  },
  {
   "cell_type": "markdown",
   "id": "5555912b",
   "metadata": {},
   "source": [
    "# Bonus task\n",
    "\n",
    "Use different approach for training our random forest: Choose randomly predictors which will be used for training each of the tree."
   ]
  },
  {
   "cell_type": "markdown",
   "id": "fb94dc03",
   "metadata": {},
   "source": [
    "# Random forest"
   ]
  },
  {
   "cell_type": "markdown",
   "id": "7d12ae99",
   "metadata": {},
   "source": [
    "For this task we use different data points from the same dataset as above. Therefore, we reload the data."
   ]
  },
  {
   "cell_type": "markdown",
   "id": "6b44835e",
   "metadata": {},
   "source": [
    "## Load data\n",
    "\n",
    "Weather data from Australia. The task is to predict if tomorrow is going to rain based on today's weather characteristics.\n",
    "\n",
    "Source: https://www.kaggle.com/jsphyg/weather-dataset-rattle-package\n",
    "\n",
    "**Target description**\n",
    "\n",
    "- MaxTemp: The maximum temperature in degrees celsius\n",
    "\n",
    "**Predictors description**\n",
    "\n",
    "- Rainfall: The amount of rainfall recorded for the day in mm\n",
    "- Evaporation: The so-called Class A pan evaporation (mm) in the 24 hours to 9am\n",
    "- Sunshine: The number of hours of bright sunshine in the day.\n",
    "- Location: The common name of the location of the weather station\n",
    "- WindGustSpeed: The speed (km/h) of the strongest wind gust in the 24 hours to midnight\n",
    "- WindDir9am: Direction of the wind at 9am\n",
    "- WindDir3pm: Direction of the wind at 3pm\n",
    "- Humidity9am:Humidity (percent) at 9am\n",
    "- Humidity3pm: Humidity (percent) at 3pm\n",
    "- Pressure9am: Atmospheric pressure (hpa) reduced to mean sea level at 9am\n",
    "- Pressure3pm: Atmospheric pressure (hpa) reduced to mean sea level at 3pm\n",
    "- Cloud9am: Fraction of sky obscured by cloud at 9am. This is measured in \"oktas\", which are a unit of eigths. It records how many eigths of the sky are obscured by cloud. A 0 measure indicates completely clear sky whilst an 8 indicates that it is completely overcast.\n",
    "- Clousd3pm: Fraction of sky obscured by cloud (in \"oktas\": eighths) at 3pm. See Cload9am for a description of the values\n",
    "\n",
    "\n"
   ]
  },
  {
   "cell_type": "code",
   "execution_count": null,
   "id": "ed6ec957",
   "metadata": {},
   "outputs": [],
   "source": [
    "# Import dataset\n",
    "data = pd.read_csv('.\\..\\Data\\weatherAUS.csv', encoding='utf-8')\n",
    "\n",
    "# Keep only specified columns and rows\n",
    "columns = [\"Rainfall\", \"Evaporation\", \"Sunshine\", \"Location\", \"WindGustSpeed\", \"WindDir9am\", \"WindDir3pm\", \"Humidity9am\", \"Humidity3pm\",  \"Pressure9am\", \"Pressure3pm\", \"Cloud9am\", \"Cloud3pm\", \"MaxTemp\"]\n",
    "data_forest = data.loc[data['Location'].isin([\"Canberra\", \"Sydney\", \"Albury\"]), columns]\n",
    "\n",
    "print(f'Number of rows:      {data_forest.shape[0]}')\n",
    "print(f'Number of columns:   {data_forest.shape[1]}')"
   ]
  },
  {
   "cell_type": "code",
   "execution_count": null,
   "id": "a686c180",
   "metadata": {},
   "outputs": [],
   "source": [
    "data_forest.head()"
   ]
  },
  {
   "cell_type": "code",
   "execution_count": null,
   "id": "501991d5",
   "metadata": {},
   "outputs": [],
   "source": [
    "# Descriptive statistics: note that only numerical features are included\n",
    "data_forest.describe()"
   ]
  },
  {
   "cell_type": "markdown",
   "id": "116f544f",
   "metadata": {},
   "source": [
    "## Data manipulation"
   ]
  },
  {
   "cell_type": "code",
   "execution_count": null,
   "id": "a0b1ad64",
   "metadata": {},
   "outputs": [],
   "source": [
    "# Number of missing values in each column\n",
    "data_forest.isna().sum()"
   ]
  },
  {
   "cell_type": "code",
   "execution_count": null,
   "id": "db8142e1",
   "metadata": {},
   "outputs": [],
   "source": [
    "# We treat numerical and categorical features differently\n",
    "data_forest.dtypes"
   ]
  },
  {
   "cell_type": "code",
   "execution_count": null,
   "id": "d84d0d9b",
   "metadata": {},
   "outputs": [],
   "source": [
    "# We denote 'target' the name of the column with target values. \n",
    "# 'predictors_cat' stands for the list categorical predictors\n",
    "# 'predictors_num' stands for the list numerical predictors\n",
    "\n",
    "target = \"MaxTemp\"\n",
    "\n",
    "predictors_cat = list(data_forest.columns[[data_forest[col].dtype == 'object' for col in data_forest.columns]])\n",
    "predictors_num = list(data_forest.columns[[data_forest[col].dtype != 'object' for col in data_forest.columns]])\n",
    "predictors_num.remove(target)"
   ]
  },
  {
   "cell_type": "code",
   "execution_count": null,
   "id": "55b225ec",
   "metadata": {},
   "outputs": [],
   "source": [
    "# Drop rows with missing target\n",
    "data_forest=data_forest[pd.isnull(data_forest[target])==False]"
   ]
  },
  {
   "cell_type": "markdown",
   "id": "1f889e36",
   "metadata": {},
   "source": [
    "### Numerical features"
   ]
  },
  {
   "cell_type": "code",
   "execution_count": null,
   "id": "31452d1d",
   "metadata": {},
   "outputs": [],
   "source": [
    "#TODO:  Handle missing values for predictors\n",
    "..."
   ]
  },
  {
   "cell_type": "markdown",
   "id": "52c2a499",
   "metadata": {},
   "source": [
    "### Categorical features\n",
    "\n",
    "Two possible approaches:\n",
    "\n",
    "- one-hot encoding\n",
    "- mean-target encoding\n",
    "\n",
    "We investigate both of them separately.\n",
    "\n",
    "After this section, predictors_one_hot contain predictors_cat one-hot-encoded and predictors_mean_target contain predictors_cat mean-target-encoded."
   ]
  },
  {
   "cell_type": "code",
   "execution_count": null,
   "id": "49192d06",
   "metadata": {},
   "outputs": [],
   "source": [
    "# One-hot encoding. Names of columns of new columns will be stored in 'predictors_one_hot'\n",
    "\n",
    "predictors_one_hot = []\n",
    "for pred in predictors_cat:\n",
    "    \n",
    "    # TODO: Use pd.get_dummies to encode categorical predictors. Store the result to 'data_one_hot' dataframe\n",
    "    # (only columns containing encoded values)\n",
    "    ...\n",
    "    \n",
    "    # Join to data\n",
    "    data_forest = pd.concat([data_forest, data_one_hot], axis=1)\n",
    "    \n",
    "    # Keep new predictors names\n",
    "    predictors_one_hot = predictors_one_hot + list(data_one_hot.columns)\n",
    "    \n"
   ]
  },
  {
   "cell_type": "markdown",
   "id": "6117a58f",
   "metadata": {},
   "source": [
    "Now, we create function that computes encoding values for given predictor.\n",
    "\n",
    "For binary target, the encoding for given predictor and category is given as a convex combination of mean target value for observations in the category and mean target value for the whole dataset:\n",
    "\n",
    "\\begin{align*}\n",
    "\\frac{\\frac{count_{cat}}{count_{all}}*mean\\_target_{cat}+\\alpha*mean\\_target_{all}}{\\frac{count_{cat}}{count_{all}}+\\alpha},\n",
    "\\end{align*}\n",
    "where $\\alpha$ is a chosen parameter."
   ]
  },
  {
   "cell_type": "code",
   "execution_count": null,
   "id": "c95d3137",
   "metadata": {},
   "outputs": [],
   "source": [
    "# Mean-target encoding\n",
    "\n",
    "def mean_target_encoding(data, predictor, target, alpha = 0.01):\n",
    "    \n",
    "    \"\"\"\n",
    "    - Args:\n",
    "        data: dataset\n",
    "        predictor: column name for predictor in data to be encoded\n",
    "        target: column name for target\n",
    "        alpha: parameter in mean-target-encoding (float)\n",
    "        \n",
    "    - Returns:\n",
    "        Dict: key = category in 'predictor', value = encoded category based on 'target' using mean-target encoding with parameter 'alpha'\n",
    "    \"\"\"\n",
    "    \n",
    "    #data[predictor] = data[predictor].fillna(\"MISSING\")\n",
    "    \n",
    "    # TODO: Create dataframe category that contains at least two columns:\n",
    "    # column predictor (use the parameter of the function) contains unique category values for given predictor\n",
    "    # column 'encoding' contains mean-target-encoding for given category computed as above\n",
    "    # Keep in mind, that whenever you apply 'groupby' you have to specify 'dropna'=False to keep also observations with missing values\n",
    "    \n",
    "    ...\n",
    "    \n",
    "    # Create dictionary storing our encoding\n",
    "    encoding = dict(zip(category.index,category['encoding']))\n",
    "    \n",
    "    return encoding\n",
    "\n"
   ]
  },
  {
   "cell_type": "code",
   "execution_count": null,
   "id": "08a995fd",
   "metadata": {},
   "outputs": [],
   "source": [
    "# Apply encoding. Names of columns of new columns will be stored in 'predictors_mean_target'\n",
    "\n",
    "predictors_mean_target = []\n",
    "encodings = {}\n",
    "for pred in predictors_cat:\n",
    "    \n",
    "    # New predictor name contains 'MT' and former predictor name\n",
    "    pred_mean_target = pred + \"MT\"\n",
    "    \n",
    "    # TODO: First, compute the encoding for given predictor. Then apply using 'replace' method\n",
    "    # that works on data frames and store values to 'data_forest[pred_mean_target]'\n",
    "    \n",
    "    ...\n",
    "    \n",
    "    # Keep new predictors names\n",
    "    predictors_mean_target = predictors_mean_target + [pred_mean_target]"
   ]
  },
  {
   "cell_type": "code",
   "execution_count": null,
   "id": "083ba156",
   "metadata": {},
   "outputs": [],
   "source": [
    "# Inspect mean-target encoding\n",
    "\n",
    "for pred in predictors_mean_target:\n",
    "    \n",
    "    temp = encodings[pred]\n",
    "    \n",
    "    # Pyplot does not handle missing values, for some predictors we have to refactor (Warning: this code is data-specific)\n",
    "    if pred != 'LocationMT':\n",
    "        pom = list(temp.keys())[-1]\n",
    "        temp['nan'] = temp.pop(pom)\n",
    "    \n",
    "    # Plot\n",
    "    ax1 = plt.subplot(111)\n",
    "    ax1.bar(range(len(temp)), list(temp.values()))\n",
    "    ax1.set_xticks(range(len(temp)))\n",
    "    ax1.set_xticklabels(temp.keys(), rotation=60)\n",
    "    ax1.set_xlabel('Category')\n",
    "    ax1.set_ylabel('Mean-target')\n",
    "\n",
    "    plt.show()"
   ]
  },
  {
   "cell_type": "markdown",
   "id": "7d6e4f68",
   "metadata": {},
   "source": [
    "## Fit\n",
    "\n",
    "We train separately based on different encodings."
   ]
  },
  {
   "cell_type": "code",
   "execution_count": null,
   "id": "d818d5b4",
   "metadata": {},
   "outputs": [],
   "source": [
    "# Split the data. We produce datasets for one-hot and mean-target encodings separately\n",
    "\n",
    "# One-hot encoding\n",
    "X_train_oh, X_test_oh, y_train_oh, y_test_oh = train_test_split(\n",
    "    data_forest[predictors_num+predictors_one_hot], data_forest[target], test_size=0.2, random_state=17\n",
    ")\n",
    "\n",
    "# Mean-target encoding\n",
    "X_train_mt, X_test_mt, y_train_mt, y_test_mt = train_test_split(\n",
    "    data_forest[predictors_num+predictors_mean_target], data_forest[target], test_size=0.2, random_state=17\n",
    ")"
   ]
  },
  {
   "cell_type": "markdown",
   "id": "5abfe308",
   "metadata": {},
   "source": [
    "### One-hot encoding"
   ]
  },
  {
   "cell_type": "code",
   "execution_count": null,
   "id": "a057ffe5",
   "metadata": {},
   "outputs": [],
   "source": [
    "# TODO: Use 'sklearn' documentation to carefully choose parameters, init and fit the model. Use 'X_train_oh' and 'y_train_oh' data defined above.\n",
    "\n",
    "..."
   ]
  },
  {
   "cell_type": "markdown",
   "id": "34b3f854",
   "metadata": {},
   "source": [
    "### Mean-target encoding"
   ]
  },
  {
   "cell_type": "code",
   "execution_count": null,
   "id": "768aa920",
   "metadata": {},
   "outputs": [],
   "source": [
    "# TODO: Use 'sklearn' documentation to carefully choose parameters, init and fit the model. Use 'X_train_mt' and 'y_train_mt' data defined above.\n",
    "\n",
    "..."
   ]
  },
  {
   "cell_type": "markdown",
   "id": "80622f5d",
   "metadata": {},
   "source": [
    "## Evaluate\n",
    "\n",
    "We evaluate both models based on MAE, MAPE and visually by inspecting the prediction errors. We also consider features' importance.\n",
    "\n",
    "In scikit-learn the feature importance is the decrease in node impurity. The key is that it measures the importance only at a node level. Then, all the nodes are weighted by how many samples reach that node."
   ]
  },
  {
   "cell_type": "markdown",
   "id": "3133852c",
   "metadata": {},
   "source": [
    "### One hot encoding"
   ]
  },
  {
   "cell_type": "code",
   "execution_count": null,
   "id": "d3d55970",
   "metadata": {},
   "outputs": [],
   "source": [
    "# Use the forest's predict method on the test data\n",
    "predictions_oh = rf_oh.predict(X_test_oh)\n",
    "\n",
    "# Calculate MAE\n",
    "absolute_error_oh = abs(predictions_oh - y_test_oh)\n",
    "MAE_oh = round(np.mean(absolute_error_oh), 2)\n",
    "\n",
    "# Calculate MAPE\n",
    "absolute_percentage_error_oh = 100 * (absolute_error_oh / y_test_oh)\n",
    "MAPE_oh = round(np.mean(absolute_percentage_error_oh), 2)\n",
    "\n",
    "# Print\n",
    "print('Mean Absolute Error:', MAE_oh, 'degrees.')\n",
    "print('Mean Absolute Percentage Error:', MAPE_oh, '%.')"
   ]
  },
  {
   "cell_type": "code",
   "execution_count": null,
   "id": "466b66aa",
   "metadata": {},
   "outputs": [],
   "source": [
    "# Get numerical feature importances\n",
    "importances_oh = list(rf_oh.feature_importances_)\n",
    "\n",
    "# List of tuples with variable and importance\n",
    "feature_importances_oh = [(feature, round(importance, 2)) for feature, importance in zip(predictors_num+predictors_one_hot, importances_oh)]\n",
    "\n",
    "# Sort the feature importances by most important first and take only 10 most powerful\n",
    "feature_importances_oh = sorted(feature_importances_oh, key = lambda x: x[1], reverse = True)[:10]\n",
    "\n",
    "# Print out the feature and importances \n",
    "[print('Variable: {:20} Importance: {}'.format(*pair)) for pair in feature_importances_oh];"
   ]
  },
  {
   "cell_type": "markdown",
   "id": "75ffb9f9",
   "metadata": {},
   "source": [
    "### Mean target encoding"
   ]
  },
  {
   "cell_type": "code",
   "execution_count": null,
   "id": "2d3e92e5",
   "metadata": {},
   "outputs": [],
   "source": [
    "# Use the forest's predict method on the test data\n",
    "predictions_mt = rf_mt.predict(X_test_mt)\n",
    "\n",
    "# Calculate MAE\n",
    "absolute_error_mt = abs(predictions_mt - y_test_mt)\n",
    "MAE_mt = round(np.mean(absolute_error_mt), 2)\n",
    "\n",
    "# Calculate MAPE\n",
    "absolute_percentage_error_mt = 100 * (absolute_error_mt / y_test_mt)\n",
    "MAPE_mt = round(np.mean(absolute_percentage_error_mt), 2)\n",
    "\n",
    "# Print\n",
    "print('Mean Absolute Error:', MAE_mt, 'degrees.')\n",
    "print('Mean Absolute Percentage Error:', MAPE_mt, '%.')"
   ]
  },
  {
   "cell_type": "code",
   "execution_count": null,
   "id": "28f30a11",
   "metadata": {},
   "outputs": [],
   "source": [
    "# Get numerical feature importances\n",
    "importances_mt = list(rf_mt.feature_importances_)\n",
    "\n",
    "# List of tuples with variable and importance\n",
    "feature_importances_mt = [(feature, round(importance, 2)) for feature, importance in zip(predictors_num+predictors_mean_target, importances_mt)]\n",
    "\n",
    "# Sort the feature importances by most important first and take only 10 most powerful\n",
    "feature_importances_mt = sorted(feature_importances_mt, key = lambda x: x[1], reverse = True)[:10]\n",
    "\n",
    "# Print out the feature and importances \n",
    "[print('Variable: {:20} Importance: {}'.format(*pair)) for pair in feature_importances_mt];"
   ]
  },
  {
   "cell_type": "markdown",
   "id": "ee72ea2c",
   "metadata": {},
   "source": [
    "### Comparison"
   ]
  },
  {
   "cell_type": "code",
   "execution_count": null,
   "id": "2065ec51",
   "metadata": {},
   "outputs": [],
   "source": [
    "# Visualise prediction errors. Namely, we plot difference in residuals of the two models against target value in scatter plot.\n",
    "\n",
    "fig, ax1 = plt.subplots(figsize=(10, 10))\n",
    "ax1.scatter(y_test_mt, predictions_mt-predictions_oh)\n",
    "ax1.set_xlabel('Target', size=20)\n",
    "ax1.set_ylabel('Errors difference (mean-target - one-hot)', size=20)\n",
    "\n",
    "plt.show()"
   ]
  },
  {
   "cell_type": "markdown",
   "id": "59f4818d",
   "metadata": {},
   "source": [
    "## Un-observed value\n",
    "\n",
    "Our aim now is to forecast at location which has not been observed in training data. For one-hot-encoding, we would have to re-train our model. If we use mean-target encoding, only target means have to be computed for the new category."
   ]
  },
  {
   "cell_type": "code",
   "execution_count": null,
   "id": "5589e926",
   "metadata": {},
   "outputs": [],
   "source": [
    "# We import new dataset and keep values only for observation from 'Location'==\"Perth\".\n",
    "\n",
    "data_new = pd.read_csv('.\\..\\Data\\weatherAUS.csv', encoding='utf-8')\n",
    "\n",
    "columns = [\"Rainfall\", \"Evaporation\", \"Sunshine\", \"Location\", \"WindGustSpeed\", \"WindDir9am\", \"WindDir3pm\", \"Humidity9am\", \"Humidity3pm\",  \"Pressure9am\", \"Pressure3pm\", \"Cloud9am\", \"Cloud3pm\", \"MaxTemp\"]\n",
    "data_new = data_new.loc[data_new['Location'].isin([\"Perth\"]), columns]\n",
    "\n",
    "print(f'Number of rows:      {data_new.shape[0]}')\n",
    "print(f'Number of columns:   {data_new.shape[1]}')"
   ]
  },
  {
   "cell_type": "code",
   "execution_count": null,
   "id": "10c57a89",
   "metadata": {},
   "outputs": [],
   "source": [
    "# We handle missing values as previously\n",
    "data_new=data_new[pd.isnull(data_new[target])==False]\n",
    "data_new[predictors_num]=data_new[predictors_num].fillna(data_new[predictors_num].mean())"
   ]
  },
  {
   "cell_type": "code",
   "execution_count": null,
   "id": "9d84a0e8",
   "metadata": {},
   "outputs": [],
   "source": [
    "# We have the following categorical predictors\n",
    "predictors_cat"
   ]
  },
  {
   "cell_type": "code",
   "execution_count": null,
   "id": "8f46171e",
   "metadata": {},
   "outputs": [],
   "source": [
    "# TODO: 'WindDir9am' and 'WindDir3pm' can be encoded using previously estimated mean-targets. \n",
    "# As previously, store new predictors as 'data_new['WindDir9amMT']', 'data_new['WindDir3pmMT']'\n",
    "\n",
    "..."
   ]
  },
  {
   "cell_type": "code",
   "execution_count": null,
   "id": "a755d6fe",
   "metadata": {},
   "outputs": [],
   "source": [
    "# For 'Location' that contains previously unobserved value, we have to compute encoding from scratch. We therefore recompute\n",
    "# all the encoding on both new and old data. New encoding can be used also for 'WindDir9am', 'WindDir3pm'.\n",
    "\n",
    "# For 'Location' we compute encodings for all categories but then apply only for \"Perth\".\n",
    "\n",
    "encodings_new = {}\n",
    "for pred in predictors_cat:\n",
    "    \n",
    "    # New predictor name contains 'MT' and former predictor name\n",
    "    pred_mean_target = pred + \"MT\"\n",
    "    \n",
    "    # TODO: First, compute the encoding for given predictor using both data_new and data_forest. \n",
    "    #Then apply using 'replace' method that works on data frames and store values to 'data_new[pred_mean_target]'\n",
    "    \n",
    "    ..."
   ]
  },
  {
   "cell_type": "code",
   "execution_count": null,
   "id": "2d84b668",
   "metadata": {},
   "outputs": [],
   "source": [
    "# The encoding vlues for 'Location' slightly change\n",
    "encodings['LocationMT']"
   ]
  },
  {
   "cell_type": "code",
   "execution_count": null,
   "id": "5393df1d",
   "metadata": {},
   "outputs": [],
   "source": [
    "encodings_new['LocationMT']"
   ]
  },
  {
   "cell_type": "code",
   "execution_count": null,
   "id": "cbf06b4c",
   "metadata": {},
   "outputs": [],
   "source": [
    "# Now we can predict and evaluate MAE and MAPE\n",
    "\n",
    "# Use the forest's predict method on the test data\n",
    "predictions_mt_new = rf_mt.predict(data_new[predictors_num+predictors_mean_target])\n",
    "\n",
    "# Calculate MAE\n",
    "absolute_error_mt_new = abs(predictions_mt_new - data_new[target])\n",
    "MAE_mt_new = round(np.mean(absolute_error_mt_new), 2)\n",
    "\n",
    "# Calculate MAPE\n",
    "absolute_percentage_error_mt_new = 100 * (absolute_error_mt_new / data_new[target])\n",
    "MAPE_mt_new = round(np.mean(absolute_percentage_error_mt_new), 2)\n",
    "\n",
    "# Print\n",
    "print('Mean Absolute Error:', MAE_mt_new, 'degrees.')\n",
    "print('Mean Absolute Percentage Error:', MAPE_mt_new, '%.')"
   ]
  }
 ],
 "metadata": {
  "kernelspec": {
   "display_name": "Python 3",
   "language": "python",
   "name": "python3"
  },
  "language_info": {
   "codemirror_mode": {
    "name": "ipython",
    "version": 3
   },
   "file_extension": ".py",
   "mimetype": "text/x-python",
   "name": "python",
   "nbconvert_exporter": "python",
   "pygments_lexer": "ipython3",
<<<<<<< HEAD
   "version": "3.8.5"
=======
   "version": "3.8.3"
>>>>>>> upstream/main
  },
  "toc": {
   "base_numbering": 1,
   "nav_menu": {},
   "number_sections": true,
   "sideBar": true,
   "skip_h1_title": false,
   "title_cell": "Table of Contents",
   "title_sidebar": "Contents",
   "toc_cell": false,
   "toc_position": {
    "height": "calc(100% - 180px)",
    "left": "10px",
    "top": "150px",
    "width": "223px"
   },
   "toc_section_display": true,
   "toc_window_display": true
  },
  "varInspector": {
   "cols": {
    "lenName": 16,
    "lenType": 16,
    "lenVar": 40
   },
   "kernels_config": {
    "python": {
     "delete_cmd_postfix": "",
     "delete_cmd_prefix": "del ",
     "library": "var_list.py",
     "varRefreshCmd": "print(var_dic_list())"
    },
    "r": {
     "delete_cmd_postfix": ") ",
     "delete_cmd_prefix": "rm(",
     "library": "var_list.r",
     "varRefreshCmd": "cat(var_dic_list()) "
    }
   },
   "types_to_exclude": [
    "module",
    "function",
    "builtin_function_or_method",
    "instance",
    "_Feature"
   ],
   "window_display": false
  }
 },
 "nbformat": 4,
 "nbformat_minor": 5
}
