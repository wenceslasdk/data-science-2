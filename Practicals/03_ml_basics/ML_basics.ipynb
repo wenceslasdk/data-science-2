{
 "cells": [
  {
   "cell_type": "markdown",
   "metadata": {},
   "source": [
    "# Machine Learning Basics\n",
    "In this tutorial we learn how to split data, transform data and apply regularization using logistic regression example."
   ]
  },
  {
   "cell_type": "markdown",
   "metadata": {},
   "source": [
    "# Import Packages"
   ]
  },
  {
   "cell_type": "code",
   "execution_count": null,
   "metadata": {
    "ExecuteTime": {
     "end_time": "2022-01-22T09:45:07.527356Z",
     "start_time": "2022-01-22T09:45:07.514311Z"
    }
   },
   "outputs": [],
   "source": [
    "import numpy as np\n",
    "import pandas as pd\n",
    "import matplotlib.pyplot as plt\n",
    "import seaborn as sns\n",
    "import datetime\n",
    "import pickle\n",
    "from tqdm.notebook import tqdm\n",
    "\n",
    "from sklearn.model_selection import train_test_split, KFold\n",
    "from sklearn.metrics import roc_auc_score, roc_curve\n",
    "from sklearn.linear_model import LogisticRegression"
   ]
  },
  {
   "cell_type": "code",
   "execution_count": null,
   "metadata": {
    "ExecuteTime": {
     "end_time": "2022-01-22T09:32:27.639406Z",
     "start_time": "2022-01-22T09:32:27.624400Z"
    }
   },
   "outputs": [],
   "source": [
    "#přidání si popisku pro sourcetree\n",
    "# set width of Jupyter notebook\n",
    "from IPython.core.display import HTML\n",
    "display(HTML(\"<style>.container { width:85% !important; }</style>\"))\n",
    "\n",
    "# set some visual properties of displaying pandas DataFrame\n",
    "pd.options.display.max_columns=200\n",
    "pd.options.display.max_rows=200"
   ]
  },
  {
   "cell_type": "markdown",
   "metadata": {},
   "source": [
    "**Download the data if needed (and unpack it into the Data folder), we use the same dataset as in the python intro:** <a href=\"https://www2.karlin.mff.cuni.cz/~kozmikk/files/data_devsample.zip\" target=\"_blank\">credit risk data</a> "
   ]
  },
  {
   "cell_type": "markdown",
   "metadata": {},
   "source": [
    "# Load Data\n",
    "- Data sample represents data used in financial institutions for development of credit risk scoring models.\n",
    "- This data sample was used in Kaggle competition arranged by Home Credit Group in 2018.\n",
    "- Data includes binary target variable `TARGET` and multiple regressors to be used in model.\n",
    "- Column `SK_ID_CURR` is used as unique identifier of credit application and columns `TIME` represents time of the application.\n",
    "- Model should predict solvency of applicants at the time of application for credit."
   ]
  },
  {
   "cell_type": "code",
   "execution_count": null,
   "metadata": {
    "ExecuteTime": {
     "end_time": "2022-01-22T09:32:30.284067Z",
     "start_time": "2022-01-22T09:32:29.180423Z"
    }
   },
   "outputs": [],
   "source": [
    "# Load data - set index column, decimal point, separator\n",
    "data = pd.read_csv('.\\..\\Data\\data_devsample.csv', sep = ',', decimal = '.', index_col = 'SK_ID_CURR')\n",
    "\n",
    "# print time of data being loaded - use strftime\n",
    "print(f'Data loaded on:   {datetime.datetime.now().strftime(format=\"%Y-%m-%d %H:%M:%S\")}')"
   ]
  },
  {
   "cell_type": "code",
   "execution_count": null,
   "metadata": {},
   "outputs": [],
   "source": [
    "data"
   ]
  },
  {
   "cell_type": "code",
   "execution_count": null,
   "metadata": {
    "ExecuteTime": {
     "end_time": "2022-01-22T09:32:30.473947Z",
     "start_time": "2022-01-22T09:32:30.459898Z"
    }
   },
   "outputs": [],
   "source": [
    "data.info()"
   ]
  },
  {
   "cell_type": "code",
   "execution_count": null,
   "metadata": {
    "ExecuteTime": {
     "end_time": "2022-01-22T09:32:30.679894Z",
     "start_time": "2022-01-22T09:32:30.665895Z"
    }
   },
   "outputs": [],
   "source": [
    "# Print some numbers about data sample size\n",
    "print(f'Number of rows:   {data.shape[0]:,}'.replace(',', ' '))\n",
    "print(f'Number of unique indexes:   {data.index.nunique():,}'.replace(',', ' '))\n",
    "print(f'Number of columns:   {data.shape[1]:,}'.replace(',', ' '))"
   ]
  },
  {
   "cell_type": "markdown",
   "metadata": {},
   "source": [
    "## Metadata Definitions"
   ]
  },
  {
   "cell_type": "code",
   "execution_count": null,
   "metadata": {
    "ExecuteTime": {
     "end_time": "2022-01-22T09:32:40.282299Z",
     "start_time": "2022-01-22T09:32:40.270256Z"
    }
   },
   "outputs": [],
   "source": [
    "# check values in column TARGET\n",
    "data.TARGET.value_counts(dropna=False)"
   ]
  },
  {
   "cell_type": "code",
   "execution_count": null,
   "metadata": {
    "ExecuteTime": {
     "end_time": "2022-01-22T09:32:49.945771Z",
     "start_time": "2022-01-22T09:32:49.928734Z"
    }
   },
   "outputs": [],
   "source": [
    "#name of the target column\n",
    "col_target = \"TARGET\"\n",
    "#name of the time column\n",
    "col_time = \"TIME\"\n",
    "\n",
    "#name of the month column\n",
    "col_month = \"MONTH\"\n",
    "# #name of the day column\n",
    "# col_day = \"DAY\""
   ]
  },
  {
   "cell_type": "code",
   "execution_count": null,
   "metadata": {
    "ExecuteTime": {
     "end_time": "2022-01-22T09:32:51.326282Z",
     "start_time": "2022-01-22T09:32:51.252280Z"
    },
    "scrolled": true
   },
   "outputs": [],
   "source": [
    "# define list of predictors\n",
    "cols_pred = list(data.columns[1:-4])\n",
    "\n",
    "# define list of numerical predictors\n",
    "cols_pred_num = [col for col in cols_pred if data[col].dtype != 'O']\n",
    "# define list of categorical predictors\n",
    "cols_pred_cat = [col for col in cols_pred if data[col].dtype == 'O']\n",
    "\n",
    "print('Numerical predictors:')\n",
    "print('---------------------')\n",
    "print(data[cols_pred_num].dtypes)\n",
    "print()\n",
    "print('Categorical predictors:')\n",
    "print('-----------------------')\n",
    "print(data[cols_pred_cat].dtypes)"
   ]
  },
  {
   "cell_type": "markdown",
   "metadata": {},
   "source": [
    "## Data Exploration"
   ]
  },
  {
   "cell_type": "code",
   "execution_count": null,
   "metadata": {
    "ExecuteTime": {
     "end_time": "2022-01-22T09:32:56.831612Z",
     "start_time": "2022-01-22T09:32:56.132618Z"
    }
   },
   "outputs": [],
   "source": [
    "description = data.describe(include='all').transpose()\n",
    "pd.options.display.max_rows = 1000\n",
    "display(description)\n",
    "pd.options.display.max_rows = 200"
   ]
  },
  {
   "cell_type": "code",
   "execution_count": null,
   "metadata": {
    "ExecuteTime": {
     "end_time": "2022-01-22T09:37:04.285654Z",
     "start_time": "2022-01-22T09:37:04.271621Z"
    }
   },
   "outputs": [],
   "source": [
    "# define function that plots default rate in time\n",
    "def default_rate_in_time(dt, col_month, col_target, yright_lim = None):\n",
    "    dt_grp = dt.groupby(col_month).agg(\n",
    "        tot_cnt = (col_target, len),\n",
    "        default_rate = (col_target, np.mean)\n",
    "    )\n",
    "    \n",
    "    ax1 = plt.subplot(111)\n",
    "    ax1.bar(range(len(dt_grp)), dt_grp['tot_cnt'])\n",
    "    ax1.set_xticks(range(len(dt_grp)))\n",
    "    ax1.set_xticklabels(dt_grp.index, rotation = 90)\n",
    "    ax1.set_xlabel('month')\n",
    "    ax1.set_ylabel('count', loc='top')\n",
    "    ax1.spines['right'].set_color('gray')\n",
    "    ax1.spines['top'].set_visible(False)\n",
    "    ax1.spines['left'].set_color('gray')\n",
    "    ax1.spines['bottom'].set_color('gray')\n",
    "    ax1.tick_params(axis='y', colors='gray')\n",
    "    ax1.tick_params(axis='x', colors='gray')    \n",
    "    \n",
    "    ax2 = ax1.twinx()\n",
    "    ax2.plot(range(len(dt_grp)), dt_grp['default_rate'], marker ='o', color = 'red')\n",
    "    ax2.set_ylabel('default rate', loc='top', color='red')\n",
    "    if yright_lim is not None:\n",
    "        ax2.set_ylim(yright_lim)\n",
    "    ax2.spines['right'].set_color('gray')\n",
    "    ax2.spines['top'].set_visible(False)\n",
    "    ax2.spines['left'].set_color('gray')\n",
    "    ax2.spines['bottom'].set_color('gray')\n",
    "    ax2.tick_params(axis='y', colors='gray')\n",
    "    ax2.tick_params(axis='x', colors='gray')\n",
    "    \n",
    "    plt.show()"
   ]
  },
  {
   "cell_type": "code",
   "execution_count": null,
   "metadata": {
    "ExecuteTime": {
     "end_time": "2022-01-22T09:37:05.370916Z",
     "start_time": "2022-01-22T09:37:05.256888Z"
    }
   },
   "outputs": [],
   "source": [
    "data.head()"
   ]
  },
  {
   "cell_type": "code",
   "execution_count": null,
   "metadata": {
    "ExecuteTime": {
     "end_time": "2022-01-22T09:37:05.833934Z",
     "start_time": "2022-01-22T09:37:05.563883Z"
    }
   },
   "outputs": [],
   "source": [
    "default_rate_in_time(data, col_month, col_target, yright_lim = [0, 0.09])"
   ]
  },
  {
   "cell_type": "code",
   "execution_count": null,
   "metadata": {
    "ExecuteTime": {
     "end_time": "2022-01-22T09:38:22.481532Z",
     "start_time": "2022-01-22T09:38:22.466535Z"
    }
   },
   "outputs": [],
   "source": [
    "# define function that plots share of null values in time for given predictor\n",
    "def share_of_nulls(dt, col_month, predictor):\n",
    "    dt2 = dt[[col_month, predictor]]\n",
    "    \n",
    "    dt2 = dt2.assign(is_null=dt2[predictor].isnull().astype(int).values)\n",
    "    dt_grp = dt2.groupby(col_month).agg(\n",
    "        share_of_nulls = ('is_null', np.mean)\n",
    "    )\n",
    "    \n",
    "    plt.plot(range(len(dt_grp)), dt_grp['share_of_nulls'], marker = 'o')\n",
    "    plt.xticks(range(len(dt_grp)), dt_grp.index, rotation = 90)\n",
    "    plt.title(predictor)\n",
    "    plt.xlabel('month', loc='right')\n",
    "    plt.ylabel('null share', loc='top')\n",
    "    plt.ylim([0,1])\n",
    "    \n",
    "    ax = plt.gca()\n",
    "    ax.spines['right'].set_visible(False)\n",
    "    ax.spines['top'].set_visible(False)\n",
    "    ax.spines['left'].set_color('gray')\n",
    "    ax.spines['bottom'].set_color('gray')\n",
    "    ax.tick_params(axis='y', colors='gray')\n",
    "    ax.tick_params(axis='x', colors='gray')    \n",
    "    \n",
    "    plt.show()"
   ]
  },
  {
   "cell_type": "code",
   "execution_count": null,
   "metadata": {
    "ExecuteTime": {
     "end_time": "2022-01-22T09:38:23.277859Z",
     "start_time": "2022-01-22T09:38:22.800898Z"
    },
    "scrolled": true
   },
   "outputs": [],
   "source": [
    "check_cols = [\n",
    "    'OWN_CAR_AGE',\n",
    "    'HOUSETYPE_MODE',\n",
    "    'CNT_CHILDREN',    \n",
    "]\n",
    "\n",
    "for pred in check_cols:\n",
    "    share_of_nulls(data, col_month, pred)"
   ]
  },
  {
   "cell_type": "markdown",
   "metadata": {},
   "source": [
    "## Data Split\n",
    "- splitting data into training sample, validation sample, test sample, out of time sample and historical out of time sample"
   ]
  },
  {
   "cell_type": "markdown",
   "metadata": {},
   "source": [
    "### Without Stratification"
   ]
  },
  {
   "cell_type": "code",
   "execution_count": null,
   "metadata": {
    "ExecuteTime": {
     "end_time": "2022-01-22T10:31:49.565483Z",
     "start_time": "2022-01-22T10:31:48.879790Z"
    }
   },
   "outputs": [],
   "source": [
    "data['sample'] = 'default'\n",
    "\n",
    "# define 'hoot' and 'oot' sample\n",
    "data.loc[data[col_month] <= 201801, 'sample'] = 'hoot'\n",
    "data.loc[data[col_month] >= 201811, 'sample'] = 'oot'\n",
    "\n",
    "# define intime mask\n",
    "intime_mask = (data[col_month] > 201801) & (data[col_month] < 201811)\n",
    "# use train_test_split to split the intime into train and rest (don't forget seed)\n",
    "data_train, data_rest = train_test_split(data[intime_mask], test_size=0.4, random_state = 12)\n",
    "data.loc[data_train.index, 'sample'] = 'train'\n",
    "# use train_test_split to split the rest into valid and test (don't forget seed)\n",
    "data_valid, data_test = train_test_split(data_rest, test_size=0.5, random_state = 12)\n",
    "data.loc[data_valid.index, 'sample'] = 'valid'\n",
    "data.loc[data_test.index, 'sample'] = 'test'"
   ]
  },
  {
   "cell_type": "code",
   "execution_count": null,
   "metadata": {
    "ExecuteTime": {
     "end_time": "2022-01-22T10:31:59.692941Z",
     "start_time": "2022-01-22T10:31:59.677941Z"
    }
   },
   "outputs": [],
   "source": [
    "data['sample'].value_counts(dropna = False)"
   ]
  },
  {
   "cell_type": "code",
   "execution_count": null,
   "metadata": {
    "ExecuteTime": {
     "end_time": "2022-01-22T10:32:02.556386Z",
     "start_time": "2022-01-22T10:32:02.549386Z"
    }
   },
   "outputs": [],
   "source": [
    "# define function to plot default rate in time for different samples\n",
    "def default_rate_in_time_per_sample(dt, col_target, col_month, col_sample):\n",
    "    # group by over month and sample\n",
    "    dt_grp = dt.groupby([col_month, col_sample]).agg(\n",
    "        def_rt = (col_target, np.mean)\n",
    "    ).reset_index()\n",
    "    \n",
    "    # pivot sample values to columns\n",
    "    dt_grp_pivot = dt_grp.pivot(index = col_month, columns = col_sample, values = 'def_rt')\n",
    "\n",
    "    # plot default rate in time\n",
    "    lines = plt.plot(range(len(dt_grp_pivot)), dt_grp_pivot, marker = 'o')\n",
    "    plt.xticks(range(len(dt_grp_pivot)), dt_grp_pivot.index, rotation = 90)\n",
    "    # set legend\n",
    "    plt.legend(iter(lines), tuple(dt_grp_pivot.columns), loc='best', bbox_to_anchor=(1.05, 1))\n",
    "    \n",
    "    plt.ylim([0, 0.1])\n",
    "    plt.ylabel('default rate', loc='top')\n",
    "    plt.xlabel('month', loc='right')\n",
    "    \n",
    "    ax = plt.gca()\n",
    "    ax.spines['right'].set_visible(False)\n",
    "    ax.spines['top'].set_visible(False)\n",
    "    ax.spines['left'].set_color('gray')\n",
    "    ax.spines['bottom'].set_color('gray')\n",
    "    ax.tick_params(axis='y', colors='gray')\n",
    "    ax.tick_params(axis='x', colors='gray') \n",
    "    \n",
    "    plt.show()"
   ]
  },
  {
   "cell_type": "code",
   "execution_count": null,
   "metadata": {
    "ExecuteTime": {
     "end_time": "2022-01-22T10:32:10.099911Z",
     "start_time": "2022-01-22T10:32:09.855913Z"
    }
   },
   "outputs": [],
   "source": [
    "default_rate_in_time_per_sample(data, col_target, col_month, 'sample')"
   ]
  },
  {
   "cell_type": "markdown",
   "metadata": {},
   "source": [
    "### With Stratification\n",
    "- Stratification allows us to ensure that in each sample is approximately the same distribution in specified variables"
   ]
  },
  {
   "cell_type": "code",
   "execution_count": null,
   "metadata": {
    "ExecuteTime": {
     "end_time": "2022-01-22T10:32:34.134372Z",
     "start_time": "2022-01-22T10:32:33.510502Z"
    }
   },
   "outputs": [],
   "source": [
    "data['sample'] = 'default'\n",
    "\n",
    "# define 'hoot' and 'oot' sample\n",
    "data.loc[data[col_month] <= 201801, 'sample'] = 'hoot'\n",
    "data.loc[data[col_month] >= 201811, 'sample'] = 'oot'\n",
    "\n",
    "# define intime mask\n",
    "intime_mask = (data[col_month] > 201801) & (data[col_month] < 201811)\n",
    "# use train_test_split to split the intime into train and rest (don't forget seed); use stratification\n",
    "data_train, data_rest = train_test_split(data[intime_mask], test_size=0.4, random_state = 12, stratify = (data[intime_mask][[col_month, col_target]]))\n",
    "data.loc[data_train.index, 'sample'] = 'train'\n",
    "# use train_test_split to split the rest into valid and test (don't forget seed); use stratification\n",
    "data_valid, data_test = train_test_split(data_rest, test_size=0.5, random_state = 12, stratify = (data_rest[[col_month, col_target]]))\n",
    "data.loc[data_valid.index, 'sample'] = 'valid'\n",
    "data.loc[data_test.index, 'sample'] = 'test'"
   ]
  },
  {
   "cell_type": "code",
   "execution_count": null,
   "metadata": {
    "ExecuteTime": {
     "end_time": "2022-01-22T10:32:36.370494Z",
     "start_time": "2022-01-22T10:32:36.358494Z"
    }
   },
   "outputs": [],
   "source": [
    "data['sample'].value_counts(dropna = False)"
   ]
  },
  {
   "cell_type": "code",
   "execution_count": null,
   "metadata": {
    "ExecuteTime": {
     "end_time": "2022-01-22T10:32:38.575728Z",
     "start_time": "2022-01-22T10:32:38.353016Z"
    }
   },
   "outputs": [],
   "source": [
    "default_rate_in_time_per_sample(data, col_target, col_month, 'sample')"
   ]
  },
  {
   "cell_type": "markdown",
   "metadata": {},
   "source": [
    "### Define sample masks"
   ]
  },
  {
   "cell_type": "code",
   "execution_count": null,
   "metadata": {
    "ExecuteTime": {
     "end_time": "2022-01-22T10:32:41.772603Z",
     "start_time": "2022-01-22T10:32:41.726574Z"
    }
   },
   "outputs": [],
   "source": [
    "# define sample masks\n",
    "train_mask = (data['sample'] == 'train')\n",
    "valid_mask = (data['sample'] == 'valid')\n",
    "test_mask = (data['sample'] == 'test')\n",
    "oot_mask = (data['sample'] == 'oot')\n",
    "hoot_mask = (data['sample'] == 'hoot')"
   ]
  },
  {
   "cell_type": "markdown",
   "metadata": {},
   "source": [
    "# Cross-Validation"
   ]
  },
  {
   "cell_type": "markdown",
   "metadata": {},
   "source": [
    "We never want to evaluate performance on the training sample, but we use all of the observations for both training and validation. We will take a look at k-fold cross-validation.\n",
    "\n",
    "<img src=\"https://miro.medium.com/max/700/1*AAwIlHM8TpAVe4l2FihNUQ.png\" width=500px style=\"float: center\"/>"
   ]
  },
  {
   "cell_type": "code",
   "execution_count": null,
   "metadata": {},
   "outputs": [],
   "source": [
    "kf = KFold(n_splits=5)\n",
    "kf.get_n_splits(data)\n",
    "print(kf)"
   ]
  },
  {
   "cell_type": "code",
   "execution_count": null,
   "metadata": {},
   "outputs": [],
   "source": [
    "KFold(n_splits=2, random_state=None, shuffle=False)\n",
    "for train_index, test_index in kf.split(data):\n",
    "    print(\"TRAIN:\", train_index, \"TEST:\", test_index)"
   ]
  },
  {
   "cell_type": "markdown",
   "metadata": {},
   "source": [
    "# More Data Cleaning"
   ]
  },
  {
   "cell_type": "code",
   "execution_count": null,
   "metadata": {
    "ExecuteTime": {
     "end_time": "2022-01-22T09:43:32.195268Z",
     "start_time": "2022-01-22T09:43:32.065185Z"
    }
   },
   "outputs": [],
   "source": [
    "# find columns with infinity values\n",
    "cols_with_inf = []\n",
    "for col in cols_pred_num:\n",
    "    if np.any(np.isinf(data[col])):\n",
    "        cols_with_inf.append(col)\n",
    "        print(f'Column {col} includes infinity values.')\n",
    "\n",
    "# find columns with negative infinity values\n",
    "cols_with_neginf = []\n",
    "for col in cols_pred_num:\n",
    "    if np.any(np.isneginf(data[col])):\n",
    "        cols_with_neginf.append(col)\n",
    "        print(f'Column {col} includes negative infinity values.')"
   ]
  },
  {
   "cell_type": "code",
   "execution_count": null,
   "metadata": {
    "ExecuteTime": {
     "end_time": "2022-01-22T09:43:33.705322Z",
     "start_time": "2022-01-22T09:43:33.698297Z"
    }
   },
   "outputs": [],
   "source": [
    "# replace infinity values\n",
    "for col in cols_with_inf:\n",
    "    data[col].replace(np.inf, 9999999, inplace = True)"
   ]
  },
  {
   "cell_type": "markdown",
   "metadata": {},
   "source": [
    "# Grouping and WOE Transformation of Variables"
   ]
  },
  {
   "cell_type": "markdown",
   "metadata": {},
   "source": [
    "## Automatic Grouping"
   ]
  },
  {
   "cell_type": "code",
   "execution_count": null,
   "metadata": {
    "ExecuteTime": {
     "end_time": "2022-01-22T09:44:48.655606Z",
     "start_time": "2022-01-22T09:44:48.645607Z"
    }
   },
   "outputs": [],
   "source": [
    "# define bins for grouping numerical predictors\n",
    "def get_grouping_numerical(dt, predictor, n_bins = 7):\n",
    "    return np.unique([round(b, 4) for b in dt[predictor].quantile([i / n_bins for i in range(n_bins+1)])])\n",
    "\n",
    "# define bins for grouping categorical predictors\n",
    "def get_grouping_categorical(dt, predictor, n_bins = 7):\n",
    "    categories_sorted_by_freq = dt[predictor].value_counts(sort = True, ascending = False)\n",
    "    grouping = [[cat] for cat in categories_sorted_by_freq.index[0:n_bins-1]]\n",
    "    if len(categories_sorted_by_freq) >= n_bins-1:\n",
    "        grouping.append(list(categories_sorted_by_freq.index[n_bins-1:]))\n",
    "        \n",
    "    return grouping"
   ]
  },
  {
   "cell_type": "code",
   "execution_count": null,
   "metadata": {
    "ExecuteTime": {
     "end_time": "2022-01-22T09:45:17.010237Z",
     "start_time": "2022-01-22T09:45:11.042413Z"
    }
   },
   "outputs": [],
   "source": [
    "predictor_grouping = {}\n",
    "for col in tqdm(cols_pred_num):\n",
    "    predictor_grouping[col] = get_grouping_numerical(data[train_mask], col)\n",
    "\n",
    "for col in tqdm(cols_pred_cat):\n",
    "    predictor_grouping[col] = get_grouping_categorical(data[train_mask], col)"
   ]
  },
  {
   "cell_type": "code",
   "execution_count": null,
   "metadata": {},
   "outputs": [],
   "source": [
    "predictor_grouping"
   ]
  },
  {
   "cell_type": "markdown",
   "metadata": {},
   "source": [
    "Let us have:\n",
    "- tot_good...total number of goods\n",
    "- tot_bad...total number of bads\n",
    "- grp_good... number of goods in a given group\n",
    "- grp_bad...number of bads in a given group\n",
    "\n",
    "Then weight of evidence for the given group is computed as:\n",
    "$$ woe = log \\left( \\frac{\\frac{grp\\_bad}{grp\\_good}}{\\frac{tot\\_bad}{tot\\_good}} \\right) $$\n"
   ]
  },
  {
   "cell_type": "markdown",
   "metadata": {},
   "source": [
    "<span style=\"color:red\">**TO DO:** define following functions</span>\n",
    "\n",
    "- weight_of_evidence_numeric <br>\n",
    "    - Parameters: <br>\n",
    "        data ... data set<br>\n",
    "        predictor ... name of the predictor to be processed<br>\n",
    "        col_target ... name of target variable<br>\n",
    "        borders ... list of values defining borders of the bins; left most and right most borders included<br>\n",
    "            Example: [-np.inf, 1, np.inf]\n",
    "    - Returns:\n",
    "        Dictionary, where key is a tuple with two values (lower and upper bound of the bin) and value is weight of evidence for respective bin. In case of present \n",
    "        null values, additional item is included in returned dictionary - key = 'null', value = woe for null values<br>\n",
    "            Example: {(-np.inf, 1): -0.25, (1, np.inf): 0.5, 'null': 0.12}\n",
    "        \n",
    "- weight_of_evidence_categ <br>\n",
    "    - Parameters: <br>\n",
    "        data ... data set<br>\n",
    "        predictor ... name of the predictor to be processed<br>\n",
    "        col_target ... name of target variable<br>\n",
    "        categories ... list of lists, where inner lists represents values that belong to one category.<br>\n",
    "            Example: [['MONDAY', 'TUESDAY', 'WEDNESDAY'], ['THURSDAY', 'FRIDAY'], ['SATURDAY', 'SUNDAY']]\n",
    "    - Returns:\n",
    "        Dictionary, where key is a string coressponding to given value of the predictor and value is woe for this predictor category. In case of present \n",
    "        null values, additional item is included in returned dictionary - key = 'null', value = woe for null values<br>\n",
    "            Example: {'MONDAY': 0.25, 'TUESDAY': 0.25, 'WEDNESDAY': 0.25, 'THURSDAY': 0.02, 'FRIDAY': 0.02, 'SATURDAY': -0.3, 'SUNDAY': -0.3, 'null': 0.0}"
   ]
  },
  {
   "cell_type": "code",
   "execution_count": null,
   "metadata": {
    "scrolled": true
   },
   "outputs": [],
   "source": [
    "from woe_functions import *"
   ]
  },
  {
   "cell_type": "code",
   "execution_count": null,
   "metadata": {
    "ExecuteTime": {
     "end_time": "2022-01-22T09:45:42.319899Z",
     "start_time": "2022-01-22T09:45:30.170980Z"
    },
    "scrolled": true
   },
   "outputs": [],
   "source": [
    "predictor_woe = {}\n",
    "for col in tqdm(cols_pred_num):\n",
    "    predictor_woe[col] = weight_of_evidence_numeric(data[train_mask], col, col_target, borders = predictor_grouping[col])\n",
    "\n",
    "for col in tqdm(cols_pred_cat):\n",
    "    predictor_woe[col] = weight_of_evidence_categ(data[train_mask], col, col_target, categories = predictor_grouping[col])"
   ]
  },
  {
   "cell_type": "markdown",
   "metadata": {},
   "source": [
    "## Apply grouping"
   ]
  },
  {
   "cell_type": "code",
   "execution_count": null,
   "metadata": {
    "ExecuteTime": {
     "end_time": "2022-01-22T09:45:43.783583Z",
     "start_time": "2022-01-22T09:45:43.762626Z"
    }
   },
   "outputs": [],
   "source": [
    "def apply_grouping_categorical(data_predictor, predictor_grouping):\n",
    "    grouping = predictor_grouping.copy()\n",
    "    \n",
    "    # check for unknown values\n",
    "    for val in data_predictor[data_predictor.notnull()].unique():\n",
    "        if val not in grouping.keys():\n",
    "            grouping[val] = 0\n",
    "    \n",
    "    if 'null' in grouping.keys():\n",
    "        woe_null = grouping['null']\n",
    "        del grouping['null']\n",
    "    else:\n",
    "        woe_null = 0\n",
    "    \n",
    "    woe_predictor = data_predictor.replace(grouping)\n",
    "    woe_predictor.fillna(woe_null, inplace = True)\n",
    "    \n",
    "    return woe_predictor\n",
    "\n",
    "def apply_grouping_numerical(data_predictor, predictor_grouping):\n",
    "    grouping = predictor_grouping.copy()\n",
    "    \n",
    "    if 'null' in grouping.keys():\n",
    "        woe_null = grouping['null']\n",
    "        del grouping['null']\n",
    "    else:\n",
    "        woe_null = 0\n",
    "    \n",
    "    woe_data = sorted([(b[1], grouping[b]) for b in grouping.keys()], key = lambda x: x[0])\n",
    "    borders = [-np.inf] + [b[0] for b in woe_data]\n",
    "    woe = [b[1] for b in woe_data]\n",
    "    woe_predictor = pd.cut(data_predictor, bins = borders, labels = woe, ordered = False).astype(float)\n",
    "    woe_predictor.fillna(woe_null, inplace = True)\n",
    "    \n",
    "    return woe_predictor"
   ]
  },
  {
   "cell_type": "code",
   "execution_count": null,
   "metadata": {
    "ExecuteTime": {
     "end_time": "2022-01-22T09:47:12.298242Z",
     "start_time": "2022-01-22T09:47:11.121514Z"
    },
    "scrolled": true
   },
   "outputs": [],
   "source": [
    "data_woe = data[[col_target, 'sample', col_month]].copy()\n",
    "\n",
    "for pred in tqdm(cols_pred_num):\n",
    "    data_woe[pred] = apply_grouping_numerical(data[pred], predictor_woe[pred])\n",
    "    \n",
    "for pred in tqdm(cols_pred_cat):\n",
    "    data_woe[pred] = apply_grouping_categorical(data[pred], predictor_woe[pred])"
   ]
  },
  {
   "cell_type": "markdown",
   "metadata": {},
   "source": [
    "## Check_grouping_stability"
   ]
  },
  {
   "cell_type": "code",
   "execution_count": null,
   "metadata": {
    "ExecuteTime": {
     "end_time": "2022-01-22T09:54:37.499955Z",
     "start_time": "2022-01-22T09:54:37.468915Z"
    }
   },
   "outputs": [],
   "source": [
    "def predictor_stability(dt, predictor, col_target, col_month):\n",
    "    dt_grp = dt.groupby([col_month, predictor]).agg(\n",
    "        obs_cnt = (col_target, len),\n",
    "        default_rate = (col_target, np.mean)\n",
    "    )\n",
    "    dt_grp.reset_index(inplace = True)\n",
    "    \n",
    "    dt_grp_pivot = dt_grp.pivot(index = col_month, columns = predictor, values = 'default_rate')\n",
    "    \n",
    "    fig, axs = plt.subplots(1, 2, figsize = (12,4))\n",
    "    fig.suptitle(predictor)\n",
    "    for col in dt_grp_pivot.columns:\n",
    "        axs[0].plot(range(len(dt_grp_pivot)), dt_grp_pivot[col], label = f'{col:.4f}')\n",
    "\n",
    "    axs[0].set_xticks(range(len(dt_grp_pivot)))\n",
    "    axs[0].set_xticklabels(dt_grp_pivot.index, rotation = 90)\n",
    "    axs[0].set_xlabel('month', loc='right')\n",
    "    axs[0].set_ylabel('default_rate', loc='top')\n",
    "    axs[0].spines['right'].set_visible(False)\n",
    "    axs[0].spines['top'].set_visible(False)\n",
    "    axs[0].spines['left'].set_color('gray')\n",
    "    axs[0].spines['bottom'].set_color('gray')\n",
    "    axs[0].tick_params(axis='y', colors='gray')\n",
    "    axs[0].tick_params(axis='x', colors='gray') \n",
    "    axs[0].legend(loc = 'best')\n",
    "    \n",
    "    dt_grp_pivot = dt_grp.pivot(index = col_month, columns = predictor, values = 'obs_cnt')\n",
    "    dt_grp_pivot['tot_cnt'] = dt_grp_pivot.sum(axis = 1)\n",
    "    \n",
    "    for col in dt_grp_pivot.columns:\n",
    "        dt_grp_pivot[col] /= dt_grp_pivot['tot_cnt']\n",
    "    del dt_grp_pivot['tot_cnt']\n",
    "    \n",
    "    for col in dt_grp_pivot.columns:\n",
    "        axs[1].plot(range(len(dt_grp_pivot)), dt_grp_pivot[col], label = f'{col:.4f}')\n",
    "\n",
    "    axs[1].set_xticks(range(len(dt_grp_pivot)))\n",
    "    axs[1].set_xticklabels(dt_grp_pivot.index, rotation = 90)\n",
    "    axs[1].set_xlabel('month', loc='right')\n",
    "    axs[1].set_ylabel('frequency', loc='top')\n",
    "    axs[1].spines['right'].set_visible(False)\n",
    "    axs[1].spines['top'].set_visible(False)\n",
    "    axs[1].spines['left'].set_color('gray')\n",
    "    axs[1].spines['bottom'].set_color('gray')\n",
    "    axs[1].tick_params(axis='y', colors='gray')\n",
    "    axs[1].tick_params(axis='x', colors='gray') \n",
    "    axs[1].legend(loc = 'best')\n",
    "    \n",
    "    plt.show()"
   ]
  },
  {
   "cell_type": "code",
   "execution_count": null,
   "metadata": {
    "ExecuteTime": {
     "end_time": "2022-01-22T09:55:01.213711Z",
     "start_time": "2022-01-22T09:54:59.562128Z"
    },
    "scrolled": true
   },
   "outputs": [],
   "source": [
    "for pred in cols_pred[0:5]:\n",
    "    predictor_stability(data_woe, pred, col_target, col_month)"
   ]
  },
  {
   "cell_type": "markdown",
   "metadata": {},
   "source": [
    "# Logistic Regression"
   ]
  },
  {
   "cell_type": "markdown",
   "metadata": {},
   "source": [
    "## No penalty"
   ]
  },
  {
   "cell_type": "code",
   "execution_count": null,
   "metadata": {
    "ExecuteTime": {
     "end_time": "2022-01-22T10:34:38.224784Z",
     "start_time": "2022-01-22T10:34:33.684604Z"
    }
   },
   "outputs": [],
   "source": [
    "# fit logistig regression with all predictors\n",
    "logreg = LogisticRegression(\n",
    "    penalty = 'none',\n",
    "    max_iter = 2000\n",
    ")\n",
    "\n",
    "logreg.fit(data_woe[train_mask][cols_pred], data_woe[train_mask][col_target])"
   ]
  },
  {
   "cell_type": "code",
   "execution_count": null,
   "metadata": {
    "ExecuteTime": {
     "end_time": "2022-01-22T10:34:40.314960Z",
     "start_time": "2022-01-22T10:34:40.295962Z"
    }
   },
   "outputs": [],
   "source": [
    "# print predictor coefficients (sorted by magnitude)\n",
    "preds_coef = []\n",
    "for pred, coef in zip(cols_pred, logreg.coef_[0]):\n",
    "    preds_coef += [(pred, coef)]\n",
    "    \n",
    "sorted(preds_coef, key = lambda x: abs(x[1]), reverse = True)[0:15]"
   ]
  },
  {
   "cell_type": "code",
   "execution_count": null,
   "metadata": {
    "ExecuteTime": {
     "end_time": "2022-01-22T10:34:47.465808Z",
     "start_time": "2022-01-22T10:34:47.343656Z"
    }
   },
   "outputs": [],
   "source": [
    "# predict probability\n",
    "data_woe = data_woe.assign(prediction = logreg.predict_proba(data_woe[cols_pred])[:,1])"
   ]
  },
  {
   "cell_type": "code",
   "execution_count": null,
   "metadata": {
    "ExecuteTime": {
     "end_time": "2022-01-22T10:34:52.936454Z",
     "start_time": "2022-01-22T10:34:52.765136Z"
    }
   },
   "outputs": [],
   "source": [
    "# calculate gini for different samples\n",
    "col_score = 'prediction'\n",
    "\n",
    "gini_hoot  = 2 * roc_auc_score(data_woe[hoot_mask][col_target],  data_woe[hoot_mask] [col_score]) - 1\n",
    "gini_train = 2 * roc_auc_score(data_woe[train_mask][col_target], data_woe[train_mask][col_score]) - 1\n",
    "gini_valid = 2 * roc_auc_score(data_woe[valid_mask][col_target], data_woe[valid_mask][col_score]) - 1\n",
    "gini_test  = 2 * roc_auc_score(data_woe[test_mask][col_target],  data_woe[test_mask] [col_score]) - 1\n",
    "gini_oot   = 2 * roc_auc_score(data_woe[oot_mask][col_target],   data_woe[oot_mask]  [col_score]) - 1\n",
    "\n",
    "print(f'hoot:    {gini_hoot:.4f}')\n",
    "print(f'train:   {gini_train:.4f}')\n",
    "print(f'valid:   {gini_valid:.4f}')\n",
    "print(f'test:    {gini_test:.4f}')\n",
    "print(f'oot:     {gini_oot:.4f}')"
   ]
  },
  {
   "cell_type": "markdown",
   "metadata": {},
   "source": [
    "## Penalty"
   ]
  },
  {
   "cell_type": "code",
   "execution_count": null,
   "metadata": {
    "ExecuteTime": {
     "end_time": "2022-01-22T10:34:38.224784Z",
     "start_time": "2022-01-22T10:34:33.684604Z"
    }
   },
   "outputs": [],
   "source": [
    "coefs = []\n",
    "consts = [0.0001, 0.001, 0.01, 0.1, 1.0]\n",
    "models = []\n",
    "for c in consts:\n",
    "    # fit logistig regression with all predictors and penalty\n",
    "    logreg = LogisticRegression(\n",
    "        penalty = 'l1'\n",
    "        , C = c\n",
    "        , solver = 'liblinear'\n",
    "        , max_iter = 2000\n",
    "    )\n",
    "\n",
    "    logreg.fit(data_woe[train_mask][cols_pred], data_woe[train_mask][col_target])\n",
    "    models.append(logreg)\n",
    "    coefs.append(logreg.coef_[0])"
   ]
  },
  {
   "cell_type": "code",
   "execution_count": null,
   "metadata": {
    "scrolled": true
   },
   "outputs": [],
   "source": [
    "coefs"
   ]
  },
  {
   "cell_type": "code",
   "execution_count": null,
   "metadata": {},
   "outputs": [],
   "source": [
    "fig = plt.figure(figsize = (10,6))\n",
    "\n",
    "ax = plt.gca()\n",
    "\n",
    "ax.plot(consts, coefs)\n",
    "ax.set_xscale('log')\n",
    "plt.axis('tight')\n",
    "plt.xlabel('Regularization constant')\n",
    "plt.ylabel('Coefficients')\n",
    "plt.title('Lasso coefficients as a function of regularization constant');"
   ]
  },
  {
   "cell_type": "code",
   "execution_count": null,
   "metadata": {},
   "outputs": [],
   "source": [
    "# select the model you like (or better, the best performing model)\n",
    "logreg = models[3]"
   ]
  },
  {
   "cell_type": "code",
   "execution_count": null,
   "metadata": {
    "ExecuteTime": {
     "end_time": "2022-01-22T10:34:47.465808Z",
     "start_time": "2022-01-22T10:34:47.343656Z"
    }
   },
   "outputs": [],
   "source": [
    "# predict probability\n",
    "data_woe = data_woe.assign(prediction = logreg.predict_proba(data_woe[cols_pred])[:,1])"
   ]
  },
  {
   "cell_type": "code",
   "execution_count": null,
   "metadata": {
    "ExecuteTime": {
     "end_time": "2022-01-22T10:34:52.936454Z",
     "start_time": "2022-01-22T10:34:52.765136Z"
    }
   },
   "outputs": [],
   "source": [
    "# calculate gini for different samples\n",
    "col_score = 'prediction'\n",
    "\n",
    "gini_hoot  = 2 * roc_auc_score(data_woe[hoot_mask][col_target],  data_woe[hoot_mask] [col_score]) - 1\n",
    "gini_train = 2 * roc_auc_score(data_woe[train_mask][col_target], data_woe[train_mask][col_score]) - 1\n",
    "gini_valid = 2 * roc_auc_score(data_woe[valid_mask][col_target], data_woe[valid_mask][col_score]) - 1\n",
    "gini_test  = 2 * roc_auc_score(data_woe[test_mask][col_target],  data_woe[test_mask] [col_score]) - 1\n",
    "gini_oot   = 2 * roc_auc_score(data_woe[oot_mask][col_target],   data_woe[oot_mask]  [col_score]) - 1\n",
    "\n",
    "print(f'hoot:    {gini_hoot:.4f}')\n",
    "print(f'train:   {gini_train:.4f}')\n",
    "print(f'valid:   {gini_valid:.4f}')\n",
    "print(f'test:    {gini_test:.4f}')\n",
    "print(f'oot:     {gini_oot:.4f}')"
   ]
  },
  {
   "cell_type": "markdown",
   "metadata": {},
   "source": [
    "<span style=\"color:red\">**TO DO:** Try using 'l2' and 'elasticnet' regularization with different setups, investigate the performace, which one would you select?</span>"
   ]
  },
  {
   "cell_type": "code",
   "execution_count": null,
   "metadata": {},
   "outputs": [],
   "source": [
    "# select one of the model's prediction \n",
    "data_woe['prediction_final'] = data_woe['prediction']"
   ]
  },
  {
   "cell_type": "markdown",
   "metadata": {},
   "source": [
    "# Performance Characteristics"
   ]
  },
  {
   "cell_type": "markdown",
   "metadata": {},
   "source": [
    "## ROC curve"
   ]
  },
  {
   "cell_type": "code",
   "execution_count": null,
   "metadata": {
    "ExecuteTime": {
     "end_time": "2022-01-22T09:58:30.093124Z",
     "start_time": "2022-01-22T09:58:30.037129Z"
    },
    "scrolled": true
   },
   "outputs": [],
   "source": [
    "data_woe = data_woe.assign(prediction_score = np.log(data_woe['prediction_final'] / (1 - data_woe['prediction_final'])))"
   ]
  },
  {
   "cell_type": "code",
   "execution_count": null,
   "metadata": {
    "ExecuteTime": {
     "end_time": "2022-01-22T09:58:31.103026Z",
     "start_time": "2022-01-22T09:58:30.831067Z"
    }
   },
   "outputs": [],
   "source": [
    "fpr_train, tpr_train, treshold_train = roc_curve(data_woe[train_mask][col_target], data_woe[train_mask]['prediction_score'])\n",
    "fpr_valid, tpr_valid, treshold_valid = roc_curve(data_woe[valid_mask][col_target], data_woe[valid_mask]['prediction_score'])\n",
    "fpr_test, tpr_test, treshold_test    = roc_curve(data_woe[test_mask][col_target], data_woe[test_mask]['prediction_score'])\n",
    "fpr_oot, tpr_oot, treshold_oot       = roc_curve(data_woe[oot_mask][col_target], data_woe[oot_mask]['prediction_score'])\n",
    "fpr_hoot, tpr_hoot, treshold_hoot    = roc_curve(data_woe[hoot_mask][col_target], data_woe[hoot_mask]['prediction_score'])"
   ]
  },
  {
   "cell_type": "code",
   "execution_count": null,
   "metadata": {
    "ExecuteTime": {
     "end_time": "2022-01-22T10:14:10.739931Z",
     "start_time": "2022-01-22T10:14:10.539931Z"
    }
   },
   "outputs": [],
   "source": [
    "fig = plt.figure(figsize = (6,6))\n",
    "plt.plot(fpr_train, tpr_train, label = 'train')\n",
    "plt.plot(fpr_valid, tpr_valid, label = 'valid')\n",
    "plt.plot(fpr_test, tpr_test, label = 'test')\n",
    "plt.plot(fpr_oot, tpr_oot, label = 'oot')\n",
    "plt.plot(fpr_hoot, tpr_hoot, label = 'hoot')\n",
    "plt.plot([0, 1], [0, 1], ls = '--', color = 'black')\n",
    "plt.xlim([0,1])\n",
    "plt.ylim([0,1])\n",
    "\n",
    "ax = plt.gca()\n",
    "ax.spines['right'].set_color('gray')\n",
    "ax.spines['top'].set_color('gray')\n",
    "ax.spines['left'].set_color('gray')\n",
    "ax.spines['bottom'].set_color('gray')\n",
    "ax.tick_params(axis='y', colors='gray')\n",
    "ax.tick_params(axis='x', colors='gray') \n",
    "ax.legend(loc = 'best')\n",
    "\n",
    "plt.xlabel('False positive rate', loc='right')\n",
    "plt.ylabel('True positive rate', loc='top')\n",
    "plt.title('Roceiver operating characteristic curve')\n",
    "\n",
    "plt.legend(loc = 'lower right')\n",
    "plt.show()"
   ]
  },
  {
   "cell_type": "markdown",
   "metadata": {},
   "source": [
    "## Performance per Sample"
   ]
  },
  {
   "cell_type": "code",
   "execution_count": null,
   "metadata": {
    "ExecuteTime": {
     "end_time": "2022-01-22T10:17:43.514501Z",
     "start_time": "2022-01-22T10:17:43.363504Z"
    }
   },
   "outputs": [],
   "source": [
    "samples = data_woe['sample'].unique()\n",
    "gini_sample = []\n",
    "for sample in samples:\n",
    "    mask = data_woe['sample'] == sample\n",
    "    gini = 2 * roc_auc_score(data_woe[mask][col_target], data_woe[mask]['prediction_score']) - 1\n",
    "    gini_sample += [(sample, gini)]\n",
    "    \n",
    "pd.DataFrame(gini_sample, columns = ['sample', 'gini']).set_index('sample')"
   ]
  },
  {
   "cell_type": "markdown",
   "metadata": {},
   "source": [
    "## Gini in Time"
   ]
  },
  {
   "cell_type": "code",
   "execution_count": null,
   "metadata": {
    "ExecuteTime": {
     "end_time": "2022-01-22T10:17:46.192934Z",
     "start_time": "2022-01-22T10:17:45.793905Z"
    }
   },
   "outputs": [],
   "source": [
    "months = sorted(data[col_month].unique())\n",
    "gini_in_time = pd.DataFrame(index = months)\n",
    "for sample in data['sample'].unique():\n",
    "    dt = data_woe[data_woe['sample'] == sample]\n",
    "    months_sample = dt[col_month].unique()\n",
    "    gini_sample_month = []\n",
    "    for m in months_sample:\n",
    "        mask = dt[col_month] == m\n",
    "        gini = 2 * roc_auc_score(dt[mask][col_target], dt[mask]['prediction_score']) - 1\n",
    "        gini_sample_month += [(m, gini)]\n",
    "    gini_sample_month = pd.DataFrame(gini_sample_month, columns = [col_month, sample]).set_index(col_month)\n",
    "    gini_in_time = gini_in_time.join(gini_sample_month, how = 'left')\n",
    "gini_in_time"
   ]
  },
  {
   "cell_type": "code",
   "execution_count": null,
   "metadata": {
    "ExecuteTime": {
     "end_time": "2022-01-22T10:18:41.205657Z",
     "start_time": "2022-01-22T10:18:40.959624Z"
    }
   },
   "outputs": [],
   "source": [
    "fig = plt.figure(figsize=(7,5))\n",
    "\n",
    "for sample in samples:\n",
    "    plt.plot(range(len(gini_in_time)), gini_in_time[sample], label = sample, marker = 'o')\n",
    "\n",
    "plt.legend(loc = 'best')\n",
    "plt.xticks(range(len(gini_in_time)), gini_in_time.index, rotation = 45)\n",
    "plt.ylim([0,0.6])\n",
    "plt.ylabel('Gini', loc='top')\n",
    "plt.xlabel('month', loc='right')\n",
    "plt.title('Gini in time')\n",
    "\n",
    "ax = plt.gca()\n",
    "ax.spines['right'].set_visible(False)\n",
    "ax.spines['top'].set_visible(False)\n",
    "ax.spines['left'].set_color('gray')\n",
    "ax.spines['bottom'].set_color('gray')\n",
    "ax.tick_params(axis='y', colors='gray')\n",
    "ax.tick_params(axis='x', colors='gray') \n",
    "ax.legend(loc = 'best')\n",
    "\n",
    "plt.show()"
   ]
  },
  {
   "cell_type": "markdown",
   "metadata": {},
   "source": [
    "# Score Distribution"
   ]
  },
  {
   "cell_type": "code",
   "execution_count": null,
   "metadata": {
    "ExecuteTime": {
     "end_time": "2022-01-22T10:27:36.696179Z",
     "start_time": "2022-01-22T10:27:36.680179Z"
    }
   },
   "outputs": [],
   "source": [
    "def plot_score_calibration(dt, col_score, col_target, n_bins = 25):\n",
    "    min_score = dt[col_score].min() - 0.1\n",
    "    max_score = dt[col_score].max() + 0.1\n",
    "    \n",
    "    bins = [round(min_score + i * (max_score - min_score) / n_bins, 2) for i in range(n_bins+1)]\n",
    "    dt['score_bin'] = pd.cut(dt[col_score], bins = bins, include_lowest = True)\n",
    "    \n",
    "    dt_grp = dt.groupby('score_bin').agg(\n",
    "        bad_cnt = (col_target, sum),\n",
    "        tot_cnt = (col_target, len),\n",
    "        def_rt = (col_target, np.mean),\n",
    "        avg_score = (col_score, np.mean)\n",
    "    )\n",
    "    dt_grp['good_cnt'] = dt_grp['tot_cnt'] - dt_grp['bad_cnt']\n",
    "    dt_grp['bad_cnt_norm'] = dt_grp['bad_cnt'] / dt_grp['tot_cnt']\n",
    "    dt_grp['good_cnt_norm'] = dt_grp['good_cnt'] / dt_grp['tot_cnt']\n",
    "    dt_grp['expected_pd'] = 1 / (1 + np.exp(-dt_grp['avg_score']))\n",
    "    \n",
    "    fig, axs = plt.subplots(1,2, figsize = (12,4))\n",
    "    fig.suptitle(col_score)\n",
    "    plt.subplots_adjust(wspace = 0.4)\n",
    "    axs[0].bar(range(len(dt_grp)), dt_grp['bad_cnt'], color = 'salmon', label = 'bads')\n",
    "    axs[0].bar(range(len(dt_grp)), dt_grp['good_cnt'], bottom = dt_grp['bad_cnt'], color = 'lightblue', label = 'goods')\n",
    "    axs[0].set_ylabel('observations count', loc='top')\n",
    "    axs[0].set_xlabel('score', loc='right')\n",
    "    axs[0].set_xticks(range(len(dt_grp)))\n",
    "    axs[0].set_xticklabels(dt_grp.index, rotation = 90)\n",
    "    \n",
    "    axs[0].spines['right'].set_color('gray')\n",
    "    axs[0].spines['top'].set_visible(False)\n",
    "    axs[0].spines['left'].set_color('gray')\n",
    "    axs[0].spines['bottom'].set_color('gray')\n",
    "    axs[0].tick_params(axis='y', colors='gray')\n",
    "    axs[0].tick_params(axis='x', colors='gray') \n",
    "    \n",
    "    ax0l = axs[0].twinx()\n",
    "    ax0l.plot(range(len(dt_grp)), dt_grp['def_rt'], marker = 'o', color = 'red')\n",
    "    ax0l.plot(range(len(dt_grp)), dt_grp['expected_pd'], color = 'black', ls = '--')\n",
    "    ax0l.set_ylabel('default rate', color = 'red', loc='top')\n",
    "    \n",
    "    ax0l.spines['right'].set_color('gray')\n",
    "    ax0l.spines['top'].set_visible(False)\n",
    "    ax0l.spines['left'].set_color('gray')\n",
    "    ax0l.spines['bottom'].set_color('gray')\n",
    "    ax0l.tick_params(axis='y', colors='gray')\n",
    "    ax0l.tick_params(axis='x', colors='gray') \n",
    "    \n",
    "    axs[1].bar(range(len(dt_grp)), dt_grp['bad_cnt_norm'], color = 'salmon', label = 'bads')\n",
    "    axs[1].bar(range(len(dt_grp)), dt_grp['good_cnt_norm'], bottom = dt_grp['bad_cnt_norm'].fillna(0), color = 'lightblue', label = 'goods')\n",
    "    axs[1].set_ylabel('frequency',loc='top')\n",
    "    axs[1].set_xlabel('score', loc='right')\n",
    "    axs[1].set_xticks(range(len(dt_grp)))\n",
    "    axs[1].set_xticklabels(dt_grp.index, rotation = 90)\n",
    "    \n",
    "    axs[1].spines['right'].set_visible(False)\n",
    "    axs[1].spines['top'].set_visible(False)\n",
    "    axs[1].spines['left'].set_color('gray')\n",
    "    axs[1].spines['bottom'].set_color('gray')\n",
    "    axs[1].tick_params(axis='y', colors='gray')\n",
    "    axs[1].tick_params(axis='x', colors='gray')\n",
    "    \n",
    "    return dt_grp"
   ]
  },
  {
   "cell_type": "code",
   "execution_count": null,
   "metadata": {
    "ExecuteTime": {
     "end_time": "2022-01-22T10:27:38.508167Z",
     "start_time": "2022-01-22T10:27:37.703715Z"
    }
   },
   "outputs": [],
   "source": [
    "dt_grp = plot_score_calibration(data_woe, 'prediction_score', col_target)"
   ]
  }
 ],
 "metadata": {
  "kernelspec": {
   "display_name": "Python 3",
   "language": "python",
   "name": "python3"
  },
  "language_info": {
   "codemirror_mode": {
    "name": "ipython",
    "version": 3
   },
   "file_extension": ".py",
   "mimetype": "text/x-python",
   "name": "python",
   "nbconvert_exporter": "python",
   "pygments_lexer": "ipython3",
   "version": "3.8.5"
  },
  "toc": {
   "base_numbering": 1,
   "nav_menu": {},
   "number_sections": true,
   "sideBar": true,
   "skip_h1_title": false,
   "title_cell": "Table of Contents",
   "title_sidebar": "Contents",
   "toc_cell": false,
   "toc_position": {
    "height": "calc(100% - 180px)",
    "left": "10px",
    "top": "150px",
    "width": "170.617px"
   },
   "toc_section_display": true,
   "toc_window_display": true
  },
  "varInspector": {
   "cols": {
    "lenName": 16,
    "lenType": 16,
    "lenVar": 40
   },
   "kernels_config": {
    "python": {
     "delete_cmd_postfix": "",
     "delete_cmd_prefix": "del ",
     "library": "var_list.py",
     "varRefreshCmd": "print(var_dic_list())"
    },
    "r": {
     "delete_cmd_postfix": ") ",
     "delete_cmd_prefix": "rm(",
     "library": "var_list.r",
     "varRefreshCmd": "cat(var_dic_list()) "
    }
   },
   "position": {
    "height": "638px",
    "left": "1569px",
    "right": "20px",
    "top": "72px",
    "width": "289px"
   },
   "types_to_exclude": [
    "module",
    "function",
    "builtin_function_or_method",
    "instance",
    "_Feature"
   ],
   "window_display": false
  }
 },
 "nbformat": 4,
 "nbformat_minor": 2
}
